{
 "cells": [
  {
   "cell_type": "markdown",
   "metadata": {},
   "source": [
    "**Settings**"
   ]
  },
  {
   "cell_type": "code",
   "execution_count": 1,
   "metadata": {},
   "outputs": [],
   "source": [
    "#import librosa\n",
    "#import numpy as np\n",
    "#import pandas as pd\n",
    "#import matplotlib.pyplot as plt\n",
    "#import librosa.display\n",
    "#import keras\n",
    "#import datetime\n",
    "#import seaborn as sns\n",
    "#from sklearn.preprocessing import LabelEncoder \n",
    "#from sklearn.model_selection import train_test_split\n",
    "#from sklearn.metrics import confusion_matrix\n",
    "#from sklearn.metrics import classification_report\n",
    "\n",
    "#plt.style.use('ggplot')\n",
    "#plt.rcParams['font.family'] = 'sans-serif' \n",
    "#plt.rcParams['font.serif'] = 'Ubuntu' \n",
    "#plt.rcParams['font.monospace'] = 'Ubuntu Mono' \n",
    "#plt.rcParams['font.size'] = 14 \n",
    "#plt.rcParams['axes.labelsize'] = 12 \n",
    "#plt.rcParams['axes.labelweight'] = 'bold' \n",
    "#plt.rcParams['axes.titlesize'] = 12 \n",
    "#plt.rcParams['xtick.labelsize'] = 12 \n",
    "#plt.rcParams['ytick.labelsize'] = 12 \n",
    "#plt.rcParams['legend.fontsize'] = 12 \n",
    "#plt.rcParams['figure.titlesize'] = 12 \n",
    "#plt.rcParams['image.cmap'] = 'jet' \n",
    "#plt.rcParams['image.interpolation'] = 'none' \n",
    "#plt.rcParams['figure.figsize'] = (10, 10) \n",
    "#plt.rcParams['axes.grid']=False\n",
    "#plt.rcParams['lines.linewidth'] = 2 \n",
    "#plt.rcParams['lines.markersize'] = 8\n",
    "#colors = ['xkcd:pale orange', 'xkcd:sea blue', 'xkcd:pale red', 'xkcd:sage green', 'xkcd:terra cotta', 'xkcd:dull purple', 'xkcd:teal', 'xkcd: goldenrod', 'xkcd:cadet blue',\n",
    "#'xkcd:scarlet']\n",
    "#bbox_props = dict(boxstyle=\"round,pad=0.3\", fc=colors[0], alpha=.5)\"\"\""
   ]
  },
  {
   "cell_type": "code",
   "execution_count": 2,
   "metadata": {},
   "outputs": [],
   "source": [
    "# y,sr = librosa.load('audios/Speaker26_000.wav')\n",
    "# dur_time = librosa.get_duration(y=y,sr=sr)\n",
    "#print(dur_time)\n",
    "#time_sec = round(dur_time)\n",
    "#S = librosa.feature.melspectrogram(y=y, sr=sr, n_mels=20, fmax=8000)\n",
    "#fig, ax = plt.subplots()\n",
    "#S_dB = librosa.power_to_db(S, ref=np.max)\n",
    "#img = librosa.display.specshow(S_dB, x_axis='time',y_axis='mel', sr=sr,fmax=8000, ax=ax)\n",
    "#fig.colorbar(img, ax=ax, format='%+2.0f dB')\n",
    "#ax.set(title='Mel-frequency spectrogram')\n",
    "#plt.xlim()\"\"\""
   ]
  },
  {
   "cell_type": "code",
   "execution_count": 3,
   "metadata": {},
   "outputs": [],
   "source": [
    "#time_series_sec=np.linspace(0, time_sec, len(S_dB[0]))"
   ]
  },
  {
   "cell_type": "markdown",
   "metadata": {},
   "source": [
    "The output of this section is the CSV files with the data to be handle by the model\n",
    "\n",
    "```\n",
    "trainData     : audio/train \n",
    "testData      : audio/test\n",
    "```\n"
   ]
  },
  {
   "cell_type": "code",
   "execution_count": 9,
   "metadata": {},
   "outputs": [],
   "source": [
    "# Defines the names of the CSV files\n",
    "TRAIN_CSV_FILE = \"train.csv\"\n",
    "TEST_CSV_FILE = \"test.csv\"\n",
    "final_test=\"final_test.csv\""
   ]
  },
  {
   "cell_type": "code",
   "execution_count": 5,
   "metadata": {},
   "outputs": [
    {
     "name": "stdout",
     "output_type": "stream",
     "text": [
      "The features of the files in the folder audios/audios/train will be saved to train.csv\n",
      "CSV Header:  ['filename', 'chroma_stft', 'rmse', 'spectral_centroid', 'spectral_bandwidth', 'rolloff', 'zero_crossing_rate', 'mfcc1', 'mfcc2', 'mfcc3', 'mfcc4', 'mfcc5', 'mfcc6', 'mfcc7', 'mfcc8', 'mfcc9', 'mfcc10', 'mfcc11', 'mfcc12', 'mfcc13', 'mfcc14', 'mfcc15', 'mfcc16', 'mfcc17', 'mfcc18', 'mfcc19', 'mfcc20', 'label']\n"
     ]
    },
    {
     "name": "stderr",
     "output_type": "stream",
     "text": [
      "100%|███████████████████████████████████████| 3263/3263 [18:42<00:00,  2.91it/s]\n"
     ]
    },
    {
     "name": "stdout",
     "output_type": "stream",
     "text": [
      "End of extractWavFeatures\n",
      "The features of the files in the folder audios/audios/test will be saved to test.csv\n",
      "CSV Header:  ['filename', 'chroma_stft', 'rmse', 'spectral_centroid', 'spectral_bandwidth', 'rolloff', 'zero_crossing_rate', 'mfcc1', 'mfcc2', 'mfcc3', 'mfcc4', 'mfcc5', 'mfcc6', 'mfcc7', 'mfcc8', 'mfcc9', 'mfcc10', 'mfcc11', 'mfcc12', 'mfcc13', 'mfcc14', 'mfcc15', 'mfcc16', 'mfcc17', 'mfcc18', 'mfcc19', 'mfcc20', 'label']\n"
     ]
    },
    {
     "name": "stderr",
     "output_type": "stream",
     "text": [
      "100%|█████████████████████████████████████████| 838/838 [11:50<00:00,  1.18it/s]"
     ]
    },
    {
     "name": "stdout",
     "output_type": "stream",
     "text": [
      "End of extractWavFeatures\n",
      "CSV files are created\n"
     ]
    },
    {
     "name": "stderr",
     "output_type": "stream",
     "text": [
      "\n"
     ]
    }
   ],
   "source": [
    "import matplotlib.pyplot as plt\n",
    "import numpy as np\n",
    "from matplotlib import cm\n",
    "import librosa\n",
    "import csv\n",
    "import os\n",
    "from tqdm import tqdm\n",
    "import warnings\n",
    "warnings.simplefilter('ignore')\n",
    "\n",
    "def extractWavFeatures(soundFilesFolder, csvFileName):\n",
    "    print(\"The features of the files in the folder \"+soundFilesFolder+\" will be saved to \"+csvFileName)\n",
    "    header = 'filename chroma_stft rmse spectral_centroid spectral_bandwidth rolloff zero_crossing_rate'\n",
    "    for i in range(1, 21):\n",
    "        header += f' mfcc{i}'\n",
    "    header += ' label'\n",
    "    header = header.split()\n",
    "    print('CSV Header: ', header)\n",
    "    file = open(csvFileName, 'w', newline='')\n",
    "    #with file:\n",
    "    writer = csv.writer(file)\n",
    "    writer.writerow(header)\n",
    "    for filename in tqdm(os.listdir(soundFilesFolder)):\n",
    "        number = f'{soundFilesFolder}/{filename}'\n",
    "        y, sr = librosa.load(number, mono=True, duration=30)\n",
    "        # remove leading and trailing silence\n",
    "        y, index = librosa.effects.trim(y)\n",
    "        chroma_stft = librosa.feature.chroma_stft(y=y, sr=sr)\n",
    "        rmse = librosa.feature.rms(y=y)\n",
    "        spec_cent = librosa.feature.spectral_centroid(y=y, sr=sr)\n",
    "        spec_bw = librosa.feature.spectral_bandwidth(y=y, sr=sr)\n",
    "        rolloff = librosa.feature.spectral_rolloff(y=y, sr=sr)\n",
    "        zcr = librosa.feature.zero_crossing_rate(y)\n",
    "        mfcc = librosa.feature.mfcc(y=y, sr=sr)\n",
    "        to_append = f'{filename} {np.mean(chroma_stft)} {np.mean(rmse)} {np.mean(spec_cent)} {np.mean(spec_bw)} {np.mean(rolloff)} {np.mean(zcr)}'\n",
    "        for e in mfcc:\n",
    "            to_append += f' {np.mean(e)}'\n",
    "        writer.writerow(to_append.split())\n",
    "    file.close()\n",
    "    print(\"End of extractWavFeatures\")\n",
    "    \n",
    "extractWavFeatures(\"audios/audios/train\", TRAIN_CSV_FILE)\n",
    "extractWavFeatures(\"audios/audios/test\", TEST_CSV_FILE)\n",
    "print(\"CSV files are created\")"
   ]
  },
  {
   "cell_type": "code",
   "execution_count": 6,
   "metadata": {},
   "outputs": [
    {
     "name": "stdout",
     "output_type": "stream",
     "text": [
      "train.csv will be preprocessed\n",
      "Preprocessing is finished\n",
      "       rmse  spectral_centroid  spectral_bandwidth      rolloff  \\\n",
      "0  0.044474        2925.986137         2426.865665  5365.750887   \n",
      "1  0.007040        1054.481600          969.009484  2158.703613   \n",
      "2  0.059307         644.962153          689.094968  1064.355469   \n",
      "3  0.033733        1679.723927         1658.148768  3240.135427   \n",
      "4  0.034633        1303.101750         1210.428356  2418.177044   \n",
      "\n",
      "   zero_crossing_rate       mfcc1       mfcc2      mfcc3      mfcc4  \\\n",
      "0            0.170812 -292.403381   69.789474 -19.889078   4.436610   \n",
      "1            0.055127 -541.293884  209.900482 -59.150311  35.763649   \n",
      "2            0.034738 -379.739685  229.126648 -13.465721   7.315946   \n",
      "3            0.116656 -384.844421  104.027542  -0.869874  44.156509   \n",
      "4            0.083430 -420.164368  131.315445   6.856723  27.124081   \n",
      "\n",
      "       mfcc5  ...     mfcc12     mfcc13    mfcc14     mfcc15     mfcc16  \\\n",
      "0  -3.878308  ...  -2.387268  -6.745807 -3.034384 -10.344191  -5.455682   \n",
      "1  52.395588  ... -25.589903   1.971027 -9.283678  -8.496454  14.085022   \n",
      "2  10.072659  ... -15.177598 -10.289010 -4.679581  -8.963344  -4.572488   \n",
      "3  -0.136879  ...  -1.787667   4.390304 -9.613209  10.855107  -9.326888   \n",
      "4  10.203892  ...  -7.685796   0.104468 -8.183334  -0.137333  -2.409598   \n",
      "\n",
      "      mfcc17     mfcc18    mfcc19     mfcc20  number  \n",
      "0 -11.163910  -3.516300 -6.593322  -8.111452      50  \n",
      "1  -7.112857 -12.288487  4.079620 -15.449945      22  \n",
      "2  -7.788446 -10.445480 -3.889926 -11.179747      54  \n",
      "3  -0.155693  -4.752890 -5.889289   0.593901      13  \n",
      "4  -7.096424 -10.465993 -2.762266  -3.266744      25  \n",
      "\n",
      "[5 rows x 26 columns]\n",
      "test.csv will be preprocessed\n",
      "Preprocessing is finished\n",
      "       rmse  spectral_centroid  spectral_bandwidth      rolloff  \\\n",
      "0  0.062465        2494.766120         2259.537827  4510.464393   \n",
      "1  0.075160         843.041838          880.641004  1648.486328   \n",
      "2  0.021818        1738.811781         1724.522303  3465.993488   \n",
      "3  0.036983        3389.109496         2167.250752  5731.373677   \n",
      "4  0.055204        1734.297265         1426.316152  3041.781607   \n",
      "\n",
      "   zero_crossing_rate       mfcc1       mfcc2      mfcc3      mfcc4  \\\n",
      "0            0.155642 -315.935822   87.359421  16.839615  21.476034   \n",
      "1            0.043927 -319.378571  224.693375 -44.708931  15.121886   \n",
      "2            0.120636 -435.613434   97.572189  -7.425648  44.488117   \n",
      "3            0.226041 -279.897552   34.897182 -24.824188  28.362253   \n",
      "4            0.121150 -324.571442  102.503967 -21.985764  41.096210   \n",
      "\n",
      "       mfcc5  ...     mfcc12    mfcc13     mfcc14     mfcc15     mfcc16  \\\n",
      "0   3.381309  ...  -3.350798 -7.463634   3.006976  -1.351482  -7.327713   \n",
      "1  22.486296  ... -26.435188 -8.066481   2.414000 -10.282760  -7.912687   \n",
      "2   2.806721  ...  -2.122698  3.127735  -7.236073  11.505426 -12.148650   \n",
      "3 -19.190653  ...   0.659389 -8.243056   7.187273  -7.465928   2.551009   \n",
      "4  -9.374266  ...  -7.172763 -0.444135 -11.805051   2.977448  -3.675577   \n",
      "\n",
      "     mfcc17    mfcc18    mfcc19     mfcc20  number  \n",
      "0  3.380064 -5.589298 -3.320220  -2.090706      32  \n",
      "1 -8.371008 -5.420183 -0.954234 -11.587983      54  \n",
      "2  1.264230 -5.840943 -3.782394  -1.643455      13  \n",
      "3 -5.976261  6.004973 -9.561545   3.269066      48  \n",
      "4 -5.938468 -0.991449 -5.536480  -4.147708       1  \n",
      "\n",
      "[5 rows x 26 columns]\n"
     ]
    }
   ],
   "source": [
    "import pandas as pd\n",
    "import csv\n",
    "from sklearn import preprocessing\n",
    "\n",
    "def preProcessData(csvFileName):\n",
    "    print(csvFileName+ \" will be preprocessed\")\n",
    "    data = pd.read_csv(csvFileName)\n",
    "    filenameArray = data['filename'] \n",
    "    speakerArray = []\n",
    "    #print(filenameArray)\n",
    "    for i in range(len(filenameArray)):\n",
    "        speaker = int(filenameArray[i].split(\"_\")[0].split(\"r\")[1])\n",
    "        #print(speaker)\n",
    "        #print(speaker)\n",
    "        speakerArray.append(speaker)\n",
    "    data['number'] = speakerArray\n",
    "    #Dropping unnecessary columns\n",
    "    data = data.drop(['filename'],axis=1)\n",
    "    data = data.drop(['label'],axis=1)\n",
    "    data = data.drop(['chroma_stft'],axis=1)\n",
    "    data.shape\n",
    "\n",
    "    print(\"Preprocessing is finished\")\n",
    "    print(data.head())\n",
    "    return data\n",
    "\n",
    "trainData = preProcessData(TRAIN_CSV_FILE)\n",
    "testData = preProcessData(TEST_CSV_FILE)"
   ]
  },
  {
   "cell_type": "code",
   "execution_count": 7,
   "metadata": {},
   "outputs": [
    {
     "name": "stdout",
     "output_type": "stream",
     "text": [
      "Y from training data: (2284,)\n",
      "Y from validation data: (979,)\n",
      "Y from test data: (838,)\n"
     ]
    }
   ],
   "source": [
    "# Splitting the dataset into training, validation and testing dataset\n",
    "from sklearn.model_selection import train_test_split\n",
    "X = np.array(trainData.iloc[:, :-1], dtype = float)\n",
    "y = trainData.iloc[:, -1]\n",
    "X_train, X_val, y_train, y_val = train_test_split(X, y, test_size=0.3, random_state=50)\n",
    "\n",
    "\n",
    "X_test = np.array(testData.iloc[:, :-1], dtype = float)\n",
    "y_test = testData.iloc[:, -1]\n",
    "\n",
    "print(\"Y from training data:\", y_train.shape)\n",
    "print(\"Y from validation data:\", y_val.shape)\n",
    "print(\"Y from test data:\", y_test.shape)\n"
   ]
  },
  {
   "cell_type": "code",
   "execution_count": 8,
   "metadata": {},
   "outputs": [
    {
     "name": "stdout",
     "output_type": "stream",
     "text": [
      "X from training data (2284, 25)\n",
      "X from validation data (979, 25)\n",
      "X from test data (838, 25)\n"
     ]
    }
   ],
   "source": [
    "#Normalizing the dataset\n",
    "from sklearn.preprocessing import StandardScaler\n",
    "import numpy as np\n",
    "scaler = StandardScaler()\n",
    "X_train = scaler.fit_transform( X_train )\n",
    "X_val = scaler.transform( X_val )\n",
    "X_test = scaler.transform( X_test )\n",
    "\n",
    "print(\"X from training data\", X_train.shape)\n",
    "print(\"X from validation data\", X_val.shape)\n",
    "print(\"X from test data\", X_test.shape)\n"
   ]
  },
  {
   "cell_type": "code",
   "execution_count": 9,
   "metadata": {},
   "outputs": [
    {
     "name": "stdout",
     "output_type": "stream",
     "text": [
      "Sum of values: 3207\n",
      "dict_keys([0, 1, 2, 3, 4, 5, 6, 7, 8, 9, 10, 11, 12, 13, 14, 15, 16, 17, 18, 19, 20, 21, 22, 23, 24, 25, 26, 27, 28, 29, 30, 31, 32, 33, 34, 35, 36, 37, 38, 39, 40, 41, 42, 43, 44, 45, 46, 47, 48, 49, 50, 51, 52, 53, 54, 55])\n",
      "{56}\n"
     ]
    }
   ],
   "source": [
    "import os\n",
    "import fnmatch\n",
    "import collections\n",
    "weight={}\n",
    "path='/home/silvia/Escritorio/TFM/audios/audios/56_speakers_audio_data'\n",
    "for speaker in os.listdir(path):\n",
    "    if speaker.find(\".sh\")==-1:\n",
    "        dir_path=path+'/'+speaker\n",
    "        speaker = int(speaker.split(\"_\")[0].split(\"r\")[1])\n",
    "        count = int(len(fnmatch.filter(os.listdir(dir_path), '*.*'))*0.8)-1\n",
    "        weight.update({speaker: count})\n",
    "max_value=sum(weight.values())\n",
    "print(\"Sum of values: \"+str(max_value))\n",
    "weight = {key: value for key, value in sorted(weight.items())}\n",
    "weight = {k: 1-(v/max_value) for k, v in weight.items()}\n",
    "print(weight.keys())\n",
    "print(set(range(57)) - set(y_train))"
   ]
  },
  {
   "cell_type": "code",
   "execution_count": 10,
   "metadata": {},
   "outputs": [
    {
     "name": "stderr",
     "output_type": "stream",
     "text": [
      "2022-09-12 18:07:40.371949: I tensorflow/core/platform/cpu_feature_guard.cc:193] This TensorFlow binary is optimized with oneAPI Deep Neural Network Library (oneDNN) to use the following CPU instructions in performance-critical operations:  AVX2 FMA\n",
      "To enable them in other operations, rebuild TensorFlow with the appropriate compiler flags.\n",
      "2022-09-12 18:07:40.648213: W tensorflow/stream_executor/platform/default/dso_loader.cc:64] Could not load dynamic library 'libcudart.so.11.0'; dlerror: libcudart.so.11.0: cannot open shared object file: No such file or directory\n",
      "2022-09-12 18:07:40.648226: I tensorflow/stream_executor/cuda/cudart_stub.cc:29] Ignore above cudart dlerror if you do not have a GPU set up on your machine.\n",
      "2022-09-12 18:07:40.680501: E tensorflow/stream_executor/cuda/cuda_blas.cc:2981] Unable to register cuBLAS factory: Attempting to register factory for plugin cuBLAS when one has already been registered\n",
      "2022-09-12 18:07:41.500653: W tensorflow/stream_executor/platform/default/dso_loader.cc:64] Could not load dynamic library 'libnvinfer.so.7'; dlerror: libnvinfer.so.7: cannot open shared object file: No such file or directory\n",
      "2022-09-12 18:07:41.500720: W tensorflow/stream_executor/platform/default/dso_loader.cc:64] Could not load dynamic library 'libnvinfer_plugin.so.7'; dlerror: libnvinfer_plugin.so.7: cannot open shared object file: No such file or directory\n",
      "2022-09-12 18:07:41.500727: W tensorflow/compiler/tf2tensorrt/utils/py_utils.cc:38] TF-TRT Warning: Cannot dlopen some TensorRT libraries. If you would like to use Nvidia GPU with TensorRT, please make sure the missing libraries mentioned above are installed properly.\n"
     ]
    },
    {
     "name": "stdout",
     "output_type": "stream",
     "text": [
      "[[ 0.88544207  0.95914566  1.35700012 ...  0.04512399 -0.85655957\n",
      "   0.23008244]\n",
      " [ 0.1375018   0.14474688 -0.25622855 ...  0.89206799  0.55928048\n",
      "   1.56915991]\n",
      " [-0.36464669  0.80615091  1.2139867  ...  1.12698596  0.06999135\n",
      "   1.56905986]\n",
      " ...\n",
      " [ 2.10581517 -1.40915506 -1.3315279  ... -1.08303998  0.21637702\n",
      "  -0.18659736]\n",
      " [-0.21512721 -1.03718492 -0.64017014 ... -0.27088757  1.59214804\n",
      "  -0.00528993]\n",
      " [-0.43579081  1.40230586  1.71954114 ...  1.38549428 -0.52340609\n",
      "   1.32009819]]\n",
      "Epoch 1/100\n"
     ]
    },
    {
     "name": "stderr",
     "output_type": "stream",
     "text": [
      "2022-09-12 18:07:42.457207: W tensorflow/stream_executor/platform/default/dso_loader.cc:64] Could not load dynamic library 'libcuda.so.1'; dlerror: libcuda.so.1: cannot open shared object file: No such file or directory\n",
      "2022-09-12 18:07:42.457406: W tensorflow/stream_executor/cuda/cuda_driver.cc:263] failed call to cuInit: UNKNOWN ERROR (303)\n",
      "2022-09-12 18:07:42.457423: I tensorflow/stream_executor/cuda/cuda_diagnostics.cc:156] kernel driver does not appear to be running on this host (silvia-XPS-15-9500): /proc/driver/nvidia/version does not exist\n",
      "2022-09-12 18:07:42.457805: I tensorflow/core/platform/cpu_feature_guard.cc:193] This TensorFlow binary is optimized with oneAPI Deep Neural Network Library (oneDNN) to use the following CPU instructions in performance-critical operations:  AVX2 FMA\n",
      "To enable them in other operations, rebuild TensorFlow with the appropriate compiler flags.\n"
     ]
    },
    {
     "name": "stdout",
     "output_type": "stream",
     "text": [
      "18/18 [==============================] - 1s 11ms/step - loss: 4.2676 - accuracy: 0.0482 - val_loss: 4.0740 - val_accuracy: 0.2196\n",
      "Epoch 2/100\n",
      "18/18 [==============================] - 0s 3ms/step - loss: 3.6135 - accuracy: 0.1646 - val_loss: 2.8833 - val_accuracy: 0.3299\n",
      "Epoch 3/100\n",
      "18/18 [==============================] - 0s 3ms/step - loss: 3.0346 - accuracy: 0.2535 - val_loss: 2.3507 - val_accuracy: 0.4709\n",
      "Epoch 4/100\n",
      "18/18 [==============================] - 0s 3ms/step - loss: 2.6810 - accuracy: 0.3214 - val_loss: 2.1069 - val_accuracy: 0.4954\n",
      "Epoch 5/100\n",
      "18/18 [==============================] - 0s 3ms/step - loss: 2.4516 - accuracy: 0.3625 - val_loss: 1.9053 - val_accuracy: 0.5128\n",
      "Epoch 6/100\n",
      "18/18 [==============================] - 0s 3ms/step - loss: 2.2823 - accuracy: 0.3975 - val_loss: 1.7260 - val_accuracy: 0.5700\n",
      "Epoch 7/100\n",
      "18/18 [==============================] - 0s 3ms/step - loss: 2.0940 - accuracy: 0.4295 - val_loss: 1.5325 - val_accuracy: 0.6323\n",
      "Epoch 8/100\n",
      "18/18 [==============================] - 0s 3ms/step - loss: 1.9408 - accuracy: 0.4623 - val_loss: 1.3759 - val_accuracy: 0.6772\n",
      "Epoch 9/100\n",
      "18/18 [==============================] - 0s 3ms/step - loss: 1.8317 - accuracy: 0.4663 - val_loss: 1.2202 - val_accuracy: 0.7191\n",
      "Epoch 10/100\n",
      "18/18 [==============================] - 0s 3ms/step - loss: 1.7150 - accuracy: 0.4987 - val_loss: 1.1005 - val_accuracy: 0.7630\n",
      "Epoch 11/100\n",
      "18/18 [==============================] - 0s 3ms/step - loss: 1.6390 - accuracy: 0.5158 - val_loss: 0.9936 - val_accuracy: 0.7855\n",
      "Epoch 12/100\n",
      "18/18 [==============================] - 0s 3ms/step - loss: 1.5447 - accuracy: 0.5385 - val_loss: 0.9063 - val_accuracy: 0.8274\n",
      "Epoch 13/100\n",
      "18/18 [==============================] - 0s 3ms/step - loss: 1.4524 - accuracy: 0.5591 - val_loss: 0.8194 - val_accuracy: 0.8304\n",
      "Epoch 14/100\n",
      "18/18 [==============================] - 0s 3ms/step - loss: 1.3633 - accuracy: 0.5849 - val_loss: 0.7364 - val_accuracy: 0.8447\n",
      "Epoch 15/100\n",
      "18/18 [==============================] - 0s 3ms/step - loss: 1.3041 - accuracy: 0.5959 - val_loss: 0.6725 - val_accuracy: 0.8631\n",
      "Epoch 16/100\n",
      "18/18 [==============================] - 0s 3ms/step - loss: 1.2489 - accuracy: 0.6060 - val_loss: 0.6135 - val_accuracy: 0.8907\n",
      "Epoch 17/100\n",
      "18/18 [==============================] - 0s 3ms/step - loss: 1.1670 - accuracy: 0.6305 - val_loss: 0.5680 - val_accuracy: 0.8897\n",
      "Epoch 18/100\n",
      "18/18 [==============================] - 0s 3ms/step - loss: 1.1069 - accuracy: 0.6445 - val_loss: 0.5164 - val_accuracy: 0.8999\n",
      "Epoch 19/100\n",
      "18/18 [==============================] - 0s 3ms/step - loss: 1.0846 - accuracy: 0.6541 - val_loss: 0.4718 - val_accuracy: 0.9234\n",
      "Epoch 20/100\n",
      "18/18 [==============================] - 0s 3ms/step - loss: 1.0328 - accuracy: 0.6624 - val_loss: 0.4393 - val_accuracy: 0.9203\n",
      "Epoch 21/100\n",
      "18/18 [==============================] - 0s 3ms/step - loss: 1.0034 - accuracy: 0.6791 - val_loss: 0.4049 - val_accuracy: 0.9244\n",
      "Epoch 22/100\n",
      "18/18 [==============================] - 0s 3ms/step - loss: 0.9398 - accuracy: 0.6900 - val_loss: 0.3823 - val_accuracy: 0.9265\n",
      "Epoch 23/100\n",
      "18/18 [==============================] - 0s 3ms/step - loss: 0.9552 - accuracy: 0.6922 - val_loss: 0.3652 - val_accuracy: 0.9387\n",
      "Epoch 24/100\n",
      "18/18 [==============================] - 0s 3ms/step - loss: 0.8681 - accuracy: 0.7115 - val_loss: 0.3369 - val_accuracy: 0.9387\n",
      "Epoch 25/100\n",
      "18/18 [==============================] - 0s 3ms/step - loss: 0.8648 - accuracy: 0.7154 - val_loss: 0.3241 - val_accuracy: 0.9397\n",
      "Epoch 26/100\n",
      "18/18 [==============================] - 0s 3ms/step - loss: 0.8339 - accuracy: 0.7237 - val_loss: 0.3027 - val_accuracy: 0.9367\n",
      "Epoch 27/100\n",
      "18/18 [==============================] - 0s 3ms/step - loss: 0.7981 - accuracy: 0.7360 - val_loss: 0.2796 - val_accuracy: 0.9448\n",
      "Epoch 28/100\n",
      "18/18 [==============================] - 0s 3ms/step - loss: 0.7603 - accuracy: 0.7500 - val_loss: 0.2592 - val_accuracy: 0.9428\n",
      "Epoch 29/100\n",
      "18/18 [==============================] - 0s 3ms/step - loss: 0.7436 - accuracy: 0.7548 - val_loss: 0.2492 - val_accuracy: 0.9479\n",
      "Epoch 30/100\n",
      "18/18 [==============================] - 0s 3ms/step - loss: 0.7345 - accuracy: 0.7640 - val_loss: 0.2383 - val_accuracy: 0.9469\n",
      "Epoch 31/100\n",
      "18/18 [==============================] - 0s 3ms/step - loss: 0.7124 - accuracy: 0.7771 - val_loss: 0.2272 - val_accuracy: 0.9499\n",
      "Epoch 32/100\n",
      "18/18 [==============================] - 0s 3ms/step - loss: 0.6878 - accuracy: 0.7732 - val_loss: 0.2163 - val_accuracy: 0.9489\n",
      "Epoch 33/100\n",
      "18/18 [==============================] - 0s 3ms/step - loss: 0.6545 - accuracy: 0.7842 - val_loss: 0.2067 - val_accuracy: 0.9499\n",
      "Epoch 34/100\n",
      "18/18 [==============================] - 0s 3ms/step - loss: 0.6311 - accuracy: 0.7850 - val_loss: 0.1954 - val_accuracy: 0.9530\n",
      "Epoch 35/100\n",
      "18/18 [==============================] - 0s 3ms/step - loss: 0.6225 - accuracy: 0.7942 - val_loss: 0.1917 - val_accuracy: 0.9551\n",
      "Epoch 36/100\n",
      "18/18 [==============================] - 0s 3ms/step - loss: 0.5940 - accuracy: 0.8025 - val_loss: 0.1770 - val_accuracy: 0.9571\n",
      "Epoch 37/100\n",
      "18/18 [==============================] - 0s 3ms/step - loss: 0.5953 - accuracy: 0.7990 - val_loss: 0.1711 - val_accuracy: 0.9591\n",
      "Epoch 38/100\n",
      "18/18 [==============================] - 0s 3ms/step - loss: 0.6038 - accuracy: 0.7990 - val_loss: 0.1647 - val_accuracy: 0.9591\n",
      "Epoch 39/100\n",
      "18/18 [==============================] - 0s 3ms/step - loss: 0.5710 - accuracy: 0.7968 - val_loss: 0.1660 - val_accuracy: 0.9602\n",
      "Epoch 40/100\n",
      "18/18 [==============================] - 0s 3ms/step - loss: 0.5671 - accuracy: 0.8109 - val_loss: 0.1622 - val_accuracy: 0.9602\n",
      "Epoch 41/100\n",
      "18/18 [==============================] - 0s 3ms/step - loss: 0.5455 - accuracy: 0.8144 - val_loss: 0.1572 - val_accuracy: 0.9581\n",
      "Epoch 42/100\n",
      "18/18 [==============================] - 0s 3ms/step - loss: 0.5217 - accuracy: 0.8253 - val_loss: 0.1504 - val_accuracy: 0.9612\n",
      "Epoch 43/100\n",
      "18/18 [==============================] - 0s 3ms/step - loss: 0.5050 - accuracy: 0.8336 - val_loss: 0.1433 - val_accuracy: 0.9612\n",
      "Epoch 44/100\n",
      "18/18 [==============================] - 0s 3ms/step - loss: 0.5163 - accuracy: 0.8209 - val_loss: 0.1385 - val_accuracy: 0.9602\n",
      "Epoch 45/100\n",
      "18/18 [==============================] - 0s 3ms/step - loss: 0.5043 - accuracy: 0.8279 - val_loss: 0.1372 - val_accuracy: 0.9612\n",
      "Epoch 46/100\n",
      "18/18 [==============================] - 0s 3ms/step - loss: 0.5032 - accuracy: 0.8236 - val_loss: 0.1293 - val_accuracy: 0.9612\n",
      "Epoch 47/100\n",
      "18/18 [==============================] - 0s 3ms/step - loss: 0.4856 - accuracy: 0.8354 - val_loss: 0.1275 - val_accuracy: 0.9602\n",
      "Epoch 48/100\n",
      "18/18 [==============================] - 0s 3ms/step - loss: 0.4755 - accuracy: 0.8433 - val_loss: 0.1303 - val_accuracy: 0.9632\n",
      "Epoch 49/100\n",
      "18/18 [==============================] - 0s 3ms/step - loss: 0.4750 - accuracy: 0.8389 - val_loss: 0.1256 - val_accuracy: 0.9622\n",
      "Epoch 50/100\n",
      "18/18 [==============================] - 0s 3ms/step - loss: 0.4300 - accuracy: 0.8625 - val_loss: 0.1199 - val_accuracy: 0.9622\n",
      "Epoch 51/100\n",
      "18/18 [==============================] - 0s 3ms/step - loss: 0.4448 - accuracy: 0.8459 - val_loss: 0.1185 - val_accuracy: 0.9622\n",
      "Epoch 52/100\n",
      "18/18 [==============================] - 0s 3ms/step - loss: 0.4441 - accuracy: 0.8525 - val_loss: 0.1148 - val_accuracy: 0.9622\n",
      "Epoch 53/100\n",
      "18/18 [==============================] - 0s 3ms/step - loss: 0.4394 - accuracy: 0.8393 - val_loss: 0.1129 - val_accuracy: 0.9632\n",
      "Epoch 54/100\n",
      "18/18 [==============================] - 0s 3ms/step - loss: 0.4511 - accuracy: 0.8542 - val_loss: 0.1135 - val_accuracy: 0.9612\n",
      "Epoch 55/100\n",
      "18/18 [==============================] - 0s 3ms/step - loss: 0.4305 - accuracy: 0.8555 - val_loss: 0.1102 - val_accuracy: 0.9622\n",
      "Epoch 56/100\n",
      "18/18 [==============================] - 0s 3ms/step - loss: 0.4228 - accuracy: 0.8538 - val_loss: 0.1065 - val_accuracy: 0.9622\n",
      "Epoch 57/100\n",
      "18/18 [==============================] - 0s 3ms/step - loss: 0.4121 - accuracy: 0.8669 - val_loss: 0.1100 - val_accuracy: 0.9612\n",
      "Epoch 58/100\n",
      "18/18 [==============================] - 0s 3ms/step - loss: 0.4221 - accuracy: 0.8599 - val_loss: 0.1047 - val_accuracy: 0.9622\n"
     ]
    },
    {
     "name": "stdout",
     "output_type": "stream",
     "text": [
      "Epoch 59/100\n",
      "18/18 [==============================] - 0s 3ms/step - loss: 0.3682 - accuracy: 0.8735 - val_loss: 0.1008 - val_accuracy: 0.9632\n",
      "Epoch 60/100\n",
      "18/18 [==============================] - 0s 3ms/step - loss: 0.3838 - accuracy: 0.8665 - val_loss: 0.0979 - val_accuracy: 0.9632\n",
      "Epoch 61/100\n",
      "18/18 [==============================] - 0s 3ms/step - loss: 0.3987 - accuracy: 0.8660 - val_loss: 0.0975 - val_accuracy: 0.9642\n",
      "Epoch 62/100\n",
      "18/18 [==============================] - 0s 3ms/step - loss: 0.3854 - accuracy: 0.8708 - val_loss: 0.0968 - val_accuracy: 0.9622\n",
      "Epoch 63/100\n",
      "18/18 [==============================] - 0s 3ms/step - loss: 0.4006 - accuracy: 0.8647 - val_loss: 0.0936 - val_accuracy: 0.9632\n",
      "Epoch 64/100\n",
      "18/18 [==============================] - 0s 3ms/step - loss: 0.3824 - accuracy: 0.8678 - val_loss: 0.0948 - val_accuracy: 0.9642\n",
      "Epoch 65/100\n",
      "18/18 [==============================] - 0s 3ms/step - loss: 0.3789 - accuracy: 0.8717 - val_loss: 0.0939 - val_accuracy: 0.9622\n",
      "Epoch 66/100\n",
      "18/18 [==============================] - 0s 3ms/step - loss: 0.3627 - accuracy: 0.8717 - val_loss: 0.0920 - val_accuracy: 0.9622\n",
      "Epoch 67/100\n",
      "18/18 [==============================] - 0s 3ms/step - loss: 0.3746 - accuracy: 0.8765 - val_loss: 0.0915 - val_accuracy: 0.9622\n",
      "Epoch 68/100\n",
      "18/18 [==============================] - 0s 3ms/step - loss: 0.3590 - accuracy: 0.8809 - val_loss: 0.0894 - val_accuracy: 0.9632\n",
      "Epoch 69/100\n",
      "18/18 [==============================] - 0s 3ms/step - loss: 0.3448 - accuracy: 0.8844 - val_loss: 0.0905 - val_accuracy: 0.9622\n",
      "Epoch 70/100\n",
      "18/18 [==============================] - 0s 3ms/step - loss: 0.3424 - accuracy: 0.8835 - val_loss: 0.0835 - val_accuracy: 0.9632\n",
      "Epoch 71/100\n",
      "18/18 [==============================] - 0s 3ms/step - loss: 0.3366 - accuracy: 0.8796 - val_loss: 0.0850 - val_accuracy: 0.9632\n",
      "Epoch 72/100\n",
      "18/18 [==============================] - 0s 3ms/step - loss: 0.3244 - accuracy: 0.8901 - val_loss: 0.0823 - val_accuracy: 0.9632\n",
      "Epoch 73/100\n",
      "18/18 [==============================] - 0s 3ms/step - loss: 0.3473 - accuracy: 0.8831 - val_loss: 0.0839 - val_accuracy: 0.9642\n",
      "Epoch 74/100\n",
      "18/18 [==============================] - 0s 3ms/step - loss: 0.3282 - accuracy: 0.8875 - val_loss: 0.0814 - val_accuracy: 0.9632\n",
      "Epoch 75/100\n",
      "18/18 [==============================] - 0s 3ms/step - loss: 0.3397 - accuracy: 0.8844 - val_loss: 0.0799 - val_accuracy: 0.9632\n",
      "Epoch 76/100\n",
      "18/18 [==============================] - 0s 3ms/step - loss: 0.3349 - accuracy: 0.8879 - val_loss: 0.0787 - val_accuracy: 0.9632\n",
      "Epoch 77/100\n",
      "18/18 [==============================] - 0s 3ms/step - loss: 0.3179 - accuracy: 0.8866 - val_loss: 0.0785 - val_accuracy: 0.9622\n",
      "Epoch 78/100\n",
      "18/18 [==============================] - 0s 3ms/step - loss: 0.3215 - accuracy: 0.8936 - val_loss: 0.0753 - val_accuracy: 0.9653\n",
      "Epoch 79/100\n",
      "18/18 [==============================] - 0s 3ms/step - loss: 0.3385 - accuracy: 0.8796 - val_loss: 0.0775 - val_accuracy: 0.9632\n",
      "Epoch 80/100\n",
      "18/18 [==============================] - 0s 3ms/step - loss: 0.3167 - accuracy: 0.8971 - val_loss: 0.0773 - val_accuracy: 0.9622\n",
      "Epoch 81/100\n",
      "18/18 [==============================] - 0s 3ms/step - loss: 0.3053 - accuracy: 0.8901 - val_loss: 0.0772 - val_accuracy: 0.9632\n",
      "Epoch 81: early stopping\n"
     ]
    }
   ],
   "source": [
    "#Creating a Model\n",
    "from keras import models\n",
    "from keras import layers\n",
    "import keras\n",
    "\n",
    "# model 1\n",
    "model = models.Sequential()\n",
    "model.add(layers.Dense(256, activation='relu', input_shape=(X_train.shape[1],)))\n",
    "model.add(layers.Dropout(0.5))\n",
    "model.add(layers.Dense(128, activation='relu'))\n",
    "model.add(layers.Dropout(0.5))\n",
    "model.add(layers.Dense(64, activation='relu'))\n",
    "model.add(layers.Dropout(0.5))\n",
    "model.add(layers.Dense(100, activation='softmax'))\n",
    "\n",
    "# Learning Process of a model\n",
    "model.compile(optimizer='adam',\n",
    "              loss='sparse_categorical_crossentropy',\n",
    "              metrics=['accuracy'])\n",
    "\n",
    "# simple early stopping\n",
    "from keras.callbacks import EarlyStopping\n",
    "#es = EarlyStopping(monitor='val_accuracy', patience=10, verbose=1)\n",
    "es = EarlyStopping(monitor='val_loss', patience=3, verbose=1)\n",
    "print(X_train)\n",
    "#Train with early stopping to avoid overfitting\n",
    "y_train=np.array(y_train, dtype=int)\n",
    "y_val=np.array(y_val, dtype=int)\n",
    "history = model.fit(X_train,y_train,validation_data=(X_val, y_val),epochs=100,batch_size=128,class_weight=weight, callbacks=[es])"
   ]
  },
  {
   "cell_type": "code",
   "execution_count": 11,
   "metadata": {},
   "outputs": [
    {
     "data": {
      "image/png": "[encoded data removed]",
      "text/plain": [
       "<Figure size 432x288 with 1 Axes>"
      ]
     },
     "metadata": {
      "needs_background": "light"
     },
     "output_type": "display_data"
    }
   ],
   "source": [
    "# plot training history\n",
    "from matplotlib import pyplot\n",
    "pyplot.plot(history.history['loss'], label='train')\n",
    "pyplot.plot(history.history['val_loss'], label='test')\n",
    "pyplot.legend()\n",
    "pyplot.show()"
   ]
  },
  {
   "cell_type": "code",
   "execution_count": 12,
   "metadata": {},
   "outputs": [],
   "source": [
    "def getSpeaker(speaker):\n",
    "    speaker = \"Speaker\"+str(speaker).zfill(3)\n",
    "    return speaker\n",
    "    \n",
    "        \n",
    "def printPrediction(X_data, y_data, printDigit, model):\n",
    "    print('\\n# Generate predictions')\n",
    "    for i in range(len(y_data)):\n",
    "        predict_x=model.predict(X_data[i:i+1])[0]\n",
    "        predict_classes = np.argmax(predict_x)\n",
    "        prediction = getSpeaker(predict_classes)\n",
    "    \n",
    "        speaker = getSpeaker(y_data[i])\n",
    "        if printDigit == True:\n",
    "           print(\"Number={0:d}, y={1:10s}- prediction={2:10s}- match={3}\".format(i, speaker, prediction, speaker==prediction))\n",
    "        else:\n",
    "           print(\"y={0:10s}- prediction={1:10s}- match={2}\".format(speaker, prediction, speaker==prediction))"
   ]
  },
  {
   "cell_type": "code",
   "execution_count": 13,
   "metadata": {},
   "outputs": [],
   "source": [
    "import numpy as np\n",
    "from keras import backend as K\n",
    "from keras.models import Sequential\n",
    "from keras.layers.core import Dense, Dropout, Activation, Flatten\n",
    "from keras.layers.convolutional import Convolution2D, MaxPooling2D\n",
    "from keras.preprocessing.image import ImageDataGenerator\n",
    "from sklearn.metrics import classification_report, confusion_matrix\n",
    "\n",
    "def report(X_data, y_data):\n",
    "    #Confution Matrix and Classification Report\n",
    "    predict_y = model.predict(X_data)\n",
    "    Y_pred = np.argmax(predict_y, axis=1)\n",
    "    y_test_num = y_data.astype(np.int64)\n",
    "    conf_mt = confusion_matrix(y_test_num, Y_pred)\n",
    "    print(conf_mt[6])\n",
    "    key=0\n",
    "    for val in conf_mt[6]:\n",
    "        if val!=0:\n",
    "            print(key)\n",
    "        key=key+1\n",
    "    conf_mt=conf_mt / conf_mt.astype(np.float).sum(axis=1)\n",
    "    #print(conf_mt)\n",
    "    plt.matshow(conf_mt)\n",
    "    plt.show()\n",
    "    print('\\nClassification Report')\n",
    "    print(classification_report(y_test_num, Y_pred))\n"
   ]
  },
  {
   "cell_type": "code",
   "execution_count": 14,
   "metadata": {},
   "outputs": [
    {
     "name": "stdout",
     "output_type": "stream",
     "text": [
      "\n",
      "# TEST DATA #\n",
      "\n",
      "27/27 [==============================] - 0s 753us/step - loss: 0.8307 - accuracy: 0.9344\n",
      "accuracy: 93.44%\n",
      "\n",
      "# Generate predictions\n",
      "1/1 [==============================] - 0s 62ms/step\n",
      "y=Speaker032- prediction=Speaker032- match=True\n",
      "1/1 [==============================] - 0s 14ms/step\n",
      "y=Speaker054- prediction=Speaker054- match=True\n",
      "1/1 [==============================] - 0s 15ms/step\n",
      "y=Speaker013- prediction=Speaker013- match=True\n",
      "1/1 [==============================] - 0s 14ms/step\n",
      "y=Speaker048- prediction=Speaker048- match=True\n",
      "1/1 [==============================] - 0s 15ms/step\n",
      "y=Speaker001- prediction=Speaker001- match=True\n",
      "1/1 [==============================] - 0s 14ms/step\n",
      "y=Speaker019- prediction=Speaker019- match=True\n",
      "1/1 [==============================] - 0s 14ms/step\n",
      "y=Speaker000- prediction=Speaker000- match=True\n",
      "1/1 [==============================] - 0s 14ms/step\n",
      "y=Speaker052- prediction=Speaker053- match=False\n",
      "1/1 [==============================] - 0s 14ms/step\n",
      "y=Speaker044- prediction=Speaker044- match=True\n",
      "1/1 [==============================] - 0s 14ms/step\n",
      "y=Speaker030- prediction=Speaker030- match=True\n",
      "1/1 [==============================] - 0s 14ms/step\n",
      "y=Speaker054- prediction=Speaker054- match=True\n",
      "1/1 [==============================] - 0s 14ms/step\n",
      "y=Speaker009- prediction=Speaker009- match=True\n",
      "1/1 [==============================] - 0s 14ms/step\n",
      "y=Speaker002- prediction=Speaker002- match=True\n",
      "1/1 [==============================] - 0s 15ms/step\n",
      "y=Speaker018- prediction=Speaker018- match=True\n",
      "1/1 [==============================] - 0s 15ms/step\n",
      "y=Speaker045- prediction=Speaker045- match=True\n",
      "1/1 [==============================] - 0s 14ms/step\n",
      "y=Speaker055- prediction=Speaker055- match=True\n",
      "1/1 [==============================] - 0s 14ms/step\n",
      "y=Speaker016- prediction=Speaker016- match=True\n",
      "1/1 [==============================] - 0s 14ms/step\n",
      "y=Speaker009- prediction=Speaker009- match=True\n",
      "1/1 [==============================] - 0s 14ms/step\n",
      "y=Speaker000- prediction=Speaker000- match=True\n",
      "1/1 [==============================] - 0s 14ms/step\n",
      "y=Speaker015- prediction=Speaker015- match=True\n"
     ]
    }
   ],
   "source": [
    "print('\\n# TEST DATA #\\n')\n",
    "y_test=np.array(y_test, dtype=int)\n",
    "score = model.evaluate(X_test, y_test)\n",
    "print(\"%s: %.2f%%\" % (model.metrics_names[1], score[1]*100))\n",
    "# Prediction\n",
    "printPrediction(X_test[0:20], y_test[0:20], False, model)"
   ]
  },
  {
   "cell_type": "code",
   "execution_count": 15,
   "metadata": {},
   "outputs": [
    {
     "name": "stdout",
     "output_type": "stream",
     "text": [
      "Classification Report for Test Data\n",
      "\n",
      "27/27 [==============================] - 0s 700us/step\n",
      "[ 0  0 16  0  0  0  0  0  0  0  0  0  0  0  0  0  0  0  0  0  0  0  0  0\n",
      "  0  0  0  0  0  0  0  0  0  0  0  0  0  0  0  0  0  0  0  0  0  0  0  0\n",
      "  0  0  0  0  0  0  0  0]\n",
      "2\n"
     ]
    },
    {
     "data": {
      "image/png": "[encoded data removed]",
      "text/plain": [
       "<Figure size 288x288 with 1 Axes>"
      ]
     },
     "metadata": {
      "needs_background": "light"
     },
     "output_type": "display_data"
    },
    {
     "name": "stdout",
     "output_type": "stream",
     "text": [
      "\n",
      "Classification Report\n",
      "              precision    recall  f1-score   support\n",
      "\n",
      "           0       1.00      0.95      0.97        19\n",
      "           1       1.00      1.00      1.00        24\n",
      "           2       0.59      0.96      0.73        24\n",
      "           3       0.89      0.94      0.91        17\n",
      "           4       1.00      0.94      0.97        18\n",
      "           5       1.00      1.00      1.00        15\n",
      "           6       0.00      0.00      0.00        16\n",
      "           7       1.00      1.00      1.00        13\n",
      "           8       1.00      1.00      1.00        20\n",
      "           9       1.00      0.92      0.96        13\n",
      "          10       1.00      1.00      1.00        11\n",
      "          11       1.00      0.92      0.96        13\n",
      "          12       1.00      0.86      0.92         7\n",
      "          13       1.00      0.88      0.93         8\n",
      "          14       0.79      1.00      0.88        11\n",
      "          15       1.00      0.88      0.93         8\n",
      "          16       0.83      1.00      0.91        10\n",
      "          17       1.00      1.00      1.00         9\n",
      "          18       1.00      0.88      0.93         8\n",
      "          19       1.00      1.00      1.00         7\n",
      "          20       0.00      0.00      0.00         2\n",
      "          21       1.00      0.92      0.96        12\n",
      "          22       0.92      0.95      0.94       100\n",
      "          23       1.00      0.88      0.93         8\n",
      "          24       1.00      0.91      0.95        11\n",
      "          25       1.00      0.90      0.95        10\n",
      "          26       1.00      0.89      0.94         9\n",
      "          27       0.90      0.90      0.90        10\n",
      "          28       1.00      1.00      1.00        12\n",
      "          29       1.00      1.00      1.00         7\n",
      "          30       1.00      0.86      0.92         7\n",
      "          31       0.91      1.00      0.95        10\n",
      "          32       0.89      1.00      0.94         8\n",
      "          33       1.00      1.00      1.00         7\n",
      "          34       1.00      1.00      1.00         7\n",
      "          35       1.00      1.00      1.00         7\n",
      "          36       1.00      0.86      0.92         7\n",
      "          37       0.65      1.00      0.79        11\n",
      "          38       0.75      0.86      0.80         7\n",
      "          39       0.92      1.00      0.96        11\n",
      "          40       1.00      1.00      1.00         7\n",
      "          41       0.62      0.71      0.67         7\n",
      "          42       1.00      0.89      0.94         9\n",
      "          43       1.00      0.86      0.92         7\n",
      "          44       1.00      0.88      0.93         8\n",
      "          45       1.00      1.00      1.00         9\n",
      "          46       1.00      1.00      1.00         8\n",
      "          47       1.00      0.86      0.92         7\n",
      "          48       1.00      0.86      0.92         7\n",
      "          49       1.00      0.90      0.95        10\n",
      "          50       1.00      0.86      0.92         7\n",
      "          51       1.00      1.00      1.00         6\n",
      "          52       1.00      0.67      0.80         6\n",
      "          53       0.75      1.00      0.86         6\n",
      "          54       0.95      0.98      0.97       100\n",
      "          55       0.98      1.00      0.99       100\n",
      "\n",
      "    accuracy                           0.93       838\n",
      "   macro avg       0.92      0.90      0.90       838\n",
      "weighted avg       0.93      0.93      0.93       838\n",
      "\n"
     ]
    }
   ],
   "source": [
    "print(\"Classification Report for Test Data\\n\")\n",
    "report(X_test, y_test)"
   ]
  },
  {
   "cell_type": "markdown",
   "metadata": {},
   "source": [
    "### Save model"
   ]
  },
  {
   "cell_type": "code",
   "execution_count": 16,
   "metadata": {},
   "outputs": [],
   "source": [
    "model.save('speaker-recognition.h5')"
   ]
  },
  {
   "cell_type": "markdown",
   "metadata": {},
   "source": [
    "\n",
    "Transfer learning\n",
    "\n",
    "https://keras.io/guides/transfer_learning/\n"
   ]
  },
  {
   "cell_type": "markdown",
   "metadata": {},
   "source": [
    "### Load model"
   ]
  },
  {
   "cell_type": "code",
   "execution_count": 17,
   "metadata": {},
   "outputs": [
    {
     "name": "stdout",
     "output_type": "stream",
     "text": [
      "\n",
      "# Generate predictions\n",
      "1/1 [==============================] - 0s 43ms/step\n",
      "y=Speaker032- prediction=Speaker032- match=True\n",
      "1/1 [==============================] - 0s 14ms/step\n",
      "y=Speaker054- prediction=Speaker054- match=True\n",
      "1/1 [==============================] - 0s 14ms/step\n",
      "y=Speaker013- prediction=Speaker013- match=True\n",
      "1/1 [==============================] - 0s 14ms/step\n",
      "y=Speaker048- prediction=Speaker048- match=True\n",
      "1/1 [==============================] - 0s 15ms/step\n",
      "y=Speaker001- prediction=Speaker001- match=True\n",
      "1/1 [==============================] - 0s 14ms/step\n",
      "y=Speaker019- prediction=Speaker019- match=True\n",
      "1/1 [==============================] - 0s 14ms/step\n",
      "y=Speaker000- prediction=Speaker000- match=True\n",
      "1/1 [==============================] - 0s 15ms/step\n",
      "y=Speaker052- prediction=Speaker053- match=False\n",
      "1/1 [==============================] - 0s 15ms/step\n",
      "y=Speaker044- prediction=Speaker044- match=True\n",
      "1/1 [==============================] - 0s 14ms/step\n",
      "y=Speaker030- prediction=Speaker030- match=True\n",
      "1/1 [==============================] - 0s 14ms/step\n",
      "y=Speaker054- prediction=Speaker054- match=True\n",
      "1/1 [==============================] - 0s 14ms/step\n",
      "y=Speaker009- prediction=Speaker009- match=True\n",
      "1/1 [==============================] - 0s 14ms/step\n",
      "y=Speaker002- prediction=Speaker002- match=True\n",
      "1/1 [==============================] - 0s 14ms/step\n",
      "y=Speaker018- prediction=Speaker018- match=True\n",
      "1/1 [==============================] - 0s 14ms/step\n",
      "y=Speaker045- prediction=Speaker045- match=True\n",
      "1/1 [==============================] - 0s 15ms/step\n",
      "y=Speaker055- prediction=Speaker055- match=True\n",
      "1/1 [==============================] - 0s 15ms/step\n",
      "y=Speaker016- prediction=Speaker016- match=True\n",
      "1/1 [==============================] - 0s 14ms/step\n",
      "y=Speaker009- prediction=Speaker009- match=True\n",
      "1/1 [==============================] - 0s 14ms/step\n",
      "y=Speaker000- prediction=Speaker000- match=True\n",
      "1/1 [==============================] - 0s 14ms/step\n",
      "y=Speaker015- prediction=Speaker015- match=True\n"
     ]
    }
   ],
   "source": [
    "new_model = keras.models.load_model('speaker-recognition.h5')\n",
    "printPrediction(X_test[0:20], y_test[0:20], False, new_model)"
   ]
  },
  {
   "cell_type": "code",
   "execution_count": 10,
   "metadata": {},
   "outputs": [
    {
     "name": "stdout",
     "output_type": "stream",
     "text": [
      "The features of the files in the folder audios/audios/one_test will be saved to final_test.csv\n",
      "CSV Header:  ['filename', 'chroma_stft', 'rmse', 'spectral_centroid', 'spectral_bandwidth', 'rolloff', 'zero_crossing_rate', 'mfcc1', 'mfcc2', 'mfcc3', 'mfcc4', 'mfcc5', 'mfcc6', 'mfcc7', 'mfcc8', 'mfcc9', 'mfcc10', 'mfcc11', 'mfcc12', 'mfcc13', 'mfcc14', 'mfcc15', 'mfcc16', 'mfcc17', 'mfcc18', 'mfcc19', 'mfcc20', 'label']\n"
     ]
    },
    {
     "name": "stderr",
     "output_type": "stream",
     "text": [
      "100%|█████████████████████████████████████████████| 1/1 [00:00<00:00, 15.74it/s]"
     ]
    },
    {
     "name": "stdout",
     "output_type": "stream",
     "text": [
      "End of extractWavFeatures\n"
     ]
    },
    {
     "name": "stderr",
     "output_type": "stream",
     "text": [
      "\n"
     ]
    }
   ],
   "source": [
    "#filename='Speaker0055_477.wav'\n",
    "extractWavFeatures(\"audios/audios/one_test\", final_test)"
   ]
  },
  {
   "cell_type": "code",
   "execution_count": 12,
   "metadata": {},
   "outputs": [
    {
     "name": "stdout",
     "output_type": "stream",
     "text": [
      "final_test.csv will be preprocessed\n",
      "Preprocessing is finished\n",
      "       rmse  spectral_centroid  spectral_bandwidth      rolloff  \\\n",
      "0  0.039182        1029.761278         1032.513716  2147.338867   \n",
      "\n",
      "   zero_crossing_rate       mfcc1       mfcc2      mfcc3      mfcc4  \\\n",
      "0            0.053385 -363.783813  223.351669 -71.833092  21.587334   \n",
      "\n",
      "       mfcc5  ...     mfcc12    mfcc13    mfcc14     mfcc15     mfcc16  \\\n",
      "0  37.874554  ... -22.200153  7.744421 -1.612798 -15.068378  11.225948   \n",
      "\n",
      "     mfcc17     mfcc18    mfcc19    mfcc20  number  \n",
      "0 -1.377748 -12.102902  7.221355 -4.805168      55  \n",
      "\n",
      "[1 rows x 26 columns]\n"
     ]
    }
   ],
   "source": [
    "final_testData = preProcessData(final_test)"
   ]
  },
  {
   "cell_type": "code",
   "execution_count": 14,
   "metadata": {},
   "outputs": [
    {
     "name": "stdout",
     "output_type": "stream",
     "text": [
      "Y from test data: (1,)\n"
     ]
    }
   ],
   "source": [
    "X_test = np.array(final_testData.iloc[:, :-1], dtype = float)\n",
    "y_test = final_testData.iloc[:, -1]\n",
    "print(\"Y from test data:\", y_test.shape)"
   ]
  },
  {
   "cell_type": "code",
   "execution_count": 16,
   "metadata": {},
   "outputs": [
    {
     "ename": "NameError",
     "evalue": "name 'StandardScaler' is not defined",
     "output_type": "error",
     "traceback": [
      "\u001b[0;31m---------------------------------------------------------------------------\u001b[0m",
      "\u001b[0;31mNameError\u001b[0m                                 Traceback (most recent call last)",
      "\u001b[0;32m/tmp/ipykernel_3421/3542434633.py\u001b[0m in \u001b[0;36m<cell line: 1>\u001b[0;34m()\u001b[0m\n\u001b[0;32m----> 1\u001b[0;31m \u001b[0mscaler\u001b[0m \u001b[0;34m=\u001b[0m \u001b[0mStandardScaler\u001b[0m\u001b[0;34m(\u001b[0m\u001b[0;34m)\u001b[0m\u001b[0;34m\u001b[0m\u001b[0;34m\u001b[0m\u001b[0m\n\u001b[0m\u001b[1;32m      2\u001b[0m \u001b[0mX_finaltest\u001b[0m \u001b[0;34m=\u001b[0m \u001b[0mscaler\u001b[0m\u001b[0;34m.\u001b[0m\u001b[0mtransform\u001b[0m\u001b[0;34m(\u001b[0m \u001b[0mX_test\u001b[0m \u001b[0;34m)\u001b[0m\u001b[0;34m\u001b[0m\u001b[0;34m\u001b[0m\u001b[0m\n\u001b[1;32m      3\u001b[0m \u001b[0;34m\u001b[0m\u001b[0m\n\u001b[1;32m      4\u001b[0m \u001b[0mprint\u001b[0m\u001b[0;34m(\u001b[0m\u001b[0;34m\"X from test data\"\u001b[0m\u001b[0;34m,\u001b[0m \u001b[0mX_finaltest\u001b[0m\u001b[0;34m.\u001b[0m\u001b[0mshape\u001b[0m\u001b[0;34m)\u001b[0m\u001b[0;34m\u001b[0m\u001b[0;34m\u001b[0m\u001b[0m\n",
      "\u001b[0;31mNameError\u001b[0m: name 'StandardScaler' is not defined"
     ]
    }
   ],
   "source": [
    "from sklearn.preprocessing import StandardScaler\n",
    "scaler = StandardScaler()\n",
    "X_finaltest = scaler.transform( X_test )\n",
    "\n",
    "print(\"X from test data\", X_finaltest.shape)\n"
   ]
  },
  {
   "cell_type": "code",
   "execution_count": null,
   "metadata": {},
   "outputs": [],
   "source": []
  }
 ],
 "metadata": {
  "kernelspec": {
   "display_name": "Python 3 (ipykernel)",
   "language": "python",
   "name": "python3"
  },
  "language_info": {
   "codemirror_mode": {
    "name": "ipython",
    "version": 3
   },
   "file_extension": ".py",
   "mimetype": "text/x-python",
   "name": "python",
   "nbconvert_exporter": "python",
   "pygments_lexer": "ipython3",
   "version": "3.9.12"
  },
  "vscode": {
   "interpreter": {
    "hash": "916dbcbb3f70747c44a77c7bcd40155683ae19c65e1c03b4aa3499c5328201f1"
   }
  }
 },
 "nbformat": 4,
 "nbformat_minor": 2
}
