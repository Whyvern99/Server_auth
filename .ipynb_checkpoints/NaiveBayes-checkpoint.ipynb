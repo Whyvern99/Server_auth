{
 "cells": [
  {
   "cell_type": "code",
   "execution_count": 137,
   "metadata": {},
   "outputs": [
    {
     "data": {
      "text/html": [
       "<div>\n",
       "<style scoped>\n",
       "    .dataframe tbody tr th:only-of-type {\n",
       "        vertical-align: middle;\n",
       "    }\n",
       "\n",
       "    .dataframe tbody tr th {\n",
       "        vertical-align: top;\n",
       "    }\n",
       "\n",
       "    .dataframe thead th {\n",
       "        text-align: right;\n",
       "    }\n",
       "</style>\n",
       "<table border=\"1\" class=\"dataframe\">\n",
       "  <thead>\n",
       "    <tr style=\"text-align: right;\">\n",
       "      <th></th>\n",
       "      <th>1</th>\n",
       "      <th>2</th>\n",
       "      <th>3</th>\n",
       "      <th>4</th>\n",
       "      <th>5</th>\n",
       "      <th>6</th>\n",
       "      <th>7</th>\n",
       "      <th>8</th>\n",
       "      <th>9</th>\n",
       "      <th>10</th>\n",
       "      <th>...</th>\n",
       "      <th>35</th>\n",
       "      <th>36</th>\n",
       "      <th>37</th>\n",
       "      <th>38</th>\n",
       "      <th>39</th>\n",
       "      <th>40</th>\n",
       "      <th>41</th>\n",
       "      <th>42</th>\n",
       "      <th>43</th>\n",
       "      <th>44</th>\n",
       "    </tr>\n",
       "  </thead>\n",
       "  <tbody>\n",
       "    <tr>\n",
       "      <th>0</th>\n",
       "      <td>18</td>\n",
       "      <td>4</td>\n",
       "      <td>4</td>\n",
       "      <td>2</td>\n",
       "      <td>2</td>\n",
       "      <td>0</td>\n",
       "      <td>4</td>\n",
       "      <td>3</td>\n",
       "      <td>4</td>\n",
       "      <td>1</td>\n",
       "      <td>...</td>\n",
       "      <td>0</td>\n",
       "      <td>0</td>\n",
       "      <td>1</td>\n",
       "      <td>1</td>\n",
       "      <td>0</td>\n",
       "      <td>0</td>\n",
       "      <td>0</td>\n",
       "      <td>0</td>\n",
       "      <td>1</td>\n",
       "      <td>0</td>\n",
       "    </tr>\n",
       "    <tr>\n",
       "      <th>1</th>\n",
       "      <td>17</td>\n",
       "      <td>1</td>\n",
       "      <td>1</td>\n",
       "      <td>1</td>\n",
       "      <td>2</td>\n",
       "      <td>0</td>\n",
       "      <td>5</td>\n",
       "      <td>3</td>\n",
       "      <td>3</td>\n",
       "      <td>1</td>\n",
       "      <td>...</td>\n",
       "      <td>1</td>\n",
       "      <td>0</td>\n",
       "      <td>0</td>\n",
       "      <td>1</td>\n",
       "      <td>0</td>\n",
       "      <td>0</td>\n",
       "      <td>0</td>\n",
       "      <td>1</td>\n",
       "      <td>0</td>\n",
       "      <td>0</td>\n",
       "    </tr>\n",
       "    <tr>\n",
       "      <th>2</th>\n",
       "      <td>15</td>\n",
       "      <td>1</td>\n",
       "      <td>1</td>\n",
       "      <td>1</td>\n",
       "      <td>2</td>\n",
       "      <td>3</td>\n",
       "      <td>4</td>\n",
       "      <td>3</td>\n",
       "      <td>2</td>\n",
       "      <td>2</td>\n",
       "      <td>...</td>\n",
       "      <td>1</td>\n",
       "      <td>0</td>\n",
       "      <td>0</td>\n",
       "      <td>0</td>\n",
       "      <td>0</td>\n",
       "      <td>1</td>\n",
       "      <td>0</td>\n",
       "      <td>0</td>\n",
       "      <td>1</td>\n",
       "      <td>0</td>\n",
       "    </tr>\n",
       "    <tr>\n",
       "      <th>3</th>\n",
       "      <td>15</td>\n",
       "      <td>4</td>\n",
       "      <td>2</td>\n",
       "      <td>1</td>\n",
       "      <td>3</td>\n",
       "      <td>0</td>\n",
       "      <td>3</td>\n",
       "      <td>2</td>\n",
       "      <td>2</td>\n",
       "      <td>1</td>\n",
       "      <td>...</td>\n",
       "      <td>0</td>\n",
       "      <td>1</td>\n",
       "      <td>0</td>\n",
       "      <td>0</td>\n",
       "      <td>1</td>\n",
       "      <td>0</td>\n",
       "      <td>0</td>\n",
       "      <td>0</td>\n",
       "      <td>1</td>\n",
       "      <td>0</td>\n",
       "    </tr>\n",
       "    <tr>\n",
       "      <th>4</th>\n",
       "      <td>16</td>\n",
       "      <td>3</td>\n",
       "      <td>3</td>\n",
       "      <td>1</td>\n",
       "      <td>2</td>\n",
       "      <td>0</td>\n",
       "      <td>4</td>\n",
       "      <td>3</td>\n",
       "      <td>2</td>\n",
       "      <td>1</td>\n",
       "      <td>...</td>\n",
       "      <td>1</td>\n",
       "      <td>0</td>\n",
       "      <td>0</td>\n",
       "      <td>0</td>\n",
       "      <td>1</td>\n",
       "      <td>0</td>\n",
       "      <td>0</td>\n",
       "      <td>1</td>\n",
       "      <td>0</td>\n",
       "      <td>0</td>\n",
       "    </tr>\n",
       "  </tbody>\n",
       "</table>\n",
       "<p>5 rows × 44 columns</p>\n",
       "</div>"
      ],
      "text/plain": [
       "   1  2  3  4  5  6  7  8  9  10  ... 35 36 37 38 39 40 41 42 43 44\n",
       "0  18  4  4  2  2  0  4  3  4  1  ...  0  0  1  1  0  0  0  0  1  0\n",
       "1  17  1  1  1  2  0  5  3  3  1  ...  1  0  0  1  0  0  0  1  0  0\n",
       "2  15  1  1  1  2  3  4  3  2  2  ...  1  0  0  0  0  1  0  0  1  0\n",
       "3  15  4  2  1  3  0  3  2  2  1  ...  0  1  0  0  1  0  0  0  1  0\n",
       "4  16  3  3  1  2  0  4  3  2  1  ...  1  0  0  0  1  0  0  1  0  0\n",
       "\n",
       "[5 rows x 44 columns]"
      ]
     },
     "execution_count": 137,
     "metadata": {},
     "output_type": "execute_result"
    }
   ],
   "source": [
    "#Load of ionosphere data set\n",
    "import matplotlib.pyplot as  plt\n",
    "import pandas as pd\n",
    "import numpy as np\n",
    "\n",
    "url=\"quantitative.csv\"\n",
    "#df=pd.read_csv(url,header=None)\n",
    "df = pd.read_csv(url, header=None)\n",
    "df = df[1:].reset_index(drop=True)\n",
    "df = df.drop([0],axis=1)\n",
    "df.head()"
   ]
  },
  {
   "cell_type": "code",
   "execution_count": 138,
   "metadata": {},
   "outputs": [
    {
     "name": "stdout",
     "output_type": "stream",
     "text": [
      "(395, 43)\n",
      "(395,)\n"
     ]
    }
   ],
   "source": [
    "# Separation into data and label\n",
    "\n",
    "X = df.drop([14],axis=1).to_numpy()        # Data\n",
    "y = df[14].to_numpy()\n",
    "print(X.shape)\n",
    "print(y.shape)\n"
   ]
  },
  {
   "cell_type": "code",
   "execution_count": 139,
   "metadata": {},
   "outputs": [
    {
     "name": "stderr",
     "output_type": "stream",
     "text": [
      "/home/judit/anaconda3/lib/python3.8/site-packages/sklearn/model_selection/_split.py:293: FutureWarning: Setting a random_state has no effect since shuffle is False. This will raise an error in 0.24. You should leave random_state to its default (None), or set shuffle=True.\n",
      "  warnings.warn(\n"
     ]
    },
    {
     "data": {
      "text/plain": [
       "0.6883974358974358"
      ]
     },
     "execution_count": 139,
     "metadata": {},
     "output_type": "execute_result"
    }
   ],
   "source": [
    "# Train on data. No parameters to adjust\n",
    "\n",
    "from sklearn.naive_bayes import MultinomialNB       ### Because continuous data\n",
    "from sklearn.model_selection import StratifiedKFold\n",
    "from sklearn.model_selection import cross_val_score, train_test_split\n",
    "import sklearn.neighbors as nb\n",
    "\n",
    "cv = StratifiedKFold(n_splits=10, random_state=1) \n",
    "\n",
    "gnb = MultinomialNB()\n",
    "cv_scores = cross_val_score(gnb,X=X,y=y,cv=cv)\n",
    "np.mean(cv_scores)\n"
   ]
  },
  {
   "cell_type": "code",
   "execution_count": 140,
   "metadata": {},
   "outputs": [
    {
     "name": "stdout",
     "output_type": "stream",
     "text": [
      "[[ 52  78]\n",
      " [ 45 220]]\n",
      "0.6886075949367089\n"
     ]
    }
   ],
   "source": [
    "from sklearn.model_selection import cross_val_predict  \n",
    "from sklearn.metrics import accuracy_score\n",
    "from sklearn.metrics import confusion_matrix\n",
    "\n",
    "predicted = cross_val_predict(MultinomialNB(), X=X, y=y,  cv=cv)  \n",
    "\n",
    "print(confusion_matrix(y, predicted))\n",
    "print(accuracy_score(y, predicted))"
   ]
  },
  {
   "cell_type": "code",
   "execution_count": 141,
   "metadata": {},
   "outputs": [
    {
     "name": "stdout",
     "output_type": "stream",
     "text": [
      "              precision    recall  f1-score   support\n",
      "\n",
      "           0       0.54      0.40      0.46       130\n",
      "           1       0.74      0.83      0.78       265\n",
      "\n",
      "    accuracy                           0.69       395\n",
      "   macro avg       0.64      0.62      0.62       395\n",
      "weighted avg       0.67      0.69      0.68       395\n",
      "\n"
     ]
    }
   ],
   "source": [
    "from sklearn.metrics import classification_report\n",
    "\n",
    "print(classification_report(y, predicted))"
   ]
  },
  {
   "cell_type": "markdown",
   "metadata": {},
   "source": [
    "## Adjusting probability threshold"
   ]
  },
  {
   "cell_type": "code",
   "execution_count": 142,
   "metadata": {},
   "outputs": [],
   "source": [
    "# Focus on predict class 1\n",
    "\n",
    "y2 = np.zeros((y.shape))\n",
    "y2[y=='1']=1\n",
    "y2[y=='0']=0\n",
    "\n",
    "\n",
    "\n",
    "\n",
    "(X_train, X_test,  y_train, y_test) = train_test_split(X, y2, test_size=.3, random_state=1)\n",
    "\n"
   ]
  },
  {
   "cell_type": "code",
   "execution_count": 143,
   "metadata": {},
   "outputs": [
    {
     "name": "stdout",
     "output_type": "stream",
     "text": [
      "Selected threshold in 10-fold cross validation: 0.27995645933739816\n",
      "\n"
     ]
    }
   ],
   "source": [
    "from sklearn.metrics import f1_score\n",
    "from sklearn.model_selection import StratifiedKFold\n",
    "\n",
    "def filterp(th,ProbClass1):\n",
    "    \"\"\" Given a treshold \"th\" and a set of probabilies of belonging to class 1 \"ProbClass1\", return predictions \"\"\" \n",
    "    y=np.zeros(ProbClass1.shape[0])\n",
    "    for i,v in enumerate(ProbClass1):\n",
    "        if ProbClass1[i]>th:\n",
    "            y[i]=1\n",
    "    return y  \n",
    "\n",
    "clf = MultinomialNB()\n",
    "lth=[]\n",
    "\n",
    "# We do a 10 fold crossvalidation with 10 iterations\n",
    "kf = StratifiedKFold(n_splits=20, shuffle=True, random_state=42)\n",
    "for train_index, test_index in kf.split(X_train, y_train):\n",
    "    X_train2, X_test2 = X[train_index], X[test_index]\n",
    "    y_train2, y_test2 = y2[train_index], y2[test_index]\n",
    "\n",
    "    # Train with the training data of the iteration \n",
    "    clf.fit(X_train2, y_train2)\n",
    "    # Obtaining probablity predictions for test data of the iterarion\n",
    "    probs = clf.predict_proba(X_test2)\n",
    "    # Collect probabilities of belonging to class 1\n",
    "    ProbClass1 = probs[:,1]\n",
    "    # Sort probabilities and generate pairs (threshold, f1-for-that-threshold) \n",
    "    res = np.array([[th,f1_score(y_test2,filterp(th,ProbClass1),pos_label=1)] for th in np.sort(ProbClass1)])\n",
    "\n",
    "    # Uncomment the following lines if you want to plot at each iteration how f1-score evolves increasing the threshold \n",
    "    #plt.plot(res[:,0],res[:,1])\n",
    "    #plt.show()\n",
    "\n",
    "    # Find the threshold that has maximum value of f1-score\n",
    "    maxF = np.max(res[:,1])\n",
    "    pl = np.argmax(res[:,1])\n",
    "    optimal_th = res[pl,0]\n",
    "    \n",
    "    # Store the optimal threshold found for the current iteration\n",
    "    lth.append(optimal_th)\n",
    "\n",
    "# Compute the average threshold for all 10 iterations    \n",
    "thdef = np.mean(lth)\n",
    "print(\"Selected threshold in 10-fold cross validation:\", thdef)\n",
    "print()\n",
    "\n"
   ]
  },
  {
   "cell_type": "code",
   "execution_count": 144,
   "metadata": {},
   "outputs": [],
   "source": [
    "# Train a classifier with the whole training data \n",
    "clf = MultinomialNB()\n",
    "clf.fit(X_train, y_train)\n",
    "# Obtain probabilities for data on test set\n",
    "probs = clf.predict_proba(X_test)\n",
    "# Generate predictions using probabilities and threshold found on 10 folds cross-validation\n"
   ]
  },
  {
   "cell_type": "code",
   "execution_count": 145,
   "metadata": {},
   "outputs": [
    {
     "name": "stdout",
     "output_type": "stream",
     "text": [
      "              precision    recall  f1-score   support\n",
      "\n",
      "         0.0       0.22      0.41      0.29        37\n",
      "         1.0       0.57      0.35      0.44        82\n",
      "\n",
      "    accuracy                           0.37       119\n",
      "   macro avg       0.39      0.38      0.36       119\n",
      "weighted avg       0.46      0.37      0.39       119\n",
      "\n"
     ]
    }
   ],
   "source": [
    "pred = filterp(thdef,probs[:,0])\n",
    "# Print results with this prediction vector\n",
    "print(classification_report(y_test, pred))\n",
    "\n",
    "# Ignore warnings explaining that in some iterations f1 score is 0"
   ]
  },
  {
   "cell_type": "code",
   "execution_count": 146,
   "metadata": {},
   "outputs": [
    {
     "name": "stdout",
     "output_type": "stream",
     "text": [
      "              precision    recall  f1-score   support\n",
      "\n",
      "         0.0       0.52      0.43      0.47        37\n",
      "         1.0       0.76      0.82      0.79        82\n",
      "\n",
      "    accuracy                           0.70       119\n",
      "   macro avg       0.64      0.62      0.63       119\n",
      "weighted avg       0.69      0.70      0.69       119\n",
      "\n"
     ]
    }
   ],
   "source": [
    "clf = MultinomialNB()\n",
    "clf.fit(X_train, y_train)\n",
    "pred=clf.predict(X_test)\n",
    "print(classification_report(y_test, pred))"
   ]
  },
  {
   "cell_type": "code",
   "execution_count": null,
   "metadata": {},
   "outputs": [],
   "source": []
  },
  {
   "cell_type": "code",
   "execution_count": null,
   "metadata": {},
   "outputs": [],
   "source": []
  }
 ],
 "metadata": {
  "kernelspec": {
   "display_name": "Python 3 (ipykernel)",
   "language": "python",
   "name": "python3"
  },
  "language_info": {
   "codemirror_mode": {
    "name": "ipython",
    "version": 3
   },
   "file_extension": ".py",
   "mimetype": "text/x-python",
   "name": "python",
   "nbconvert_exporter": "python",
   "pygments_lexer": "ipython3",
   "version": "3.9.12"
  }
 },
 "nbformat": 4,
 "nbformat_minor": 2
}
