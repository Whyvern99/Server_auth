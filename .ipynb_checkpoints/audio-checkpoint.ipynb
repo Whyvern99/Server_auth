{
 "cells": [
  {
   "cell_type": "markdown",
   "metadata": {},
   "source": [
    "**Settings**"
   ]
  },
  {
   "cell_type": "markdown",
   "metadata": {},
   "source": [
    "The output of this section is the CSV files with the data to be handle by the model\n",
    "\n",
    "```\n",
    "trainData     : audio/train \n",
    "testData      : audio/test\n",
    "```\n"
   ]
  },
  {
   "cell_type": "code",
   "execution_count": 1,
   "metadata": {},
   "outputs": [
    {
     "name": "stderr",
     "output_type": "stream",
     "text": [
      "2022-11-02 19:31:39.901568: I tensorflow/core/platform/cpu_feature_guard.cc:193] This TensorFlow binary is optimized with oneAPI Deep Neural Network Library (oneDNN) to use the following CPU instructions in performance-critical operations:  AVX2 FMA\n",
      "To enable them in other operations, rebuild TensorFlow with the appropriate compiler flags.\n",
      "2022-11-02 19:31:40.020502: W tensorflow/stream_executor/platform/default/dso_loader.cc:64] Could not load dynamic library 'libcudart.so.11.0'; dlerror: libcudart.so.11.0: cannot open shared object file: No such file or directory\n",
      "2022-11-02 19:31:40.020521: I tensorflow/stream_executor/cuda/cudart_stub.cc:29] Ignore above cudart dlerror if you do not have a GPU set up on your machine.\n",
      "2022-11-02 19:31:40.044833: E tensorflow/stream_executor/cuda/cuda_blas.cc:2981] Unable to register cuBLAS factory: Attempting to register factory for plugin cuBLAS when one has already been registered\n",
      "2022-11-02 19:31:40.611993: W tensorflow/stream_executor/platform/default/dso_loader.cc:64] Could not load dynamic library 'libnvinfer.so.7'; dlerror: libnvinfer.so.7: cannot open shared object file: No such file or directory\n",
      "2022-11-02 19:31:40.612039: W tensorflow/stream_executor/platform/default/dso_loader.cc:64] Could not load dynamic library 'libnvinfer_plugin.so.7'; dlerror: libnvinfer_plugin.so.7: cannot open shared object file: No such file or directory\n",
      "2022-11-02 19:31:40.612045: W tensorflow/compiler/tf2tensorrt/utils/py_utils.cc:38] TF-TRT Warning: Cannot dlopen some TensorRT libraries. If you would like to use Nvidia GPU with TensorRT, please make sure the missing libraries mentioned above are installed properly.\n"
     ]
    }
   ],
   "source": [
    "#requisits and ignore warnings\n",
    "import warnings\n",
    "warnings.simplefilter('ignore')\n",
    "\n",
    "import fnmatch\n",
    "import collections\n",
    "import keras\n",
    "import librosa\n",
    "import csv\n",
    "import os\n",
    "import numpy as np\n",
    "import pandas as pd\n",
    "import matplotlib.pyplot as plt\n",
    "\n",
    "from sklearn.preprocessing import StandardScaler\n",
    "from sklearn.model_selection import train_test_split\n",
    "from keras import models, layers\n",
    "from keras import backend as K\n",
    "from keras.callbacks import EarlyStopping\n",
    "from keras.models import Sequential\n",
    "from keras.layers.core import Dense, Dropout, Activation, Flatten\n",
    "from keras.layers.convolutional import Convolution2D, MaxPooling2D\n",
    "from keras.preprocessing.image import ImageDataGenerator\n",
    "from matplotlib import pyplot, cm\n",
    "from tqdm import tqdm\n",
    "from sklearn import preprocessing\n",
    "from sklearn.metrics import classification_report, confusion_matrix\n"
   ]
  },
  {
   "cell_type": "code",
   "execution_count": 2,
   "metadata": {},
   "outputs": [],
   "source": [
    "def extractWavFeatures(soundFilesFolder, csvFileName):\n",
    "    print(\"The features of the files in the folder \"+soundFilesFolder+\" will be saved to \"+csvFileName)\n",
    "    header = 'filename chroma_stft rmse spectral_centroid spectral_bandwidth rolloff zero_crossing_rate'\n",
    "    for i in range(1, 21):\n",
    "        header += f' mfcc{i}'\n",
    "    header += ' label'\n",
    "    header = header.split()\n",
    "    print('CSV Header: ', header)\n",
    "    file = open(csvFileName, 'w', newline='')\n",
    "    #with file:\n",
    "    writer = csv.writer(file)\n",
    "    writer.writerow(header)\n",
    "    for filename in tqdm(os.listdir(soundFilesFolder)):\n",
    "        number = f'{soundFilesFolder}/{filename}'\n",
    "        y, sr = librosa.load(number, mono=True, duration=30)\n",
    "        # remove leading and trailing silence\n",
    "        y, index = librosa.effects.trim(y)\n",
    "        chroma_stft = librosa.feature.chroma_stft(y=y, sr=sr)\n",
    "        rmse = librosa.feature.rms(y=y)\n",
    "        spec_cent = librosa.feature.spectral_centroid(y=y, sr=sr)\n",
    "        spec_bw = librosa.feature.spectral_bandwidth(y=y, sr=sr)\n",
    "        rolloff = librosa.feature.spectral_rolloff(y=y, sr=sr)\n",
    "        zcr = librosa.feature.zero_crossing_rate(y)\n",
    "        mfcc = librosa.feature.mfcc(y=y, sr=sr)\n",
    "        to_append = f'{filename} {np.mean(chroma_stft)} {np.mean(rmse)} {np.mean(spec_cent)} {np.mean(spec_bw)} {np.mean(rolloff)} {np.mean(zcr)}'\n",
    "        for e in mfcc:\n",
    "            to_append += f' {np.mean(e)}'\n",
    "        writer.writerow(to_append.split())\n",
    "    file.close()\n",
    "    print(\"End of extractWavFeatures\")"
   ]
  },
  {
   "cell_type": "code",
   "execution_count": 3,
   "metadata": {},
   "outputs": [],
   "source": [
    "def preProcessData(csvFileName):\n",
    "    print(csvFileName+ \" will be preprocessed\")\n",
    "    data = pd.read_csv(csvFileName)\n",
    "    filenameArray = data['filename'] \n",
    "    speakerArray = []\n",
    "    #print(filenameArray)\n",
    "    for i in range(len(filenameArray)):\n",
    "        speaker = int(filenameArray[i].split(\"_\")[0].split(\"r\")[1])\n",
    "        #print(speaker)\n",
    "        #print(speaker)\n",
    "        speakerArray.append(speaker)\n",
    "    data['number'] = speakerArray\n",
    "    #Dropping unnecessary columns\n",
    "    data = data.drop(['filename'],axis=1)\n",
    "    data = data.drop(['label'],axis=1)\n",
    "    data = data.drop(['chroma_stft'],axis=1)\n",
    "    data.shape\n",
    "\n",
    "    print(\"Preprocessing is finished\")\n",
    "    print(data.head())\n",
    "    return data"
   ]
  },
  {
   "cell_type": "code",
   "execution_count": 4,
   "metadata": {},
   "outputs": [],
   "source": [
    "def getSpeaker(speaker):\n",
    "    speaker = \"Speaker\"+str(speaker).zfill(3)\n",
    "    return speaker\n",
    "    \n",
    "        \n",
    "def printPrediction(X_data, y_data, printDigit, model):\n",
    "    print('\\n# Generate predictions')\n",
    "    for i in range(len(y_data)):\n",
    "        predict_x=model.predict(X_data[i:i+1])[0]\n",
    "        predict_classes = np.argmax(predict_x)\n",
    "        prediction = getSpeaker(predict_classes)\n",
    "    \n",
    "        speaker = getSpeaker(y_data[i])\n",
    "        if printDigit == True:\n",
    "           print(\"Number={0:d}, y={1:10s}- prediction={2:10s}- match={3}\".format(i, speaker, prediction, speaker==prediction))\n",
    "        else:\n",
    "           print(\"y={0:10s}- prediction={1:10s}- match={2}\".format(speaker, prediction, speaker==prediction))"
   ]
  },
  {
   "cell_type": "code",
   "execution_count": 5,
   "metadata": {},
   "outputs": [],
   "source": [
    "def report(X_data, y_data, model):\n",
    "    #Confution Matrix and Classification Report\n",
    "    predict_y = model.predict(X_data)\n",
    "    Y_pred = np.argmax(predict_y, axis=1)\n",
    "    y_test_num = y_data.astype(np.int64)\n",
    "    conf_mt = confusion_matrix(y_test_num, Y_pred)\n",
    "    #Revisar el valor\n",
    "    size=len(conf_mt)\n",
    "    print(size)\n",
    "    print(conf_mt[size-1])\n",
    "    key=0\n",
    "    for val in conf_mt[size-1]:\n",
    "        if val!=0:\n",
    "            print(key)\n",
    "        key=key+1\n",
    "    conf_mt=conf_mt / conf_mt.astype(np.float).sum(axis=1)\n",
    "    #print(conf_mt)\n",
    "    plt.matshow(conf_mt)\n",
    "    plt.show()\n",
    "    print('\\nClassification Report')\n",
    "    print(classification_report(y_test_num, Y_pred))\n"
   ]
  },
  {
   "cell_type": "code",
   "execution_count": 6,
   "metadata": {},
   "outputs": [],
   "source": [
    "def main(test_folder, train_folder):\n",
    "    # Defines the names of the CSV files\n",
    "    TRAIN_CSV_FILE = \"train.csv\"\n",
    "    TEST_CSV_FILE = \"test.csv\"\n",
    "\n",
    "\n",
    "    extractWavFeatures(\"audios/audios/\"+train_folder, TRAIN_CSV_FILE)\n",
    "    extractWavFeatures(\"audios/audios/\"+test_folder, TEST_CSV_FILE)\n",
    "    print(\"CSV files are created\")\n",
    "\n",
    "    trainData = preProcessData(TRAIN_CSV_FILE)\n",
    "    testData = preProcessData(TEST_CSV_FILE)\n",
    "\n",
    "    # Splitting the dataset into training, validation and testing dataset\n",
    "    X = np.array(trainData.iloc[:, :-1], dtype = float)\n",
    "    y = trainData.iloc[:, -1]\n",
    "    X_train, X_val, y_train, y_val = train_test_split(X, y, test_size=0.3, random_state=50)\n",
    "\n",
    "\n",
    "    X_test = np.array(testData.iloc[:, :-1], dtype = float)\n",
    "    y_test = testData.iloc[:, -1]\n",
    "\n",
    "    print(\"Y from training data:\", y_train.shape)\n",
    "    print(\"Y from validation data:\", y_val.shape)\n",
    "    print(\"Y from test data:\", y_test.shape)\n",
    "\n",
    "    #Normalizing the dataset\n",
    "    scaler = StandardScaler()\n",
    "    X_train = scaler.fit_transform( X_train )\n",
    "    X_val = scaler.transform( X_val )\n",
    "    X_test = scaler.transform( X_test )\n",
    "\n",
    "    print(\"X from training data\", X_train.shape)\n",
    "    print(\"X from validation data\", X_val.shape)\n",
    "    print(\"X from test data\", X_test.shape)\n",
    "\n",
    "    weight={}\n",
    "    path='audios/audios/56_speakers_audio_data'\n",
    "    for speaker in os.listdir(path):\n",
    "        if speaker.find(\".sh\")==-1:\n",
    "            dir_path=path+'/'+speaker\n",
    "            speaker = int(speaker.split(\"_\")[0].split(\"r\")[1])\n",
    "            count = int(len(fnmatch.filter(os.listdir(dir_path), '*.*'))*0.8)-1\n",
    "            weight.update({speaker: count})\n",
    "    max_value=sum(weight.values())\n",
    "    print(\"Sum of values: \"+str(max_value))\n",
    "    weight = {key: value for key, value in sorted(weight.items())}\n",
    "    weight = {k: 1-(v/max_value) for k, v in weight.items()}\n",
    "    print(weight.keys())\n",
    "    print(set(range(57)) - set(y_train))\n",
    "\n",
    "    #Creating a Model\n",
    "    # model 1\n",
    "    model = models.Sequential()\n",
    "    model.add(layers.Dense(256, activation='relu', input_shape=(X_train.shape[1],)))\n",
    "    model.add(layers.Dropout(0.5))\n",
    "    model.add(layers.Dense(128, activation='relu'))\n",
    "    model.add(layers.Dropout(0.5))\n",
    "    model.add(layers.Dense(64, activation='relu'))\n",
    "    model.add(layers.Dropout(0.5))\n",
    "    model.add(layers.Dense(100, activation='softmax'))\n",
    "\n",
    "    # Learning Process of a model\n",
    "    model.compile(optimizer='adam',\n",
    "                  loss='sparse_categorical_crossentropy',\n",
    "                  metrics=['accuracy'])\n",
    "\n",
    "    # simple early stopping\n",
    "\n",
    "    #es = EarlyStopping(monitor='val_accuracy', patience=10, verbose=1)\n",
    "    es = EarlyStopping(monitor='val_loss', patience=3, verbose=1)\n",
    "    print(X_train)\n",
    "    #Train with early stopping to avoid overfitting\n",
    "    y_train=np.array(y_train, dtype=int)\n",
    "    y_val=np.array(y_val, dtype=int)\n",
    "    history = model.fit(X_train,y_train,validation_data=(X_val, y_val),epochs=100,batch_size=128,class_weight=weight, callbacks=[es])\n",
    "\n",
    "    # plot training history\n",
    "    pyplot.plot(history.history['loss'], label='train')\n",
    "    pyplot.plot(history.history['val_loss'], label='test')\n",
    "    pyplot.legend()\n",
    "    pyplot.show()\n",
    "\n",
    "    print('\\n# TEST DATA #\\n')\n",
    "    y_test=np.array(y_test, dtype=int)\n",
    "    score = model.evaluate(X_test, y_test)\n",
    "    print(\"%s: %.2f%%\" % (model.metrics_names[1], score[1]*100))\n",
    "    # Prediction\n",
    "    printPrediction(X_test[0:20], y_test[0:20], False, model)\n",
    "\n",
    "    print(\"Classification Report for Test Data\\n\")\n",
    "    report(X_test, y_test, model)\n",
    "    return model"
   ]
  },
  {
   "cell_type": "markdown",
   "metadata": {},
   "source": [
    "### Main 50 users all data"
   ]
  },
  {
   "cell_type": "code",
   "execution_count": 73,
   "metadata": {},
   "outputs": [
    {
     "name": "stdout",
     "output_type": "stream",
     "text": [
      "The features of the files in the folder audios/audios/train will be saved to train.csv\n",
      "CSV Header:  ['filename', 'chroma_stft', 'rmse', 'spectral_centroid', 'spectral_bandwidth', 'rolloff', 'zero_crossing_rate', 'mfcc1', 'mfcc2', 'mfcc3', 'mfcc4', 'mfcc5', 'mfcc6', 'mfcc7', 'mfcc8', 'mfcc9', 'mfcc10', 'mfcc11', 'mfcc12', 'mfcc13', 'mfcc14', 'mfcc15', 'mfcc16', 'mfcc17', 'mfcc18', 'mfcc19', 'mfcc20', 'label']\n"
     ]
    },
    {
     "name": "stderr",
     "output_type": "stream",
     "text": [
      "100%|███████████████████████████████████████| 3263/3263 [15:56<00:00,  3.41it/s]\n"
     ]
    },
    {
     "name": "stdout",
     "output_type": "stream",
     "text": [
      "End of extractWavFeatures\n",
      "The features of the files in the folder audios/audios/test will be saved to test.csv\n",
      "CSV Header:  ['filename', 'chroma_stft', 'rmse', 'spectral_centroid', 'spectral_bandwidth', 'rolloff', 'zero_crossing_rate', 'mfcc1', 'mfcc2', 'mfcc3', 'mfcc4', 'mfcc5', 'mfcc6', 'mfcc7', 'mfcc8', 'mfcc9', 'mfcc10', 'mfcc11', 'mfcc12', 'mfcc13', 'mfcc14', 'mfcc15', 'mfcc16', 'mfcc17', 'mfcc18', 'mfcc19', 'mfcc20', 'label']\n"
     ]
    },
    {
     "name": "stderr",
     "output_type": "stream",
     "text": [
      "100%|█████████████████████████████████████████| 838/838 [04:02<00:00,  3.46it/s]"
     ]
    },
    {
     "name": "stdout",
     "output_type": "stream",
     "text": [
      "End of extractWavFeatures\n",
      "CSV files are created\n",
      "train.csv will be preprocessed\n",
      "Preprocessing is finished\n",
      "       rmse  spectral_centroid  spectral_bandwidth      rolloff  \\\n",
      "0  0.044474        2925.986137         2426.865665  5365.750887   \n",
      "1  0.007040        1054.481600          969.009484  2158.703613   \n",
      "2  0.059307         644.962153          689.094968  1064.355469   \n",
      "3  0.033733        1679.723927         1658.148768  3240.135427   \n",
      "4  0.034633        1303.101750         1210.428356  2418.177044   \n",
      "\n",
      "   zero_crossing_rate       mfcc1       mfcc2      mfcc3      mfcc4  \\\n",
      "0            0.170812 -292.403381   69.789474 -19.889078   4.436610   \n",
      "1            0.055127 -541.293884  209.900482 -59.150311  35.763649   \n",
      "2            0.034738 -379.739685  229.126648 -13.465721   7.315946   \n",
      "3            0.116656 -384.844421  104.027542  -0.869874  44.156509   \n",
      "4            0.083430 -420.164368  131.315445   6.856723  27.124081   \n",
      "\n",
      "       mfcc5  ...     mfcc12     mfcc13    mfcc14     mfcc15     mfcc16  \\\n",
      "0  -3.878308  ...  -2.387268  -6.745807 -3.034384 -10.344191  -5.455682   \n",
      "1  52.395588  ... -25.589903   1.971027 -9.283678  -8.496454  14.085022   \n",
      "2  10.072659  ... -15.177598 -10.289010 -4.679581  -8.963344  -4.572488   \n",
      "3  -0.136879  ...  -1.787667   4.390304 -9.613209  10.855107  -9.326888   \n",
      "4  10.203892  ...  -7.685796   0.104468 -8.183334  -0.137333  -2.409598   \n",
      "\n",
      "      mfcc17     mfcc18    mfcc19     mfcc20  number  \n",
      "0 -11.163910  -3.516300 -6.593322  -8.111452      50  \n",
      "1  -7.112857 -12.288487  4.079620 -15.449945      22  \n",
      "2  -7.788446 -10.445480 -3.889926 -11.179747      54  \n",
      "3  -0.155693  -4.752890 -5.889289   0.593901      13  \n",
      "4  -7.096424 -10.465993 -2.762266  -3.266744      25  \n",
      "\n",
      "[5 rows x 26 columns]\n",
      "test.csv will be preprocessed\n",
      "Preprocessing is finished\n",
      "       rmse  spectral_centroid  spectral_bandwidth      rolloff  \\\n",
      "0  0.062465        2494.766120         2259.537827  4510.464393   \n",
      "1  0.075160         843.041838          880.641004  1648.486328   \n",
      "2  0.021818        1738.811781         1724.522303  3465.993488   \n",
      "3  0.036983        3389.109496         2167.250752  5731.373677   \n",
      "4  0.055204        1734.297265         1426.316152  3041.781607   \n",
      "\n",
      "   zero_crossing_rate       mfcc1       mfcc2      mfcc3      mfcc4  \\\n",
      "0            0.155642 -315.935822   87.359421  16.839615  21.476034   \n",
      "1            0.043927 -319.378571  224.693375 -44.708931  15.121886   \n",
      "2            0.120636 -435.613434   97.572189  -7.425648  44.488117   \n",
      "3            0.226041 -279.897552   34.897182 -24.824188  28.362253   \n",
      "4            0.121150 -324.571442  102.503967 -21.985764  41.096210   \n",
      "\n",
      "       mfcc5  ...     mfcc12    mfcc13     mfcc14     mfcc15     mfcc16  \\\n",
      "0   3.381309  ...  -3.350798 -7.463634   3.006976  -1.351482  -7.327713   \n",
      "1  22.486296  ... -26.435188 -8.066481   2.414000 -10.282760  -7.912687   \n",
      "2   2.806721  ...  -2.122698  3.127735  -7.236073  11.505426 -12.148650   \n",
      "3 -19.190653  ...   0.659389 -8.243056   7.187273  -7.465928   2.551009   \n",
      "4  -9.374266  ...  -7.172763 -0.444135 -11.805051   2.977448  -3.675577   \n",
      "\n",
      "     mfcc17    mfcc18    mfcc19     mfcc20  number  \n",
      "0  3.380064 -5.589298 -3.320220  -2.090706      32  \n",
      "1 -8.371008 -5.420183 -0.954234 -11.587983      54  \n",
      "2  1.264230 -5.840943 -3.782394  -1.643455      13  \n",
      "3 -5.976261  6.004973 -9.561545   3.269066      48  \n",
      "4 -5.938468 -0.991449 -5.536480  -4.147708       1  \n",
      "\n",
      "[5 rows x 26 columns]\n",
      "Y from training data: (2284,)\n",
      "Y from validation data: (979,)\n",
      "Y from test data: (838,)\n",
      "X from training data (2284, 25)\n",
      "X from validation data (979, 25)\n",
      "X from test data (838, 25)\n",
      "Sum of values: 3207\n",
      "dict_keys([0, 1, 2, 3, 4, 5, 6, 7, 8, 9, 10, 11, 12, 13, 14, 15, 16, 17, 18, 19, 20, 21, 22, 23, 24, 25, 26, 27, 28, 29, 30, 31, 32, 33, 34, 35, 36, 37, 38, 39, 40, 41, 42, 43, 44, 45, 46, 47, 48, 49, 50, 51, 52, 53, 54, 55])\n",
      "{56}\n",
      "[[ 0.88544207  0.95914566  1.35700012 ...  0.04512399 -0.85655958\n",
      "   0.23008244]\n",
      " [ 0.1375018   0.14474688 -0.25622855 ...  0.89206799  0.55928048\n",
      "   1.56915991]\n",
      " [-0.36464669  0.80615091  1.2139867  ...  1.12698596  0.06999135\n",
      "   1.56905986]\n",
      " ...\n",
      " [ 2.10581517 -1.40915506 -1.3315279  ... -1.08303998  0.21637702\n",
      "  -0.18659736]\n",
      " [-0.21512721 -1.03718492 -0.64017014 ... -0.27088757  1.59214804\n",
      "  -0.00528993]\n",
      " [-0.43579082  1.40230586  1.71954114 ...  1.38549428 -0.52340609\n",
      "   1.32009819]]\n",
      "Epoch 1/100\n"
     ]
    },
    {
     "name": "stderr",
     "output_type": "stream",
     "text": [
      "\n"
     ]
    },
    {
     "name": "stdout",
     "output_type": "stream",
     "text": [
      "18/18 [==============================] - 1s 9ms/step - loss: 4.0756 - accuracy: 0.0863 - val_loss: 3.6481 - val_accuracy: 0.3739\n",
      "Epoch 2/100\n",
      "18/18 [==============================] - 0s 3ms/step - loss: 3.3802 - accuracy: 0.1900 - val_loss: 2.7448 - val_accuracy: 0.4321\n",
      "Epoch 3/100\n",
      "18/18 [==============================] - 0s 3ms/step - loss: 2.9661 - accuracy: 0.2736 - val_loss: 2.4500 - val_accuracy: 0.4423\n",
      "Epoch 4/100\n",
      "18/18 [==============================] - 0s 3ms/step - loss: 2.6774 - accuracy: 0.3485 - val_loss: 2.1842 - val_accuracy: 0.4464\n",
      "Epoch 5/100\n",
      "18/18 [==============================] - 0s 3ms/step - loss: 2.4542 - accuracy: 0.3914 - val_loss: 1.9525 - val_accuracy: 0.4780\n",
      "Epoch 6/100\n",
      "18/18 [==============================] - 0s 3ms/step - loss: 2.2767 - accuracy: 0.4124 - val_loss: 1.7370 - val_accuracy: 0.5271\n",
      "Epoch 7/100\n",
      "18/18 [==============================] - 0s 3ms/step - loss: 2.0907 - accuracy: 0.4365 - val_loss: 1.5551 - val_accuracy: 0.5996\n",
      "Epoch 8/100\n",
      "18/18 [==============================] - 0s 3ms/step - loss: 1.9589 - accuracy: 0.4549 - val_loss: 1.3669 - val_accuracy: 0.6834\n",
      "Epoch 9/100\n",
      "18/18 [==============================] - 0s 3ms/step - loss: 1.8156 - accuracy: 0.4917 - val_loss: 1.2130 - val_accuracy: 0.7467\n",
      "Epoch 10/100\n",
      "18/18 [==============================] - 0s 3ms/step - loss: 1.6820 - accuracy: 0.5144 - val_loss: 1.0791 - val_accuracy: 0.7967\n",
      "Epoch 11/100\n",
      "18/18 [==============================] - 0s 3ms/step - loss: 1.6176 - accuracy: 0.5245 - val_loss: 0.9681 - val_accuracy: 0.8519\n",
      "Epoch 12/100\n",
      "18/18 [==============================] - 0s 3ms/step - loss: 1.4995 - accuracy: 0.5482 - val_loss: 0.8712 - val_accuracy: 0.8805\n",
      "Epoch 13/100\n",
      "18/18 [==============================] - 0s 3ms/step - loss: 1.4349 - accuracy: 0.5683 - val_loss: 0.7729 - val_accuracy: 0.8887\n",
      "Epoch 14/100\n",
      "18/18 [==============================] - 0s 3ms/step - loss: 1.3295 - accuracy: 0.5867 - val_loss: 0.6931 - val_accuracy: 0.9019\n",
      "Epoch 15/100\n",
      "18/18 [==============================] - 0s 3ms/step - loss: 1.2660 - accuracy: 0.6033 - val_loss: 0.6284 - val_accuracy: 0.9081\n",
      "Epoch 16/100\n",
      "18/18 [==============================] - 0s 3ms/step - loss: 1.2164 - accuracy: 0.6283 - val_loss: 0.5771 - val_accuracy: 0.9203\n",
      "Epoch 17/100\n",
      "18/18 [==============================] - 0s 3ms/step - loss: 1.1388 - accuracy: 0.6511 - val_loss: 0.5201 - val_accuracy: 0.9203\n",
      "Epoch 18/100\n",
      "18/18 [==============================] - 0s 3ms/step - loss: 1.0887 - accuracy: 0.6462 - val_loss: 0.4650 - val_accuracy: 0.9346\n",
      "Epoch 19/100\n",
      "18/18 [==============================] - 0s 3ms/step - loss: 1.0232 - accuracy: 0.6826 - val_loss: 0.4290 - val_accuracy: 0.9285\n",
      "Epoch 20/100\n",
      "18/18 [==============================] - 0s 3ms/step - loss: 0.9707 - accuracy: 0.6861 - val_loss: 0.3951 - val_accuracy: 0.9377\n",
      "Epoch 21/100\n",
      "18/18 [==============================] - 0s 3ms/step - loss: 0.9542 - accuracy: 0.7123 - val_loss: 0.3655 - val_accuracy: 0.9295\n",
      "Epoch 22/100\n",
      "18/18 [==============================] - 0s 3ms/step - loss: 0.9053 - accuracy: 0.7088 - val_loss: 0.3343 - val_accuracy: 0.9336\n",
      "Epoch 23/100\n",
      "18/18 [==============================] - 0s 3ms/step - loss: 0.8639 - accuracy: 0.7285 - val_loss: 0.3099 - val_accuracy: 0.9367\n",
      "Epoch 24/100\n",
      "18/18 [==============================] - 0s 3ms/step - loss: 0.8411 - accuracy: 0.7281 - val_loss: 0.2837 - val_accuracy: 0.9499\n",
      "Epoch 25/100\n",
      "18/18 [==============================] - 0s 3ms/step - loss: 0.8597 - accuracy: 0.7137 - val_loss: 0.2788 - val_accuracy: 0.9459\n",
      "Epoch 26/100\n",
      "18/18 [==============================] - 0s 3ms/step - loss: 0.7568 - accuracy: 0.7566 - val_loss: 0.2598 - val_accuracy: 0.9499\n",
      "Epoch 27/100\n",
      "18/18 [==============================] - 0s 3ms/step - loss: 0.7387 - accuracy: 0.7526 - val_loss: 0.2395 - val_accuracy: 0.9448\n",
      "Epoch 28/100\n",
      "18/18 [==============================] - 0s 3ms/step - loss: 0.7443 - accuracy: 0.7509 - val_loss: 0.2264 - val_accuracy: 0.9489\n",
      "Epoch 29/100\n",
      "18/18 [==============================] - 0s 3ms/step - loss: 0.7074 - accuracy: 0.7785 - val_loss: 0.2161 - val_accuracy: 0.9510\n",
      "Epoch 30/100\n",
      "18/18 [==============================] - 0s 3ms/step - loss: 0.6939 - accuracy: 0.7697 - val_loss: 0.2042 - val_accuracy: 0.9510\n",
      "Epoch 31/100\n",
      "18/18 [==============================] - 0s 3ms/step - loss: 0.6869 - accuracy: 0.7732 - val_loss: 0.1950 - val_accuracy: 0.9530\n",
      "Epoch 32/100\n",
      "18/18 [==============================] - 0s 3ms/step - loss: 0.6328 - accuracy: 0.7925 - val_loss: 0.1810 - val_accuracy: 0.9530\n",
      "Epoch 33/100\n",
      "18/18 [==============================] - 0s 3ms/step - loss: 0.6395 - accuracy: 0.7846 - val_loss: 0.1763 - val_accuracy: 0.9499\n",
      "Epoch 34/100\n",
      "18/18 [==============================] - 0s 3ms/step - loss: 0.6127 - accuracy: 0.7907 - val_loss: 0.1727 - val_accuracy: 0.9520\n",
      "Epoch 35/100\n",
      "18/18 [==============================] - 0s 3ms/step - loss: 0.6184 - accuracy: 0.7933 - val_loss: 0.1643 - val_accuracy: 0.9540\n",
      "Epoch 36/100\n",
      "18/18 [==============================] - 0s 3ms/step - loss: 0.5836 - accuracy: 0.8100 - val_loss: 0.1563 - val_accuracy: 0.9520\n",
      "Epoch 37/100\n",
      "18/18 [==============================] - 0s 3ms/step - loss: 0.6094 - accuracy: 0.7846 - val_loss: 0.1507 - val_accuracy: 0.9581\n",
      "Epoch 38/100\n",
      "18/18 [==============================] - 0s 3ms/step - loss: 0.5708 - accuracy: 0.8122 - val_loss: 0.1506 - val_accuracy: 0.9581\n",
      "Epoch 39/100\n",
      "18/18 [==============================] - 0s 3ms/step - loss: 0.5512 - accuracy: 0.8161 - val_loss: 0.1426 - val_accuracy: 0.9520\n",
      "Epoch 40/100\n",
      "18/18 [==============================] - 0s 3ms/step - loss: 0.5409 - accuracy: 0.8192 - val_loss: 0.1383 - val_accuracy: 0.9591\n",
      "Epoch 41/100\n",
      "18/18 [==============================] - 0s 3ms/step - loss: 0.5517 - accuracy: 0.8139 - val_loss: 0.1310 - val_accuracy: 0.9591\n",
      "Epoch 42/100\n",
      "18/18 [==============================] - 0s 3ms/step - loss: 0.5173 - accuracy: 0.8249 - val_loss: 0.1285 - val_accuracy: 0.9602\n",
      "Epoch 43/100\n",
      "18/18 [==============================] - 0s 3ms/step - loss: 0.5295 - accuracy: 0.8249 - val_loss: 0.1240 - val_accuracy: 0.9612\n",
      "Epoch 44/100\n",
      "18/18 [==============================] - 0s 3ms/step - loss: 0.5065 - accuracy: 0.8314 - val_loss: 0.1214 - val_accuracy: 0.9612\n",
      "Epoch 45/100\n",
      "18/18 [==============================] - 0s 3ms/step - loss: 0.4992 - accuracy: 0.8306 - val_loss: 0.1170 - val_accuracy: 0.9642\n",
      "Epoch 46/100\n",
      "18/18 [==============================] - 0s 3ms/step - loss: 0.4832 - accuracy: 0.8380 - val_loss: 0.1158 - val_accuracy: 0.9632\n",
      "Epoch 47/100\n",
      "18/18 [==============================] - 0s 3ms/step - loss: 0.4935 - accuracy: 0.8323 - val_loss: 0.1116 - val_accuracy: 0.9622\n",
      "Epoch 48/100\n",
      "18/18 [==============================] - 0s 3ms/step - loss: 0.4537 - accuracy: 0.8446 - val_loss: 0.1125 - val_accuracy: 0.9581\n",
      "Epoch 49/100\n",
      "18/18 [==============================] - 0s 3ms/step - loss: 0.4486 - accuracy: 0.8498 - val_loss: 0.1051 - val_accuracy: 0.9622\n",
      "Epoch 50/100\n",
      "18/18 [==============================] - 0s 3ms/step - loss: 0.4511 - accuracy: 0.8459 - val_loss: 0.1039 - val_accuracy: 0.9632\n",
      "Epoch 51/100\n",
      "18/18 [==============================] - 0s 3ms/step - loss: 0.4505 - accuracy: 0.8472 - val_loss: 0.1038 - val_accuracy: 0.9632\n",
      "Epoch 52/100\n",
      "18/18 [==============================] - 0s 3ms/step - loss: 0.4282 - accuracy: 0.8437 - val_loss: 0.1013 - val_accuracy: 0.9632\n",
      "Epoch 53/100\n",
      "18/18 [==============================] - 0s 3ms/step - loss: 0.4127 - accuracy: 0.8625 - val_loss: 0.1010 - val_accuracy: 0.9653\n",
      "Epoch 54/100\n",
      "18/18 [==============================] - 0s 3ms/step - loss: 0.4158 - accuracy: 0.8555 - val_loss: 0.0939 - val_accuracy: 0.9653\n",
      "Epoch 55/100\n",
      "18/18 [==============================] - 0s 3ms/step - loss: 0.4420 - accuracy: 0.8481 - val_loss: 0.0948 - val_accuracy: 0.9663\n",
      "Epoch 56/100\n",
      "18/18 [==============================] - 0s 3ms/step - loss: 0.3896 - accuracy: 0.8665 - val_loss: 0.0949 - val_accuracy: 0.9663\n",
      "Epoch 57/100\n",
      "18/18 [==============================] - 0s 3ms/step - loss: 0.4260 - accuracy: 0.8507 - val_loss: 0.0942 - val_accuracy: 0.9632\n",
      "Epoch 57: early stopping\n"
     ]
    },
    {
     "data": {
      "image/png": "[encoded data removed]",
      "text/plain": [
       "<Figure size 640x480 with 1 Axes>"
      ]
     },
     "metadata": {},
     "output_type": "display_data"
    },
    {
     "name": "stdout",
     "output_type": "stream",
     "text": [
      "\n",
      "# TEST DATA #\n",
      "\n",
      "27/27 [==============================] - 0s 803us/step - loss: 0.7985 - accuracy: 0.9165\n",
      "accuracy: 91.65%\n",
      "\n",
      "# Generate predictions\n",
      "1/1 [==============================] - 0s 44ms/step\n",
      "y=Speaker032- prediction=Speaker043- match=False\n",
      "1/1 [==============================] - 0s 13ms/step\n",
      "y=Speaker054- prediction=Speaker054- match=True\n",
      "1/1 [==============================] - 0s 14ms/step\n",
      "y=Speaker013- prediction=Speaker013- match=True\n",
      "1/1 [==============================] - 0s 13ms/step\n",
      "y=Speaker048- prediction=Speaker048- match=True\n",
      "1/1 [==============================] - 0s 15ms/step\n",
      "y=Speaker001- prediction=Speaker001- match=True\n",
      "1/1 [==============================] - 0s 14ms/step\n",
      "y=Speaker019- prediction=Speaker019- match=True\n",
      "1/1 [==============================] - 0s 13ms/step\n",
      "y=Speaker000- prediction=Speaker000- match=True\n",
      "1/1 [==============================] - 0s 13ms/step\n",
      "y=Speaker052- prediction=Speaker051- match=False\n",
      "1/1 [==============================] - 0s 13ms/step\n",
      "y=Speaker044- prediction=Speaker044- match=True\n",
      "1/1 [==============================] - 0s 14ms/step\n",
      "y=Speaker030- prediction=Speaker030- match=True\n",
      "1/1 [==============================] - 0s 14ms/step\n",
      "y=Speaker054- prediction=Speaker054- match=True\n",
      "1/1 [==============================] - 0s 13ms/step\n",
      "y=Speaker009- prediction=Speaker009- match=True\n",
      "1/1 [==============================] - 0s 14ms/step\n",
      "y=Speaker002- prediction=Speaker002- match=True\n",
      "1/1 [==============================] - 0s 14ms/step\n",
      "y=Speaker018- prediction=Speaker018- match=True\n",
      "1/1 [==============================] - 0s 14ms/step\n",
      "y=Speaker045- prediction=Speaker045- match=True\n",
      "1/1 [==============================] - 0s 14ms/step\n",
      "y=Speaker055- prediction=Speaker055- match=True\n",
      "1/1 [==============================] - 0s 14ms/step\n",
      "y=Speaker016- prediction=Speaker016- match=True\n",
      "1/1 [==============================] - 0s 14ms/step\n",
      "y=Speaker009- prediction=Speaker009- match=True\n",
      "1/1 [==============================] - 0s 13ms/step\n",
      "y=Speaker000- prediction=Speaker000- match=True\n",
      "1/1 [==============================] - 0s 14ms/step\n",
      "y=Speaker015- prediction=Speaker015- match=True\n",
      "Classification Report for Test Data\n",
      "\n",
      "27/27 [==============================] - 0s 685us/step\n",
      "56\n",
      "[  0   0   0   0   0   0   0   0   0   0   0   0   0   0   0   0   0   0\n",
      "   0   0   0   0   0   0   0   0   0   0   0   0   0   0   0   0   0   0\n",
      "   0   0   0   0   0   0   0   0   0   0   0   0   0   0   0   0   0   0\n",
      "   0 100]\n",
      "55\n"
     ]
    },
    {
     "data": {
      "image/png": "[encoded data removed]",
      "text/plain": [
       "<Figure size 480x480 with 1 Axes>"
      ]
     },
     "metadata": {},
     "output_type": "display_data"
    },
    {
     "name": "stdout",
     "output_type": "stream",
     "text": [
      "\n",
      "Classification Report\n",
      "              precision    recall  f1-score   support\n",
      "\n",
      "           0       1.00      0.95      0.97        19\n",
      "           1       1.00      1.00      1.00        24\n",
      "           2       0.59      0.96      0.73        24\n",
      "           3       0.89      0.94      0.91        17\n",
      "           4       1.00      0.94      0.97        18\n",
      "           5       1.00      1.00      1.00        15\n",
      "           6       0.00      0.00      0.00        16\n",
      "           7       1.00      1.00      1.00        13\n",
      "           8       1.00      1.00      1.00        20\n",
      "           9       1.00      0.92      0.96        13\n",
      "          10       1.00      1.00      1.00        11\n",
      "          11       1.00      0.92      0.96        13\n",
      "          12       1.00      0.86      0.92         7\n",
      "          13       1.00      0.88      0.93         8\n",
      "          14       1.00      1.00      1.00        11\n",
      "          15       1.00      0.88      0.93         8\n",
      "          16       0.83      1.00      0.91        10\n",
      "          17       1.00      1.00      1.00         9\n",
      "          18       1.00      0.88      0.93         8\n",
      "          19       1.00      1.00      1.00         7\n",
      "          20       0.00      0.00      0.00         2\n",
      "          21       1.00      0.92      0.96        12\n",
      "          22       0.89      0.96      0.92       100\n",
      "          23       1.00      0.88      0.93         8\n",
      "          24       1.00      0.91      0.95        11\n",
      "          25       1.00      0.90      0.95        10\n",
      "          26       0.82      1.00      0.90         9\n",
      "          27       1.00      0.90      0.95        10\n",
      "          28       0.92      1.00      0.96        12\n",
      "          29       1.00      1.00      1.00         7\n",
      "          30       1.00      0.86      0.92         7\n",
      "          31       1.00      1.00      1.00        10\n",
      "          32       0.00      0.00      0.00         8\n",
      "          33       1.00      1.00      1.00         7\n",
      "          34       1.00      1.00      1.00         7\n",
      "          35       1.00      1.00      1.00         7\n",
      "          36       1.00      0.71      0.83         7\n",
      "          37       0.48      1.00      0.65        11\n",
      "          38       0.75      0.86      0.80         7\n",
      "          39       1.00      1.00      1.00        11\n",
      "          40       1.00      1.00      1.00         7\n",
      "          41       0.71      0.71      0.71         7\n",
      "          42       1.00      0.89      0.94         9\n",
      "          43       0.46      0.86      0.60         7\n",
      "          44       1.00      0.88      0.93         8\n",
      "          45       0.90      1.00      0.95         9\n",
      "          46       1.00      1.00      1.00         8\n",
      "          47       1.00      0.86      0.92         7\n",
      "          48       1.00      0.86      0.92         7\n",
      "          49       1.00      0.90      0.95        10\n",
      "          50       1.00      0.86      0.92         7\n",
      "          51       0.67      0.67      0.67         6\n",
      "          52       0.80      0.67      0.73         6\n",
      "          53       0.86      1.00      0.92         6\n",
      "          54       0.96      0.92      0.94       100\n",
      "          55       0.98      1.00      0.99       100\n",
      "\n",
      "    accuracy                           0.92       838\n",
      "   macro avg       0.88      0.88      0.87       838\n",
      "weighted avg       0.91      0.92      0.91       838\n",
      "\n"
     ]
    }
   ],
   "source": [
    "main(\"test\", \"train\")"
   ]
  },
  {
   "cell_type": "markdown",
   "metadata": {},
   "source": [
    "### Main 5 users all data"
   ]
  },
  {
   "cell_type": "code",
   "execution_count": null,
   "metadata": {},
   "outputs": [],
   "source": []
  },
  {
   "cell_type": "code",
   "execution_count": null,
   "metadata": {},
   "outputs": [],
   "source": [
    "main(\"test_5_users\", \"train_5_users\")"
   ]
  },
  {
   "cell_type": "markdown",
   "metadata": {},
   "source": [
    "### Main 5 users with 5 train registers"
   ]
  },
  {
   "cell_type": "code",
   "execution_count": null,
   "metadata": {},
   "outputs": [],
   "source": [
    "main(\"test_5_users_5_train\", \"train_5_users_5_train\")"
   ]
  },
  {
   "cell_type": "markdown",
   "metadata": {},
   "source": [
    "### Save model"
   ]
  },
  {
   "cell_type": "code",
   "execution_count": 74,
   "metadata": {},
   "outputs": [
    {
     "ename": "NameError",
     "evalue": "name 'model' is not defined",
     "output_type": "error",
     "traceback": [
      "\u001b[0;31m---------------------------------------------------------------------------\u001b[0m",
      "\u001b[0;31mNameError\u001b[0m                                 Traceback (most recent call last)",
      "\u001b[0;32m/tmp/ipykernel_4130/2496480442.py\u001b[0m in \u001b[0;36m<cell line: 1>\u001b[0;34m()\u001b[0m\n\u001b[0;32m----> 1\u001b[0;31m \u001b[0mmodel\u001b[0m\u001b[0;34m.\u001b[0m\u001b[0msave\u001b[0m\u001b[0;34m(\u001b[0m\u001b[0;34m'speaker-recognition.h5'\u001b[0m\u001b[0;34m)\u001b[0m\u001b[0;34m\u001b[0m\u001b[0;34m\u001b[0m\u001b[0m\n\u001b[0m",
      "\u001b[0;31mNameError\u001b[0m: name 'model' is not defined"
     ]
    }
   ],
   "source": [
    "model.save('speaker-recognition.h5')"
   ]
  },
  {
   "cell_type": "markdown",
   "metadata": {},
   "source": [
    "\n",
    "Transfer learning\n",
    "\n",
    "https://keras.io/guides/transfer_learning/\n"
   ]
  },
  {
   "cell_type": "markdown",
   "metadata": {},
   "source": [
    "### Load model"
   ]
  },
  {
   "cell_type": "code",
   "execution_count": 10,
   "metadata": {},
   "outputs": [],
   "source": [
    "new_model = keras.models.load_model('speaker-recognition.h5')\n"
   ]
  },
  {
   "cell_type": "code",
   "execution_count": 69,
   "metadata": {},
   "outputs": [
    {
     "name": "stdout",
     "output_type": "stream",
     "text": [
      "CSV Header:  ['filename', 'chroma_stft', 'rmse', 'spectral_centroid', 'spectral_bandwidth', 'rolloff', 'zero_crossing_rate', 'mfcc1', 'mfcc2', 'mfcc3', 'mfcc4', 'mfcc5', 'mfcc6', 'mfcc7', 'mfcc8', 'mfcc9', 'mfcc10', 'mfcc11', 'mfcc12', 'mfcc13', 'mfcc14', 'mfcc15', 'mfcc16', 'mfcc17', 'mfcc18', 'mfcc19', 'mfcc20', 'label']\n",
      "End of extractWavFeatures\n"
     ]
    }
   ],
   "source": [
    "header = 'filename chroma_stft rmse spectral_centroid spectral_bandwidth rolloff zero_crossing_rate'\n",
    "filename='Speaker0055_477.wav'\n",
    "\n",
    "for i in range(1, 21):\n",
    "    header += f' mfcc{i}'\n",
    "header += ' label'\n",
    "header = header.split()\n",
    "print('CSV Header: ', header)\n",
    "file = open('test.csv', 'w', newline='')\n",
    "#with file:\n",
    "writer = csv.writer(file)\n",
    "writer.writerow(header)\n",
    "number = f'audios/audios/test/{filename}'\n",
    "y, sr = librosa.load(number, mono=True, duration=30)\n",
    "# remove leading and trailing silence\n",
    "y, index = librosa.effects.trim(y)\n",
    "chroma_stft = librosa.feature.chroma_stft(y=y, sr=sr)\n",
    "rmse = librosa.feature.rms(y=y)\n",
    "spec_cent = librosa.feature.spectral_centroid(y=y, sr=sr)\n",
    "spec_bw = librosa.feature.spectral_bandwidth(y=y, sr=sr)\n",
    "rolloff = librosa.feature.spectral_rolloff(y=y, sr=sr)\n",
    "zcr = librosa.feature.zero_crossing_rate(y)\n",
    "mfcc = librosa.feature.mfcc(y=y, sr=sr)\n",
    "to_append = f'{filename} {np.mean(chroma_stft)} {np.mean(rmse)} {np.mean(spec_cent)} {np.mean(spec_bw)} {np.mean(rolloff)} {np.mean(zcr)}'\n",
    "for e in mfcc:\n",
    "    to_append += f' {np.mean(e)}'\n",
    "writer.writerow(to_append.split())\n",
    "file.close()\n",
    "print(\"End of extractWavFeatures\")\n"
   ]
  },
  {
   "cell_type": "code",
   "execution_count": 70,
   "metadata": {},
   "outputs": [
    {
     "name": "stdout",
     "output_type": "stream",
     "text": [
      "test.csv will be preprocessed\n",
      "Preprocessing is finished\n",
      "       rmse  spectral_centroid  spectral_bandwidth      rolloff  \\\n",
      "0  0.039182        1029.761278         1032.513716  2147.338867   \n",
      "\n",
      "   zero_crossing_rate       mfcc1       mfcc2      mfcc3      mfcc4  \\\n",
      "0            0.053385 -363.783813  223.351669 -71.833092  21.587334   \n",
      "\n",
      "       mfcc5  ...     mfcc12    mfcc13    mfcc14     mfcc15     mfcc16  \\\n",
      "0  37.874554  ... -22.200153  7.744421 -1.612798 -15.068378  11.225948   \n",
      "\n",
      "     mfcc17     mfcc18    mfcc19    mfcc20  number  \n",
      "0 -1.377748 -12.102902  7.221355 -4.805168      55  \n",
      "\n",
      "[1 rows x 26 columns]\n"
     ]
    }
   ],
   "source": [
    "testData = preProcessData('test.csv')"
   ]
  },
  {
   "cell_type": "code",
   "execution_count": 71,
   "metadata": {},
   "outputs": [],
   "source": [
    "X_test = np.array(testData.iloc[:, :-1], dtype = float)\n",
    "y_test = testData.iloc[:, -1]\n"
   ]
  },
  {
   "cell_type": "code",
   "execution_count": 72,
   "metadata": {},
   "outputs": [
    {
     "name": "stdout",
     "output_type": "stream",
     "text": [
      "\n",
      "# TEST DATA #\n",
      "\n",
      "1/1 [==============================] - 0s 16ms/step - loss: 3002.0972 - accuracy: 0.0000e+00\n",
      "accuracy: 0.00%\n",
      "\n",
      "# Generate predictions\n",
      "1/1 [==============================] - 0s 14ms/step\n",
      "y=Speaker055- prediction=Speaker028- match=False\n",
      "Classification Report for Test Data\n",
      "\n",
      "1/1 [==============================] - 0s 14ms/step\n",
      "2\n",
      "[1 0]\n",
      "0\n"
     ]
    },
    {
     "data": {
      "image/png": "[encoded data removed]",
      "text/plain": [
       "<Figure size 480x480 with 1 Axes>"
      ]
     },
     "metadata": {},
     "output_type": "display_data"
    },
    {
     "name": "stdout",
     "output_type": "stream",
     "text": [
      "\n",
      "Classification Report\n",
      "              precision    recall  f1-score   support\n",
      "\n",
      "          28       0.00      0.00      0.00       0.0\n",
      "          55       0.00      0.00      0.00       1.0\n",
      "\n",
      "    accuracy                           0.00       1.0\n",
      "   macro avg       0.00      0.00      0.00       1.0\n",
      "weighted avg       0.00      0.00      0.00       1.0\n",
      "\n"
     ]
    }
   ],
   "source": [
    "print('\\n# TEST DATA #\\n')\n",
    "y_test=np.array(y_test, dtype=int)\n",
    "score = new_model.evaluate(X_test, y_test)\n",
    "print(\"%s: %.2f%%\" % (new_model.metrics_names[1], score[1]*100))\n",
    "# Prediction\n",
    "printPrediction(X_test[0:1], y_test[0:1], False, new_model)\n",
    "\n",
    "print(\"Classification Report for Test Data\\n\")\n",
    "report(X_test, y_test, new_model)"
   ]
  },
  {
   "cell_type": "code",
   "execution_count": null,
   "metadata": {},
   "outputs": [],
   "source": []
  }
 ],
 "metadata": {
  "kernelspec": {
   "display_name": "Python 3 (ipykernel)",
   "language": "python",
   "name": "python3"
  },
  "language_info": {
   "codemirror_mode": {
    "name": "ipython",
    "version": 3
   },
   "file_extension": ".py",
   "mimetype": "text/x-python",
   "name": "python",
   "nbconvert_exporter": "python",
   "pygments_lexer": "ipython3",
   "version": "3.9.12"
  },
  "vscode": {
   "interpreter": {
    "hash": "916dbcbb3f70747c44a77c7bcd40155683ae19c65e1c03b4aa3499c5328201f1"
   }
  }
 },
 "nbformat": 4,
 "nbformat_minor": 2
}
