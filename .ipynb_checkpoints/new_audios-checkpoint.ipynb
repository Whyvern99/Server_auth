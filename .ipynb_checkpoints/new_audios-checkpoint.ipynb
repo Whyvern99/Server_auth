{
 "cells": [
  {
   "cell_type": "markdown",
   "metadata": {},
   "source": [
    "**Settings**"
   ]
  },
  {
   "cell_type": "code",
   "execution_count": 1,
   "metadata": {},
   "outputs": [],
   "source": [
    "#import librosa\n",
    "#import numpy as np\n",
    "#import pandas as pd\n",
    "#import matplotlib.pyplot as plt\n",
    "#import librosa.display\n",
    "#import keras\n",
    "#import datetime\n",
    "#import seaborn as sns\n",
    "#from sklearn.preprocessing import LabelEncoder \n",
    "#from sklearn.model_selection import train_test_split\n",
    "#from sklearn.metrics import confusion_matrix\n",
    "#from sklearn.metrics import classification_report\n",
    "\n",
    "#plt.style.use('ggplot')\n",
    "#plt.rcParams['font.family'] = 'sans-serif' \n",
    "#plt.rcParams['font.serif'] = 'Ubuntu' \n",
    "#plt.rcParams['font.monospace'] = 'Ubuntu Mono' \n",
    "#plt.rcParams['font.size'] = 14 \n",
    "#plt.rcParams['axes.labelsize'] = 12 \n",
    "#plt.rcParams['axes.labelweight'] = 'bold' \n",
    "#plt.rcParams['axes.titlesize'] = 12 \n",
    "#plt.rcParams['xtick.labelsize'] = 12 \n",
    "#plt.rcParams['ytick.labelsize'] = 12 \n",
    "#plt.rcParams['legend.fontsize'] = 12 \n",
    "#plt.rcParams['figure.titlesize'] = 12 \n",
    "#plt.rcParams['image.cmap'] = 'jet' \n",
    "#plt.rcParams['image.interpolation'] = 'none' \n",
    "#plt.rcParams['figure.figsize'] = (10, 10) \n",
    "#plt.rcParams['axes.grid']=False\n",
    "#plt.rcParams['lines.linewidth'] = 2 \n",
    "#plt.rcParams['lines.markersize'] = 8\n",
    "#colors = ['xkcd:pale orange', 'xkcd:sea blue', 'xkcd:pale red', 'xkcd:sage green', 'xkcd:terra cotta', 'xkcd:dull purple', 'xkcd:teal', 'xkcd: goldenrod', 'xkcd:cadet blue',\n",
    "#'xkcd:scarlet']\n",
    "#bbox_props = dict(boxstyle=\"round,pad=0.3\", fc=colors[0], alpha=.5)\"\"\""
   ]
  },
  {
   "cell_type": "code",
   "execution_count": 28,
   "metadata": {},
   "outputs": [],
   "source": [
    "#requisits and ignore warnings\n",
    "import warnings\n",
    "warnings.simplefilter('ignore')\n",
    "\n",
    "import fnmatch\n",
    "import collections\n",
    "import keras\n",
    "import librosa\n",
    "import csv\n",
    "import os\n",
    "import numpy as np\n",
    "import pandas as pd\n",
    "import matplotlib.pyplot as plt\n",
    "\n",
    "from sklearn.preprocessing import StandardScaler\n",
    "from sklearn.model_selection import train_test_split\n",
    "from keras import models, layers\n",
    "from keras import backend as K\n",
    "from keras.callbacks import EarlyStopping\n",
    "from keras.models import Sequential\n",
    "from keras.layers.core import Dense, Dropout, Activation, Flatten\n",
    "from keras.layers.convolutional import Convolution2D, MaxPooling2D\n",
    "from keras.preprocessing.image import ImageDataGenerator\n",
    "from matplotlib import pyplot, cm\n",
    "from tqdm import tqdm\n",
    "from sklearn import preprocessing\n",
    "from sklearn.metrics import classification_report, confusion_matrix"
   ]
  },
  {
   "cell_type": "code",
   "execution_count": 29,
   "metadata": {},
   "outputs": [],
   "source": [
    "# y,sr = librosa.load('audios/Speaker26_000.wav')\n",
    "# dur_time = librosa.get_duration(y=y,sr=sr)\n",
    "#print(dur_time)\n",
    "#time_sec = round(dur_time)\n",
    "#S = librosa.feature.melspectrogram(y=y, sr=sr, n_mels=20, fmax=8000)\n",
    "#fig, ax = plt.subplots()\n",
    "#S_dB = librosa.power_to_db(S, ref=np.max)\n",
    "#img = librosa.display.specshow(S_dB, x_axis='time',y_axis='mel', sr=sr,fmax=8000, ax=ax)\n",
    "#fig.colorbar(img, ax=ax, format='%+2.0f dB')\n",
    "#ax.set(title='Mel-frequency spectrogram')\n",
    "#plt.xlim()\"\"\""
   ]
  },
  {
   "cell_type": "code",
   "execution_count": 30,
   "metadata": {},
   "outputs": [],
   "source": [
    "#time_series_sec=np.linspace(0, time_sec, len(S_dB[0]))"
   ]
  },
  {
   "cell_type": "markdown",
   "metadata": {},
   "source": [
    "The output of this section is the CSV files with the data to be handle by the model\n",
    "\n",
    "```\n",
    "trainData     : audio/train \n",
    "testData      : audio/test\n",
    "```\n"
   ]
  },
  {
   "cell_type": "code",
   "execution_count": 31,
   "metadata": {},
   "outputs": [],
   "source": [
    "# Defines the names of the CSV files\n",
    "TRAIN_CSV_FILE = \"train.csv\"\n",
    "TEST_CSV_FILE = \"test.csv\"\n",
    "final_test=\"final_test.csv\""
   ]
  },
  {
   "cell_type": "code",
   "execution_count": 32,
   "metadata": {},
   "outputs": [],
   "source": [
    "import matplotlib.pyplot as plt\n",
    "import numpy as np\n",
    "from matplotlib import cm\n",
    "import librosa\n",
    "import csv\n",
    "import os\n",
    "from tqdm import tqdm\n",
    "import warnings\n",
    "warnings.simplefilter('ignore')\n",
    "\n",
    "def extractWavFeatures(soundFilesFolder, csvFileName):\n",
    "    print(\"The features of the files in the folder \"+soundFilesFolder+\" will be saved to \"+csvFileName)\n",
    "    header = 'filename chroma_stft rmse spectral_centroid spectral_bandwidth rolloff zero_crossing_rate'\n",
    "    for i in range(1, 21):\n",
    "        header += f' mfcc{i}'\n",
    "    header += ' label'\n",
    "    header = header.split()\n",
    "    print('CSV Header: ', header)\n",
    "    file = open(csvFileName, 'w', newline='')\n",
    "    #with file:\n",
    "    writer = csv.writer(file)\n",
    "    writer.writerow(header)\n",
    "    for filename in tqdm(os.listdir(soundFilesFolder)):\n",
    "        number = f'{soundFilesFolder}/{filename}'\n",
    "        y, sr = librosa.load(number, mono=True, duration=30)\n",
    "        # remove leading and trailing silence\n",
    "        y, index = librosa.effects.trim(y)\n",
    "        chroma_stft = librosa.feature.chroma_stft(y=y, sr=sr)\n",
    "        rmse = librosa.feature.rms(y=y)\n",
    "        spec_cent = librosa.feature.spectral_centroid(y=y, sr=sr)\n",
    "        spec_bw = librosa.feature.spectral_bandwidth(y=y, sr=sr)\n",
    "        rolloff = librosa.feature.spectral_rolloff(y=y, sr=sr)\n",
    "        zcr = librosa.feature.zero_crossing_rate(y)\n",
    "        mfcc = librosa.feature.mfcc(y=y, sr=sr)\n",
    "        to_append = f'{filename} {np.mean(chroma_stft)} {np.mean(rmse)} {np.mean(spec_cent)} {np.mean(spec_bw)} {np.mean(rolloff)} {np.mean(zcr)}'\n",
    "        for e in mfcc:\n",
    "            to_append += f' {np.mean(e)}'\n",
    "        writer.writerow(to_append.split())\n",
    "    file.close()\n",
    "    print(\"End of extractWavFeatures\")\n",
    "    "
   ]
  },
  {
   "cell_type": "code",
   "execution_count": 33,
   "metadata": {},
   "outputs": [
    {
     "name": "stdout",
     "output_type": "stream",
     "text": [
      "The features of the files in the folder new_audios/train will be saved to train.csv\n",
      "CSV Header:  ['filename', 'chroma_stft', 'rmse', 'spectral_centroid', 'spectral_bandwidth', 'rolloff', 'zero_crossing_rate', 'mfcc1', 'mfcc2', 'mfcc3', 'mfcc4', 'mfcc5', 'mfcc6', 'mfcc7', 'mfcc8', 'mfcc9', 'mfcc10', 'mfcc11', 'mfcc12', 'mfcc13', 'mfcc14', 'mfcc15', 'mfcc16', 'mfcc17', 'mfcc18', 'mfcc19', 'mfcc20', 'label']\n"
     ]
    },
    {
     "name": "stderr",
     "output_type": "stream",
     "text": [
      "100%|███████████████████████████████████████████| 48/48 [00:05<00:00,  9.10it/s]\n"
     ]
    },
    {
     "name": "stdout",
     "output_type": "stream",
     "text": [
      "End of extractWavFeatures\n",
      "The features of the files in the folder new_audios/test will be saved to test.csv\n",
      "CSV Header:  ['filename', 'chroma_stft', 'rmse', 'spectral_centroid', 'spectral_bandwidth', 'rolloff', 'zero_crossing_rate', 'mfcc1', 'mfcc2', 'mfcc3', 'mfcc4', 'mfcc5', 'mfcc6', 'mfcc7', 'mfcc8', 'mfcc9', 'mfcc10', 'mfcc11', 'mfcc12', 'mfcc13', 'mfcc14', 'mfcc15', 'mfcc16', 'mfcc17', 'mfcc18', 'mfcc19', 'mfcc20', 'label']\n"
     ]
    },
    {
     "name": "stderr",
     "output_type": "stream",
     "text": [
      "100%|███████████████████████████████████████████| 18/18 [00:02<00:00,  7.12it/s]"
     ]
    },
    {
     "name": "stdout",
     "output_type": "stream",
     "text": [
      "End of extractWavFeatures\n",
      "CSV files are created\n"
     ]
    },
    {
     "name": "stderr",
     "output_type": "stream",
     "text": [
      "\n"
     ]
    }
   ],
   "source": [
    "extractWavFeatures(\"new_audios/train\", TRAIN_CSV_FILE)\n",
    "extractWavFeatures(\"new_audios/test\", TEST_CSV_FILE)\n",
    "print(\"CSV files are created\")"
   ]
  },
  {
   "cell_type": "code",
   "execution_count": null,
   "metadata": {},
   "outputs": [],
   "source": []
  },
  {
   "cell_type": "code",
   "execution_count": 34,
   "metadata": {},
   "outputs": [],
   "source": [
    "import pandas as pd\n",
    "import csv\n",
    "from sklearn import preprocessing\n",
    "\n",
    "def preProcessData(csvFileName):\n",
    "    print(csvFileName+ \" will be preprocessed\")\n",
    "    data = pd.read_csv(csvFileName)\n",
    "    filenameArray = data['filename'] \n",
    "    speakerArray = []\n",
    "    #print(filenameArray)\n",
    "    for i in range(len(filenameArray)):\n",
    "        speaker = int(filenameArray[i].split(\"_\")[0].split(\"r\")[1])\n",
    "        #print(speaker)\n",
    "        #print(speaker)\n",
    "        speakerArray.append(speaker)\n",
    "    data['number'] = speakerArray\n",
    "    #Dropping unnecessary columns\n",
    "    data = data.drop(['filename'],axis=1)\n",
    "    data = data.drop(['label'],axis=1)\n",
    "    data = data.drop(['chroma_stft'],axis=1)\n",
    "    data.shape\n",
    "\n",
    "    print(\"Preprocessing is finished\")\n",
    "    print(data.head())\n",
    "    return data\n",
    "\n"
   ]
  },
  {
   "cell_type": "code",
   "execution_count": 35,
   "metadata": {},
   "outputs": [
    {
     "name": "stdout",
     "output_type": "stream",
     "text": [
      "train.csv will be preprocessed\n",
      "Preprocessing is finished\n",
      "       rmse  spectral_centroid  spectral_bandwidth      rolloff  \\\n",
      "0  0.064504        1569.688043         1506.731848  3066.790822   \n",
      "1  0.064830        2057.210530         1597.244082  3786.038313   \n",
      "2  0.075098        2092.319580         2028.187798  3974.275635   \n",
      "3  0.073432        1810.122480         1567.225342  3448.618036   \n",
      "4  0.088808        2260.687824         1922.667035  4115.065334   \n",
      "\n",
      "   zero_crossing_rate       mfcc1       mfcc2      mfcc3      mfcc4  \\\n",
      "0            0.088593 -294.223389  128.150131 -25.378933  35.692875   \n",
      "1            0.145302 -292.809662   93.066406 -18.865705  40.035877   \n",
      "2            0.088608 -250.849945   97.867928 -17.945627  41.529243   \n",
      "3            0.104616 -304.962891  112.449066 -23.163265  58.133114   \n",
      "4            0.138338 -227.945847  102.988884  -5.059903  41.715721   \n",
      "\n",
      "       mfcc5  ...    mfcc12    mfcc13    mfcc14    mfcc15     mfcc16  \\\n",
      "0 -10.917240  ... -6.785559  4.781332 -2.992559 -0.653597  -4.344651   \n",
      "1  -6.271842  ... -0.536049  2.811831  0.179783  3.760581  -3.470869   \n",
      "2   6.881348  ...  4.112506 -1.847642  9.959877  0.068514   4.970633   \n",
      "3   4.276793  ... -7.874131  5.469388 -7.092316  6.533883  -1.054708   \n",
      "4  13.558058  ... -3.093843 -1.010774  8.613025 -3.656052  12.343198   \n",
      "\n",
      "     mfcc17    mfcc18    mfcc19    mfcc20  number  \n",
      "0  1.113627 -0.986814 -5.635451 -2.515651       4  \n",
      "1  1.333992  0.435518 -5.289611 -1.791235       4  \n",
      "2 -6.097534  4.534381 -6.986448  3.755844       1  \n",
      "3  0.888520 -3.079690 -0.482996  1.914016       6  \n",
      "4 -2.265179  0.896135  0.456510  1.788372       2  \n",
      "\n",
      "[5 rows x 26 columns]\n",
      "test.csv will be preprocessed\n",
      "Preprocessing is finished\n",
      "       rmse  spectral_centroid  spectral_bandwidth      rolloff  \\\n",
      "0  0.094364        1862.814696         1822.967672  3592.026402   \n",
      "1  0.109542        1327.023681         1418.541196  2749.013432   \n",
      "2  0.078186        2121.639669         2029.079365  3884.908854   \n",
      "3  0.085986        1367.838528         1441.170668  2784.921282   \n",
      "4  0.070140        1473.713619         1422.211072  2715.327171   \n",
      "\n",
      "   zero_crossing_rate       mfcc1       mfcc2      mfcc3      mfcc4  \\\n",
      "0            0.092347 -235.968857  118.228134 -11.064094  42.596210   \n",
      "1            0.065182 -274.423615  120.944115  -8.682960  37.727226   \n",
      "2            0.101110 -253.870972   98.048782  -7.903374  35.405315   \n",
      "3            0.064129 -296.392792  129.334442 -10.527012  57.642262   \n",
      "4            0.087575 -305.503937  141.266724   1.960678  33.181313   \n",
      "\n",
      "       mfcc5  ...    mfcc12    mfcc13    mfcc14    mfcc15    mfcc16    mfcc17  \\\n",
      "0  20.598045  ... -5.087656 -0.226178  4.654130 -4.638676  9.028797 -2.595971   \n",
      "1  -2.386111  ... -3.224824 -4.291646 -4.922679 -2.326184 -8.692584  1.110823   \n",
      "2   4.830322  ...  1.980455 -1.807901  9.254891 -1.711965  5.088833 -5.537093   \n",
      "3  11.542464  ... -4.488722  4.739452 -5.270012  4.516982 -0.480107 -0.697920   \n",
      "4 -12.746344  ... -4.154229  5.316267 -2.599209  6.793464 -0.630188  0.301788   \n",
      "\n",
      "     mfcc18     mfcc19    mfcc20  number  \n",
      "0 -3.748404   1.970990 -2.471530       2  \n",
      "1 -3.032329 -10.137652 -2.867886       3  \n",
      "2  0.566987  -6.825185 -3.674999       1  \n",
      "3 -2.250077  -0.242805 -0.224676       6  \n",
      "4  1.333796  -0.194216 -3.231247       5  \n",
      "\n",
      "[5 rows x 26 columns]\n",
      "(48, 26)\n",
      "(18, 26)\n"
     ]
    }
   ],
   "source": [
    "trainData = preProcessData(TRAIN_CSV_FILE)\n",
    "testData = preProcessData(TEST_CSV_FILE)\n",
    "print(trainData.shape)\n",
    "print(testData.shape)"
   ]
  },
  {
   "cell_type": "code",
   "execution_count": 36,
   "metadata": {},
   "outputs": [
    {
     "name": "stdout",
     "output_type": "stream",
     "text": [
      "{1, 2, 3, 4, 5, 6}\n",
      "Y from training data: (33,)\n",
      "Y from validation data: (15,)\n",
      "Y from test data: (18,)\n"
     ]
    }
   ],
   "source": [
    "# Splitting the dataset into training, validation and testing dataset\n",
    "from sklearn.model_selection import train_test_split\n",
    "X = np.array(trainData.iloc[:, :-1], dtype = float)\n",
    "y = trainData.iloc[:, -1]\n",
    "X_train, X_val, y_train, y_val = train_test_split(X, y, test_size=0.3, random_state=50)\n",
    "\n",
    "\n",
    "X_test = np.array(testData.iloc[:, :-1], dtype = float)\n",
    "y_test = testData.iloc[:, -1]\n",
    "print(set(y_test))\n",
    "\n",
    "print(\"Y from training data:\", y_train.shape)\n",
    "print(\"Y from validation data:\", y_val.shape)\n",
    "print(\"Y from test data:\", y_test.shape)\n"
   ]
  },
  {
   "cell_type": "code",
   "execution_count": 37,
   "metadata": {},
   "outputs": [
    {
     "name": "stdout",
     "output_type": "stream",
     "text": [
      "X from training data (33, 25)\n",
      "X from validation data (15, 25)\n",
      "X from test data (18, 25)\n",
      "{1, 2, 3, 4, 5, 6}\n"
     ]
    }
   ],
   "source": [
    "#Normalizing the dataset\n",
    "from sklearn.preprocessing import StandardScaler\n",
    "import numpy as np\n",
    "scaler = StandardScaler()\n",
    "X_train = scaler.fit_transform( X_train )\n",
    "X_val = scaler.transform( X_val )\n",
    "X_test = scaler.transform( X_test )\n",
    "\n",
    "print(\"X from training data\", X_train.shape)\n",
    "print(\"X from validation data\", X_val.shape)\n",
    "print(\"X from test data\", X_test.shape)\n",
    "\n",
    "print(set(y_test))\n"
   ]
  },
  {
   "cell_type": "markdown",
   "metadata": {},
   "source": [
    "import os\n",
    "import fnmatch\n",
    "import collections\n",
    "weight={}\n",
    "path='/home/silvia/Escritorio/tfm/Server_auth/new_audios/Speakers'\n",
    "for speaker in os.listdir(path):\n",
    "    if speaker.find(\".sh\")==-1:\n",
    "        dir_path=path+'/'+speaker\n",
    "        speaker = int(speaker.split(\"_\")[0].split(\"r\")[1])\n",
    "        count = int(len(fnmatch.filter(os.listdir(dir_path), '*.*'))*0.8)-1\n",
    "        weight.update({speaker: count})\n",
    "max_value=sum(weight.values())\n",
    "print(\"Sum of values: \"+str(max_value))\n",
    "weight = {key: value for key, value in sorted(weight.items())}\n",
    "weight = {k: 1-(v/max_value) for k, v in weight.items()}\n",
    "print(weight.keys())\n",
    "#print(set(range(57)) - set(y_train))"
   ]
  },
  {
   "cell_type": "code",
   "execution_count": 38,
   "metadata": {},
   "outputs": [
    {
     "name": "stdout",
     "output_type": "stream",
     "text": [
      "(33, 25)\n",
      "Epoch 1/100\n",
      "33/33 [==============================] - 0s 5ms/step - loss: 3.6534 - accuracy: 0.0000e+00 - val_loss: 3.1763 - val_accuracy: 0.3333\n",
      "Epoch 2/100\n",
      "33/33 [==============================] - 0s 2ms/step - loss: 3.0494 - accuracy: 0.1818 - val_loss: 2.7119 - val_accuracy: 0.3333\n",
      "Epoch 3/100\n",
      "33/33 [==============================] - 0s 2ms/step - loss: 2.2603 - accuracy: 0.4848 - val_loss: 1.9776 - val_accuracy: 0.5333\n",
      "Epoch 4/100\n",
      "33/33 [==============================] - 0s 2ms/step - loss: 1.8285 - accuracy: 0.4242 - val_loss: 1.3443 - val_accuracy: 0.4667\n",
      "Epoch 5/100\n",
      "33/33 [==============================] - 0s 2ms/step - loss: 1.5244 - accuracy: 0.5455 - val_loss: 0.8911 - val_accuracy: 0.9333\n",
      "Epoch 6/100\n",
      "33/33 [==============================] - 0s 2ms/step - loss: 1.0026 - accuracy: 0.6667 - val_loss: 0.6904 - val_accuracy: 0.9333\n",
      "Epoch 7/100\n",
      "33/33 [==============================] - 0s 2ms/step - loss: 0.9792 - accuracy: 0.6667 - val_loss: 0.5220 - val_accuracy: 0.9333\n",
      "Epoch 8/100\n",
      "33/33 [==============================] - 0s 2ms/step - loss: 0.9988 - accuracy: 0.6364 - val_loss: 0.3998 - val_accuracy: 0.8667\n",
      "Epoch 9/100\n",
      "33/33 [==============================] - 0s 2ms/step - loss: 0.6056 - accuracy: 0.7273 - val_loss: 0.3125 - val_accuracy: 1.0000\n",
      "Epoch 10/100\n",
      "33/33 [==============================] - 0s 2ms/step - loss: 0.3659 - accuracy: 0.8788 - val_loss: 0.2278 - val_accuracy: 1.0000\n",
      "Epoch 11/100\n",
      "33/33 [==============================] - 0s 2ms/step - loss: 0.5253 - accuracy: 0.7879 - val_loss: 0.1913 - val_accuracy: 1.0000\n",
      "Epoch 12/100\n",
      "33/33 [==============================] - 0s 2ms/step - loss: 0.4663 - accuracy: 0.8788 - val_loss: 0.1454 - val_accuracy: 1.0000\n",
      "Epoch 13/100\n",
      "33/33 [==============================] - 0s 2ms/step - loss: 0.5335 - accuracy: 0.7879 - val_loss: 0.1364 - val_accuracy: 1.0000\n",
      "Epoch 14/100\n",
      "33/33 [==============================] - 0s 2ms/step - loss: 0.5663 - accuracy: 0.8182 - val_loss: 0.1170 - val_accuracy: 1.0000\n",
      "Epoch 15/100\n",
      "33/33 [==============================] - 0s 2ms/step - loss: 0.3801 - accuracy: 0.8788 - val_loss: 0.1381 - val_accuracy: 1.0000\n",
      "Epoch 16/100\n",
      "33/33 [==============================] - 0s 2ms/step - loss: 0.2195 - accuracy: 0.9697 - val_loss: 0.0785 - val_accuracy: 1.0000\n",
      "Epoch 17/100\n",
      "33/33 [==============================] - 0s 2ms/step - loss: 0.3716 - accuracy: 0.8788 - val_loss: 0.1146 - val_accuracy: 1.0000\n",
      "Epoch 18/100\n",
      "33/33 [==============================] - 0s 2ms/step - loss: 0.4774 - accuracy: 0.8182 - val_loss: 0.0756 - val_accuracy: 1.0000\n",
      "Epoch 19/100\n",
      "33/33 [==============================] - 0s 2ms/step - loss: 0.2956 - accuracy: 0.8788 - val_loss: 0.0505 - val_accuracy: 1.0000\n",
      "Epoch 20/100\n",
      "33/33 [==============================] - 0s 2ms/step - loss: 0.2851 - accuracy: 0.8788 - val_loss: 0.0569 - val_accuracy: 1.0000\n",
      "Epoch 21/100\n",
      "33/33 [==============================] - 0s 2ms/step - loss: 0.1438 - accuracy: 0.9697 - val_loss: 0.0384 - val_accuracy: 1.0000\n",
      "Epoch 22/100\n",
      "33/33 [==============================] - 0s 2ms/step - loss: 0.2466 - accuracy: 0.9091 - val_loss: 0.0416 - val_accuracy: 1.0000\n",
      "Epoch 23/100\n",
      "33/33 [==============================] - 0s 2ms/step - loss: 0.1261 - accuracy: 0.9394 - val_loss: 0.0892 - val_accuracy: 1.0000\n",
      "Epoch 24/100\n",
      "33/33 [==============================] - 0s 2ms/step - loss: 0.1301 - accuracy: 0.9697 - val_loss: 0.0570 - val_accuracy: 1.0000\n",
      "Epoch 24: early stopping\n",
      "{1, 2, 3, 4, 5, 6}\n"
     ]
    }
   ],
   "source": [
    "#Creating a Model\n",
    "from keras import models\n",
    "from keras import layers\n",
    "import keras\n",
    "\n",
    "# model 1\n",
    "model = models.Sequential()\n",
    "model.add(layers.Dense(256, activation='relu', input_shape=(X_train.shape[1],)))\n",
    "model.add(layers.Dropout(0.5))\n",
    "model.add(layers.Dense(128, activation='relu'))\n",
    "model.add(layers.Dropout(0.5))\n",
    "model.add(layers.Dense(64, activation='relu'))\n",
    "model.add(layers.Dropout(0.5))\n",
    "model.add(layers.Dense(len(y_train), activation='softmax'))\n",
    "\n",
    "# Learning Process of a model\n",
    "model.compile(optimizer='adam',\n",
    "              loss='sparse_categorical_crossentropy',\n",
    "              metrics=['accuracy'])\n",
    "\n",
    "# simple early stopping\n",
    "from keras.callbacks import EarlyStopping\n",
    "#es = EarlyStopping(monitor='val_accuracy', patience=10, verbose=1)\n",
    "es = EarlyStopping(monitor='val_loss', patience=3, verbose=1)\n",
    "print(X_train.shape)\n",
    "#Train with early stopping to avoid overfitting\n",
    "y_train=np.array(y_train, dtype=int)\n",
    "y_val=np.array(y_val, dtype=int)\n",
    "history = model.fit(X_train,y_train,validation_data=(X_val, y_val),epochs=100,batch_size=1, callbacks=[es])\n",
    "print(set(y_test))"
   ]
  },
  {
   "cell_type": "code",
   "execution_count": 39,
   "metadata": {
    "scrolled": true
   },
   "outputs": [
    {
     "data": {
      "image/png": "[encoded data removed]",
      "text/plain": [
       "<Figure size 640x480 with 1 Axes>"
      ]
     },
     "metadata": {},
     "output_type": "display_data"
    }
   ],
   "source": [
    "# plot training history\n",
    "from matplotlib import pyplot\n",
    "pyplot.plot(history.history['loss'], label='train')\n",
    "pyplot.plot(history.history['val_loss'], label='test')\n",
    "pyplot.legend()\n",
    "pyplot.show()"
   ]
  },
  {
   "cell_type": "code",
   "execution_count": 40,
   "metadata": {},
   "outputs": [],
   "source": [
    "def getSpeaker(speaker):\n",
    "    speaker = \"Speaker\"+str(speaker).zfill(3)\n",
    "    return speaker\n",
    "    \n",
    "        \n",
    "def printPrediction(X_data, y_data, printDigit, model):\n",
    "    print('\\n# Generate predictions')\n",
    "    for i in range(len(y_data)):\n",
    "        predict_x=model.predict(X_data[i:i+1])[0]\n",
    "        predict_classes = np.argmax(predict_x)\n",
    "        prediction = getSpeaker(predict_classes)\n",
    "    \n",
    "        speaker = getSpeaker(y_data[i])\n",
    "        if printDigit == True:\n",
    "           print(\"Number={0:d}, y={1:10s}- prediction={2:10s}- match={3}\".format(i, speaker, prediction, speaker==prediction))\n",
    "        else:\n",
    "           print(\"y={0:10s}- prediction={1:10s}- match={2}\".format(speaker, prediction, speaker==prediction))"
   ]
  },
  {
   "cell_type": "code",
   "execution_count": 54,
   "metadata": {},
   "outputs": [],
   "source": [
    "import numpy as np\n",
    "from keras import backend as K\n",
    "from keras.models import Sequential\n",
    "from keras.layers.core import Dense, Dropout, Activation, Flatten\n",
    "from keras.layers.convolutional import Convolution2D, MaxPooling2D\n",
    "from keras.preprocessing.image import ImageDataGenerator\n",
    "from sklearn.metrics import classification_report, confusion_matrix\n",
    "\n",
    "def report(X_data, y_data):\n",
    "    #Confution Matrix and Classification Report\n",
    "    predict_y = model.predict(X_data)\n",
    "    Y_pred = np.argmax(predict_y, axis=1)\n",
    "    y_test_num = y_data.astype(np.int64)\n",
    "    conf_mt = confusion_matrix(y_test_num, Y_pred)\n",
    "    print(conf_mt[len(set(y_test_num))-1])\n",
    "    key=0\n",
    "    for val in conf_mt[len(set(y_test_num))-1]:\n",
    "        if val!=0:\n",
    "            print(key)\n",
    "        key=key+1\n",
    "    conf_mt=conf_mt / conf_mt.astype(np.float).sum(axis=1)\n",
    "    #print(conf_mt)\n",
    "    plt.matshow(conf_mt)\n",
    "    plt.show()\n",
    "    print('\\nClassification Report')\n",
    "    print(classification_report(y_test_num, Y_pred))\n"
   ]
  },
  {
   "cell_type": "code",
   "execution_count": 55,
   "metadata": {},
   "outputs": [
    {
     "name": "stdout",
     "output_type": "stream",
     "text": [
      "[2 3 1 6 5 1 3 6 6 2 3 5 4 1 2 5 4 4]\n"
     ]
    }
   ],
   "source": [
    "print(y_test)"
   ]
  },
  {
   "cell_type": "code",
   "execution_count": 56,
   "metadata": {},
   "outputs": [
    {
     "name": "stdout",
     "output_type": "stream",
     "text": [
      "\n",
      "# TEST DATA #\n",
      "\n",
      "1/1 [==============================] - 0s 17ms/step - loss: 0.0082 - accuracy: 1.0000\n",
      "accuracy: 100.00%\n",
      "\n",
      "# Generate predictions\n",
      "1/1 [==============================] - 0s 15ms/step\n",
      "y=Speaker002- prediction=Speaker002- match=True\n",
      "1/1 [==============================] - 0s 15ms/step\n",
      "y=Speaker003- prediction=Speaker003- match=True\n",
      "1/1 [==============================] - 0s 14ms/step\n",
      "y=Speaker001- prediction=Speaker001- match=True\n",
      "1/1 [==============================] - 0s 16ms/step\n",
      "y=Speaker006- prediction=Speaker006- match=True\n",
      "1/1 [==============================] - 0s 16ms/step\n",
      "y=Speaker005- prediction=Speaker005- match=True\n",
      "1/1 [==============================] - 0s 15ms/step\n",
      "y=Speaker001- prediction=Speaker001- match=True\n",
      "1/1 [==============================] - 0s 15ms/step\n",
      "y=Speaker003- prediction=Speaker003- match=True\n",
      "1/1 [==============================] - 0s 15ms/step\n",
      "y=Speaker006- prediction=Speaker006- match=True\n",
      "1/1 [==============================] - 0s 15ms/step\n",
      "y=Speaker006- prediction=Speaker006- match=True\n",
      "1/1 [==============================] - 0s 15ms/step\n",
      "y=Speaker002- prediction=Speaker002- match=True\n",
      "1/1 [==============================] - 0s 15ms/step\n",
      "y=Speaker003- prediction=Speaker003- match=True\n",
      "1/1 [==============================] - 0s 15ms/step\n",
      "y=Speaker005- prediction=Speaker005- match=True\n",
      "1/1 [==============================] - 0s 15ms/step\n",
      "y=Speaker004- prediction=Speaker004- match=True\n",
      "1/1 [==============================] - 0s 15ms/step\n",
      "y=Speaker001- prediction=Speaker001- match=True\n",
      "1/1 [==============================] - 0s 15ms/step\n",
      "y=Speaker002- prediction=Speaker002- match=True\n",
      "1/1 [==============================] - 0s 16ms/step\n",
      "y=Speaker005- prediction=Speaker005- match=True\n",
      "1/1 [==============================] - 0s 15ms/step\n",
      "y=Speaker004- prediction=Speaker004- match=True\n",
      "1/1 [==============================] - 0s 15ms/step\n",
      "y=Speaker004- prediction=Speaker004- match=True\n"
     ]
    }
   ],
   "source": [
    "print('\\n# TEST DATA #\\n')\n",
    "y_test=np.array(y_test, dtype=int)\n",
    "score = model.evaluate(X_test, y_test)\n",
    "print(\"%s: %.2f%%\" % (model.metrics_names[1], score[1]*100))\n",
    "# Prediction\n",
    "printPrediction(X_test, y_test, False, model)"
   ]
  },
  {
   "cell_type": "code",
   "execution_count": 57,
   "metadata": {},
   "outputs": [
    {
     "name": "stdout",
     "output_type": "stream",
     "text": [
      "Classification Report for Test Data\n",
      "\n",
      "(18,)\n",
      "(18, 25)\n",
      "1/1 [==============================] - 0s 15ms/step\n",
      "[0 0 0 0 0 3]\n",
      "hola 6\n"
     ]
    },
    {
     "data": {
      "image/png": "[encoded data removed]",
      "text/plain": [
       "<Figure size 480x480 with 1 Axes>"
      ]
     },
     "metadata": {},
     "output_type": "display_data"
    },
    {
     "name": "stdout",
     "output_type": "stream",
     "text": [
      "\n",
      "Classification Report\n",
      "              precision    recall  f1-score   support\n",
      "\n",
      "           1       1.00      1.00      1.00         3\n",
      "           2       1.00      1.00      1.00         3\n",
      "           3       1.00      1.00      1.00         3\n",
      "           4       1.00      1.00      1.00         3\n",
      "           5       1.00      1.00      1.00         3\n",
      "           6       1.00      1.00      1.00         3\n",
      "\n",
      "    accuracy                           1.00        18\n",
      "   macro avg       1.00      1.00      1.00        18\n",
      "weighted avg       1.00      1.00      1.00        18\n",
      "\n"
     ]
    }
   ],
   "source": [
    "print(\"Classification Report for Test Data\\n\")\n",
    "print(y_test.shape)\n",
    "print(X_test.shape)\n",
    "report(X_test, y_test)"
   ]
  },
  {
   "cell_type": "markdown",
   "metadata": {},
   "source": [
    "### Save model"
   ]
  },
  {
   "cell_type": "code",
   "execution_count": 19,
   "metadata": {},
   "outputs": [
    {
     "data": {
      "text/plain": [
       "['scaler.save']"
      ]
     },
     "execution_count": 19,
     "metadata": {},
     "output_type": "execute_result"
    }
   ],
   "source": [
    "import joblib\n",
    "model.save('speaker-recognition.h5')\n",
    "joblib.dump(scaler, 'scaler.save') "
   ]
  },
  {
   "cell_type": "markdown",
   "metadata": {},
   "source": [
    "\n",
    "Transfer learning\n",
    "\n",
    "https://keras.io/guides/transfer_learning/\n"
   ]
  },
  {
   "cell_type": "markdown",
   "metadata": {},
   "source": [
    "### Load model"
   ]
  },
  {
   "cell_type": "markdown",
   "metadata": {},
   "source": [
    "\n",
    "\n",
    "def preProcessData(csvFileName):\n",
    "    data = pd.read_csv(csvFileName)\n",
    "    filenameArray = data['filename'] \n",
    "    speakerArray = []\n",
    "    #print(filenameArray)\n",
    "    for i in range(len(filenameArray)):\n",
    "        speaker = int(filenameArray[i].split(\"_\")[0].split(\"r\")[1])\n",
    "        speakerArray.append(speaker)\n",
    "    data['number'] = speakerArray\n",
    "    #Dropping unnecessary columns\n",
    "    data = data.drop(['filename'],axis=1)\n",
    "    data = data.drop(['label'],axis=1)\n",
    "    data = data.drop(['chroma_stft'],axis=1)\n",
    "    data.shape\n",
    "    return data\n"
   ]
  },
  {
   "cell_type": "markdown",
   "metadata": {},
   "source": [
    "def getSpeaker(speaker):\n",
    "    speaker = \"Speaker\"+str(speaker).zfill(3)\n",
    "    return speaker\n",
    "    \n",
    "        \n",
    "def printPrediction(X_data, y_data, printDigit, model):\n",
    "    print('\\n# Generate predictions')\n",
    "    for i in range(len(y_data)):\n",
    "        predict_x=model.predict(X_data[i:i+1])[0]\n",
    "        predict_classes = np.argmax(predict_x)\n",
    "        prediction = getSpeaker(predict_classes)\n",
    "    \n",
    "        speaker = getSpeaker(y_data[i])\n",
    "        if printDigit == True:\n",
    "           print(\"Number={0:d}, y={1:10s}- prediction={2:10s}- match={3}\".format(i, speaker, prediction, speaker==prediction))\n",
    "        else:\n",
    "           print(\"y={0:10s}- prediction={1:10s}- match={2}\".format(speaker, prediction, speaker==prediction))"
   ]
  },
  {
   "cell_type": "markdown",
   "metadata": {},
   "source": [
    "def extractWavFeatures(filename, csvFileName):\n",
    "    header = 'filename chroma_stft rmse spectral_centroid spectral_bandwidth rolloff zero_crossing_rate'\n",
    "    for i in range(1, 21):\n",
    "        header += f' mfcc{i}'\n",
    "    header += ' label'\n",
    "    header = header.split()\n",
    "    file = open(csvFileName, 'w', newline='')\n",
    "    #with file:\n",
    "    writer = csv.writer(file)\n",
    "    writer.writerow(header)\n",
    "    number = f'new_audios/test_file/{filename}'\n",
    "    y, sr = librosa.load(number, mono=True, duration=30)\n",
    "    # remove leading and trailing silence\n",
    "    y, index = librosa.effects.trim(y)\n",
    "    chroma_stft = librosa.feature.chroma_stft(y=y, sr=sr)\n",
    "    rmse = librosa.feature.rms(y=y)\n",
    "    spec_cent = librosa.feature.spectral_centroid(y=y, sr=sr)\n",
    "    spec_bw = librosa.feature.spectral_bandwidth(y=y, sr=sr)\n",
    "    rolloff = librosa.feature.spectral_rolloff(y=y, sr=sr)\n",
    "    zcr = librosa.feature.zero_crossing_rate(y)\n",
    "    mfcc = librosa.feature.mfcc(y=y, sr=sr)\n",
    "    to_append = f'{filename} {np.mean(chroma_stft)} {np.mean(rmse)} {np.mean(spec_cent)} {np.mean(spec_bw)} {np.mean(rolloff)} {np.mean(zcr)}'\n",
    "    for e in mfcc:\n",
    "        to_append += f' {np.mean(e)}'\n",
    "    writer.writerow(to_append.split())\n",
    "    file.close()\n",
    "    "
   ]
  },
  {
   "cell_type": "markdown",
   "metadata": {},
   "source": [
    "def predict_audio(filename):\n",
    "    extractWavFeatures(filename, final_test)\n",
    "    final_testData = preProcessData(final_test)\n",
    "    \n",
    "    X_test = np.array(final_testData.iloc[:, :-1], dtype = float)\n",
    "    y_test = final_testData.iloc[:, -1]\n",
    "    \n",
    "    X_test = scaler.transform( X_test )\n",
    "    #y_test=np.array(y_test, dtype=int)\n",
    "    \n",
    "    score = new_model.evaluate(X_test, y_test)\n",
    "    # Prediction\n",
    "    printPrediction(X_test, y_test, False, new_model)\n",
    "    print(y_test)"
   ]
  },
  {
   "cell_type": "markdown",
   "metadata": {},
   "source": [
    "from keras import models\n",
    "from keras import layers\n",
    "import keras\n",
    "from sklearn.preprocessing import StandardScaler\n",
    "from sklearn.model_selection import train_test_split\n",
    "import numpy as np\n",
    "from tqdm import tqdm\n",
    "import os\n",
    "import librosa\n",
    "import warnings\n",
    "warnings.simplefilter('ignore')\n",
    "import pandas as pd\n",
    "import joblib\n",
    "import csv\n",
    "\n",
    "\n",
    "final_test=\"final_test.csv\"\n",
    "new_model = keras.models.load_model('speaker-recognition.h5')\n",
    "scaler = joblib.load('scaler.save') \n",
    "\n",
    "predict_audio(\"Speaker0000_008.wav\")\n"
   ]
  },
  {
   "cell_type": "markdown",
   "metadata": {},
   "source": [
    "### Register\n"
   ]
  },
  {
   "cell_type": "code",
   "execution_count": 49,
   "metadata": {},
   "outputs": [
    {
     "name": "stdout",
     "output_type": "stream",
     "text": [
      "The features of the files in the folder new_audios/train will be saved to new_user.csv\n",
      "CSV Header:  ['filename', 'chroma_stft', 'rmse', 'spectral_centroid', 'spectral_bandwidth', 'rolloff', 'zero_crossing_rate', 'mfcc1', 'mfcc2', 'mfcc3', 'mfcc4', 'mfcc5', 'mfcc6', 'mfcc7', 'mfcc8', 'mfcc9', 'mfcc10', 'mfcc11', 'mfcc12', 'mfcc13', 'mfcc14', 'mfcc15', 'mfcc16', 'mfcc17', 'mfcc18', 'mfcc19', 'mfcc20', 'label']\n"
     ]
    },
    {
     "name": "stderr",
     "output_type": "stream",
     "text": [
      "100%|███████████████████████████████████████████| 40/40 [00:04<00:00,  9.21it/s]"
     ]
    },
    {
     "name": "stdout",
     "output_type": "stream",
     "text": [
      "End of extractWavFeatures\n"
     ]
    },
    {
     "name": "stderr",
     "output_type": "stream",
     "text": [
      "\n"
     ]
    }
   ],
   "source": [
    "TRAIN_CSV_FILE = \"train.csv\"\n",
    "NEW_USER = \"new_user.csv\"\n",
    "extractWavFeatures(\"new_audios/train\", NEW_USER)\n"
   ]
  },
  {
   "cell_type": "code",
   "execution_count": 50,
   "metadata": {},
   "outputs": [],
   "source": [
    "dataFrame = pd.read_csv(NEW_USER)\n",
    "dataFrame.to_csv(TRAIN_CSV_FILE, mode='a', index=False, header=False)"
   ]
  },
  {
   "cell_type": "code",
   "execution_count": 51,
   "metadata": {},
   "outputs": [
    {
     "name": "stdout",
     "output_type": "stream",
     "text": [
      "train.csv will be preprocessed\n",
      "Preprocessing is finished\n",
      "       rmse  spectral_centroid  spectral_bandwidth      rolloff  \\\n",
      "0  0.064504        1569.688043         1506.731848  3066.790822   \n",
      "1  0.064830        2057.210530         1597.244082  3786.038313   \n",
      "2  0.092658        1181.035421         1374.753130  2402.608549   \n",
      "3  0.085844        1815.274877         1575.471953  3452.206903   \n",
      "4  0.075098        2092.319580         2028.187798  3974.275635   \n",
      "\n",
      "   zero_crossing_rate       mfcc1       mfcc2      mfcc3      mfcc4  \\\n",
      "0            0.088593 -294.223389  128.150131 -25.378933  35.692875   \n",
      "1            0.145302 -292.809662   93.066406 -18.865705  40.035877   \n",
      "2            0.050898 -295.910645  143.007278  -2.199128  36.508137   \n",
      "3            0.104792 -299.378693  107.956589 -12.154802  47.214848   \n",
      "4            0.088608 -250.849945   97.867928 -17.945627  41.529243   \n",
      "\n",
      "       mfcc5  ...    mfcc12    mfcc13    mfcc14    mfcc15    mfcc16    mfcc17  \\\n",
      "0 -10.917240  ... -6.785559  4.781332 -2.992559 -0.653597 -4.344651  1.113627   \n",
      "1  -6.271842  ... -0.536049  2.811831  0.179783  3.760581 -3.470869  1.333992   \n",
      "2   9.465747  ... -3.318785  3.968258 -3.255041  2.943048  1.497882 -2.661244   \n",
      "3   2.176036  ... -6.846391  5.594980 -4.376927  7.033591  0.235316  1.046456   \n",
      "4   6.881348  ...  4.112506 -1.847642  9.959877  0.068514  4.970633 -6.097534   \n",
      "\n",
      "     mfcc18    mfcc19    mfcc20  number  \n",
      "0 -0.986814 -5.635451 -2.515651       4  \n",
      "1  0.435518 -5.289611 -1.791235       4  \n",
      "2 -2.448021 -1.797198 -1.046374       0  \n",
      "3 -1.370316 -0.679259 -1.474565       0  \n",
      "4  4.534381 -6.986448  3.755844       1  \n",
      "\n",
      "[5 rows x 26 columns]\n",
      "Y from training data: (56,)\n",
      "Y from validation data: (24,)\n"
     ]
    }
   ],
   "source": [
    "trainData = preProcessData(TRAIN_CSV_FILE)\n",
    "# Splitting the dataset into training, validation and testing dataset\n",
    "from sklearn.model_selection import train_test_split\n",
    "X = np.array(trainData.iloc[:, :-1], dtype = float)\n",
    "y = trainData.iloc[:, -1]\n",
    "X_train, X_val, y_train, y_val = train_test_split(X, y, test_size=0.3, random_state=50)\n",
    "\n",
    "print(\"Y from training data:\", y_train.shape)\n",
    "print(\"Y from validation data:\", y_val.shape)\n"
   ]
  },
  {
   "cell_type": "code",
   "execution_count": null,
   "metadata": {},
   "outputs": [],
   "source": []
  },
  {
   "cell_type": "code",
   "execution_count": 52,
   "metadata": {},
   "outputs": [
    {
     "name": "stdout",
     "output_type": "stream",
     "text": [
      "X from training data (56, 25)\n",
      "X from validation data (24, 25)\n"
     ]
    }
   ],
   "source": [
    "#Normalizing the dataset\n",
    "from sklearn.preprocessing import StandardScaler\n",
    "import numpy as np\n",
    "scaler = StandardScaler()\n",
    "X_train = scaler.fit_transform( X_train )\n",
    "X_val = scaler.transform( X_val )\n",
    "\n",
    "print(\"X from training data\", X_train.shape)\n",
    "print(\"X from validation data\", X_val.shape)\n"
   ]
  },
  {
   "cell_type": "code",
   "execution_count": 53,
   "metadata": {},
   "outputs": [
    {
     "name": "stdout",
     "output_type": "stream",
     "text": [
      "(56, 25)\n",
      "Epoch 1/100\n",
      "56/56 [==============================] - 0s 3ms/step - loss: 3.7201 - accuracy: 0.0536 - val_loss: 2.8969 - val_accuracy: 0.5000\n",
      "Epoch 2/100\n",
      "56/56 [==============================] - 0s 1ms/step - loss: 2.5534 - accuracy: 0.2500 - val_loss: 1.3591 - val_accuracy: 0.9167\n",
      "Epoch 3/100\n",
      "56/56 [==============================] - 0s 1ms/step - loss: 1.4551 - accuracy: 0.5179 - val_loss: 0.4675 - val_accuracy: 1.0000\n",
      "Epoch 4/100\n",
      "56/56 [==============================] - 0s 1ms/step - loss: 1.1080 - accuracy: 0.6429 - val_loss: 0.1800 - val_accuracy: 1.0000\n",
      "Epoch 5/100\n",
      "56/56 [==============================] - 0s 1ms/step - loss: 0.5416 - accuracy: 0.8214 - val_loss: 0.0915 - val_accuracy: 1.0000\n",
      "Epoch 6/100\n",
      "56/56 [==============================] - 0s 1ms/step - loss: 0.4629 - accuracy: 0.8393 - val_loss: 0.0595 - val_accuracy: 1.0000\n",
      "Epoch 7/100\n",
      "56/56 [==============================] - 0s 1ms/step - loss: 0.4293 - accuracy: 0.8929 - val_loss: 0.0492 - val_accuracy: 1.0000\n",
      "Epoch 8/100\n",
      "56/56 [==============================] - 0s 1ms/step - loss: 0.2594 - accuracy: 0.9286 - val_loss: 0.0201 - val_accuracy: 1.0000\n",
      "Epoch 9/100\n",
      "56/56 [==============================] - 0s 1ms/step - loss: 0.2093 - accuracy: 0.9464 - val_loss: 0.0145 - val_accuracy: 1.0000\n",
      "Epoch 10/100\n",
      "56/56 [==============================] - 0s 1ms/step - loss: 0.3222 - accuracy: 0.9107 - val_loss: 0.0092 - val_accuracy: 1.0000\n",
      "Epoch 11/100\n",
      "56/56 [==============================] - 0s 1ms/step - loss: 0.2778 - accuracy: 0.9107 - val_loss: 0.0033 - val_accuracy: 1.0000\n",
      "Epoch 12/100\n",
      "56/56 [==============================] - 0s 1ms/step - loss: 0.1136 - accuracy: 0.9821 - val_loss: 0.0034 - val_accuracy: 1.0000\n",
      "Epoch 13/100\n",
      "56/56 [==============================] - 0s 1ms/step - loss: 0.0987 - accuracy: 0.9464 - val_loss: 0.0019 - val_accuracy: 1.0000\n",
      "Epoch 14/100\n",
      "56/56 [==============================] - 0s 1ms/step - loss: 0.0394 - accuracy: 1.0000 - val_loss: 0.0013 - val_accuracy: 1.0000\n",
      "Epoch 15/100\n",
      "56/56 [==============================] - 0s 1ms/step - loss: 0.0916 - accuracy: 0.9464 - val_loss: 0.0013 - val_accuracy: 1.0000\n",
      "Epoch 16/100\n",
      "56/56 [==============================] - 0s 1ms/step - loss: 0.0817 - accuracy: 0.9643 - val_loss: 8.5189e-04 - val_accuracy: 1.0000\n",
      "Epoch 17/100\n",
      "56/56 [==============================] - 0s 1ms/step - loss: 0.1128 - accuracy: 0.9821 - val_loss: 6.0078e-04 - val_accuracy: 1.0000\n",
      "Epoch 18/100\n",
      "56/56 [==============================] - 0s 1ms/step - loss: 0.0506 - accuracy: 1.0000 - val_loss: 3.8855e-04 - val_accuracy: 1.0000\n",
      "Epoch 19/100\n",
      "56/56 [==============================] - 0s 1ms/step - loss: 0.0713 - accuracy: 0.9643 - val_loss: 9.5909e-04 - val_accuracy: 1.0000\n",
      "Epoch 20/100\n",
      "56/56 [==============================] - 0s 1ms/step - loss: 0.0416 - accuracy: 1.0000 - val_loss: 7.5452e-04 - val_accuracy: 1.0000\n",
      "Epoch 21/100\n",
      "56/56 [==============================] - 0s 1ms/step - loss: 0.0945 - accuracy: 0.9464 - val_loss: 6.5620e-04 - val_accuracy: 1.0000\n",
      "Epoch 21: early stopping\n",
      "{0, 1, 2, 3, 4}\n"
     ]
    }
   ],
   "source": [
    "#Creating a Model\n",
    "from keras import models\n",
    "from keras import layers\n",
    "import keras\n",
    "\n",
    "# model 1\n",
    "model = models.Sequential()\n",
    "model.add(layers.Dense(256, activation='relu', input_shape=(X_train.shape[1],)))\n",
    "model.add(layers.Dropout(0.5))\n",
    "model.add(layers.Dense(128, activation='relu'))\n",
    "model.add(layers.Dropout(0.5))\n",
    "model.add(layers.Dense(64, activation='relu'))\n",
    "model.add(layers.Dropout(0.5))\n",
    "model.add(layers.Dense(len(y_train), activation='softmax'))\n",
    "\n",
    "# Learning Process of a model\n",
    "model.compile(optimizer='adam',\n",
    "              loss='sparse_categorical_crossentropy',\n",
    "              metrics=['accuracy'])\n",
    "\n",
    "# simple early stopping\n",
    "from keras.callbacks import EarlyStopping\n",
    "#es = EarlyStopping(monitor='val_accuracy', patience=10, verbose=1)\n",
    "es = EarlyStopping(monitor='val_loss', patience=3, verbose=1)\n",
    "print(X_train.shape)\n",
    "#Train with early stopping to avoid overfitting\n",
    "y_train=np.array(y_train, dtype=int)\n",
    "y_val=np.array(y_val, dtype=int)\n",
    "history = model.fit(X_train,y_train,validation_data=(X_val, y_val),epochs=100,batch_size=1, callbacks=[es])\n",
    "print(set(y_train))"
   ]
  },
  {
   "cell_type": "code",
   "execution_count": 57,
   "metadata": {},
   "outputs": [
    {
     "name": "stdout",
     "output_type": "stream",
     "text": [
      "test.csv will be preprocessed\n",
      "Preprocessing is finished\n",
      "       rmse  spectral_centroid  spectral_bandwidth      rolloff  \\\n",
      "0  0.094364        1862.814696         1822.967672  3592.026402   \n",
      "1  0.085986        1367.838528         1441.170668  2784.921282   \n",
      "2  0.109542        1327.023681         1418.541196  2749.013432   \n",
      "3  0.078186        2121.639669         2029.079365  3884.908854   \n",
      "4  0.070140        1473.713619         1422.211072  2715.327171   \n",
      "\n",
      "   zero_crossing_rate       mfcc1       mfcc2      mfcc3      mfcc4  \\\n",
      "0            0.092347 -235.968857  118.228134 -11.064094  42.596210   \n",
      "1            0.064129 -296.392792  129.334442 -10.527012  57.642262   \n",
      "2            0.065182 -274.423615  120.944115  -8.682960  37.727226   \n",
      "3            0.101110 -253.870972   98.048782  -7.903374  35.405315   \n",
      "4            0.087575 -305.503937  141.266724   1.960678  33.181313   \n",
      "\n",
      "       mfcc5  ...    mfcc12    mfcc13    mfcc14    mfcc15    mfcc16    mfcc17  \\\n",
      "0  20.598045  ... -5.087656 -0.226178  4.654130 -4.638676  9.028797 -2.595971   \n",
      "1  11.542464  ... -4.488722  4.739452 -5.270012  4.516982 -0.480107 -0.697920   \n",
      "2  -2.386111  ... -3.224824 -4.291646 -4.922679 -2.326184 -8.692584  1.110823   \n",
      "3   4.830322  ...  1.980455 -1.807901  9.254891 -1.711965  5.088833 -5.537093   \n",
      "4 -12.746344  ... -4.154229  5.316267 -2.599209  6.793464 -0.630188  0.301788   \n",
      "\n",
      "     mfcc18     mfcc19    mfcc20  number  \n",
      "0 -3.748404   1.970990 -2.471530       2  \n",
      "1 -2.250077  -0.242805 -0.224676       0  \n",
      "2 -3.032329 -10.137652 -2.867886       3  \n",
      "3  0.566987  -6.825185 -3.674999       1  \n",
      "4  1.333796  -0.194216 -3.231247       5  \n",
      "\n",
      "[5 rows x 26 columns]\n",
      "{0, 1, 2, 3, 4, 5}\n",
      "X from test data [[ 7.63455213e-01  1.07654727e-03  5.53552029e-01  1.54915946e-01\n",
      "  -2.71216943e-01  1.05749392e+00  3.59556403e-01  3.06079402e-01\n",
      "   4.96000208e-01  1.90083112e+00  8.57049497e-02  6.89698278e-01\n",
      "   1.17805724e+00 -2.20048104e+00 -7.13274886e-01 -8.54099389e-01\n",
      "  -7.54990342e-01 -7.72070698e-01  4.35488111e-01 -1.35320938e+00\n",
      "   1.30857241e+00 -2.43979560e-01 -1.04631282e+00  1.82861246e+00\n",
      "  -8.84663512e-01]\n",
      " [ 3.15180788e-01 -1.09846723e+00 -1.04962172e+00 -1.06057113e+00\n",
      "  -1.08039215e+00 -7.21900216e-01  9.69862120e-01  3.71076723e-01\n",
      "   2.22785290e+00  9.64600985e-01  1.83506737e+00  5.94221806e-01\n",
      "   9.75922457e-01  1.04602794e-01  5.80202826e-01  1.60782511e+00\n",
      "  -5.93846753e-01  7.50183238e-01 -1.09062152e+00  1.03364289e+00\n",
      "  -1.58369825e-01  3.19590954e-01 -4.60332064e-01  1.15098570e+00\n",
      "  -3.26303108e-02]\n",
      " [ 1.57556162e+00 -1.18913364e+00 -1.14464336e+00 -1.11464776e+00\n",
      "  -1.05022070e+00 -7.49409414e-02  5.08802979e-01  5.94242875e-01\n",
      "  -6.44367746e-02 -4.75433860e-01 -8.08215308e-01  2.90887827e-01\n",
      "  -4.33549826e-01  1.08196193e+00 -1.00123863e+00 -5.96535095e-01\n",
      "  -2.53794143e-01 -2.01837258e+00 -1.03720953e+00 -7.50349868e-01\n",
      "  -1.42531189e+00  8.56643904e-01 -7.66262907e-01 -1.87775558e+00\n",
      "  -1.03496618e+00]\n",
      " [-1.02187314e-01  5.76032286e-01  1.41901941e+00  5.95992117e-01\n",
      "  -1.99176634e-02  5.30303521e-01 -7.49324585e-01  6.88587906e-01\n",
      "  -3.31696773e-01  2.70652191e-01 -1.76963283e+00  3.48175429e-01\n",
      "  -1.43615809e+00  3.17081077e-01 -1.43675255e+00 -1.52313130e+00\n",
      "   1.14669049e+00 -1.25696058e+00  1.14298176e+00 -5.90224660e-01\n",
      "   7.00752672e-01 -1.11725904e+00  6.41393348e-01 -8.63833314e-01\n",
      "  -1.34103288e+00]\n",
      " [-5.32680417e-01 -8.63275508e-01 -1.12923347e+00 -1.16537872e+00\n",
      "  -4.08070505e-01 -9.90209752e-01  1.62555613e+00  1.88232982e+00\n",
      "  -5.87687218e-01 -1.54654806e+00  1.84906773e+00  2.49655793e-01\n",
      "   2.81931744e-01  1.03182494e+00  8.00985658e-02  5.58380125e-01\n",
      "  -5.03851229e-01  9.27010562e-01 -6.79912107e-01  1.62711489e+00\n",
      "  -1.81522949e-01  6.16424829e-01  9.41284625e-01  1.16585856e+00\n",
      "  -1.17275694e+00]\n",
      " [-4.72041819e-01  4.78798528e-01  1.19429963e+00  5.26658718e-01\n",
      "   1.11064528e-01  3.30054094e-01 -4.41256298e-01  6.10148797e-02\n",
      "  -6.54920336e-01 -2.87330226e-01 -1.34276412e+00  3.60819504e-01\n",
      "  -1.66930533e+00  5.96445223e-01 -2.00362116e-01 -2.93280696e-02\n",
      "   9.52725530e-01 -1.61598092e+00  1.69934186e+00 -1.62661382e+00\n",
      "   3.03533788e-01 -2.91997915e-01  2.04377200e+00 -7.08979108e-01\n",
      "   8.13973150e-01]\n",
      " [-6.49129871e-01 -1.09661397e+00 -9.39380159e-01 -1.02506244e+00\n",
      "  -1.07778058e+00 -1.22569529e+00  1.31024455e+00  5.80497057e-01\n",
      "   1.27185224e+00  5.23229781e-01  2.01207626e+00  7.41075225e-01\n",
      "   1.18845833e+00  1.00235255e-01  4.50466032e-01  1.25793270e+00\n",
      "  -1.02345369e+00  7.08924420e-01 -1.03344009e+00  1.56114058e+00\n",
      "  -1.94572224e-01  2.89785697e-01 -1.50768935e-01  1.10727934e+00\n",
      "   8.13397502e-01]\n",
      " [-3.27354258e-01 -9.06554459e-01 -8.55870426e-01 -9.10569845e-01\n",
      "  -1.08122161e+00 -3.26075483e-01  8.87517807e-01 -7.76462491e-02\n",
      "  -1.17629501e+00 -8.77081789e-01  7.38358574e-01  2.89896657e-01\n",
      "  -3.72641588e-01  6.73398399e-01  9.30382694e-01  1.20041007e+00\n",
      "   5.15386818e-01  3.36598932e-01 -5.47058456e-01  3.83520589e-01\n",
      "  -1.37308857e+00 -4.32155078e-02 -5.23490660e-01 -9.72643527e-01\n",
      "  -5.79974991e-01]\n",
      " [ 7.37013855e-01  7.58630138e-03  8.47753051e-03 -2.81914946e-01\n",
      "   1.14104974e-01  1.28140558e+00  7.33235680e-01  3.37505355e-01\n",
      "   4.83677102e-03  5.00181555e-01 -1.15914147e+00  2.28442113e+00\n",
      "   1.21469881e+00 -2.31289012e+00 -3.04056047e-01 -5.41922788e-01\n",
      "   1.75323451e+00 -1.08727165e+00  1.10246341e+00 -1.39875284e+00\n",
      "   2.11083399e+00 -2.49222298e-01 -1.69615709e+00  2.33802177e-01\n",
      "   1.50056242e-02]\n",
      " [-6.80038585e-01 -1.27410860e+00 -1.16243242e+00 -1.14203886e+00\n",
      "  -1.17595573e+00 -1.19946322e+00  1.11137237e+00  8.12192156e-02\n",
      "  -3.91693772e-01 -7.45298747e-02 -1.76264711e-01  8.66281913e-01\n",
      "  -5.89429589e-01  1.29531696e+00  5.73744437e-03 -1.40187318e-02\n",
      "   5.27289913e-01 -1.03046272e+00 -5.28244204e-01  1.00275396e-01\n",
      "  -9.61132854e-01  6.64708979e-01  5.60643158e-02 -7.36494227e-01\n",
      "  -7.43647966e-01]\n",
      " [-2.34081557e-01 -9.75458102e-01 -1.29143404e+00 -1.25518981e+00\n",
      "  -5.46963105e-01 -1.58604756e+00  1.17576503e+00  2.09084803e+00\n",
      "   3.88446363e-01 -8.54010004e-02  1.32887907e+00  2.39952847e-01\n",
      "  -8.78131077e-01  1.31426784e+00 -9.24018628e-01 -3.32205949e-01\n",
      "   5.36640492e-02 -5.48240517e-01 -8.95409087e-01  8.62080728e-01\n",
      "  -4.08855370e-01 -5.71865734e-01  2.37362905e-01  1.05069560e+00\n",
      "  -7.48652220e-01]\n",
      " [-1.39668845e+00 -2.80004313e-01 -5.15597797e-01 -2.40212440e-01\n",
      "   7.94647969e-02 -8.04380814e-01  2.76472962e-01 -1.38514300e+00\n",
      "   7.65688784e-01 -1.42371447e+00  4.46535572e-01 -1.16790409e+00\n",
      "  -1.37726222e+00  6.98141905e-01 -1.93639387e+00 -1.27605731e-01\n",
      "  -5.82595676e-01  4.13286831e-01 -4.61720770e-01  4.85274916e-01\n",
      "  -8.16602500e-01  9.79002829e-01  1.21702876e-01 -7.39613023e-01\n",
      "  -6.86230454e-01]\n",
      " [-2.60046917e-01 -1.15805202e+00 -1.24130565e+00 -1.30615452e+00\n",
      "  -1.13137873e+00 -5.31123053e-01  1.33602559e+00  1.02255706e+00\n",
      "   3.51032817e-01 -1.06917599e-01  9.73535127e-01  1.17154597e+00\n",
      "   7.06946260e-01  3.50878784e-02  6.70495235e-01  1.69541337e+00\n",
      "   1.27125727e-01  7.68722005e-01 -5.54268444e-01  1.26116252e+00\n",
      "  -1.19765929e-01  5.98622020e-01 -4.72418795e-01  1.01083857e+00\n",
      "   4.23903372e-01]\n",
      " [-1.11861934e-01  5.13454247e-01  1.15739837e+00  5.86887551e-01\n",
      "   1.05469503e-01  5.76817374e-01 -7.62595783e-01  6.42901276e-01\n",
      "   1.07669218e+00  2.46824057e-01 -2.14183791e+00  3.08028539e-01\n",
      "  -1.21977857e+00 -1.22571099e-01 -2.18770553e+00 -1.80072646e+00\n",
      "   1.84910625e+00 -1.65002000e+00  1.20136194e+00 -7.08862647e-01\n",
      "   2.22544414e-01 -1.29594992e+00  1.58253691e+00 -1.75251914e+00\n",
      "  -1.36023628e-02]\n",
      " [ 9.38799935e-01 -1.62160945e-01  6.60481103e-02 -2.10111757e-01\n",
      "  -1.19157188e-01  9.98223512e-01  3.72471661e-01 -2.17786974e-01\n",
      "   1.74254554e+00  2.48462164e+00 -8.80103031e-01  1.20418735e+00\n",
      "   1.09267487e+00 -1.94226388e+00 -1.48541686e-01 -1.73018425e+00\n",
      "  -2.31172485e-01 -1.04178514e+00  5.34068695e-01 -1.98924251e+00\n",
      "   1.48416425e+00 -4.59887798e-01 -9.14753032e-01 -2.52237563e-01\n",
      "  -6.40089008e-02]\n",
      " [-1.06997347e+00 -1.45998287e+00 -1.32700947e+00 -1.59102780e+00\n",
      "  -1.39730806e+00 -1.99167437e+00  2.10597893e+00  2.02027496e+00\n",
      "  -5.33033380e-02 -1.37349147e-01  2.15689500e+00  2.73139883e-01\n",
      "   1.13982256e-01  1.05043830e+00 -3.90719977e-01  2.74333648e-01\n",
      "  -8.90185433e-01  1.01431274e-01 -7.46466320e-01  1.37669624e+00\n",
      "  -3.93813689e-02  2.08054260e-01  2.66154560e-01  1.17961771e+00\n",
      "  -2.78862501e-01]\n",
      " [ 1.19388923e-01 -2.09538665e-02 -4.40972809e-01  9.85699460e-02\n",
      "   5.23866700e-01  7.23950135e-02 -3.03625740e-01 -1.04391511e+00\n",
      "   1.45365622e+00 -1.16886844e+00 -1.45968064e-01 -1.43179718e+00\n",
      "  -1.47067065e+00  2.90578363e-01 -2.59113112e+00 -3.67383774e-01\n",
      "  -9.31261393e-01  4.11326726e-01 -3.88289702e-01  1.44022164e-02\n",
      "  -9.71316610e-01  1.27047056e+00  2.16565483e-01 -7.86800147e-01\n",
      "  -3.03551648e-01]\n",
      " [-8.81571916e-01  3.95404292e-01 -3.49123074e-01  3.52716646e-01\n",
      "   8.39671487e-01 -8.85743434e-01 -4.40569156e-01 -1.93742455e+00\n",
      "  -1.81777383e-01 -2.34719751e+00  3.93337720e-01 -8.98406008e-01\n",
      "  -1.55103843e+00  7.07687339e-01 -1.78912689e+00  4.67059923e-01\n",
      "  -1.63835711e+00  1.99740109e-01 -3.51477881e-01 -3.25424819e-01\n",
      "  -8.14082124e-01  5.72947559e-01  5.85829578e-01 -9.03606436e-01\n",
      "  -5.90242844e-01]]\n",
      "{0, 1, 2, 3, 4, 5}\n",
      "Y from test data: (18,)\n"
     ]
    }
   ],
   "source": [
    "testData = preProcessData(TEST_CSV_FILE)\n",
    "\n",
    "X_test = np.array(testData.iloc[:, :-1], dtype = float)\n",
    "y_test = testData.iloc[:, -1]\n",
    "print(set(y_test))\n",
    "\n",
    "X_test = scaler.transform( X_test )\n",
    "print(\"X from test data\", X_test.shape)\n",
    "\n",
    "print(set(y_test))\n",
    "print(\"Y from test data:\", y_test.shape)\n"
   ]
  },
  {
   "cell_type": "code",
   "execution_count": 55,
   "metadata": {},
   "outputs": [
    {
     "name": "stdout",
     "output_type": "stream",
     "text": [
      "\n",
      "# TEST DATA #\n",
      "\n",
      "1/1 [==============================] - 0s 96ms/step - loss: 2.8161 - accuracy: 0.8333\n",
      "accuracy: 83.33%\n",
      "\n",
      "# Generate predictions\n",
      "1/1 [==============================] - 0s 44ms/step\n",
      "y=Speaker002- prediction=Speaker002- match=True\n",
      "1/1 [==============================] - 0s 14ms/step\n",
      "y=Speaker000- prediction=Speaker000- match=True\n",
      "1/1 [==============================] - 0s 14ms/step\n",
      "y=Speaker003- prediction=Speaker003- match=True\n",
      "1/1 [==============================] - 0s 14ms/step\n",
      "y=Speaker001- prediction=Speaker001- match=True\n",
      "1/1 [==============================] - 0s 15ms/step\n",
      "y=Speaker005- prediction=Speaker000- match=False\n",
      "1/1 [==============================] - 0s 15ms/step\n",
      "y=Speaker001- prediction=Speaker001- match=True\n",
      "1/1 [==============================] - 0s 14ms/step\n",
      "y=Speaker000- prediction=Speaker000- match=True\n",
      "1/1 [==============================] - 0s 15ms/step\n",
      "y=Speaker003- prediction=Speaker003- match=True\n",
      "1/1 [==============================] - 0s 15ms/step\n",
      "y=Speaker002- prediction=Speaker002- match=True\n",
      "1/1 [==============================] - 0s 15ms/step\n",
      "y=Speaker003- prediction=Speaker003- match=True\n",
      "1/1 [==============================] - 0s 15ms/step\n",
      "y=Speaker005- prediction=Speaker000- match=False\n",
      "1/1 [==============================] - 0s 17ms/step\n",
      "y=Speaker004- prediction=Speaker004- match=True\n",
      "1/1 [==============================] - 0s 15ms/step\n",
      "y=Speaker000- prediction=Speaker000- match=True\n",
      "1/1 [==============================] - 0s 15ms/step\n",
      "y=Speaker001- prediction=Speaker001- match=True\n",
      "1/1 [==============================] - 0s 15ms/step\n",
      "y=Speaker002- prediction=Speaker002- match=True\n",
      "1/1 [==============================] - 0s 14ms/step\n",
      "y=Speaker005- prediction=Speaker000- match=False\n",
      "1/1 [==============================] - 0s 15ms/step\n",
      "y=Speaker004- prediction=Speaker004- match=True\n",
      "1/1 [==============================] - 0s 15ms/step\n",
      "y=Speaker004- prediction=Speaker004- match=True\n"
     ]
    }
   ],
   "source": [
    "print('\\n# TEST DATA #\\n')\n",
    "y_test=np.array(y_test, dtype=int)\n",
    "score = model.evaluate(X_test, y_test)\n",
    "print(\"%s: %.2f%%\" % (model.metrics_names[1], score[1]*100))\n",
    "# Prediction\n",
    "printPrediction(X_test, y_test, False, model)"
   ]
  },
  {
   "cell_type": "code",
   "execution_count": 56,
   "metadata": {},
   "outputs": [
    {
     "name": "stdout",
     "output_type": "stream",
     "text": [
      "Classification Report for Test Data\n",
      "\n",
      "(18,)\n",
      "(18, 25)\n",
      "1/1 [==============================] - 0s 15ms/step\n",
      "[3 0 0 0 0 0]\n",
      "0\n"
     ]
    },
    {
     "data": {
      "image/png": "[encoded data removed]",
      "text/plain": [
       "<Figure size 480x480 with 1 Axes>"
      ]
     },
     "metadata": {},
     "output_type": "display_data"
    },
    {
     "name": "stdout",
     "output_type": "stream",
     "text": [
      "\n",
      "Classification Report\n",
      "              precision    recall  f1-score   support\n",
      "\n",
      "           0       0.50      1.00      0.67         3\n",
      "           1       1.00      1.00      1.00         3\n",
      "           2       1.00      1.00      1.00         3\n",
      "           3       1.00      1.00      1.00         3\n",
      "           4       1.00      1.00      1.00         3\n",
      "           5       0.00      0.00      0.00         3\n",
      "\n",
      "    accuracy                           0.83        18\n",
      "   macro avg       0.75      0.83      0.78        18\n",
      "weighted avg       0.75      0.83      0.78        18\n",
      "\n"
     ]
    }
   ],
   "source": [
    "print(\"Classification Report for Test Data\\n\")\n",
    "print(y_test.shape)\n",
    "print(X_test.shape)\n",
    "report(X_test, y_test)"
   ]
  },
  {
   "cell_type": "code",
   "execution_count": null,
   "metadata": {},
   "outputs": [],
   "source": []
  }
 ],
 "metadata": {
  "kernelspec": {
   "display_name": "Python 3 (ipykernel)",
   "language": "python",
   "name": "python3"
  },
  "language_info": {
   "codemirror_mode": {
    "name": "ipython",
    "version": 3
   },
   "file_extension": ".py",
   "mimetype": "text/x-python",
   "name": "python",
   "nbconvert_exporter": "python",
   "pygments_lexer": "ipython3",
   "version": "3.9.12"
  },
  "vscode": {
   "interpreter": {
    "hash": "916dbcbb3f70747c44a77c7bcd40155683ae19c65e1c03b4aa3499c5328201f1"
   }
  }
 },
 "nbformat": 4,
 "nbformat_minor": 2
}
