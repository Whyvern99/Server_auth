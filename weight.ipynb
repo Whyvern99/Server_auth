{
 "cells": [
  {
   "cell_type": "code",
   "execution_count": 116,
   "id": "6c1a7240",
   "metadata": {},
   "outputs": [],
   "source": [
    "#requisits and ignore warnings\n",
    "import warnings\n",
    "warnings.simplefilter('ignore')\n",
    "\n",
    "import fnmatch\n",
    "import collections\n",
    "import keras\n",
    "import librosa\n",
    "import csv\n",
    "import os\n",
    "import numpy as np\n",
    "import pandas as pd\n",
    "import matplotlib.pyplot as plt\n",
    "import tensorflow as tf\n",
    "from sklearn.preprocessing import StandardScaler\n",
    "from sklearn.model_selection import train_test_split\n",
    "from keras import models, layers\n",
    "from keras import backend as K\n",
    "from keras.callbacks import EarlyStopping\n",
    "from keras.models import Sequential\n",
    "from keras.layers.core import Dense, Dropout, Activation, Flatten\n",
    "from keras.layers.convolutional import Convolution2D, MaxPooling2D\n",
    "from keras.preprocessing.image import ImageDataGenerator\n",
    "from matplotlib import pyplot, cm\n",
    "from tqdm import tqdm\n",
    "from sklearn import preprocessing\n",
    "from sklearn.metrics import classification_report, confusion_matrix"
   ]
  },
  {
   "cell_type": "code",
   "execution_count": 117,
   "id": "d84d086a",
   "metadata": {},
   "outputs": [
    {
     "data": {
      "text/plain": [
       "{0, 1}"
      ]
     },
     "execution_count": 117,
     "metadata": {},
     "output_type": "execute_result"
    }
   ],
   "source": [
    "df_train = pd.read_parquet(\"train.parquet\")\n",
    "df_test = pd.read_parquet(\"test.parquet\")\n",
    "set(df_test['number'])"
   ]
  },
  {
   "cell_type": "code",
   "execution_count": 118,
   "id": "50697cda",
   "metadata": {},
   "outputs": [
    {
     "name": "stdout",
     "output_type": "stream",
     "text": [
      "{0, 1}\n",
      "Y from training data: (9903,)\n",
      "Y from validation data: (4245,)\n",
      "Y from test data: (3586,)\n",
      "X from training data (9903, 25)\n",
      "X from validation data (4245, 25)\n",
      "X from test data (3586, 25)\n"
     ]
    }
   ],
   "source": [
    "# Splitting the dataset into training, validation and testing dataset\n",
    "from sklearn.model_selection import train_test_split\n",
    "X = np.array(df_train.iloc[:, :-1], dtype = float)\n",
    "y = df_train.iloc[:, -1]\n",
    "X_train, X_val, y_train, y_val = train_test_split(X, y, test_size=0.3, random_state=50)\n",
    "\n",
    "\n",
    "X_test = np.array(df_test.iloc[:, :-1], dtype = float)\n",
    "y_test = df_test.iloc[:, -1]\n",
    "print(set(y_train))\n",
    "\n",
    "print(\"Y from training data:\", y_train.shape)\n",
    "print(\"Y from validation data:\", y_val.shape)\n",
    "print(\"Y from test data:\", y_test.shape)\n",
    "#Normalizing the dataset\n",
    "from sklearn.preprocessing import StandardScaler\n",
    "import numpy as np\n",
    "scaler = StandardScaler()\n",
    "X_train = scaler.fit_transform( X_train )\n",
    "X_val = scaler.transform( X_val )\n",
    "X_test = scaler.transform( X_test )\n",
    "\n",
    "print(\"X from training data\", X_train.shape)\n",
    "print(\"X from validation data\", X_val.shape)\n",
    "print(\"X from test data\", X_test.shape)\n"
   ]
  },
  {
   "cell_type": "code",
   "execution_count": 110,
   "id": "82eb3acd",
   "metadata": {},
   "outputs": [
    {
     "name": "stdout",
     "output_type": "stream",
     "text": [
      "{'rmse': {'min': 0.0, 'max': 0.2987199425697326}, 'spectral_centroid': {'min': 0.0, 'max': 8700.11802616989}, 'spectral_bandwidth': {'min': 0.0, 'max': 4265.599155383625}, 'rolloff': {'min': 0.0, 'max': 10471.884800011005}, 'zero_crossing_rate': {'min': 0.0, 'max': 0.7746908698283451}, 'mfcc1': {'min': -1131.37109375, 'max': -80.93429565429688}, 'mfcc2': {'min': -26.236894607543945, 'max': 257.5633544921875}, 'mfcc3': {'min': -101.74254608154295, 'max': 67.23930358886719}, 'mfcc4': {'min': -41.43012619018555, 'max': 78.62216186523438}, 'mfcc5': {'min': -64.87045288085938, 'max': 58.97296142578125}, 'mfcc6': {'min': -71.82410430908203, 'max': 46.07552337646485}, 'mfcc7': {'min': -52.864013671875, 'max': 34.5647087097168}, 'mfcc8': {'min': -36.29061508178711, 'max': 24.04332733154297}, 'mfcc9': {'min': -51.674110412597656, 'max': 18.55243492126465}, 'mfcc10': {'min': -34.78253173828125, 'max': 26.022844314575195}, 'mfcc11': {'min': -37.08513259887695, 'max': 16.11619758605957}, 'mfcc12': {'min': -41.36359786987305, 'max': 18.74734878540039}, 'mfcc13': {'min': -27.690105438232425, 'max': 21.107824325561523}, 'mfcc14': {'min': -23.656625747680664, 'max': 15.424761772155762}, 'mfcc15': {'min': -30.362319946289062, 'max': 16.46346664428711}, 'mfcc16': {'min': -27.10465812683105, 'max': 19.153295516967773}, 'mfcc17': {'min': -29.32015037536621, 'max': 15.969300270080566}, 'mfcc18': {'min': -29.391990661621094, 'max': 13.101110458374023}, 'mfcc19': {'min': -14.827966690063477, 'max': 15.752256393432615}, 'mfcc20': {'min': -23.40838623046875, 'max': 16.114761352539062}, 'number': {'min': 0, 'max': 1}}\n"
     ]
    }
   ],
   "source": [
    "min_max_dict = {}\n",
    "for column in df_train.columns:\n",
    "    if column != 'id':\n",
    "        min_max = {\n",
    "            'min': df_train[column].min(),\n",
    "            'max': df_train[column].max(),\n",
    "        }\n",
    "        min_max_dict[column] = min_max\n",
    "print(min_max_dict)\n",
    "def apply(df, min_max):\n",
    "    for column in df.columns:\n",
    "        if column != 'id':\n",
    "            min_v = min_max[column]['min']\n",
    "            max_v = min_max[column]['max']\n",
    "            df[column] = (df[column] - min_v) / (max_v - min_v)"
   ]
  },
  {
   "cell_type": "code",
   "execution_count": 97,
   "id": "3127b2bb",
   "metadata": {},
   "outputs": [],
   "source": [
    "apply(df_train, min_max_dict)\n",
    "apply(df_test, min_max_dict)"
   ]
  },
  {
   "cell_type": "code",
   "execution_count": 129,
   "id": "91848d5c",
   "metadata": {},
   "outputs": [],
   "source": [
    "def extract_class_weights(labels):\n",
    "    pos = sum(labels)\n",
    "    total = len(labels)\n",
    "    neg = total - pos\n",
    "    weight_for_0 = (1 / neg) * (total / 2.0)\n",
    "    weight_for_1 = (1 / pos) * (total / 2.0)\n",
    "    return {0: weight_for_0, 1: weight_for_1}"
   ]
  },
  {
   "cell_type": "code",
   "execution_count": 119,
   "id": "74fad899",
   "metadata": {},
   "outputs": [
    {
     "name": "stdout",
     "output_type": "stream",
     "text": [
      "Sum of values: 3272\n",
      "{0: 3257, 1: 15}\n",
      "{0: 0.004584352078239595, 1: 0.9954156479217604}\n"
     ]
    }
   ],
   "source": [
    "import os\n",
    "import fnmatch\n",
    "import collections\n",
    "weight={}\n",
    "total=0\n",
    "path='audios/audios/56_speakers_audio_data'\n",
    "for speaker in os.listdir(path):\n",
    "    if speaker.find(\".sh\")==-1:\n",
    "        dir_path=path+'/'+speaker\n",
    "        speaker = int(speaker.split(\"_\")[0].split(\"r\")[1])\n",
    "        if(speaker<=60 or speaker==62):\n",
    "            speaker = 0\n",
    "            total = total+int(len(fnmatch.filter(os.listdir(dir_path), '*.*'))*0.8)-1\n",
    "\n",
    "        else:\n",
    "            speaker= speaker-60\n",
    "        count = int(len(fnmatch.filter(os.listdir(dir_path), '*.*'))*0.8)-1\n",
    "        weight.update({speaker: count})\n",
    "weight.update({0:total})\n",
    "max_value=sum(weight.values())\n",
    "print(\"Sum of values: \"+str(max_value))\n",
    "weight = {key: value for key, value in sorted(weight.items())}\n",
    "print(weight)\n",
    "class_weight = {k: 1-(v/max_value) for k, v in weight.items()}\n",
    "print(class_weight)\n",
    "#print(set(range(57)) - set(y_train))"
   ]
  },
  {
   "cell_type": "code",
   "execution_count": 130,
   "id": "97783ef6",
   "metadata": {},
   "outputs": [
    {
     "name": "stdout",
     "output_type": "stream",
     "text": [
      "{0: 0.5005054078641463, 1: 495.15000000000003}\n",
      "(9903, 25)\n",
      "Epoch 1/100\n",
      "55/55 [==============================] - 1s 11ms/step - loss: 7.9821 - accuracy: 0.8654 - val_loss: 6.2039 - val_accuracy: 0.9987\n",
      "Epoch 2/100\n",
      "55/55 [==============================] - 1s 10ms/step - loss: 5.1576 - accuracy: 0.9991 - val_loss: 0.3410 - val_accuracy: 0.9987\n",
      "Epoch 3/100\n",
      "55/55 [==============================] - 1s 10ms/step - loss: 3.5589 - accuracy: 0.9991 - val_loss: 0.0390 - val_accuracy: 0.9987\n",
      "Epoch 4/100\n",
      "55/55 [==============================] - 1s 10ms/step - loss: 2.9385 - accuracy: 0.9991 - val_loss: 0.0205 - val_accuracy: 0.9987\n",
      "Epoch 5/100\n",
      "55/55 [==============================] - 1s 9ms/step - loss: 2.4689 - accuracy: 0.9991 - val_loss: 0.0096 - val_accuracy: 0.9987\n",
      "Epoch 6/100\n",
      "55/55 [==============================] - 0s 9ms/step - loss: 2.2141 - accuracy: 0.9991 - val_loss: 0.0176 - val_accuracy: 0.9987\n",
      "Epoch 7/100\n",
      "55/55 [==============================] - 0s 9ms/step - loss: 1.2591 - accuracy: 0.9991 - val_loss: 0.0282 - val_accuracy: 0.9987\n",
      "Epoch 8/100\n",
      "55/55 [==============================] - 0s 9ms/step - loss: 0.9197 - accuracy: 0.9863 - val_loss: 0.1532 - val_accuracy: 0.9987\n",
      "Epoch 9/100\n",
      "55/55 [==============================] - 1s 10ms/step - loss: 0.8253 - accuracy: 0.8801 - val_loss: 0.1347 - val_accuracy: 0.9987\n",
      "Epoch 10/100\n",
      "55/55 [==============================] - 0s 9ms/step - loss: 0.4927 - accuracy: 0.8882 - val_loss: 0.1409 - val_accuracy: 0.9997\n",
      "Epoch 11/100\n",
      "55/55 [==============================] - 0s 9ms/step - loss: 0.4151 - accuracy: 0.8151 - val_loss: 0.0983 - val_accuracy: 1.0000\n",
      "Epoch 12/100\n",
      "55/55 [==============================] - 0s 9ms/step - loss: 0.5391 - accuracy: 0.8969 - val_loss: 0.2171 - val_accuracy: 0.9411\n",
      "Epoch 13/100\n",
      "55/55 [==============================] - 0s 9ms/step - loss: 0.3565 - accuracy: 0.8241 - val_loss: 0.0887 - val_accuracy: 0.9916\n",
      "Epoch 14/100\n",
      "55/55 [==============================] - 1s 9ms/step - loss: 0.3189 - accuracy: 0.8819 - val_loss: 0.0744 - val_accuracy: 0.9838\n",
      "Epoch 15/100\n",
      "55/55 [==============================] - 1s 9ms/step - loss: 0.2760 - accuracy: 0.8983 - val_loss: 0.0598 - val_accuracy: 0.9896\n",
      "Epoch 16/100\n",
      "55/55 [==============================] - 0s 9ms/step - loss: 0.2810 - accuracy: 0.9130 - val_loss: 0.0567 - val_accuracy: 0.9805\n",
      "Epoch 17/100\n",
      "55/55 [==============================] - 0s 9ms/step - loss: 0.2651 - accuracy: 0.8896 - val_loss: 0.0617 - val_accuracy: 0.9620\n",
      "Epoch 18/100\n",
      "55/55 [==============================] - 1s 9ms/step - loss: 0.2699 - accuracy: 0.9269 - val_loss: 0.0556 - val_accuracy: 0.9650\n",
      "Epoch 19/100\n",
      "55/55 [==============================] - 0s 9ms/step - loss: 0.4085 - accuracy: 0.8761 - val_loss: 0.0560 - val_accuracy: 0.9603\n",
      "Epoch 20/100\n",
      "55/55 [==============================] - 0s 9ms/step - loss: 0.2019 - accuracy: 0.9129 - val_loss: 0.0557 - val_accuracy: 0.9610\n",
      "Epoch 21/100\n",
      "55/55 [==============================] - 0s 9ms/step - loss: 0.1166 - accuracy: 0.9244 - val_loss: 0.0264 - val_accuracy: 0.9960\n",
      "Epoch 21: early stopping\n"
     ]
    }
   ],
   "source": [
    "#X_train = np.array(df_train.drop('number', axis=1), dtype=np.float32)\n",
    "#y_train = np.array(df_train.number == 1, dtype=np.uint32)\n",
    "class_weight = extract_class_weights(y_train)\n",
    "print(class_weight)\n",
    "model = models.Sequential()\n",
    "model.add(layers.Dense(32, activation='relu', input_shape=(X_train.shape[1],)))\n",
    "model.add(layers.Dropout(0.5))\n",
    "model.add(layers.Dense(32, activation='relu'))\n",
    "model.add(layers.Dropout(0.5))\n",
    "model.add(layers.Dense(len(y_train), activation='softmax'))\n",
    "\n",
    "# Learning Process of a model\n",
    "model.compile(optimizer='adam',\n",
    "              loss='sparse_categorical_crossentropy',\n",
    "              metrics=['accuracy'])\n",
    "\n",
    "# simple early stopping\n",
    "from keras.callbacks import EarlyStopping\n",
    "es = EarlyStopping(monitor='val_accuracy', patience=10, verbose=1)\n",
    "#es = EarlyStopping(monitor='val_loss', patience=3, verbose=1)\n",
    "print(X_train.shape)\n",
    "#Train with early stopping to avoid overfitting\n",
    "history = model.fit(X_train,y_train,validation_split=0.3,epochs=100,batch_size=128, class_weight=class_weight, callbacks=[es])"
   ]
  },
  {
   "cell_type": "code",
   "execution_count": 121,
   "id": "e7670d84",
   "metadata": {},
   "outputs": [
    {
     "data": {
      "image/png": "[encoded data removed]",
      "text/plain": [
       "<Figure size 640x480 with 1 Axes>"
      ]
     },
     "metadata": {},
     "output_type": "display_data"
    }
   ],
   "source": [
    "# plot training history\n",
    "from matplotlib import pyplot\n",
    "pyplot.plot(history.history['loss'], label='train')\n",
    "pyplot.plot(history.history['val_loss'], label='test')\n",
    "pyplot.legend()\n",
    "pyplot.show()"
   ]
  },
  {
   "cell_type": "code",
   "execution_count": 122,
   "id": "68d0b364",
   "metadata": {},
   "outputs": [
    {
     "name": "stdout",
     "output_type": "stream",
     "text": [
      "\n",
      "# TEST DATA #\n",
      "\n"
     ]
    },
    {
     "ename": "TypeError",
     "evalue": "in user code:\n\n    File \"/home/silvia/anaconda3/lib/python3.9/site-packages/keras/engine/training.py\", line 1727, in test_function  *\n        return step_function(self, iterator)\n    File \"/home/silvia/anaconda3/lib/python3.9/site-packages/keras/engine/training.py\", line 1713, in step_function  **\n        outputs = model.distribute_strategy.run(run_step, args=(data,))\n    File \"/home/silvia/anaconda3/lib/python3.9/site-packages/keras/engine/training.py\", line 1701, in run_step  **\n        outputs = model.test_step(data)\n    File \"/home/silvia/anaconda3/lib/python3.9/site-packages/keras/engine/training.py\", line 1668, in test_step\n        return self.compute_metrics(x, y, y_pred, sample_weight)\n    File \"/home/silvia/anaconda3/lib/python3.9/site-packages/keras/engine/training.py\", line 1092, in compute_metrics\n        self.compiled_metrics.update_state(y, y_pred, sample_weight)\n    File \"/home/silvia/anaconda3/lib/python3.9/site-packages/keras/engine/compile_utils.py\", line 605, in update_state\n        metric_obj.update_state(y_t, y_p, sample_weight=mask)\n    File \"/home/silvia/anaconda3/lib/python3.9/site-packages/keras/utils/metrics_utils.py\", line 77, in decorated\n        update_op = update_state_fn(*args, **kwargs)\n    File \"/home/silvia/anaconda3/lib/python3.9/site-packages/keras/metrics/base_metric.py\", line 143, in update_state_fn\n        return ag_update_state(*args, **kwargs)\n    File \"/home/silvia/anaconda3/lib/python3.9/site-packages/keras/metrics/base_metric.py\", line 700, in update_state  **\n        matches = ag_fn(y_true, y_pred, **self._fn_kwargs)\n    File \"/home/silvia/anaconda3/lib/python3.9/site-packages/keras/metrics/metrics.py\", line 3672, in sparse_categorical_accuracy\n        if matches.shape.ndims > 1 and matches.shape[-1] == 1:\n\n    TypeError: '>' not supported between instances of 'NoneType' and 'int'\n",
     "output_type": "error",
     "traceback": [
      "\u001b[0;31m---------------------------------------------------------------------------\u001b[0m",
      "\u001b[0;31mTypeError\u001b[0m                                 Traceback (most recent call last)",
      "\u001b[0;32m/tmp/ipykernel_1661841/1457641596.py\u001b[0m in \u001b[0;36m<cell line: 6>\u001b[0;34m()\u001b[0m\n\u001b[1;32m      4\u001b[0m \u001b[0mprint\u001b[0m\u001b[0;34m(\u001b[0m\u001b[0;34m'\\n# TEST DATA #\\n'\u001b[0m\u001b[0;34m)\u001b[0m\u001b[0;34m\u001b[0m\u001b[0;34m\u001b[0m\u001b[0m\n\u001b[1;32m      5\u001b[0m \u001b[0my_test\u001b[0m\u001b[0;34m=\u001b[0m\u001b[0mnp\u001b[0m\u001b[0;34m.\u001b[0m\u001b[0marray\u001b[0m\u001b[0;34m(\u001b[0m\u001b[0my_test\u001b[0m\u001b[0;34m,\u001b[0m \u001b[0mdtype\u001b[0m\u001b[0;34m=\u001b[0m\u001b[0mint\u001b[0m\u001b[0;34m)\u001b[0m\u001b[0;34m\u001b[0m\u001b[0;34m\u001b[0m\u001b[0m\n\u001b[0;32m----> 6\u001b[0;31m \u001b[0mscore\u001b[0m \u001b[0;34m=\u001b[0m \u001b[0mmodel\u001b[0m\u001b[0;34m.\u001b[0m\u001b[0mevaluate\u001b[0m\u001b[0;34m(\u001b[0m\u001b[0mX_test\u001b[0m\u001b[0;34m,\u001b[0m \u001b[0my_test\u001b[0m\u001b[0;34m)\u001b[0m\u001b[0;34m\u001b[0m\u001b[0;34m\u001b[0m\u001b[0m\n\u001b[0m\u001b[1;32m      7\u001b[0m \u001b[0mprint\u001b[0m\u001b[0;34m(\u001b[0m\u001b[0;34m\"%s: %.2f%%\"\u001b[0m \u001b[0;34m%\u001b[0m \u001b[0;34m(\u001b[0m\u001b[0mmodel\u001b[0m\u001b[0;34m.\u001b[0m\u001b[0mmetrics_names\u001b[0m\u001b[0;34m[\u001b[0m\u001b[0;36m1\u001b[0m\u001b[0;34m]\u001b[0m\u001b[0;34m,\u001b[0m \u001b[0mscore\u001b[0m\u001b[0;34m[\u001b[0m\u001b[0;36m1\u001b[0m\u001b[0;34m]\u001b[0m\u001b[0;34m*\u001b[0m\u001b[0;36m100\u001b[0m\u001b[0;34m)\u001b[0m\u001b[0;34m)\u001b[0m\u001b[0;34m\u001b[0m\u001b[0;34m\u001b[0m\u001b[0m\n\u001b[1;32m      8\u001b[0m \u001b[0;31m# Prediction\u001b[0m\u001b[0;34m\u001b[0m\u001b[0;34m\u001b[0m\u001b[0m\n",
      "\u001b[0;32m~/anaconda3/lib/python3.9/site-packages/keras/utils/traceback_utils.py\u001b[0m in \u001b[0;36merror_handler\u001b[0;34m(*args, **kwargs)\u001b[0m\n\u001b[1;32m     68\u001b[0m             \u001b[0;31m# To get the full stack trace, call:\u001b[0m\u001b[0;34m\u001b[0m\u001b[0;34m\u001b[0m\u001b[0m\n\u001b[1;32m     69\u001b[0m             \u001b[0;31m# `tf.debugging.disable_traceback_filtering()`\u001b[0m\u001b[0;34m\u001b[0m\u001b[0;34m\u001b[0m\u001b[0m\n\u001b[0;32m---> 70\u001b[0;31m             \u001b[0;32mraise\u001b[0m \u001b[0me\u001b[0m\u001b[0;34m.\u001b[0m\u001b[0mwith_traceback\u001b[0m\u001b[0;34m(\u001b[0m\u001b[0mfiltered_tb\u001b[0m\u001b[0;34m)\u001b[0m \u001b[0;32mfrom\u001b[0m \u001b[0;32mNone\u001b[0m\u001b[0;34m\u001b[0m\u001b[0;34m\u001b[0m\u001b[0m\n\u001b[0m\u001b[1;32m     71\u001b[0m         \u001b[0;32mfinally\u001b[0m\u001b[0;34m:\u001b[0m\u001b[0;34m\u001b[0m\u001b[0;34m\u001b[0m\u001b[0m\n\u001b[1;32m     72\u001b[0m             \u001b[0;32mdel\u001b[0m \u001b[0mfiltered_tb\u001b[0m\u001b[0;34m\u001b[0m\u001b[0;34m\u001b[0m\u001b[0m\n",
      "\u001b[0;32m~/anaconda3/lib/python3.9/site-packages/keras/engine/training.py\u001b[0m in \u001b[0;36mtf__test_function\u001b[0;34m(iterator)\u001b[0m\n\u001b[1;32m     13\u001b[0m                 \u001b[0;32mtry\u001b[0m\u001b[0;34m:\u001b[0m\u001b[0;34m\u001b[0m\u001b[0;34m\u001b[0m\u001b[0m\n\u001b[1;32m     14\u001b[0m                     \u001b[0mdo_return\u001b[0m \u001b[0;34m=\u001b[0m \u001b[0;32mTrue\u001b[0m\u001b[0;34m\u001b[0m\u001b[0;34m\u001b[0m\u001b[0m\n\u001b[0;32m---> 15\u001b[0;31m                     \u001b[0mretval_\u001b[0m \u001b[0;34m=\u001b[0m \u001b[0mag__\u001b[0m\u001b[0;34m.\u001b[0m\u001b[0mconverted_call\u001b[0m\u001b[0;34m(\u001b[0m\u001b[0mag__\u001b[0m\u001b[0;34m.\u001b[0m\u001b[0mld\u001b[0m\u001b[0;34m(\u001b[0m\u001b[0mstep_function\u001b[0m\u001b[0;34m)\u001b[0m\u001b[0;34m,\u001b[0m \u001b[0;34m(\u001b[0m\u001b[0mag__\u001b[0m\u001b[0;34m.\u001b[0m\u001b[0mld\u001b[0m\u001b[0;34m(\u001b[0m\u001b[0mself\u001b[0m\u001b[0;34m)\u001b[0m\u001b[0;34m,\u001b[0m \u001b[0mag__\u001b[0m\u001b[0;34m.\u001b[0m\u001b[0mld\u001b[0m\u001b[0;34m(\u001b[0m\u001b[0miterator\u001b[0m\u001b[0;34m)\u001b[0m\u001b[0;34m)\u001b[0m\u001b[0;34m,\u001b[0m \u001b[0;32mNone\u001b[0m\u001b[0;34m,\u001b[0m \u001b[0mfscope\u001b[0m\u001b[0;34m)\u001b[0m\u001b[0;34m\u001b[0m\u001b[0;34m\u001b[0m\u001b[0m\n\u001b[0m\u001b[1;32m     16\u001b[0m                 \u001b[0;32mexcept\u001b[0m\u001b[0;34m:\u001b[0m\u001b[0;34m\u001b[0m\u001b[0;34m\u001b[0m\u001b[0m\n\u001b[1;32m     17\u001b[0m                     \u001b[0mdo_return\u001b[0m \u001b[0;34m=\u001b[0m \u001b[0;32mFalse\u001b[0m\u001b[0;34m\u001b[0m\u001b[0;34m\u001b[0m\u001b[0m\n",
      "\u001b[0;31mTypeError\u001b[0m: in user code:\n\n    File \"/home/silvia/anaconda3/lib/python3.9/site-packages/keras/engine/training.py\", line 1727, in test_function  *\n        return step_function(self, iterator)\n    File \"/home/silvia/anaconda3/lib/python3.9/site-packages/keras/engine/training.py\", line 1713, in step_function  **\n        outputs = model.distribute_strategy.run(run_step, args=(data,))\n    File \"/home/silvia/anaconda3/lib/python3.9/site-packages/keras/engine/training.py\", line 1701, in run_step  **\n        outputs = model.test_step(data)\n    File \"/home/silvia/anaconda3/lib/python3.9/site-packages/keras/engine/training.py\", line 1668, in test_step\n        return self.compute_metrics(x, y, y_pred, sample_weight)\n    File \"/home/silvia/anaconda3/lib/python3.9/site-packages/keras/engine/training.py\", line 1092, in compute_metrics\n        self.compiled_metrics.update_state(y, y_pred, sample_weight)\n    File \"/home/silvia/anaconda3/lib/python3.9/site-packages/keras/engine/compile_utils.py\", line 605, in update_state\n        metric_obj.update_state(y_t, y_p, sample_weight=mask)\n    File \"/home/silvia/anaconda3/lib/python3.9/site-packages/keras/utils/metrics_utils.py\", line 77, in decorated\n        update_op = update_state_fn(*args, **kwargs)\n    File \"/home/silvia/anaconda3/lib/python3.9/site-packages/keras/metrics/base_metric.py\", line 143, in update_state_fn\n        return ag_update_state(*args, **kwargs)\n    File \"/home/silvia/anaconda3/lib/python3.9/site-packages/keras/metrics/base_metric.py\", line 700, in update_state  **\n        matches = ag_fn(y_true, y_pred, **self._fn_kwargs)\n    File \"/home/silvia/anaconda3/lib/python3.9/site-packages/keras/metrics/metrics.py\", line 3672, in sparse_categorical_accuracy\n        if matches.shape.ndims > 1 and matches.shape[-1] == 1:\n\n    TypeError: '>' not supported between instances of 'NoneType' and 'int'\n"
     ]
    }
   ],
   "source": [
    "#X_test = np.array(df_test.drop('number', axis=1), dtype=np.float32)\n",
    "#y_test = np.array(df_test.number == 1, dtype=np.uint32)\n",
    "\n",
    "print('\\n# TEST DATA #\\n')\n",
    "y_test=np.array(y_test, dtype=int)\n",
    "score = model.evaluate(X_test, y_test)\n",
    "print(\"%s: %.2f%%\" % (model.metrics_names[1], score[1]*100))\n",
    "# Prediction\n",
    "#printPrediction(X_test, y_test, False, model)"
   ]
  },
  {
   "cell_type": "code",
   "execution_count": 123,
   "id": "84aeaec8",
   "metadata": {},
   "outputs": [],
   "source": [
    "import numpy as np\n",
    "from keras import backend as K\n",
    "from keras.models import Sequential\n",
    "from keras.layers.core import Dense, Dropout, Activation, Flatten\n",
    "from keras.layers.convolutional import Convolution2D, MaxPooling2D\n",
    "from keras.preprocessing.image import ImageDataGenerator\n",
    "from sklearn.metrics import classification_report, confusion_matrix\n",
    "\n",
    "def report(X_data, y_data):\n",
    "    #Confution Matrix and Classification Report\n",
    "    predict_y = model.predict(X_data)\n",
    "    Y_pred = np.argmax(predict_y, axis=1)\n",
    "    y_test_num = y_data.astype(np.int64)\n",
    "    conf_mt = confusion_matrix(y_test_num, Y_pred)\n",
    "    print(conf_mt[len(set(y_test_num))-1])\n",
    "    key=0\n",
    "    for val in conf_mt[len(set(y_test_num))-1]:\n",
    "        if val!=0:\n",
    "            print(key)\n",
    "        key=key+1\n",
    "    conf_mt=conf_mt / conf_mt.astype(np.float).sum(axis=1)\n",
    "    #print(conf_mt)\n",
    "    plt.matshow(conf_mt)\n",
    "    plt.show()\n",
    "    print('\\nClassification Report')\n",
    "    print(classification_report(y_test_num, Y_pred))\n"
   ]
  },
  {
   "cell_type": "code",
   "execution_count": 124,
   "id": "5faa2ec4",
   "metadata": {},
   "outputs": [
    {
     "name": "stdout",
     "output_type": "stream",
     "text": [
      "Classification Report for Test Data\n",
      "\n",
      "(3586,)\n",
      "(3586, 25)\n",
      "113/113 [==============================] - 0s 1ms/step\n",
      "[24  0]\n",
      "0\n"
     ]
    },
    {
     "data": {
      "image/png": "[encoded data removed]",
      "text/plain": [
       "<Figure size 480x480 with 1 Axes>"
      ]
     },
     "metadata": {},
     "output_type": "display_data"
    },
    {
     "name": "stdout",
     "output_type": "stream",
     "text": [
      "\n",
      "Classification Report\n",
      "              precision    recall  f1-score   support\n",
      "\n",
      "           0       0.99      1.00      1.00      3562\n",
      "           1       0.00      0.00      0.00        24\n",
      "\n",
      "    accuracy                           0.99      3586\n",
      "   macro avg       0.50      0.50      0.50      3586\n",
      "weighted avg       0.99      0.99      0.99      3586\n",
      "\n"
     ]
    }
   ],
   "source": [
    "print(\"Classification Report for Test Data\\n\")\n",
    "print(y_test.shape)\n",
    "print(X_test.shape)\n",
    "report(X_test, y_test)"
   ]
  },
  {
   "cell_type": "code",
   "execution_count": null,
   "id": "4b4a16c9",
   "metadata": {},
   "outputs": [],
   "source": []
  },
  {
   "cell_type": "code",
   "execution_count": null,
   "id": "82178516",
   "metadata": {},
   "outputs": [],
   "source": []
  }
 ],
 "metadata": {
  "kernelspec": {
   "display_name": "Python 3 (ipykernel)",
   "language": "python",
   "name": "python3"
  },
  "language_info": {
   "codemirror_mode": {
    "name": "ipython",
    "version": 3
   },
   "file_extension": ".py",
   "mimetype": "text/x-python",
   "name": "python",
   "nbconvert_exporter": "python",
   "pygments_lexer": "ipython3",
   "version": "3.9.12"
  }
 },
 "nbformat": 4,
 "nbformat_minor": 5
}
