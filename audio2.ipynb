{
 "cells": [
  {
   "cell_type": "markdown",
   "metadata": {},
   "source": [
    "**Settings**"
   ]
  },
  {
   "cell_type": "code",
   "execution_count": 1,
   "metadata": {},
   "outputs": [],
   "source": [
    "#import librosa\n",
    "#import numpy as np\n",
    "#import pandas as pd\n",
    "#import matplotlib.pyplot as plt\n",
    "#import librosa.display\n",
    "#import keras\n",
    "#import datetime\n",
    "#import seaborn as sns\n",
    "#from sklearn.preprocessing import LabelEncoder \n",
    "#from sklearn.model_selection import train_test_split\n",
    "#from sklearn.metrics import confusion_matrix\n",
    "#from sklearn.metrics import classification_report\n",
    "\n",
    "#plt.style.use('ggplot')\n",
    "#plt.rcParams['font.family'] = 'sans-serif' \n",
    "#plt.rcParams['font.serif'] = 'Ubuntu' \n",
    "#plt.rcParams['font.monospace'] = 'Ubuntu Mono' \n",
    "#plt.rcParams['font.size'] = 14 \n",
    "#plt.rcParams['axes.labelsize'] = 12 \n",
    "#plt.rcParams['axes.labelweight'] = 'bold' \n",
    "#plt.rcParams['axes.titlesize'] = 12 \n",
    "#plt.rcParams['xtick.labelsize'] = 12 \n",
    "#plt.rcParams['ytick.labelsize'] = 12 \n",
    "#plt.rcParams['legend.fontsize'] = 12 \n",
    "#plt.rcParams['figure.titlesize'] = 12 \n",
    "#plt.rcParams['image.cmap'] = 'jet' \n",
    "#plt.rcParams['image.interpolation'] = 'none' \n",
    "#plt.rcParams['figure.figsize'] = (10, 10) \n",
    "#plt.rcParams['axes.grid']=False\n",
    "#plt.rcParams['lines.linewidth'] = 2 \n",
    "#plt.rcParams['lines.markersize'] = 8\n",
    "#colors = ['xkcd:pale orange', 'xkcd:sea blue', 'xkcd:pale red', 'xkcd:sage green', 'xkcd:terra cotta', 'xkcd:dull purple', 'xkcd:teal', 'xkcd: goldenrod', 'xkcd:cadet blue',\n",
    "#'xkcd:scarlet']\n",
    "#bbox_props = dict(boxstyle=\"round,pad=0.3\", fc=colors[0], alpha=.5)\"\"\""
   ]
  },
  {
   "cell_type": "code",
   "execution_count": 4,
   "metadata": {},
   "outputs": [
    {
     "name": "stderr",
     "output_type": "stream",
     "text": [
      "2023-05-18 20:02:53.136102: I tensorflow/core/platform/cpu_feature_guard.cc:193] This TensorFlow binary is optimized with oneAPI Deep Neural Network Library (oneDNN) to use the following CPU instructions in performance-critical operations:  AVX2 FMA\n",
      "To enable them in other operations, rebuild TensorFlow with the appropriate compiler flags.\n",
      "2023-05-18 20:02:53.243054: W tensorflow/stream_executor/platform/default/dso_loader.cc:64] Could not load dynamic library 'libcudart.so.11.0'; dlerror: libcudart.so.11.0: cannot open shared object file: No such file or directory\n",
      "2023-05-18 20:02:53.243067: I tensorflow/stream_executor/cuda/cudart_stub.cc:29] Ignore above cudart dlerror if you do not have a GPU set up on your machine.\n",
      "2023-05-18 20:02:53.266236: E tensorflow/stream_executor/cuda/cuda_blas.cc:2981] Unable to register cuBLAS factory: Attempting to register factory for plugin cuBLAS when one has already been registered\n",
      "2023-05-18 20:02:53.750437: W tensorflow/stream_executor/platform/default/dso_loader.cc:64] Could not load dynamic library 'libnvinfer.so.7'; dlerror: libnvinfer.so.7: cannot open shared object file: No such file or directory\n",
      "2023-05-18 20:02:53.750492: W tensorflow/stream_executor/platform/default/dso_loader.cc:64] Could not load dynamic library 'libnvinfer_plugin.so.7'; dlerror: libnvinfer_plugin.so.7: cannot open shared object file: No such file or directory\n",
      "2023-05-18 20:02:53.750499: W tensorflow/compiler/tf2tensorrt/utils/py_utils.cc:38] TF-TRT Warning: Cannot dlopen some TensorRT libraries. If you would like to use Nvidia GPU with TensorRT, please make sure the missing libraries mentioned above are installed properly.\n"
     ]
    }
   ],
   "source": [
    "#requisits and ignore warnings\n",
    "import warnings\n",
    "warnings.simplefilter('ignore')\n",
    "\n",
    "import fnmatch\n",
    "import collections\n",
    "import keras\n",
    "import librosa\n",
    "import csv\n",
    "import os\n",
    "import numpy as np\n",
    "import pandas as pd\n",
    "import matplotlib.pyplot as plt\n",
    "\n",
    "from sklearn.preprocessing import StandardScaler\n",
    "from sklearn.model_selection import train_test_split\n",
    "from keras import models, layers\n",
    "from keras import backend as K\n",
    "from keras.callbacks import EarlyStopping\n",
    "from keras.models import Sequential\n",
    "from keras.layers.core import Dense, Dropout, Activation, Flatten\n",
    "from keras.layers.convolutional import Convolution2D, MaxPooling2D\n",
    "from keras.preprocessing.image import ImageDataGenerator\n",
    "from matplotlib import pyplot, cm\n",
    "from tqdm import tqdm\n",
    "from sklearn import preprocessing\n",
    "from sklearn.metrics import classification_report, confusion_matrix"
   ]
  },
  {
   "cell_type": "code",
   "execution_count": 5,
   "metadata": {},
   "outputs": [],
   "source": [
    "# y,sr = librosa.load('audios/Speaker26_000.wav')\n",
    "# dur_time = librosa.get_duration(y=y,sr=sr)\n",
    "#print(dur_time)\n",
    "#time_sec = round(dur_time)\n",
    "#S = librosa.feature.melspectrogram(y=y, sr=sr, n_mels=20, fmax=8000)\n",
    "#fig, ax = plt.subplots()\n",
    "#S_dB = librosa.power_to_db(S, ref=np.max)\n",
    "#img = librosa.display.specshow(S_dB, x_axis='time',y_axis='mel', sr=sr,fmax=8000, ax=ax)\n",
    "#fig.colorbar(img, ax=ax, format='%+2.0f dB')\n",
    "#ax.set(title='Mel-frequency spectrogram')\n",
    "#plt.xlim()\"\"\""
   ]
  },
  {
   "cell_type": "code",
   "execution_count": 6,
   "metadata": {},
   "outputs": [],
   "source": [
    "#time_series_sec=np.linspace(0, time_sec, len(S_dB[0]))"
   ]
  },
  {
   "cell_type": "markdown",
   "metadata": {},
   "source": [
    "The output of this section is the CSV files with the data to be handle by the model\n",
    "\n",
    "```\n",
    "trainData     : audio/train \n",
    "testData      : audio/test\n",
    "```\n"
   ]
  },
  {
   "cell_type": "code",
   "execution_count": 7,
   "metadata": {},
   "outputs": [],
   "source": [
    "# Defines the names of the CSV files\n",
    "TRAIN_CSV_FILE = \"train.csv\"\n",
    "TEST_CSV_FILE = \"test.csv\"\n",
    "final_test=\"final_test.csv\""
   ]
  },
  {
   "cell_type": "code",
   "execution_count": 6,
   "metadata": {},
   "outputs": [],
   "source": [
    "import matplotlib.pyplot as plt\n",
    "import numpy as np\n",
    "from matplotlib import cm\n",
    "import librosa\n",
    "import csv\n",
    "import os\n",
    "from tqdm import tqdm\n",
    "import warnings\n",
    "warnings.simplefilter('ignore')\n",
    "\n",
    "def extractWavFeatures(soundFilesFolder, csvFileName):\n",
    "    print(\"The features of the files in the folder \"+soundFilesFolder+\" will be saved to \"+csvFileName)\n",
    "    header = 'filename chroma_stft rmse spectral_centroid spectral_bandwidth rolloff zero_crossing_rate'\n",
    "    for i in range(1, 21):\n",
    "        header += f' mfcc{i}'\n",
    "    header += ' label'\n",
    "    header = header.split()\n",
    "    print('CSV Header: ', header)\n",
    "    file = open(csvFileName, 'w', newline='')\n",
    "    #with file:\n",
    "    writer = csv.writer(file)\n",
    "    writer.writerow(header)\n",
    "    for filename in tqdm(os.listdir(soundFilesFolder)):\n",
    "        number = f'{soundFilesFolder}/{filename}'\n",
    "        y, sr = librosa.load(number, mono=True, duration=30)\n",
    "        # remove leading and trailing silence\n",
    "        y, index = librosa.effects.trim(y)\n",
    "        chroma_stft = librosa.feature.chroma_stft(y=y, sr=sr)\n",
    "        rmse = librosa.feature.rms(y=y)\n",
    "        spec_cent = librosa.feature.spectral_centroid(y=y, sr=sr)\n",
    "        spec_bw = librosa.feature.spectral_bandwidth(y=y, sr=sr)\n",
    "        rolloff = librosa.feature.spectral_rolloff(y=y, sr=sr)\n",
    "        zcr = librosa.feature.zero_crossing_rate(y)\n",
    "        mfcc = librosa.feature.mfcc(y=y, sr=sr)\n",
    "        to_append = f'{filename} {np.mean(chroma_stft)} {np.mean(rmse)} {np.mean(spec_cent)} {np.mean(spec_bw)} {np.mean(rolloff)} {np.mean(zcr)}'\n",
    "        for e in mfcc:\n",
    "            to_append += f' {np.mean(e)}'\n",
    "        writer.writerow(to_append.split())\n",
    "    file.close()\n",
    "    print(\"End of extractWavFeatures\")\n",
    "    "
   ]
  },
  {
   "cell_type": "code",
   "execution_count": 7,
   "metadata": {},
   "outputs": [
    {
     "name": "stdout",
     "output_type": "stream",
     "text": [
      "The features of the files in the folder audios/audios/train will be saved to train.csv\n",
      "CSV Header:  ['filename', 'chroma_stft', 'rmse', 'spectral_centroid', 'spectral_bandwidth', 'rolloff', 'zero_crossing_rate', 'mfcc1', 'mfcc2', 'mfcc3', 'mfcc4', 'mfcc5', 'mfcc6', 'mfcc7', 'mfcc8', 'mfcc9', 'mfcc10', 'mfcc11', 'mfcc12', 'mfcc13', 'mfcc14', 'mfcc15', 'mfcc16', 'mfcc17', 'mfcc18', 'mfcc19', 'mfcc20', 'label']\n"
     ]
    },
    {
     "name": "stderr",
     "output_type": "stream",
     "text": [
      "100%|███████████████████████████████████████| 3303/3303 [16:30<00:00,  3.34it/s]\n"
     ]
    },
    {
     "name": "stdout",
     "output_type": "stream",
     "text": [
      "End of extractWavFeatures\n",
      "The features of the files in the folder audios/audios/test will be saved to test.csv\n",
      "CSV Header:  ['filename', 'chroma_stft', 'rmse', 'spectral_centroid', 'spectral_bandwidth', 'rolloff', 'zero_crossing_rate', 'mfcc1', 'mfcc2', 'mfcc3', 'mfcc4', 'mfcc5', 'mfcc6', 'mfcc7', 'mfcc8', 'mfcc9', 'mfcc10', 'mfcc11', 'mfcc12', 'mfcc13', 'mfcc14', 'mfcc15', 'mfcc16', 'mfcc17', 'mfcc18', 'mfcc19', 'mfcc20', 'label']\n"
     ]
    },
    {
     "name": "stderr",
     "output_type": "stream",
     "text": [
      "100%|█████████████████████████████████████████| 854/854 [04:19<00:00,  3.30it/s]"
     ]
    },
    {
     "name": "stdout",
     "output_type": "stream",
     "text": [
      "End of extractWavFeatures\n",
      "CSV files are created\n"
     ]
    },
    {
     "name": "stderr",
     "output_type": "stream",
     "text": [
      "\n"
     ]
    }
   ],
   "source": [
    "extractWavFeatures(\"audios/audios/train\", TRAIN_CSV_FILE)\n",
    "extractWavFeatures(\"audios/audios/test\", TEST_CSV_FILE)\n",
    "print(\"CSV files are created\")"
   ]
  },
  {
   "cell_type": "code",
   "execution_count": null,
   "metadata": {},
   "outputs": [],
   "source": []
  },
  {
   "cell_type": "code",
   "execution_count": 2,
   "metadata": {},
   "outputs": [],
   "source": [
    "import pandas as pd\n",
    "import csv\n",
    "from sklearn import preprocessing\n",
    "\n",
    "def preProcessData(csvFileName):\n",
    "    print(csvFileName+ \" will be preprocessed\")\n",
    "    data = pd.read_csv(csvFileName)\n",
    "    filenameArray = data['filename'] \n",
    "    speakerArray = []\n",
    "    #print(filenameArray)\n",
    "    for i in range(len(filenameArray)):\n",
    "        speaker = int(filenameArray[i].split(\"_\")[0].split(\"r\")[1])\n",
    "        #print(speaker)\n",
    "        #print(speaker)\n",
    "        speakerArray.append(speaker)\n",
    "    data['number'] = speakerArray\n",
    "    #Dropping unnecessary columns\n",
    "    data = data.drop(['filename'],axis=1)\n",
    "    data = data.drop(['label'],axis=1)\n",
    "    data = data.drop(['chroma_stft'],axis=1)\n",
    "    data.shape\n",
    "\n",
    "    print(\"Preprocessing is finished\")\n",
    "    print(data.head())\n",
    "    return data\n",
    "\n"
   ]
  },
  {
   "cell_type": "code",
   "execution_count": 8,
   "metadata": {},
   "outputs": [
    {
     "name": "stdout",
     "output_type": "stream",
     "text": [
      "train.csv will be preprocessed\n",
      "Preprocessing is finished\n",
      "       rmse  spectral_centroid  spectral_bandwidth      rolloff  \\\n",
      "0  0.042311        2853.672685         2439.693251  5226.797861   \n",
      "1  0.066338        2483.207666         2219.299281  4473.985089   \n",
      "2  0.066239        1958.893779         1379.487170  3135.079496   \n",
      "3  0.028860        2084.254664         1733.049552  3707.682839   \n",
      "4  0.022163        2422.857641         2228.497802  4738.079083   \n",
      "\n",
      "   zero_crossing_rate       mfcc1       mfcc2      mfcc3      mfcc4  \\\n",
      "0            0.167396 -292.636353   77.443962 -14.946343   3.072196   \n",
      "1            0.149599 -293.354309   83.380547  17.072710  25.100824   \n",
      "2            0.133739 -279.818726  103.177750 -54.751225  26.485205   \n",
      "3            0.129757 -382.310455   98.181763  -7.513667  46.457611   \n",
      "4            0.111310 -434.465729   85.301010   6.917579  20.973516   \n",
      "\n",
      "       mfcc5  ...     mfcc12    mfcc13     mfcc14     mfcc15    mfcc16  \\\n",
      "0  -3.071160  ...  -3.540055 -8.385584  -2.319455 -12.365765 -4.030281   \n",
      "1   6.592123  ...  -2.588181 -6.496118   3.937195   0.163388 -7.575027   \n",
      "2 -37.830944  ...  -8.553962  2.186339  -9.772887   2.542377 -7.588593   \n",
      "3 -17.648285  ... -10.963368 -1.755158  -6.028708   9.532285 -8.492807   \n",
      "4 -10.743447  ...   4.555594  2.866588  13.123366  -4.678288  4.763774   \n",
      "\n",
      "      mfcc17    mfcc18    mfcc19    mfcc20  number  \n",
      "0 -11.485299 -4.964794 -9.287416 -7.967569      50  \n",
      "1   3.461552 -4.860189 -2.904794 -1.460528      32  \n",
      "2  -5.285561  0.092695  1.653523  1.318971       4  \n",
      "3  -2.989509  1.256674 -4.570978 -4.476323      24  \n",
      "4  -0.593649  4.143730 -2.482920  0.808900      37  \n",
      "\n",
      "[5 rows x 26 columns]\n",
      "test.csv will be preprocessed\n",
      "Preprocessing is finished\n",
      "       rmse  spectral_centroid  spectral_bandwidth      rolloff  \\\n",
      "0  0.062827        1439.703341         1214.381890  2639.298104   \n",
      "1  0.002583        3101.659607         3001.014250  6890.625000   \n",
      "2  0.027512        2776.314634         2410.166318  4949.863882   \n",
      "3  0.043108        2590.467849         1644.633082  4275.717944   \n",
      "4  0.050082        2295.733891         2206.135832  4407.636843   \n",
      "\n",
      "   zero_crossing_rate       mfcc1       mfcc2      mfcc3      mfcc4  \\\n",
      "0            0.078812 -318.895752  126.351379 -40.058258  38.671257   \n",
      "1            0.000000 -329.780945   82.097717  -8.962372  -2.279690   \n",
      "2            0.153912 -383.571259   76.857826   8.652615  27.628531   \n",
      "3            0.179322 -327.708710   86.886497 -55.782768  58.850853   \n",
      "4            0.113468 -324.181793   84.394577   4.927899  28.485275   \n",
      "\n",
      "       mfcc5  ...    mfcc12    mfcc13    mfcc14    mfcc15     mfcc16  \\\n",
      "0  -3.313738  ...  1.415402 -0.147205 -9.156339  6.357989  -2.505748   \n",
      "1  -4.091257  ... -0.116679  4.879228 -6.856781  6.554109  -5.191103   \n",
      "2  30.849646  ... -1.381173  0.096775  4.544846 -8.058209  12.572011   \n",
      "3 -19.301439  ... -9.678400  7.193476 -1.746455  5.566185 -19.890446   \n",
      "4   5.117252  ...  0.052406  7.227403  0.621997  0.836419   2.999624   \n",
      "\n",
      "      mfcc17     mfcc18    mfcc19    mfcc20  number  \n",
      "0  -3.565483   1.857242  1.661271 -2.067927       9  \n",
      "1   2.929139   0.088688 -3.295555  5.539860      34  \n",
      "2  -9.302295  10.571730 -2.299384  5.761469      31  \n",
      "3  15.223437  -6.382392 -5.325187  2.021258      15  \n",
      "4  -2.750336  -3.254150 -5.791872 -1.653584      49  \n",
      "\n",
      "[5 rows x 26 columns]\n"
     ]
    }
   ],
   "source": [
    "trainData = preProcessData(TRAIN_CSV_FILE)\n",
    "testData = preProcessData(TEST_CSV_FILE)"
   ]
  },
  {
   "cell_type": "code",
   "execution_count": 9,
   "metadata": {},
   "outputs": [
    {
     "name": "stdout",
     "output_type": "stream",
     "text": [
      "Y from training data: (9903,)\n",
      "Y from validation data: (4245,)\n",
      "Y from test data: (3586,)\n"
     ]
    }
   ],
   "source": [
    "# Splitting the dataset into training, validation and testing dataset\n",
    "from sklearn.model_selection import train_test_split\n",
    "X = np.array(trainData.iloc[:, :-1], dtype = float)\n",
    "y = trainData.iloc[:, -1]\n",
    "X_train, X_val, y_train, y_val = train_test_split(X, y, test_size=0.3, random_state=50)\n",
    "\n",
    "\n",
    "X_test = np.array(testData.iloc[:, :-1], dtype = float)\n",
    "y_test = testData.iloc[:, -1]\n",
    "\n",
    "print(\"Y from training data:\", y_train.shape)\n",
    "print(\"Y from validation data:\", y_val.shape)\n",
    "print(\"Y from test data:\", y_test.shape)\n"
   ]
  },
  {
   "cell_type": "code",
   "execution_count": 10,
   "metadata": {},
   "outputs": [
    {
     "name": "stdout",
     "output_type": "stream",
     "text": [
      "X from training data (9903, 25)\n",
      "X from validation data (4245, 25)\n",
      "X from test data (3586, 25)\n"
     ]
    }
   ],
   "source": [
    "#Normalizing the dataset\n",
    "from sklearn.preprocessing import StandardScaler\n",
    "import numpy as np\n",
    "scaler = StandardScaler()\n",
    "X_train = scaler.fit_transform( X_train )\n",
    "X_val = scaler.transform( X_val )\n",
    "X_test = scaler.transform( X_test )\n",
    "\n",
    "print(\"X from training data\", X_train.shape)\n",
    "print(\"X from validation data\", X_val.shape)\n",
    "print(\"X from test data\", X_test.shape)\n"
   ]
  },
  {
   "cell_type": "code",
   "execution_count": 11,
   "metadata": {},
   "outputs": [
    {
     "ename": "NameError",
     "evalue": "name 'max_value' is not defined",
     "output_type": "error",
     "traceback": [
      "\u001b[0;31m---------------------------------------------------------------------------\u001b[0m",
      "\u001b[0;31mNameError\u001b[0m                                 Traceback (most recent call last)",
      "\u001b[0;32m/tmp/ipykernel_62138/1975335320.py\u001b[0m in \u001b[0;36m<cell line: 16>\u001b[0;34m()\u001b[0m\n\u001b[1;32m     14\u001b[0m \u001b[0;31m#print(len(count))\u001b[0m\u001b[0;34m\u001b[0m\u001b[0;34m\u001b[0m\u001b[0m\n\u001b[1;32m     15\u001b[0m \u001b[0;31m#count.update({len(count):8})\u001b[0m\u001b[0;34m\u001b[0m\u001b[0;34m\u001b[0m\u001b[0m\n\u001b[0;32m---> 16\u001b[0;31m \u001b[0mprint\u001b[0m\u001b[0;34m(\u001b[0m\u001b[0;34m\"Sum of values: \"\u001b[0m\u001b[0;34m+\u001b[0m\u001b[0mstr\u001b[0m\u001b[0;34m(\u001b[0m\u001b[0mmax_value\u001b[0m\u001b[0;34m)\u001b[0m\u001b[0;34m)\u001b[0m\u001b[0;34m\u001b[0m\u001b[0;34m\u001b[0m\u001b[0m\n\u001b[0m\u001b[1;32m     17\u001b[0m \u001b[0mweight\u001b[0m \u001b[0;34m=\u001b[0m \u001b[0;34m{\u001b[0m\u001b[0mkey\u001b[0m\u001b[0;34m:\u001b[0m \u001b[0mvalue\u001b[0m \u001b[0;32mfor\u001b[0m \u001b[0mkey\u001b[0m\u001b[0;34m,\u001b[0m \u001b[0mvalue\u001b[0m \u001b[0;32min\u001b[0m \u001b[0msorted\u001b[0m\u001b[0;34m(\u001b[0m\u001b[0mweight\u001b[0m\u001b[0;34m.\u001b[0m\u001b[0mitems\u001b[0m\u001b[0;34m(\u001b[0m\u001b[0;34m)\u001b[0m\u001b[0;34m)\u001b[0m\u001b[0;34m}\u001b[0m\u001b[0;34m\u001b[0m\u001b[0;34m\u001b[0m\u001b[0m\n\u001b[1;32m     18\u001b[0m \u001b[0mprint\u001b[0m\u001b[0;34m(\u001b[0m\u001b[0mweight\u001b[0m\u001b[0;34m)\u001b[0m\u001b[0;34m\u001b[0m\u001b[0;34m\u001b[0m\u001b[0m\n",
      "\u001b[0;31mNameError\u001b[0m: name 'max_value' is not defined"
     ]
    }
   ],
   "source": [
    "import os\n",
    "import fnmatch\n",
    "import collections\n",
    "weight={}\n",
    "path='audios/audios/56_speakers_audio_data'\n",
    "for speaker in os.listdir(path):\n",
    "    if speaker.find(\".sh\")==-1:\n",
    "        dir_path=path+'/'+speaker\n",
    "        speaker = int(speaker.split(\"_\")[0].split(\"r\")[1])\n",
    "        count = int(len(fnmatch.filter(os.listdir(dir_path), '*.*'))*0.8)-1\n",
    "        weight.update({speaker: count})\n",
    "#count={0: 73, 1: 93, 2: 95, 3: 67, 4: 71, 5: 56, 6: 59, 7: 48, 8: 78, 9: 51, 10: 42, 11: 51, 12: 26, 13: 28, 14: 39, 15: 29, 16: 37, 17: 34, 18: 31, 19: 25, 20: 399, 21: 45, 22: 399, 23: 30, 24: 42, 25: 38, 26: 35, 27: 36, 28: 46, 29: 23, 30: 25, 31: 36, 32: 28, 33: 27, 34: 26, 35: 24, 36: 25, 37: 43, 38: 26, 39: 39, 40: 24, 41: 24, 42: 31, 43: 26, 44: 28, 45: 32, 46: 29, 47: 26, 48: 23, 49: 39, 50: 25, 51: 23, 52: 23, 53: 23, 54: 399, 55: 7, 56: 7, 57: 7, 58: 7, 59: 7, 60: 7}\n",
    "#max_value=sum(count.values())\n",
    "#print(len(count))\n",
    "#count.update({len(count):8})\n",
    "print(\"Sum of values: \"+str(max_value))\n",
    "weight = {key: value for key, value in sorted(weight.items())}\n",
    "print(weight)\n",
    "weight = {k: 1-(v/max_value) for k, v in weight.items()}\n",
    "print(weight)\n",
    "print(set(range(57)) - set(y_train))"
   ]
  },
  {
   "cell_type": "code",
   "execution_count": 12,
   "metadata": {},
   "outputs": [
    {
     "name": "stdout",
     "output_type": "stream",
     "text": [
      "[[-0.44392447 -0.71902235 -0.02956747 ...  1.16893002  0.47131218\n",
      "   1.01418533]\n",
      " [ 0.18658759 -0.29532677 -0.51835889 ...  0.57797665 -0.78300675\n",
      "  -0.53880963]\n",
      " [-0.9133197   0.85227884  1.67895344 ...  2.29859479  0.06944251\n",
      "   1.25654025]\n",
      " ...\n",
      " [ 0.60902659  0.33282134 -0.28573575 ...  0.32915917  0.68311064\n",
      "  -0.84998858]\n",
      " [-0.68274003 -1.975858   -1.3866639  ... -2.53111192  1.96691452\n",
      "  -0.57023454]\n",
      " [-0.95586499 -0.70397194 -0.55309884 ...  0.24970161 -0.51709064\n",
      "   0.29687501]]\n",
      "Epoch 1/100\n"
     ]
    },
    {
     "name": "stderr",
     "output_type": "stream",
     "text": [
      "2023-05-18 20:03:05.524475: W tensorflow/stream_executor/platform/default/dso_loader.cc:64] Could not load dynamic library 'libcuda.so.1'; dlerror: libcuda.so.1: cannot open shared object file: No such file or directory\n",
      "2023-05-18 20:03:05.524500: W tensorflow/stream_executor/cuda/cuda_driver.cc:263] failed call to cuInit: UNKNOWN ERROR (303)\n",
      "2023-05-18 20:03:05.524519: I tensorflow/stream_executor/cuda/cuda_diagnostics.cc:156] kernel driver does not appear to be running on this host (device2): /proc/driver/nvidia/version does not exist\n",
      "2023-05-18 20:03:05.524772: I tensorflow/core/platform/cpu_feature_guard.cc:193] This TensorFlow binary is optimized with oneAPI Deep Neural Network Library (oneDNN) to use the following CPU instructions in performance-critical operations:  AVX2 FMA\n",
      "To enable them in other operations, rebuild TensorFlow with the appropriate compiler flags.\n"
     ]
    },
    {
     "name": "stdout",
     "output_type": "stream",
     "text": [
      "78/78 [==============================] - 1s 4ms/step - loss: 245.5415 - accuracy: 0.0730 - val_loss: 3.1729 - val_accuracy: 0.2636\n",
      "Epoch 2/100\n",
      "78/78 [==============================] - 0s 2ms/step - loss: 147.0803 - accuracy: 0.2047 - val_loss: 2.3294 - val_accuracy: 0.3915\n",
      "Epoch 3/100\n",
      "78/78 [==============================] - 0s 2ms/step - loss: 110.3086 - accuracy: 0.3082 - val_loss: 1.7001 - val_accuracy: 0.6016\n",
      "Epoch 4/100\n",
      "78/78 [==============================] - 0s 2ms/step - loss: 88.6915 - accuracy: 0.3917 - val_loss: 1.2940 - val_accuracy: 0.6921\n",
      "Epoch 5/100\n",
      "78/78 [==============================] - 0s 2ms/step - loss: 74.4207 - accuracy: 0.4692 - val_loss: 1.0144 - val_accuracy: 0.7722\n",
      "Epoch 6/100\n",
      "78/78 [==============================] - 0s 2ms/step - loss: 64.2330 - accuracy: 0.5275 - val_loss: 0.8076 - val_accuracy: 0.8276\n",
      "Epoch 7/100\n",
      "78/78 [==============================] - 0s 2ms/step - loss: 55.9445 - accuracy: 0.5846 - val_loss: 0.6730 - val_accuracy: 0.8620\n",
      "Epoch 8/100\n",
      "78/78 [==============================] - 0s 2ms/step - loss: 51.4694 - accuracy: 0.6197 - val_loss: 0.5796 - val_accuracy: 0.8674\n",
      "Epoch 9/100\n",
      "78/78 [==============================] - 0s 2ms/step - loss: 46.1660 - accuracy: 0.6398 - val_loss: 0.5150 - val_accuracy: 0.8949\n",
      "Epoch 10/100\n",
      "78/78 [==============================] - 0s 2ms/step - loss: 42.8500 - accuracy: 0.6790 - val_loss: 0.4549 - val_accuracy: 0.9004\n",
      "Epoch 11/100\n",
      "78/78 [==============================] - 0s 2ms/step - loss: 40.4149 - accuracy: 0.6913 - val_loss: 0.4167 - val_accuracy: 0.9088\n",
      "Epoch 12/100\n",
      "78/78 [==============================] - 0s 2ms/step - loss: 38.1775 - accuracy: 0.7079 - val_loss: 0.3870 - val_accuracy: 0.9194\n",
      "Epoch 13/100\n",
      "78/78 [==============================] - 0s 2ms/step - loss: 36.8498 - accuracy: 0.7246 - val_loss: 0.3633 - val_accuracy: 0.9206\n",
      "Epoch 14/100\n",
      "78/78 [==============================] - 0s 2ms/step - loss: 33.1546 - accuracy: 0.7289 - val_loss: 0.3366 - val_accuracy: 0.9199\n",
      "Epoch 15/100\n",
      "78/78 [==============================] - 0s 2ms/step - loss: 32.1136 - accuracy: 0.7494 - val_loss: 0.3186 - val_accuracy: 0.9263\n",
      "Epoch 16/100\n",
      "78/78 [==============================] - 0s 2ms/step - loss: 30.7673 - accuracy: 0.7563 - val_loss: 0.2972 - val_accuracy: 0.9265\n",
      "Epoch 17/100\n",
      "78/78 [==============================] - 0s 2ms/step - loss: 29.6105 - accuracy: 0.7679 - val_loss: 0.2814 - val_accuracy: 0.9364\n",
      "Epoch 18/100\n",
      "78/78 [==============================] - 0s 2ms/step - loss: 30.5845 - accuracy: 0.7694 - val_loss: 0.2690 - val_accuracy: 0.9312\n",
      "Epoch 19/100\n",
      "78/78 [==============================] - 0s 2ms/step - loss: 27.8534 - accuracy: 0.7846 - val_loss: 0.2604 - val_accuracy: 0.9272\n",
      "Epoch 20/100\n",
      "78/78 [==============================] - 0s 3ms/step - loss: 26.7861 - accuracy: 0.7820 - val_loss: 0.2503 - val_accuracy: 0.9350\n",
      "Epoch 21/100\n",
      "78/78 [==============================] - 0s 2ms/step - loss: 27.4464 - accuracy: 0.7908 - val_loss: 0.2393 - val_accuracy: 0.9324\n",
      "Epoch 22/100\n",
      "78/78 [==============================] - 0s 2ms/step - loss: 25.2259 - accuracy: 0.7988 - val_loss: 0.2339 - val_accuracy: 0.9347\n",
      "Epoch 23/100\n",
      "78/78 [==============================] - 0s 2ms/step - loss: 24.6424 - accuracy: 0.8077 - val_loss: 0.2210 - val_accuracy: 0.9385\n",
      "Epoch 24/100\n",
      "78/78 [==============================] - 0s 2ms/step - loss: 25.3228 - accuracy: 0.8087 - val_loss: 0.2161 - val_accuracy: 0.9432\n",
      "Epoch 25/100\n",
      "78/78 [==============================] - 0s 2ms/step - loss: 23.4472 - accuracy: 0.8167 - val_loss: 0.2089 - val_accuracy: 0.9435\n",
      "Epoch 26/100\n",
      "78/78 [==============================] - 0s 2ms/step - loss: 22.7803 - accuracy: 0.8174 - val_loss: 0.2018 - val_accuracy: 0.9461\n",
      "Epoch 27/100\n",
      "78/78 [==============================] - 0s 3ms/step - loss: 22.5415 - accuracy: 0.8178 - val_loss: 0.1963 - val_accuracy: 0.9435\n",
      "Epoch 28/100\n",
      "78/78 [==============================] - 0s 2ms/step - loss: 21.1046 - accuracy: 0.8330 - val_loss: 0.1891 - val_accuracy: 0.9449\n",
      "Epoch 29/100\n",
      "78/78 [==============================] - 0s 2ms/step - loss: 20.4858 - accuracy: 0.8354 - val_loss: 0.1836 - val_accuracy: 0.9482\n",
      "Epoch 30/100\n",
      "78/78 [==============================] - 0s 2ms/step - loss: 21.1277 - accuracy: 0.8343 - val_loss: 0.1835 - val_accuracy: 0.9482\n",
      "Epoch 31/100\n",
      "78/78 [==============================] - 0s 2ms/step - loss: 20.3428 - accuracy: 0.8326 - val_loss: 0.1804 - val_accuracy: 0.9477\n",
      "Epoch 32/100\n",
      "78/78 [==============================] - 0s 2ms/step - loss: 20.0637 - accuracy: 0.8377 - val_loss: 0.1772 - val_accuracy: 0.9482\n",
      "Epoch 33/100\n",
      "78/78 [==============================] - 0s 3ms/step - loss: 20.8936 - accuracy: 0.8446 - val_loss: 0.1688 - val_accuracy: 0.9503\n",
      "Epoch 34/100\n",
      "78/78 [==============================] - 0s 2ms/step - loss: 20.8606 - accuracy: 0.8417 - val_loss: 0.1738 - val_accuracy: 0.9484\n",
      "Epoch 35/100\n",
      "78/78 [==============================] - 0s 2ms/step - loss: 19.4580 - accuracy: 0.8464 - val_loss: 0.1664 - val_accuracy: 0.9501\n",
      "Epoch 36/100\n",
      "78/78 [==============================] - 0s 2ms/step - loss: 19.4802 - accuracy: 0.8437 - val_loss: 0.1671 - val_accuracy: 0.9475\n",
      "Epoch 37/100\n",
      "78/78 [==============================] - 0s 3ms/step - loss: 17.2412 - accuracy: 0.8605 - val_loss: 0.1627 - val_accuracy: 0.9489\n",
      "Epoch 38/100\n",
      "78/78 [==============================] - 0s 2ms/step - loss: 18.7003 - accuracy: 0.8583 - val_loss: 0.1573 - val_accuracy: 0.9498\n",
      "Epoch 39/100\n",
      "78/78 [==============================] - 0s 3ms/step - loss: 19.1510 - accuracy: 0.8530 - val_loss: 0.1585 - val_accuracy: 0.9496\n",
      "Epoch 40/100\n",
      "78/78 [==============================] - 0s 3ms/step - loss: 17.8073 - accuracy: 0.8562 - val_loss: 0.1580 - val_accuracy: 0.9529\n",
      "Epoch 41/100\n",
      "78/78 [==============================] - 0s 2ms/step - loss: 18.2455 - accuracy: 0.8574 - val_loss: 0.1586 - val_accuracy: 0.9491\n",
      "Epoch 41: early stopping\n"
     ]
    }
   ],
   "source": [
    "#Creating a Model\n",
    "from keras import models\n",
    "from keras import layers\n",
    "import keras\n",
    "\n",
    "model = models.Sequential()\n",
    "model.add(layers.Dense(256, activation='relu', input_shape=(X_train.shape[1],)))\n",
    "model.add(layers.Dropout(0.5))\n",
    "model.add(layers.Dense(128, activation='relu'))\n",
    "model.add(layers.Dropout(0.5))\n",
    "model.add(layers.Dense(64, activation='relu'))\n",
    "model.add(layers.Dropout(0.5))\n",
    "model.add(layers.Dense(100, activation='softmax'))\n",
    "\n",
    "# Learning Process of a model\n",
    "model.compile(optimizer='adam',\n",
    "              loss='sparse_categorical_crossentropy',\n",
    "              metrics=['accuracy'])\n",
    "\n",
    "# simple early stopping\n",
    "from keras.callbacks import EarlyStopping\n",
    "#es = EarlyStopping(monitor='val_accuracy', patience=10, verbose=1)\n",
    "es = EarlyStopping(monitor='val_loss', patience=3, verbose=1)\n",
    "print(X_train)\n",
    "#Train with early stopping to avoid overfitting\n",
    "y_train=np.array(y_train, dtype=int)\n",
    "y_val=np.array(y_val, dtype=int)\n",
    "history = model.fit(X_train,y_train,validation_data=(X_val, y_val),epochs=100,\n",
    "                    batch_size=128,class_weight=weight, callbacks=[es])"
   ]
  },
  {
   "cell_type": "code",
   "execution_count": 13,
   "metadata": {},
   "outputs": [
    {
     "name": "stdout",
     "output_type": "stream",
     "text": [
      "Model: \"sequential\"\n",
      "_________________________________________________________________\n",
      " Layer (type)                Output Shape              Param #   \n",
      "=================================================================\n",
      " dense (Dense)               (None, 256)               6656      \n",
      "                                                                 \n",
      " dropout (Dropout)           (None, 256)               0         \n",
      "                                                                 \n",
      " dense_1 (Dense)             (None, 128)               32896     \n",
      "                                                                 \n",
      " dropout_1 (Dropout)         (None, 128)               0         \n",
      "                                                                 \n",
      " dense_2 (Dense)             (None, 64)                8256      \n",
      "                                                                 \n",
      " dropout_2 (Dropout)         (None, 64)                0         \n",
      "                                                                 \n",
      " dense_3 (Dense)             (None, 100)               6500      \n",
      "                                                                 \n",
      "=================================================================\n",
      "Total params: 54,308\n",
      "Trainable params: 54,308\n",
      "Non-trainable params: 0\n",
      "_________________________________________________________________\n"
     ]
    }
   ],
   "source": [
    "model.summary()"
   ]
  },
  {
   "cell_type": "code",
   "execution_count": 14,
   "metadata": {},
   "outputs": [
    {
     "data": {
      "image/png": "[encoded data removed]",
      "text/plain": [
       "<Figure size 640x480 with 1 Axes>"
      ]
     },
     "metadata": {},
     "output_type": "display_data"
    }
   ],
   "source": [
    "# plot training history\n",
    "from matplotlib import pyplot\n",
    "pyplot.plot(history.history['loss'], label='train')\n",
    "pyplot.plot(history.history['val_loss'], label='test')\n",
    "pyplot.legend()\n",
    "pyplot.show()"
   ]
  },
  {
   "cell_type": "code",
   "execution_count": 16,
   "metadata": {},
   "outputs": [],
   "source": [
    "def getSpeaker(speaker):\n",
    "    speaker = \"Speaker\"+str(speaker).zfill(3)\n",
    "    return speaker\n",
    "    \n",
    "        \n",
    "def printPrediction(X_data, y_data, printDigit, model):\n",
    "    print('\\n# Generate predictions')\n",
    "    for i in range(len(y_data)):\n",
    "        predict_x=model.predict(X_data[i:i+1])[0]\n",
    "        predict_classes = np.argmax(predict_x)\n",
    "        prediction = getSpeaker(predict_classes)\n",
    "    \n",
    "        speaker = getSpeaker(y_data[i])\n",
    "        if printDigit == True:\n",
    "           print(\"Number={0:d}, y={1:10s}- prediction={2:10s}- match={3}\".format(i, speaker, prediction, speaker==prediction))\n",
    "        else:\n",
    "           print(\"y={0:10s}- prediction={1:10s}- match={2}\".format(speaker, prediction, speaker==prediction))"
   ]
  },
  {
   "cell_type": "code",
   "execution_count": 17,
   "metadata": {},
   "outputs": [],
   "source": [
    "import numpy as np\n",
    "from keras import backend as K\n",
    "from keras.models import Sequential\n",
    "from keras.layers.core import Dense, Dropout, Activation, Flatten\n",
    "from keras.layers.convolutional import Convolution2D, MaxPooling2D\n",
    "from keras.preprocessing.image import ImageDataGenerator\n",
    "from sklearn.metrics import classification_report, confusion_matrix\n",
    "\n",
    "def report(X_data, y_data):\n",
    "    #Confution Matrix and Classification Report\n",
    "    predict_y = model.predict(X_data)\n",
    "    Y_pred = np.argmax(predict_y, axis=1)\n",
    "    y_test_num = y_data.astype(np.int64)\n",
    "    conf_mt = confusion_matrix(y_test_num, Y_pred)\n",
    "    print(conf_mt[6])\n",
    "    key=0\n",
    "    for val in conf_mt[6]:\n",
    "        if val!=0:\n",
    "            print(key)\n",
    "        key=key+1\n",
    "    conf_mt=conf_mt / conf_mt.astype(np.float).sum(axis=1)\n",
    "    #print(conf_mt)\n",
    "    plt.matshow(conf_mt)\n",
    "    plt.show()\n",
    "    print('\\nClassification Report')\n",
    "    print(classification_report(y_test_num, Y_pred))\n"
   ]
  },
  {
   "cell_type": "code",
   "execution_count": 18,
   "metadata": {},
   "outputs": [
    {
     "name": "stdout",
     "output_type": "stream",
     "text": [
      "\n",
      "# TEST DATA #\n",
      "\n",
      "27/27 [==============================] - 0s 1ms/step - loss: 0.7732 - accuracy: 0.9274\n",
      "accuracy: 92.74%\n",
      "\n",
      "# Generate predictions\n",
      "1/1 [==============================] - 0s 64ms/step\n",
      "y=Speaker032- prediction=Speaker043- match=False\n",
      "1/1 [==============================] - 0s 17ms/step\n",
      "y=Speaker054- prediction=Speaker054- match=True\n",
      "1/1 [==============================] - 0s 16ms/step\n",
      "y=Speaker013- prediction=Speaker013- match=True\n",
      "1/1 [==============================] - 0s 16ms/step\n",
      "y=Speaker048- prediction=Speaker048- match=True\n",
      "1/1 [==============================] - 0s 16ms/step\n",
      "y=Speaker001- prediction=Speaker001- match=True\n",
      "1/1 [==============================] - 0s 16ms/step\n",
      "y=Speaker019- prediction=Speaker019- match=True\n",
      "1/1 [==============================] - 0s 19ms/step\n",
      "y=Speaker000- prediction=Speaker000- match=True\n",
      "1/1 [==============================] - 0s 18ms/step\n",
      "y=Speaker052- prediction=Speaker052- match=True\n",
      "1/1 [==============================] - 0s 18ms/step\n",
      "y=Speaker020- prediction=Speaker020- match=True\n",
      "1/1 [==============================] - 0s 17ms/step\n",
      "y=Speaker044- prediction=Speaker044- match=True\n",
      "1/1 [==============================] - 0s 17ms/step\n",
      "y=Speaker030- prediction=Speaker030- match=True\n",
      "1/1 [==============================] - 0s 17ms/step\n",
      "y=Speaker054- prediction=Speaker054- match=True\n",
      "1/1 [==============================] - 0s 17ms/step\n",
      "y=Speaker009- prediction=Speaker009- match=True\n",
      "1/1 [==============================] - 0s 19ms/step\n",
      "y=Speaker002- prediction=Speaker002- match=True\n",
      "1/1 [==============================] - 0s 18ms/step\n",
      "y=Speaker018- prediction=Speaker018- match=True\n",
      "1/1 [==============================] - 0s 18ms/step\n",
      "y=Speaker020- prediction=Speaker020- match=True\n",
      "1/1 [==============================] - 0s 16ms/step\n",
      "y=Speaker045- prediction=Speaker045- match=True\n",
      "1/1 [==============================] - 0s 15ms/step\n",
      "y=Speaker020- prediction=Speaker020- match=True\n",
      "1/1 [==============================] - 0s 16ms/step\n",
      "y=Speaker016- prediction=Speaker016- match=True\n",
      "1/1 [==============================] - 0s 17ms/step\n",
      "y=Speaker009- prediction=Speaker009- match=True\n"
     ]
    }
   ],
   "source": [
    "print('\\n# TEST DATA #\\n')\n",
    "y_test=np.array(y_test, dtype=int)\n",
    "score = model.evaluate(X_test, y_test)\n",
    "print(\"%s: %.2f%%\" % (model.metrics_names[1], score[1]*100))\n",
    "# Prediction\n",
    "printPrediction(X_test[0:20], y_test[0:20], False, model)"
   ]
  },
  {
   "cell_type": "code",
   "execution_count": 30,
   "metadata": {},
   "outputs": [
    {
     "name": "stdout",
     "output_type": "stream",
     "text": [
      "Classification Report for Test Data\n",
      "\n",
      "27/27 [==============================] - 0s 978us/step\n",
      "[ 0  0 15  0  1  0  0  0  0  0  0  0  0  0  0  0  0  0  0  0  0  0  0  0\n",
      "  0  0  0  0  0  0  0  0  0  0  0  0  0  0  0  0  0  0  0  0  0  0  0  0\n",
      "  0  0  0  0  0  0  0  0  0  0  0  0  0]\n",
      "2\n",
      "4\n"
     ]
    },
    {
     "data": {
      "image/png": "[encoded data removed]",
      "text/plain": [
       "<Figure size 480x480 with 1 Axes>"
      ]
     },
     "metadata": {},
     "output_type": "display_data"
    },
    {
     "name": "stdout",
     "output_type": "stream",
     "text": [
      "\n",
      "Classification Report\n",
      "              precision    recall  f1-score   support\n",
      "\n",
      "           0       0.95      0.95      0.95        19\n",
      "           1       1.00      1.00      1.00        24\n",
      "           2       0.61      0.96      0.74        24\n",
      "           3       1.00      0.94      0.97        17\n",
      "           4       0.89      0.94      0.92        18\n",
      "           5       1.00      1.00      1.00        15\n",
      "           6       0.00      0.00      0.00        16\n",
      "           7       0.93      1.00      0.96        13\n",
      "           8       1.00      1.00      1.00        20\n",
      "           9       1.00      0.92      0.96        13\n",
      "          10       1.00      1.00      1.00        11\n",
      "          11       1.00      0.92      0.96        13\n",
      "          12       1.00      0.86      0.92         7\n",
      "          13       1.00      0.88      0.93         8\n",
      "          14       1.00      1.00      1.00        11\n",
      "          15       1.00      0.88      0.93         8\n",
      "          16       0.71      1.00      0.83        10\n",
      "          17       1.00      1.00      1.00         9\n",
      "          18       1.00      0.88      0.93         8\n",
      "          19       0.88      1.00      0.93         7\n",
      "          20       0.99      1.00      1.00       100\n",
      "          21       1.00      0.92      0.96        12\n",
      "          22       0.92      0.96      0.94       100\n",
      "          23       1.00      0.88      0.93         8\n",
      "          24       1.00      0.91      0.95        11\n",
      "          25       1.00      0.90      0.95        10\n",
      "          26       0.82      1.00      0.90         9\n",
      "          27       1.00      0.90      0.95        10\n",
      "          28       1.00      1.00      1.00        12\n",
      "          29       1.00      1.00      1.00         7\n",
      "          30       1.00      0.86      0.92         7\n",
      "          31       0.62      1.00      0.77        10\n",
      "          32       1.00      0.38      0.55         8\n",
      "          33       1.00      1.00      1.00         7\n",
      "          34       1.00      1.00      1.00         7\n",
      "          35       0.88      1.00      0.93         7\n",
      "          36       1.00      0.86      0.92         7\n",
      "          37       0.73      1.00      0.85        11\n",
      "          38       1.00      0.86      0.92         7\n",
      "          39       1.00      1.00      1.00        11\n",
      "          40       1.00      1.00      1.00         7\n",
      "          41       0.57      0.57      0.57         7\n",
      "          42       1.00      0.89      0.94         9\n",
      "          43       0.60      0.86      0.71         7\n",
      "          44       0.88      0.88      0.88         8\n",
      "          45       1.00      0.89      0.94         9\n",
      "          46       0.88      0.88      0.88         8\n",
      "          47       1.00      0.86      0.92         7\n",
      "          48       0.86      0.86      0.86         7\n",
      "          49       1.00      0.90      0.95        10\n",
      "          50       1.00      0.86      0.92         7\n",
      "          51       1.00      1.00      1.00         6\n",
      "          52       0.75      1.00      0.86         6\n",
      "          53       1.00      0.67      0.80         6\n",
      "          54       0.96      0.97      0.97       100\n",
      "          55       1.00      1.00      1.00         3\n",
      "          56       1.00      1.00      1.00         3\n",
      "          57       1.00      1.00      1.00         3\n",
      "          58       1.00      0.67      0.80         3\n",
      "          59       1.00      1.00      1.00         3\n",
      "          60       1.00      0.67      0.80         3\n",
      "\n",
      "    accuracy                           0.93       854\n",
      "   macro avg       0.92      0.90      0.90       854\n",
      "weighted avg       0.92      0.93      0.92       854\n",
      "\n"
     ]
    }
   ],
   "source": [
    "print(\"Classification Report for Test Data\\n\")\n",
    "report(X_test, y_test)"
   ]
  },
  {
   "cell_type": "markdown",
   "metadata": {},
   "source": [
    "### Save model"
   ]
  },
  {
   "cell_type": "code",
   "execution_count": null,
   "metadata": {},
   "outputs": [],
   "source": [
    "model.save('speaker-recognition.h5')"
   ]
  },
  {
   "cell_type": "markdown",
   "metadata": {},
   "source": [
    "\n",
    "Transfer learning\n",
    "\n",
    "https://keras.io/guides/transfer_learning/\n"
   ]
  },
  {
   "cell_type": "markdown",
   "metadata": {},
   "source": [
    "### Load model"
   ]
  },
  {
   "cell_type": "code",
   "execution_count": null,
   "metadata": {},
   "outputs": [],
   "source": [
    "new_model = keras.models.load_model('speaker-recognition.h5')\n",
    "#printPrediction(X_test[0:20], y_test[0:20], False, new_model)"
   ]
  },
  {
   "cell_type": "code",
   "execution_count": null,
   "metadata": {},
   "outputs": [],
   "source": [
    "#filename='Speaker0055_477.wav'\n",
    "extractWavFeatures(\"audios/audios/one_test\", final_test)"
   ]
  },
  {
   "cell_type": "code",
   "execution_count": null,
   "metadata": {},
   "outputs": [],
   "source": [
    "trainData = preProcessData(TRAIN_CSV_FILE)\n",
    "final_testData = preProcessData(final_test)"
   ]
  },
  {
   "cell_type": "code",
   "execution_count": null,
   "metadata": {},
   "outputs": [],
   "source": [
    "# Splitting the dataset into training, validation and testing dataset\n",
    "from sklearn.model_selection import train_test_split\n",
    "X = np.array(trainData.iloc[:, :-1], dtype = float)\n",
    "y = trainData.iloc[:, -1]\n",
    "X_train, X_val, y_train, y_val = train_test_split(X, y, test_size=0.3, random_state=50)\n",
    "\n",
    "\n",
    "X_test = np.array(final_testData.iloc[:, :-1], dtype = float)\n",
    "y_test = final_testData.iloc[:, -1]\n",
    "\n",
    "print(\"Y from training data:\", y_train.shape)\n",
    "print(\"Y from validation data:\", y_val.shape)\n",
    "print(\"Y from test data:\", y_test.shape)"
   ]
  },
  {
   "cell_type": "code",
   "execution_count": null,
   "metadata": {},
   "outputs": [],
   "source": [
    "from sklearn.preprocessing import StandardScaler\n",
    "import numpy as np\n",
    "scaler = StandardScaler()\n",
    "X_train = scaler.fit_transform( X_train )\n",
    "X_val = scaler.transform( X_val )\n",
    "X_test = scaler.transform( X_test )\n",
    "\n",
    "print(\"X from training data\", X_train.shape)\n",
    "print(\"X from validation data\", X_val.shape)\n",
    "print(\"X from test data\", X_test.shape)\n"
   ]
  },
  {
   "cell_type": "code",
   "execution_count": null,
   "metadata": {},
   "outputs": [],
   "source": [
    "print('\\n# TEST DATA #\\n')\n",
    "y_test=np.array(y_test, dtype=int)\n",
    "score = new_model.evaluate(X_test, y_test)\n",
    "print(\"%s: %.2f%%\" % (new_model.metrics_names[1], score[1]*100))\n",
    "# Prediction\n",
    "printPrediction(X_test[0:20], y_test[0:20], False, new_model)"
   ]
  },
  {
   "cell_type": "code",
   "execution_count": null,
   "metadata": {},
   "outputs": [],
   "source": []
  },
  {
   "cell_type": "code",
   "execution_count": null,
   "metadata": {},
   "outputs": [],
   "source": []
  }
 ],
 "metadata": {
  "kernelspec": {
   "display_name": "Python 3 (ipykernel)",
   "language": "python",
   "name": "python3"
  },
  "language_info": {
   "codemirror_mode": {
    "name": "ipython",
    "version": 3
   },
   "file_extension": ".py",
   "mimetype": "text/x-python",
   "name": "python",
   "nbconvert_exporter": "python",
   "pygments_lexer": "ipython3",
   "version": "3.9.12"
  },
  "vscode": {
   "interpreter": {
    "hash": "916dbcbb3f70747c44a77c7bcd40155683ae19c65e1c03b4aa3499c5328201f1"
   }
  }
 },
 "nbformat": 4,
 "nbformat_minor": 2
}
