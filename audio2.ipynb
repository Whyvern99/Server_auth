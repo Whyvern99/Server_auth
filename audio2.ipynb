{
 "cells": [
  {
   "cell_type": "markdown",
   "metadata": {},
   "source": [
    "**Settings**"
   ]
  },
  {
   "cell_type": "code",
   "execution_count": 1,
   "metadata": {},
   "outputs": [],
   "source": [
    "#import librosa\n",
    "#import numpy as np\n",
    "#import pandas as pd\n",
    "#import matplotlib.pyplot as plt\n",
    "#import librosa.display\n",
    "#import keras\n",
    "#import datetime\n",
    "#import seaborn as sns\n",
    "#from sklearn.preprocessing import LabelEncoder \n",
    "#from sklearn.model_selection import train_test_split\n",
    "#from sklearn.metrics import confusion_matrix\n",
    "#from sklearn.metrics import classification_report\n",
    "\n",
    "#plt.style.use('ggplot')\n",
    "#plt.rcParams['font.family'] = 'sans-serif' \n",
    "#plt.rcParams['font.serif'] = 'Ubuntu' \n",
    "#plt.rcParams['font.monospace'] = 'Ubuntu Mono' \n",
    "#plt.rcParams['font.size'] = 14 \n",
    "#plt.rcParams['axes.labelsize'] = 12 \n",
    "#plt.rcParams['axes.labelweight'] = 'bold' \n",
    "#plt.rcParams['axes.titlesize'] = 12 \n",
    "#plt.rcParams['xtick.labelsize'] = 12 \n",
    "#plt.rcParams['ytick.labelsize'] = 12 \n",
    "#plt.rcParams['legend.fontsize'] = 12 \n",
    "#plt.rcParams['figure.titlesize'] = 12 \n",
    "#plt.rcParams['image.cmap'] = 'jet' \n",
    "#plt.rcParams['image.interpolation'] = 'none' \n",
    "#plt.rcParams['figure.figsize'] = (10, 10) \n",
    "#plt.rcParams['axes.grid']=False\n",
    "#plt.rcParams['lines.linewidth'] = 2 \n",
    "#plt.rcParams['lines.markersize'] = 8\n",
    "#colors = ['xkcd:pale orange', 'xkcd:sea blue', 'xkcd:pale red', 'xkcd:sage green', 'xkcd:terra cotta', 'xkcd:dull purple', 'xkcd:teal', 'xkcd: goldenrod', 'xkcd:cadet blue',\n",
    "#'xkcd:scarlet']\n",
    "#bbox_props = dict(boxstyle=\"round,pad=0.3\", fc=colors[0], alpha=.5)\"\"\""
   ]
  },
  {
   "cell_type": "code",
   "execution_count": 2,
   "metadata": {},
   "outputs": [
    {
     "name": "stderr",
     "output_type": "stream",
     "text": [
      "2023-01-11 18:20:40.948282: I tensorflow/core/platform/cpu_feature_guard.cc:193] This TensorFlow binary is optimized with oneAPI Deep Neural Network Library (oneDNN) to use the following CPU instructions in performance-critical operations:  AVX2 FMA\n",
      "To enable them in other operations, rebuild TensorFlow with the appropriate compiler flags.\n",
      "2023-01-11 18:20:41.220970: W tensorflow/stream_executor/platform/default/dso_loader.cc:64] Could not load dynamic library 'libcudart.so.11.0'; dlerror: libcudart.so.11.0: cannot open shared object file: No such file or directory\n",
      "2023-01-11 18:20:41.220986: I tensorflow/stream_executor/cuda/cudart_stub.cc:29] Ignore above cudart dlerror if you do not have a GPU set up on your machine.\n",
      "2023-01-11 18:20:41.256282: E tensorflow/stream_executor/cuda/cuda_blas.cc:2981] Unable to register cuBLAS factory: Attempting to register factory for plugin cuBLAS when one has already been registered\n",
      "2023-01-11 18:20:42.220762: W tensorflow/stream_executor/platform/default/dso_loader.cc:64] Could not load dynamic library 'libnvinfer.so.7'; dlerror: libnvinfer.so.7: cannot open shared object file: No such file or directory\n",
      "2023-01-11 18:20:42.220841: W tensorflow/stream_executor/platform/default/dso_loader.cc:64] Could not load dynamic library 'libnvinfer_plugin.so.7'; dlerror: libnvinfer_plugin.so.7: cannot open shared object file: No such file or directory\n",
      "2023-01-11 18:20:42.220850: W tensorflow/compiler/tf2tensorrt/utils/py_utils.cc:38] TF-TRT Warning: Cannot dlopen some TensorRT libraries. If you would like to use Nvidia GPU with TensorRT, please make sure the missing libraries mentioned above are installed properly.\n"
     ]
    }
   ],
   "source": [
    "#requisits and ignore warnings\n",
    "import warnings\n",
    "warnings.simplefilter('ignore')\n",
    "\n",
    "import fnmatch\n",
    "import collections\n",
    "import keras\n",
    "import librosa\n",
    "import csv\n",
    "import os\n",
    "import numpy as np\n",
    "import pandas as pd\n",
    "import matplotlib.pyplot as plt\n",
    "\n",
    "from sklearn.preprocessing import StandardScaler\n",
    "from sklearn.model_selection import train_test_split\n",
    "from keras import models, layers\n",
    "from keras import backend as K\n",
    "from keras.callbacks import EarlyStopping\n",
    "from keras.models import Sequential\n",
    "from keras.layers.core import Dense, Dropout, Activation, Flatten\n",
    "from keras.layers.convolutional import Convolution2D, MaxPooling2D\n",
    "from keras.preprocessing.image import ImageDataGenerator\n",
    "from matplotlib import pyplot, cm\n",
    "from tqdm import tqdm\n",
    "from sklearn import preprocessing\n",
    "from sklearn.metrics import classification_report, confusion_matrix"
   ]
  },
  {
   "cell_type": "code",
   "execution_count": 3,
   "metadata": {},
   "outputs": [],
   "source": [
    "# y,sr = librosa.load('audios/Speaker26_000.wav')\n",
    "# dur_time = librosa.get_duration(y=y,sr=sr)\n",
    "#print(dur_time)\n",
    "#time_sec = round(dur_time)\n",
    "#S = librosa.feature.melspectrogram(y=y, sr=sr, n_mels=20, fmax=8000)\n",
    "#fig, ax = plt.subplots()\n",
    "#S_dB = librosa.power_to_db(S, ref=np.max)\n",
    "#img = librosa.display.specshow(S_dB, x_axis='time',y_axis='mel', sr=sr,fmax=8000, ax=ax)\n",
    "#fig.colorbar(img, ax=ax, format='%+2.0f dB')\n",
    "#ax.set(title='Mel-frequency spectrogram')\n",
    "#plt.xlim()\"\"\""
   ]
  },
  {
   "cell_type": "code",
   "execution_count": 4,
   "metadata": {},
   "outputs": [],
   "source": [
    "#time_series_sec=np.linspace(0, time_sec, len(S_dB[0]))"
   ]
  },
  {
   "cell_type": "markdown",
   "metadata": {},
   "source": [
    "The output of this section is the CSV files with the data to be handle by the model\n",
    "\n",
    "```\n",
    "trainData     : audio/train \n",
    "testData      : audio/test\n",
    "```\n"
   ]
  },
  {
   "cell_type": "code",
   "execution_count": 5,
   "metadata": {},
   "outputs": [],
   "source": [
    "# Defines the names of the CSV files\n",
    "TRAIN_CSV_FILE = \"train.csv\"\n",
    "TEST_CSV_FILE = \"test.csv\"\n",
    "final_test=\"final_test.csv\""
   ]
  },
  {
   "cell_type": "code",
   "execution_count": 6,
   "metadata": {},
   "outputs": [],
   "source": [
    "import matplotlib.pyplot as plt\n",
    "import numpy as np\n",
    "from matplotlib import cm\n",
    "import librosa\n",
    "import csv\n",
    "import os\n",
    "from tqdm import tqdm\n",
    "import warnings\n",
    "warnings.simplefilter('ignore')\n",
    "\n",
    "def extractWavFeatures(soundFilesFolder, csvFileName):\n",
    "    print(\"The features of the files in the folder \"+soundFilesFolder+\" will be saved to \"+csvFileName)\n",
    "    header = 'filename chroma_stft rmse spectral_centroid spectral_bandwidth rolloff zero_crossing_rate'\n",
    "    for i in range(1, 21):\n",
    "        header += f' mfcc{i}'\n",
    "    header += ' label'\n",
    "    header = header.split()\n",
    "    print('CSV Header: ', header)\n",
    "    file = open(csvFileName, 'w', newline='')\n",
    "    #with file:\n",
    "    writer = csv.writer(file)\n",
    "    writer.writerow(header)\n",
    "    for filename in tqdm(os.listdir(soundFilesFolder)):\n",
    "        number = f'{soundFilesFolder}/{filename}'\n",
    "        y, sr = librosa.load(number, mono=True, duration=30)\n",
    "        # remove leading and trailing silence\n",
    "        y, index = librosa.effects.trim(y)\n",
    "        chroma_stft = librosa.feature.chroma_stft(y=y, sr=sr)\n",
    "        rmse = librosa.feature.rms(y=y)\n",
    "        spec_cent = librosa.feature.spectral_centroid(y=y, sr=sr)\n",
    "        spec_bw = librosa.feature.spectral_bandwidth(y=y, sr=sr)\n",
    "        rolloff = librosa.feature.spectral_rolloff(y=y, sr=sr)\n",
    "        zcr = librosa.feature.zero_crossing_rate(y)\n",
    "        mfcc = librosa.feature.mfcc(y=y, sr=sr)\n",
    "        to_append = f'{filename} {np.mean(chroma_stft)} {np.mean(rmse)} {np.mean(spec_cent)} {np.mean(spec_bw)} {np.mean(rolloff)} {np.mean(zcr)}'\n",
    "        for e in mfcc:\n",
    "            to_append += f' {np.mean(e)}'\n",
    "        writer.writerow(to_append.split())\n",
    "    file.close()\n",
    "    print(\"End of extractWavFeatures\")\n",
    "    "
   ]
  },
  {
   "cell_type": "code",
   "execution_count": 7,
   "metadata": {},
   "outputs": [
    {
     "name": "stdout",
     "output_type": "stream",
     "text": [
      "The features of the files in the folder audios/audios/train will be saved to train.csv\n",
      "CSV Header:  ['filename', 'chroma_stft', 'rmse', 'spectral_centroid', 'spectral_bandwidth', 'rolloff', 'zero_crossing_rate', 'mfcc1', 'mfcc2', 'mfcc3', 'mfcc4', 'mfcc5', 'mfcc6', 'mfcc7', 'mfcc8', 'mfcc9', 'mfcc10', 'mfcc11', 'mfcc12', 'mfcc13', 'mfcc14', 'mfcc15', 'mfcc16', 'mfcc17', 'mfcc18', 'mfcc19', 'mfcc20', 'label']\n"
     ]
    },
    {
     "name": "stderr",
     "output_type": "stream",
     "text": [
      "100%|███████████████████████████████████████| 3303/3303 [16:30<00:00,  3.34it/s]\n"
     ]
    },
    {
     "name": "stdout",
     "output_type": "stream",
     "text": [
      "End of extractWavFeatures\n",
      "The features of the files in the folder audios/audios/test will be saved to test.csv\n",
      "CSV Header:  ['filename', 'chroma_stft', 'rmse', 'spectral_centroid', 'spectral_bandwidth', 'rolloff', 'zero_crossing_rate', 'mfcc1', 'mfcc2', 'mfcc3', 'mfcc4', 'mfcc5', 'mfcc6', 'mfcc7', 'mfcc8', 'mfcc9', 'mfcc10', 'mfcc11', 'mfcc12', 'mfcc13', 'mfcc14', 'mfcc15', 'mfcc16', 'mfcc17', 'mfcc18', 'mfcc19', 'mfcc20', 'label']\n"
     ]
    },
    {
     "name": "stderr",
     "output_type": "stream",
     "text": [
      "100%|█████████████████████████████████████████| 854/854 [04:19<00:00,  3.30it/s]"
     ]
    },
    {
     "name": "stdout",
     "output_type": "stream",
     "text": [
      "End of extractWavFeatures\n",
      "CSV files are created\n"
     ]
    },
    {
     "name": "stderr",
     "output_type": "stream",
     "text": [
      "\n"
     ]
    }
   ],
   "source": [
    "extractWavFeatures(\"audios/audios/train\", TRAIN_CSV_FILE)\n",
    "extractWavFeatures(\"audios/audios/test\", TEST_CSV_FILE)\n",
    "print(\"CSV files are created\")"
   ]
  },
  {
   "cell_type": "code",
   "execution_count": null,
   "metadata": {},
   "outputs": [],
   "source": []
  },
  {
   "cell_type": "code",
   "execution_count": 8,
   "metadata": {},
   "outputs": [],
   "source": [
    "import pandas as pd\n",
    "import csv\n",
    "from sklearn import preprocessing\n",
    "\n",
    "def preProcessData(csvFileName):\n",
    "    print(csvFileName+ \" will be preprocessed\")\n",
    "    data = pd.read_csv(csvFileName)\n",
    "    filenameArray = data['filename'] \n",
    "    speakerArray = []\n",
    "    #print(filenameArray)\n",
    "    for i in range(len(filenameArray)):\n",
    "        speaker = int(filenameArray[i].split(\"_\")[0].split(\"r\")[1])\n",
    "        #print(speaker)\n",
    "        #print(speaker)\n",
    "        speakerArray.append(speaker)\n",
    "    data['number'] = speakerArray\n",
    "    #Dropping unnecessary columns\n",
    "    data = data.drop(['filename'],axis=1)\n",
    "    data = data.drop(['label'],axis=1)\n",
    "    data = data.drop(['chroma_stft'],axis=1)\n",
    "    data.shape\n",
    "\n",
    "    print(\"Preprocessing is finished\")\n",
    "    print(data.head())\n",
    "    return data\n",
    "\n"
   ]
  },
  {
   "cell_type": "code",
   "execution_count": 9,
   "metadata": {},
   "outputs": [
    {
     "name": "stdout",
     "output_type": "stream",
     "text": [
      "train.csv will be preprocessed\n",
      "Preprocessing is finished\n",
      "       rmse  spectral_centroid  spectral_bandwidth      rolloff  \\\n",
      "0  0.044474        2925.986137         2426.865665  5365.750887   \n",
      "1  0.007040        1054.481600          969.009484  2158.703613   \n",
      "2  0.059307         644.962153          689.094968  1064.355469   \n",
      "3  0.033733        1679.723927         1658.148768  3240.135427   \n",
      "4  0.034633        1303.101750         1210.428356  2418.177044   \n",
      "\n",
      "   zero_crossing_rate       mfcc1       mfcc2      mfcc3      mfcc4  \\\n",
      "0            0.170812 -292.403381   69.789474 -19.889078   4.436610   \n",
      "1            0.055127 -541.293884  209.900482 -59.150311  35.763649   \n",
      "2            0.034738 -379.739685  229.126648 -13.465721   7.315946   \n",
      "3            0.116656 -384.844421  104.027542  -0.869874  44.156509   \n",
      "4            0.083430 -420.164368  131.315445   6.856723  27.124081   \n",
      "\n",
      "       mfcc5  ...     mfcc12     mfcc13    mfcc14     mfcc15     mfcc16  \\\n",
      "0  -3.878308  ...  -2.387268  -6.745807 -3.034384 -10.344191  -5.455682   \n",
      "1  52.395588  ... -25.589903   1.971027 -9.283678  -8.496454  14.085022   \n",
      "2  10.072659  ... -15.177598 -10.289010 -4.679581  -8.963344  -4.572488   \n",
      "3  -0.136879  ...  -1.787667   4.390304 -9.613209  10.855107  -9.326888   \n",
      "4  10.203892  ...  -7.685796   0.104468 -8.183334  -0.137333  -2.409598   \n",
      "\n",
      "      mfcc17     mfcc18    mfcc19     mfcc20  number  \n",
      "0 -11.163910  -3.516300 -6.593322  -8.111452      50  \n",
      "1  -7.112857 -12.288487  4.079620 -15.449945      22  \n",
      "2  -7.788446 -10.445480 -3.889926 -11.179747      54  \n",
      "3  -0.155693  -4.752890 -5.889289   0.593901      13  \n",
      "4  -7.096424 -10.465993 -2.762266  -3.266744      25  \n",
      "\n",
      "[5 rows x 26 columns]\n",
      "test.csv will be preprocessed\n",
      "Preprocessing is finished\n",
      "       rmse  spectral_centroid  spectral_bandwidth      rolloff  \\\n",
      "0  0.062465        2494.766120         2259.537827  4510.464393   \n",
      "1  0.075160         843.041838          880.641004  1648.486328   \n",
      "2  0.021818        1738.811781         1724.522303  3465.993488   \n",
      "3  0.036983        3389.109496         2167.250752  5731.373677   \n",
      "4  0.055204        1734.297265         1426.316152  3041.781607   \n",
      "\n",
      "   zero_crossing_rate       mfcc1       mfcc2      mfcc3      mfcc4  \\\n",
      "0            0.155642 -315.935822   87.359421  16.839615  21.476034   \n",
      "1            0.043927 -319.378571  224.693375 -44.708931  15.121886   \n",
      "2            0.120636 -435.613434   97.572189  -7.425648  44.488117   \n",
      "3            0.226041 -279.897552   34.897182 -24.824188  28.362253   \n",
      "4            0.121150 -324.571442  102.503967 -21.985764  41.096210   \n",
      "\n",
      "       mfcc5  ...     mfcc12    mfcc13     mfcc14     mfcc15     mfcc16  \\\n",
      "0   3.381309  ...  -3.350798 -7.463634   3.006976  -1.351482  -7.327713   \n",
      "1  22.486296  ... -26.435188 -8.066481   2.414000 -10.282760  -7.912687   \n",
      "2   2.806721  ...  -2.122698  3.127735  -7.236073  11.505426 -12.148650   \n",
      "3 -19.190653  ...   0.659389 -8.243056   7.187273  -7.465928   2.551009   \n",
      "4  -9.374266  ...  -7.172763 -0.444135 -11.805051   2.977448  -3.675577   \n",
      "\n",
      "     mfcc17    mfcc18    mfcc19     mfcc20  number  \n",
      "0  3.380064 -5.589298 -3.320220  -2.090706      32  \n",
      "1 -8.371008 -5.420183 -0.954234 -11.587983      54  \n",
      "2  1.264230 -5.840943 -3.782394  -1.643455      13  \n",
      "3 -5.976261  6.004973 -9.561545   3.269066      48  \n",
      "4 -5.938468 -0.991449 -5.536480  -4.147708       1  \n",
      "\n",
      "[5 rows x 26 columns]\n"
     ]
    }
   ],
   "source": [
    "trainData = preProcessData(TRAIN_CSV_FILE)\n",
    "testData = preProcessData(TEST_CSV_FILE)"
   ]
  },
  {
   "cell_type": "code",
   "execution_count": 10,
   "metadata": {},
   "outputs": [
    {
     "name": "stdout",
     "output_type": "stream",
     "text": [
      "Y from training data: (2312,)\n",
      "Y from validation data: (991,)\n",
      "Y from test data: (854,)\n"
     ]
    }
   ],
   "source": [
    "# Splitting the dataset into training, validation and testing dataset\n",
    "from sklearn.model_selection import train_test_split\n",
    "X = np.array(trainData.iloc[:, :-1], dtype = float)\n",
    "y = trainData.iloc[:, -1]\n",
    "X_train, X_val, y_train, y_val = train_test_split(X, y, test_size=0.3, random_state=50)\n",
    "\n",
    "\n",
    "X_test = np.array(testData.iloc[:, :-1], dtype = float)\n",
    "y_test = testData.iloc[:, -1]\n",
    "\n",
    "print(\"Y from training data:\", y_train.shape)\n",
    "print(\"Y from validation data:\", y_val.shape)\n",
    "print(\"Y from test data:\", y_test.shape)\n"
   ]
  },
  {
   "cell_type": "code",
   "execution_count": 11,
   "metadata": {},
   "outputs": [
    {
     "name": "stdout",
     "output_type": "stream",
     "text": [
      "X from training data (2312, 25)\n",
      "X from validation data (991, 25)\n",
      "X from test data (854, 25)\n"
     ]
    }
   ],
   "source": [
    "#Normalizing the dataset\n",
    "from sklearn.preprocessing import StandardScaler\n",
    "import numpy as np\n",
    "scaler = StandardScaler()\n",
    "X_train = scaler.fit_transform( X_train )\n",
    "X_val = scaler.transform( X_val )\n",
    "X_test = scaler.transform( X_test )\n",
    "\n",
    "print(\"X from training data\", X_train.shape)\n",
    "print(\"X from validation data\", X_val.shape)\n",
    "print(\"X from test data\", X_test.shape)\n"
   ]
  },
  {
   "cell_type": "code",
   "execution_count": 29,
   "metadata": {},
   "outputs": [
    {
     "name": "stdout",
     "output_type": "stream",
     "text": [
      "Sum of values: 3242\n",
      "{0: 73, 1: 93, 2: 95, 3: 67, 4: 71, 5: 56, 6: 59, 7: 48, 8: 78, 9: 51, 10: 42, 11: 51, 12: 26, 13: 28, 14: 39, 15: 29, 16: 37, 17: 34, 18: 31, 19: 25, 20: 399, 21: 45, 22: 399, 23: 30, 24: 42, 25: 38, 26: 35, 27: 36, 28: 46, 29: 23, 30: 25, 31: 36, 32: 28, 33: 27, 34: 26, 35: 24, 36: 25, 37: 43, 38: 26, 39: 39, 40: 24, 41: 24, 42: 31, 43: 26, 44: 28, 45: 32, 46: 29, 47: 26, 48: 23, 49: 39, 50: 25, 51: 23, 52: 23, 53: 23, 54: 399, 55: 7, 56: 7, 57: 7, 58: 7, 59: 7, 60: 7}\n",
      "{0: 0.9774830351634793, 1: 0.9713140037014188, 2: 0.9706971005552129, 3: 0.9793337446020974, 4: 0.9780999383096853, 5: 0.9827267119062307, 6: 0.9818013571869216, 7: 0.9851943244910549, 8: 0.9759407772979642, 9: 0.9842689697717458, 10: 0.987045033929673, 11: 0.9842689697717458, 12: 0.9919802590993214, 13: 0.9913633559531153, 14: 0.9879703886489821, 15: 0.9910549043800123, 16: 0.9885872917951881, 17: 0.9895126465144972, 18: 0.9904380012338063, 19: 0.9922887106724244, 20: 0.8769278223318939, 21: 0.9861196792103639, 22: 0.8769278223318939, 23: 0.9907464528069093, 24: 0.987045033929673, 25: 0.9882788402220851, 26: 0.9892041949413942, 27: 0.9888957433682912, 28: 0.9858112276372609, 29: 0.9929056138186305, 30: 0.9922887106724244, 31: 0.9888957433682912, 32: 0.9913633559531153, 33: 0.9916718075262184, 34: 0.9919802590993214, 35: 0.9925971622455274, 36: 0.9922887106724244, 37: 0.98673658235657, 38: 0.9919802590993214, 39: 0.9879703886489821, 40: 0.9925971622455274, 41: 0.9925971622455274, 42: 0.9904380012338063, 43: 0.9919802590993214, 44: 0.9913633559531153, 45: 0.9901295496607033, 46: 0.9910549043800123, 47: 0.9919802590993214, 48: 0.9929056138186305, 49: 0.9879703886489821, 50: 0.9922887106724244, 51: 0.9929056138186305, 52: 0.9929056138186305, 53: 0.9929056138186305, 54: 0.8769278223318939, 55: 0.9978408389882788, 56: 0.9978408389882788, 57: 0.9978408389882788, 58: 0.9978408389882788, 59: 0.9978408389882788, 60: 0.9978408389882788}\n",
      "set()\n"
     ]
    }
   ],
   "source": [
    "import os\n",
    "import fnmatch\n",
    "import collections\n",
    "weight={}\n",
    "path='audios/audios/56_speakers_audio_data'\n",
    "for speaker in os.listdir(path):\n",
    "    if speaker.find(\".sh\")==-1:\n",
    "        dir_path=path+'/'+speaker\n",
    "        speaker = int(speaker.split(\"_\")[0].split(\"r\")[1])\n",
    "        count = int(len(fnmatch.filter(os.listdir(dir_path), '*.*'))*0.8)-1\n",
    "        weight.update({speaker: count})\n",
    "#count={0: 73, 1: 93, 2: 95, 3: 67, 4: 71, 5: 56, 6: 59, 7: 48, 8: 78, 9: 51, 10: 42, 11: 51, 12: 26, 13: 28, 14: 39, 15: 29, 16: 37, 17: 34, 18: 31, 19: 25, 20: 399, 21: 45, 22: 399, 23: 30, 24: 42, 25: 38, 26: 35, 27: 36, 28: 46, 29: 23, 30: 25, 31: 36, 32: 28, 33: 27, 34: 26, 35: 24, 36: 25, 37: 43, 38: 26, 39: 39, 40: 24, 41: 24, 42: 31, 43: 26, 44: 28, 45: 32, 46: 29, 47: 26, 48: 23, 49: 39, 50: 25, 51: 23, 52: 23, 53: 23, 54: 399, 55: 7, 56: 7, 57: 7, 58: 7, 59: 7, 60: 7}\n",
    "#max_value=sum(count.values())\n",
    "#print(len(count))\n",
    "#count.update({len(count):8})\n",
    "print(\"Sum of values: \"+str(max_value))\n",
    "weight = {key: value for key, value in sorted(weight.items())}\n",
    "print(weight)\n",
    "weight = {k: 1-(v/max_value) for k, v in weight.items()}\n",
    "print(weight)\n",
    "print(set(range(57)) - set(y_train))"
   ]
  },
  {
   "cell_type": "code",
   "execution_count": 14,
   "metadata": {},
   "outputs": [
    {
     "name": "stderr",
     "output_type": "stream",
     "text": [
      "2023-01-11 18:42:41.250376: W tensorflow/stream_executor/platform/default/dso_loader.cc:64] Could not load dynamic library 'libcuda.so.1'; dlerror: libcuda.so.1: cannot open shared object file: No such file or directory\n",
      "2023-01-11 18:42:41.250680: W tensorflow/stream_executor/cuda/cuda_driver.cc:263] failed call to cuInit: UNKNOWN ERROR (303)\n",
      "2023-01-11 18:42:41.250732: I tensorflow/stream_executor/cuda/cuda_diagnostics.cc:156] kernel driver does not appear to be running on this host (silvia-XPS-15-9500): /proc/driver/nvidia/version does not exist\n",
      "2023-01-11 18:42:41.251964: I tensorflow/core/platform/cpu_feature_guard.cc:193] This TensorFlow binary is optimized with oneAPI Deep Neural Network Library (oneDNN) to use the following CPU instructions in performance-critical operations:  AVX2 FMA\n",
      "To enable them in other operations, rebuild TensorFlow with the appropriate compiler flags.\n"
     ]
    },
    {
     "name": "stdout",
     "output_type": "stream",
     "text": [
      "[[ 0.2871657  -0.17205784 -0.33027167 ...  1.09796232  0.47773937\n",
      "   0.46651183]\n",
      " [ 0.3443634  -1.37269506 -1.22498844 ... -1.51142798 -0.35480826\n",
      "  -1.67722883]\n",
      " [-0.7492663  -0.02118858  0.13053691 ...  0.35936497 -0.44889842\n",
      "   0.15865156]\n",
      " ...\n",
      " [-0.22730082 -1.34250038 -0.96715181 ... -0.77708266  1.25419112\n",
      "  -0.47783982]\n",
      " [ 4.07415325 -0.84618077 -0.56512636 ... -0.19248419 -1.06903555\n",
      "   0.99666305]\n",
      " [ 1.08797256 -1.45189153 -1.33810609 ... -0.99094874  0.21563872\n",
      "  -0.6670241 ]]\n",
      "Epoch 1/100\n",
      "19/19 [==============================] - 1s 20ms/step - loss: 4.1455 - accuracy: 0.0489 - val_loss: 3.7144 - val_accuracy: 0.3350\n",
      "Epoch 2/100\n",
      "19/19 [==============================] - 0s 5ms/step - loss: 3.3829 - accuracy: 0.1938 - val_loss: 2.7938 - val_accuracy: 0.4026\n",
      "Epoch 3/100\n",
      "19/19 [==============================] - 0s 5ms/step - loss: 3.0321 - accuracy: 0.2448 - val_loss: 2.5284 - val_accuracy: 0.4561\n",
      "Epoch 4/100\n",
      "19/19 [==============================] - 0s 4ms/step - loss: 2.7487 - accuracy: 0.3248 - val_loss: 2.2948 - val_accuracy: 0.4773\n",
      "Epoch 5/100\n",
      "19/19 [==============================] - 0s 5ms/step - loss: 2.5252 - accuracy: 0.3655 - val_loss: 2.0805 - val_accuracy: 0.5459\n",
      "Epoch 6/100\n",
      "19/19 [==============================] - 0s 5ms/step - loss: 2.3443 - accuracy: 0.4079 - val_loss: 1.8771 - val_accuracy: 0.5580\n",
      "Epoch 7/100\n",
      "19/19 [==============================] - 0s 5ms/step - loss: 2.1807 - accuracy: 0.4191 - val_loss: 1.7032 - val_accuracy: 0.6105\n",
      "Epoch 8/100\n",
      "19/19 [==============================] - 0s 4ms/step - loss: 2.0222 - accuracy: 0.4503 - val_loss: 1.5433 - val_accuracy: 0.6569\n",
      "Epoch 9/100\n",
      "19/19 [==============================] - 0s 5ms/step - loss: 1.8803 - accuracy: 0.4749 - val_loss: 1.3784 - val_accuracy: 0.7195\n",
      "Epoch 10/100\n",
      "19/19 [==============================] - 0s 5ms/step - loss: 1.8045 - accuracy: 0.4892 - val_loss: 1.2537 - val_accuracy: 0.7487\n",
      "Epoch 11/100\n",
      "19/19 [==============================] - 0s 5ms/step - loss: 1.6641 - accuracy: 0.5186 - val_loss: 1.1504 - val_accuracy: 0.7830\n",
      "Epoch 12/100\n",
      "19/19 [==============================] - 0s 4ms/step - loss: 1.5980 - accuracy: 0.5311 - val_loss: 1.0508 - val_accuracy: 0.8325\n",
      "Epoch 13/100\n",
      "19/19 [==============================] - 0s 4ms/step - loss: 1.5081 - accuracy: 0.5536 - val_loss: 0.9589 - val_accuracy: 0.8486\n",
      "Epoch 14/100\n",
      "19/19 [==============================] - 0s 4ms/step - loss: 1.4317 - accuracy: 0.5666 - val_loss: 0.8862 - val_accuracy: 0.8466\n",
      "Epoch 15/100\n",
      "19/19 [==============================] - 0s 5ms/step - loss: 1.4003 - accuracy: 0.5718 - val_loss: 0.8089 - val_accuracy: 0.8618\n",
      "Epoch 16/100\n",
      "19/19 [==============================] - 0s 4ms/step - loss: 1.3075 - accuracy: 0.5973 - val_loss: 0.7522 - val_accuracy: 0.8769\n",
      "Epoch 17/100\n",
      "19/19 [==============================] - 0s 5ms/step - loss: 1.2699 - accuracy: 0.6103 - val_loss: 0.6955 - val_accuracy: 0.8951\n",
      "Epoch 18/100\n",
      "19/19 [==============================] - 0s 4ms/step - loss: 1.1915 - accuracy: 0.6237 - val_loss: 0.6372 - val_accuracy: 0.8961\n",
      "Epoch 19/100\n",
      "19/19 [==============================] - 0s 4ms/step - loss: 1.1855 - accuracy: 0.6315 - val_loss: 0.5989 - val_accuracy: 0.8940\n",
      "Epoch 20/100\n",
      "19/19 [==============================] - 0s 4ms/step - loss: 1.1411 - accuracy: 0.6419 - val_loss: 0.5689 - val_accuracy: 0.8981\n",
      "Epoch 21/100\n",
      "19/19 [==============================] - 0s 4ms/step - loss: 1.1029 - accuracy: 0.6522 - val_loss: 0.5395 - val_accuracy: 0.9062\n",
      "Epoch 22/100\n",
      "19/19 [==============================] - 0s 5ms/step - loss: 1.0220 - accuracy: 0.6752 - val_loss: 0.4997 - val_accuracy: 0.9051\n",
      "Epoch 23/100\n",
      "19/19 [==============================] - 0s 4ms/step - loss: 1.0630 - accuracy: 0.6592 - val_loss: 0.4771 - val_accuracy: 0.9112\n",
      "Epoch 24/100\n",
      "19/19 [==============================] - 0s 4ms/step - loss: 0.9606 - accuracy: 0.6946 - val_loss: 0.4529 - val_accuracy: 0.9122\n",
      "Epoch 25/100\n",
      "19/19 [==============================] - 0s 4ms/step - loss: 0.9533 - accuracy: 0.7076 - val_loss: 0.4204 - val_accuracy: 0.9183\n",
      "Epoch 26/100\n",
      "19/19 [==============================] - 0s 5ms/step - loss: 0.9090 - accuracy: 0.7059 - val_loss: 0.4060 - val_accuracy: 0.9183\n",
      "Epoch 27/100\n",
      "19/19 [==============================] - 0s 4ms/step - loss: 0.8962 - accuracy: 0.7046 - val_loss: 0.3898 - val_accuracy: 0.9203\n",
      "Epoch 28/100\n",
      "19/19 [==============================] - 0s 5ms/step - loss: 0.8788 - accuracy: 0.7037 - val_loss: 0.3748 - val_accuracy: 0.9233\n",
      "Epoch 29/100\n",
      "19/19 [==============================] - 0s 5ms/step - loss: 0.8722 - accuracy: 0.7124 - val_loss: 0.3538 - val_accuracy: 0.9334\n",
      "Epoch 30/100\n",
      "19/19 [==============================] - 0s 4ms/step - loss: 0.8087 - accuracy: 0.7323 - val_loss: 0.3357 - val_accuracy: 0.9384\n",
      "Epoch 31/100\n",
      "19/19 [==============================] - 0s 4ms/step - loss: 0.8083 - accuracy: 0.7310 - val_loss: 0.3256 - val_accuracy: 0.9364\n",
      "Epoch 32/100\n",
      "19/19 [==============================] - 0s 4ms/step - loss: 0.7922 - accuracy: 0.7413 - val_loss: 0.3104 - val_accuracy: 0.9395\n",
      "Epoch 33/100\n",
      "19/19 [==============================] - 0s 4ms/step - loss: 0.7514 - accuracy: 0.7388 - val_loss: 0.2952 - val_accuracy: 0.9395\n",
      "Epoch 34/100\n",
      "19/19 [==============================] - 0s 4ms/step - loss: 0.7704 - accuracy: 0.7353 - val_loss: 0.2903 - val_accuracy: 0.9384\n",
      "Epoch 35/100\n",
      "19/19 [==============================] - 0s 4ms/step - loss: 0.7494 - accuracy: 0.7612 - val_loss: 0.2759 - val_accuracy: 0.9425\n",
      "Epoch 36/100\n",
      "19/19 [==============================] - 0s 4ms/step - loss: 0.7218 - accuracy: 0.7526 - val_loss: 0.2720 - val_accuracy: 0.9435\n",
      "Epoch 37/100\n",
      "19/19 [==============================] - 0s 5ms/step - loss: 0.7270 - accuracy: 0.7617 - val_loss: 0.2631 - val_accuracy: 0.9405\n",
      "Epoch 38/100\n",
      "19/19 [==============================] - 0s 5ms/step - loss: 0.6958 - accuracy: 0.7625 - val_loss: 0.2434 - val_accuracy: 0.9415\n",
      "Epoch 39/100\n",
      "19/19 [==============================] - 0s 5ms/step - loss: 0.6913 - accuracy: 0.7664 - val_loss: 0.2357 - val_accuracy: 0.9546\n",
      "Epoch 40/100\n",
      "19/19 [==============================] - 0s 5ms/step - loss: 0.6431 - accuracy: 0.7846 - val_loss: 0.2258 - val_accuracy: 0.9465\n",
      "Epoch 41/100\n",
      "19/19 [==============================] - 0s 4ms/step - loss: 0.6603 - accuracy: 0.7738 - val_loss: 0.2242 - val_accuracy: 0.9506\n",
      "Epoch 42/100\n",
      "19/19 [==============================] - 0s 4ms/step - loss: 0.6448 - accuracy: 0.7842 - val_loss: 0.2211 - val_accuracy: 0.9455\n",
      "Epoch 43/100\n",
      "19/19 [==============================] - 0s 4ms/step - loss: 0.6516 - accuracy: 0.7872 - val_loss: 0.2101 - val_accuracy: 0.9506\n",
      "Epoch 44/100\n",
      "19/19 [==============================] - 0s 4ms/step - loss: 0.5923 - accuracy: 0.8023 - val_loss: 0.2037 - val_accuracy: 0.9506\n",
      "Epoch 45/100\n",
      "19/19 [==============================] - 0s 4ms/step - loss: 0.6027 - accuracy: 0.7937 - val_loss: 0.1982 - val_accuracy: 0.9516\n",
      "Epoch 46/100\n",
      "19/19 [==============================] - 0s 4ms/step - loss: 0.5749 - accuracy: 0.8123 - val_loss: 0.1944 - val_accuracy: 0.9516\n",
      "Epoch 47/100\n",
      "19/19 [==============================] - 0s 4ms/step - loss: 0.6021 - accuracy: 0.8006 - val_loss: 0.1880 - val_accuracy: 0.9546\n",
      "Epoch 48/100\n",
      "19/19 [==============================] - 0s 4ms/step - loss: 0.5710 - accuracy: 0.8049 - val_loss: 0.1800 - val_accuracy: 0.9556\n",
      "Epoch 49/100\n",
      "19/19 [==============================] - 0s 4ms/step - loss: 0.5803 - accuracy: 0.8041 - val_loss: 0.1750 - val_accuracy: 0.9576\n",
      "Epoch 50/100\n",
      "19/19 [==============================] - 0s 4ms/step - loss: 0.5531 - accuracy: 0.8045 - val_loss: 0.1670 - val_accuracy: 0.9566\n",
      "Epoch 51/100\n",
      "19/19 [==============================] - 0s 5ms/step - loss: 0.5468 - accuracy: 0.8119 - val_loss: 0.1643 - val_accuracy: 0.9617\n",
      "Epoch 52/100\n",
      "19/19 [==============================] - 0s 5ms/step - loss: 0.5759 - accuracy: 0.8010 - val_loss: 0.1598 - val_accuracy: 0.9586\n",
      "Epoch 53/100\n",
      "19/19 [==============================] - 0s 4ms/step - loss: 0.5239 - accuracy: 0.8162 - val_loss: 0.1614 - val_accuracy: 0.9596\n",
      "Epoch 54/100\n",
      "19/19 [==============================] - 0s 4ms/step - loss: 0.5261 - accuracy: 0.8140 - val_loss: 0.1625 - val_accuracy: 0.9637\n",
      "Epoch 55/100\n"
     ]
    },
    {
     "name": "stdout",
     "output_type": "stream",
     "text": [
      "19/19 [==============================] - 0s 4ms/step - loss: 0.5060 - accuracy: 0.8326 - val_loss: 0.1522 - val_accuracy: 0.9586\n",
      "Epoch 56/100\n",
      "19/19 [==============================] - 0s 4ms/step - loss: 0.5189 - accuracy: 0.8192 - val_loss: 0.1537 - val_accuracy: 0.9556\n",
      "Epoch 57/100\n",
      "19/19 [==============================] - 0s 4ms/step - loss: 0.5164 - accuracy: 0.8170 - val_loss: 0.1578 - val_accuracy: 0.9425\n",
      "Epoch 58/100\n",
      "19/19 [==============================] - 0s 4ms/step - loss: 0.4985 - accuracy: 0.8222 - val_loss: 0.1477 - val_accuracy: 0.9586\n",
      "Epoch 59/100\n",
      "19/19 [==============================] - 0s 4ms/step - loss: 0.4937 - accuracy: 0.8335 - val_loss: 0.1486 - val_accuracy: 0.9596\n",
      "Epoch 60/100\n",
      "19/19 [==============================] - 0s 4ms/step - loss: 0.4850 - accuracy: 0.8335 - val_loss: 0.1414 - val_accuracy: 0.9627\n",
      "Epoch 61/100\n",
      "19/19 [==============================] - 0s 4ms/step - loss: 0.5145 - accuracy: 0.8196 - val_loss: 0.1403 - val_accuracy: 0.9627\n",
      "Epoch 62/100\n",
      "19/19 [==============================] - 0s 4ms/step - loss: 0.4574 - accuracy: 0.8447 - val_loss: 0.1384 - val_accuracy: 0.9657\n",
      "Epoch 63/100\n",
      "19/19 [==============================] - 0s 4ms/step - loss: 0.4385 - accuracy: 0.8495 - val_loss: 0.1335 - val_accuracy: 0.9627\n",
      "Epoch 64/100\n",
      "19/19 [==============================] - 0s 4ms/step - loss: 0.4533 - accuracy: 0.8408 - val_loss: 0.1330 - val_accuracy: 0.9596\n",
      "Epoch 65/100\n",
      "19/19 [==============================] - 0s 4ms/step - loss: 0.4132 - accuracy: 0.8642 - val_loss: 0.1321 - val_accuracy: 0.9596\n",
      "Epoch 66/100\n",
      "19/19 [==============================] - 0s 5ms/step - loss: 0.4516 - accuracy: 0.8352 - val_loss: 0.1292 - val_accuracy: 0.9647\n",
      "Epoch 67/100\n",
      "19/19 [==============================] - 0s 4ms/step - loss: 0.4299 - accuracy: 0.8469 - val_loss: 0.1244 - val_accuracy: 0.9647\n",
      "Epoch 68/100\n",
      "19/19 [==============================] - 0s 5ms/step - loss: 0.4601 - accuracy: 0.8473 - val_loss: 0.1209 - val_accuracy: 0.9647\n",
      "Epoch 69/100\n",
      "19/19 [==============================] - 0s 5ms/step - loss: 0.4110 - accuracy: 0.8568 - val_loss: 0.1208 - val_accuracy: 0.9596\n",
      "Epoch 70/100\n",
      "19/19 [==============================] - 0s 5ms/step - loss: 0.4214 - accuracy: 0.8469 - val_loss: 0.1169 - val_accuracy: 0.9687\n",
      "Epoch 71/100\n",
      "19/19 [==============================] - 0s 5ms/step - loss: 0.3986 - accuracy: 0.8625 - val_loss: 0.1196 - val_accuracy: 0.9677\n",
      "Epoch 72/100\n",
      "19/19 [==============================] - 0s 4ms/step - loss: 0.4179 - accuracy: 0.8512 - val_loss: 0.1191 - val_accuracy: 0.9677\n",
      "Epoch 73/100\n",
      "19/19 [==============================] - 0s 5ms/step - loss: 0.4280 - accuracy: 0.8495 - val_loss: 0.1132 - val_accuracy: 0.9697\n",
      "Epoch 74/100\n",
      "19/19 [==============================] - 0s 4ms/step - loss: 0.4134 - accuracy: 0.8568 - val_loss: 0.1132 - val_accuracy: 0.9657\n",
      "Epoch 75/100\n",
      "19/19 [==============================] - 0s 4ms/step - loss: 0.3899 - accuracy: 0.8659 - val_loss: 0.1103 - val_accuracy: 0.9697\n",
      "Epoch 76/100\n",
      "19/19 [==============================] - 0s 4ms/step - loss: 0.4014 - accuracy: 0.8603 - val_loss: 0.1063 - val_accuracy: 0.9717\n",
      "Epoch 77/100\n",
      "19/19 [==============================] - 0s 4ms/step - loss: 0.3926 - accuracy: 0.8638 - val_loss: 0.1079 - val_accuracy: 0.9697\n",
      "Epoch 78/100\n",
      "19/19 [==============================] - 0s 5ms/step - loss: 0.4192 - accuracy: 0.8495 - val_loss: 0.1085 - val_accuracy: 0.9697\n",
      "Epoch 79/100\n",
      "19/19 [==============================] - 0s 5ms/step - loss: 0.3875 - accuracy: 0.8733 - val_loss: 0.1074 - val_accuracy: 0.9707\n",
      "Epoch 79: early stopping\n"
     ]
    }
   ],
   "source": [
    "#Creating a Model\n",
    "from keras import models\n",
    "from keras import layers\n",
    "import keras\n",
    "\n",
    "# model 1\n",
    "model = models.Sequential()\n",
    "model.add(layers.Dense(256, activation='relu', input_shape=(X_train.shape[1],)))\n",
    "model.add(layers.Dropout(0.5))\n",
    "model.add(layers.Dense(128, activation='relu'))\n",
    "model.add(layers.Dropout(0.5))\n",
    "model.add(layers.Dense(64, activation='relu'))\n",
    "model.add(layers.Dropout(0.5))\n",
    "model.add(layers.Dense(100, activation='softmax'))\n",
    "\n",
    "# Learning Process of a model\n",
    "model.compile(optimizer='adam',\n",
    "              loss='sparse_categorical_crossentropy',\n",
    "              metrics=['accuracy'])\n",
    "\n",
    "# simple early stopping\n",
    "from keras.callbacks import EarlyStopping\n",
    "#es = EarlyStopping(monitor='val_accuracy', patience=10, verbose=1)\n",
    "es = EarlyStopping(monitor='val_loss', patience=3, verbose=1)\n",
    "print(X_train)\n",
    "#Train with early stopping to avoid overfitting\n",
    "y_train=np.array(y_train, dtype=int)\n",
    "y_val=np.array(y_val, dtype=int)\n",
    "history = model.fit(X_train,y_train,validation_data=(X_val, y_val),epochs=100,batch_size=128,class_weight=weight, callbacks=[es])"
   ]
  },
  {
   "cell_type": "code",
   "execution_count": 15,
   "metadata": {},
   "outputs": [
    {
     "data": {
      "image/png": "[encoded data removed]",
      "text/plain": [
       "<Figure size 640x480 with 1 Axes>"
      ]
     },
     "metadata": {},
     "output_type": "display_data"
    }
   ],
   "source": [
    "# plot training history\n",
    "from matplotlib import pyplot\n",
    "pyplot.plot(history.history['loss'], label='train')\n",
    "pyplot.plot(history.history['val_loss'], label='test')\n",
    "pyplot.legend()\n",
    "pyplot.show()"
   ]
  },
  {
   "cell_type": "code",
   "execution_count": 16,
   "metadata": {},
   "outputs": [],
   "source": [
    "def getSpeaker(speaker):\n",
    "    speaker = \"Speaker\"+str(speaker).zfill(3)\n",
    "    return speaker\n",
    "    \n",
    "        \n",
    "def printPrediction(X_data, y_data, printDigit, model):\n",
    "    print('\\n# Generate predictions')\n",
    "    for i in range(len(y_data)):\n",
    "        predict_x=model.predict(X_data[i:i+1])[0]\n",
    "        predict_classes = np.argmax(predict_x)\n",
    "        prediction = getSpeaker(predict_classes)\n",
    "    \n",
    "        speaker = getSpeaker(y_data[i])\n",
    "        if printDigit == True:\n",
    "           print(\"Number={0:d}, y={1:10s}- prediction={2:10s}- match={3}\".format(i, speaker, prediction, speaker==prediction))\n",
    "        else:\n",
    "           print(\"y={0:10s}- prediction={1:10s}- match={2}\".format(speaker, prediction, speaker==prediction))"
   ]
  },
  {
   "cell_type": "code",
   "execution_count": 17,
   "metadata": {},
   "outputs": [],
   "source": [
    "import numpy as np\n",
    "from keras import backend as K\n",
    "from keras.models import Sequential\n",
    "from keras.layers.core import Dense, Dropout, Activation, Flatten\n",
    "from keras.layers.convolutional import Convolution2D, MaxPooling2D\n",
    "from keras.preprocessing.image import ImageDataGenerator\n",
    "from sklearn.metrics import classification_report, confusion_matrix\n",
    "\n",
    "def report(X_data, y_data):\n",
    "    #Confution Matrix and Classification Report\n",
    "    predict_y = model.predict(X_data)\n",
    "    Y_pred = np.argmax(predict_y, axis=1)\n",
    "    y_test_num = y_data.astype(np.int64)\n",
    "    conf_mt = confusion_matrix(y_test_num, Y_pred)\n",
    "    print(conf_mt[6])\n",
    "    key=0\n",
    "    for val in conf_mt[6]:\n",
    "        if val!=0:\n",
    "            print(key)\n",
    "        key=key+1\n",
    "    conf_mt=conf_mt / conf_mt.astype(np.float).sum(axis=1)\n",
    "    #print(conf_mt)\n",
    "    plt.matshow(conf_mt)\n",
    "    plt.show()\n",
    "    print('\\nClassification Report')\n",
    "    print(classification_report(y_test_num, Y_pred))\n"
   ]
  },
  {
   "cell_type": "code",
   "execution_count": 18,
   "metadata": {},
   "outputs": [
    {
     "name": "stdout",
     "output_type": "stream",
     "text": [
      "\n",
      "# TEST DATA #\n",
      "\n",
      "27/27 [==============================] - 0s 1ms/step - loss: 0.7732 - accuracy: 0.9274\n",
      "accuracy: 92.74%\n",
      "\n",
      "# Generate predictions\n",
      "1/1 [==============================] - 0s 64ms/step\n",
      "y=Speaker032- prediction=Speaker043- match=False\n",
      "1/1 [==============================] - 0s 17ms/step\n",
      "y=Speaker054- prediction=Speaker054- match=True\n",
      "1/1 [==============================] - 0s 16ms/step\n",
      "y=Speaker013- prediction=Speaker013- match=True\n",
      "1/1 [==============================] - 0s 16ms/step\n",
      "y=Speaker048- prediction=Speaker048- match=True\n",
      "1/1 [==============================] - 0s 16ms/step\n",
      "y=Speaker001- prediction=Speaker001- match=True\n",
      "1/1 [==============================] - 0s 16ms/step\n",
      "y=Speaker019- prediction=Speaker019- match=True\n",
      "1/1 [==============================] - 0s 19ms/step\n",
      "y=Speaker000- prediction=Speaker000- match=True\n",
      "1/1 [==============================] - 0s 18ms/step\n",
      "y=Speaker052- prediction=Speaker052- match=True\n",
      "1/1 [==============================] - 0s 18ms/step\n",
      "y=Speaker020- prediction=Speaker020- match=True\n",
      "1/1 [==============================] - 0s 17ms/step\n",
      "y=Speaker044- prediction=Speaker044- match=True\n",
      "1/1 [==============================] - 0s 17ms/step\n",
      "y=Speaker030- prediction=Speaker030- match=True\n",
      "1/1 [==============================] - 0s 17ms/step\n",
      "y=Speaker054- prediction=Speaker054- match=True\n",
      "1/1 [==============================] - 0s 17ms/step\n",
      "y=Speaker009- prediction=Speaker009- match=True\n",
      "1/1 [==============================] - 0s 19ms/step\n",
      "y=Speaker002- prediction=Speaker002- match=True\n",
      "1/1 [==============================] - 0s 18ms/step\n",
      "y=Speaker018- prediction=Speaker018- match=True\n",
      "1/1 [==============================] - 0s 18ms/step\n",
      "y=Speaker020- prediction=Speaker020- match=True\n",
      "1/1 [==============================] - 0s 16ms/step\n",
      "y=Speaker045- prediction=Speaker045- match=True\n",
      "1/1 [==============================] - 0s 15ms/step\n",
      "y=Speaker020- prediction=Speaker020- match=True\n",
      "1/1 [==============================] - 0s 16ms/step\n",
      "y=Speaker016- prediction=Speaker016- match=True\n",
      "1/1 [==============================] - 0s 17ms/step\n",
      "y=Speaker009- prediction=Speaker009- match=True\n"
     ]
    }
   ],
   "source": [
    "print('\\n# TEST DATA #\\n')\n",
    "y_test=np.array(y_test, dtype=int)\n",
    "score = model.evaluate(X_test, y_test)\n",
    "print(\"%s: %.2f%%\" % (model.metrics_names[1], score[1]*100))\n",
    "# Prediction\n",
    "printPrediction(X_test[0:20], y_test[0:20], False, model)"
   ]
  },
  {
   "cell_type": "code",
   "execution_count": 30,
   "metadata": {},
   "outputs": [
    {
     "name": "stdout",
     "output_type": "stream",
     "text": [
      "Classification Report for Test Data\n",
      "\n",
      "27/27 [==============================] - 0s 978us/step\n",
      "[ 0  0 15  0  1  0  0  0  0  0  0  0  0  0  0  0  0  0  0  0  0  0  0  0\n",
      "  0  0  0  0  0  0  0  0  0  0  0  0  0  0  0  0  0  0  0  0  0  0  0  0\n",
      "  0  0  0  0  0  0  0  0  0  0  0  0  0]\n",
      "2\n",
      "4\n"
     ]
    },
    {
     "data": {
      "image/png": "[encoded data removed]",
      "text/plain": [
       "<Figure size 480x480 with 1 Axes>"
      ]
     },
     "metadata": {},
     "output_type": "display_data"
    },
    {
     "name": "stdout",
     "output_type": "stream",
     "text": [
      "\n",
      "Classification Report\n",
      "              precision    recall  f1-score   support\n",
      "\n",
      "           0       0.95      0.95      0.95        19\n",
      "           1       1.00      1.00      1.00        24\n",
      "           2       0.61      0.96      0.74        24\n",
      "           3       1.00      0.94      0.97        17\n",
      "           4       0.89      0.94      0.92        18\n",
      "           5       1.00      1.00      1.00        15\n",
      "           6       0.00      0.00      0.00        16\n",
      "           7       0.93      1.00      0.96        13\n",
      "           8       1.00      1.00      1.00        20\n",
      "           9       1.00      0.92      0.96        13\n",
      "          10       1.00      1.00      1.00        11\n",
      "          11       1.00      0.92      0.96        13\n",
      "          12       1.00      0.86      0.92         7\n",
      "          13       1.00      0.88      0.93         8\n",
      "          14       1.00      1.00      1.00        11\n",
      "          15       1.00      0.88      0.93         8\n",
      "          16       0.71      1.00      0.83        10\n",
      "          17       1.00      1.00      1.00         9\n",
      "          18       1.00      0.88      0.93         8\n",
      "          19       0.88      1.00      0.93         7\n",
      "          20       0.99      1.00      1.00       100\n",
      "          21       1.00      0.92      0.96        12\n",
      "          22       0.92      0.96      0.94       100\n",
      "          23       1.00      0.88      0.93         8\n",
      "          24       1.00      0.91      0.95        11\n",
      "          25       1.00      0.90      0.95        10\n",
      "          26       0.82      1.00      0.90         9\n",
      "          27       1.00      0.90      0.95        10\n",
      "          28       1.00      1.00      1.00        12\n",
      "          29       1.00      1.00      1.00         7\n",
      "          30       1.00      0.86      0.92         7\n",
      "          31       0.62      1.00      0.77        10\n",
      "          32       1.00      0.38      0.55         8\n",
      "          33       1.00      1.00      1.00         7\n",
      "          34       1.00      1.00      1.00         7\n",
      "          35       0.88      1.00      0.93         7\n",
      "          36       1.00      0.86      0.92         7\n",
      "          37       0.73      1.00      0.85        11\n",
      "          38       1.00      0.86      0.92         7\n",
      "          39       1.00      1.00      1.00        11\n",
      "          40       1.00      1.00      1.00         7\n",
      "          41       0.57      0.57      0.57         7\n",
      "          42       1.00      0.89      0.94         9\n",
      "          43       0.60      0.86      0.71         7\n",
      "          44       0.88      0.88      0.88         8\n",
      "          45       1.00      0.89      0.94         9\n",
      "          46       0.88      0.88      0.88         8\n",
      "          47       1.00      0.86      0.92         7\n",
      "          48       0.86      0.86      0.86         7\n",
      "          49       1.00      0.90      0.95        10\n",
      "          50       1.00      0.86      0.92         7\n",
      "          51       1.00      1.00      1.00         6\n",
      "          52       0.75      1.00      0.86         6\n",
      "          53       1.00      0.67      0.80         6\n",
      "          54       0.96      0.97      0.97       100\n",
      "          55       1.00      1.00      1.00         3\n",
      "          56       1.00      1.00      1.00         3\n",
      "          57       1.00      1.00      1.00         3\n",
      "          58       1.00      0.67      0.80         3\n",
      "          59       1.00      1.00      1.00         3\n",
      "          60       1.00      0.67      0.80         3\n",
      "\n",
      "    accuracy                           0.93       854\n",
      "   macro avg       0.92      0.90      0.90       854\n",
      "weighted avg       0.92      0.93      0.92       854\n",
      "\n"
     ]
    }
   ],
   "source": [
    "print(\"Classification Report for Test Data\\n\")\n",
    "report(X_test, y_test)"
   ]
  },
  {
   "cell_type": "markdown",
   "metadata": {},
   "source": [
    "### Save model"
   ]
  },
  {
   "cell_type": "code",
   "execution_count": null,
   "metadata": {},
   "outputs": [],
   "source": [
    "model.save('speaker-recognition.h5')"
   ]
  },
  {
   "cell_type": "markdown",
   "metadata": {},
   "source": [
    "\n",
    "Transfer learning\n",
    "\n",
    "https://keras.io/guides/transfer_learning/\n"
   ]
  },
  {
   "cell_type": "markdown",
   "metadata": {},
   "source": [
    "### Load model"
   ]
  },
  {
   "cell_type": "code",
   "execution_count": null,
   "metadata": {},
   "outputs": [],
   "source": [
    "new_model = keras.models.load_model('speaker-recognition.h5')\n",
    "#printPrediction(X_test[0:20], y_test[0:20], False, new_model)"
   ]
  },
  {
   "cell_type": "code",
   "execution_count": null,
   "metadata": {},
   "outputs": [],
   "source": [
    "#filename='Speaker0055_477.wav'\n",
    "extractWavFeatures(\"audios/audios/one_test\", final_test)"
   ]
  },
  {
   "cell_type": "code",
   "execution_count": null,
   "metadata": {},
   "outputs": [],
   "source": [
    "trainData = preProcessData(TRAIN_CSV_FILE)\n",
    "final_testData = preProcessData(final_test)"
   ]
  },
  {
   "cell_type": "code",
   "execution_count": null,
   "metadata": {},
   "outputs": [],
   "source": [
    "# Splitting the dataset into training, validation and testing dataset\n",
    "from sklearn.model_selection import train_test_split\n",
    "X = np.array(trainData.iloc[:, :-1], dtype = float)\n",
    "y = trainData.iloc[:, -1]\n",
    "X_train, X_val, y_train, y_val = train_test_split(X, y, test_size=0.3, random_state=50)\n",
    "\n",
    "\n",
    "X_test = np.array(final_testData.iloc[:, :-1], dtype = float)\n",
    "y_test = final_testData.iloc[:, -1]\n",
    "\n",
    "print(\"Y from training data:\", y_train.shape)\n",
    "print(\"Y from validation data:\", y_val.shape)\n",
    "print(\"Y from test data:\", y_test.shape)"
   ]
  },
  {
   "cell_type": "code",
   "execution_count": null,
   "metadata": {},
   "outputs": [],
   "source": [
    "from sklearn.preprocessing import StandardScaler\n",
    "import numpy as np\n",
    "scaler = StandardScaler()\n",
    "X_train = scaler.fit_transform( X_train )\n",
    "X_val = scaler.transform( X_val )\n",
    "X_test = scaler.transform( X_test )\n",
    "\n",
    "print(\"X from training data\", X_train.shape)\n",
    "print(\"X from validation data\", X_val.shape)\n",
    "print(\"X from test data\", X_test.shape)\n"
   ]
  },
  {
   "cell_type": "code",
   "execution_count": null,
   "metadata": {},
   "outputs": [],
   "source": [
    "print('\\n# TEST DATA #\\n')\n",
    "y_test=np.array(y_test, dtype=int)\n",
    "score = new_model.evaluate(X_test, y_test)\n",
    "print(\"%s: %.2f%%\" % (new_model.metrics_names[1], score[1]*100))\n",
    "# Prediction\n",
    "printPrediction(X_test[0:20], y_test[0:20], False, new_model)"
   ]
  },
  {
   "cell_type": "code",
   "execution_count": null,
   "metadata": {},
   "outputs": [],
   "source": []
  },
  {
   "cell_type": "code",
   "execution_count": null,
   "metadata": {},
   "outputs": [],
   "source": []
  }
 ],
 "metadata": {
  "kernelspec": {
   "display_name": "Python 3 (ipykernel)",
   "language": "python",
   "name": "python3"
  },
  "language_info": {
   "codemirror_mode": {
    "name": "ipython",
    "version": 3
   },
   "file_extension": ".py",
   "mimetype": "text/x-python",
   "name": "python",
   "nbconvert_exporter": "python",
   "pygments_lexer": "ipython3",
   "version": "3.9.12"
  },
  "vscode": {
   "interpreter": {
    "hash": "916dbcbb3f70747c44a77c7bcd40155683ae19c65e1c03b4aa3499c5328201f1"
   }
  }
 },
 "nbformat": 4,
 "nbformat_minor": 2
}
