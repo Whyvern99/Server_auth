{
 "cells": [
  {
   "cell_type": "markdown",
   "metadata": {},
   "source": [
    "**Settings**"
   ]
  },
  {
   "cell_type": "code",
   "execution_count": 143,
   "metadata": {},
   "outputs": [],
   "source": [
    "#import librosa\n",
    "#import numpy as np\n",
    "#import pandas as pd\n",
    "#import matplotlib.pyplot as plt\n",
    "#import librosa.display\n",
    "#import keras\n",
    "#import datetime\n",
    "#import seaborn as sns\n",
    "#from sklearn.preprocessing import LabelEncoder \n",
    "#from sklearn.model_selection import train_test_split\n",
    "#from sklearn.metrics import confusion_matrix\n",
    "#from sklearn.metrics import classification_report\n",
    "\n",
    "#plt.style.use('ggplot')\n",
    "#plt.rcParams['font.family'] = 'sans-serif' \n",
    "#plt.rcParams['font.serif'] = 'Ubuntu' \n",
    "#plt.rcParams['font.monospace'] = 'Ubuntu Mono' \n",
    "#plt.rcParams['font.size'] = 14 \n",
    "#plt.rcParams['axes.labelsize'] = 12 \n",
    "#plt.rcParams['axes.labelweight'] = 'bold' \n",
    "#plt.rcParams['axes.titlesize'] = 12 \n",
    "#plt.rcParams['xtick.labelsize'] = 12 \n",
    "#plt.rcParams['ytick.labelsize'] = 12 \n",
    "#plt.rcParams['legend.fontsize'] = 12 \n",
    "#plt.rcParams['figure.titlesize'] = 12 \n",
    "#plt.rcParams['image.cmap'] = 'jet' \n",
    "#plt.rcParams['image.interpolation'] = 'none' \n",
    "#plt.rcParams['figure.figsize'] = (10, 10) \n",
    "#plt.rcParams['axes.grid']=False\n",
    "#plt.rcParams['lines.linewidth'] = 2 \n",
    "#plt.rcParams['lines.markersize'] = 8\n",
    "#colors = ['xkcd:pale orange', 'xkcd:sea blue', 'xkcd:pale red', 'xkcd:sage green', 'xkcd:terra cotta', 'xkcd:dull purple', 'xkcd:teal', 'xkcd: goldenrod', 'xkcd:cadet blue',\n",
    "#'xkcd:scarlet']\n",
    "#bbox_props = dict(boxstyle=\"round,pad=0.3\", fc=colors[0], alpha=.5)\"\"\""
   ]
  },
  {
   "cell_type": "code",
   "execution_count": 180,
   "metadata": {},
   "outputs": [],
   "source": [
    "#requisits and ignore warnings\n",
    "import warnings\n",
    "warnings.simplefilter('ignore')\n",
    "\n",
    "import fnmatch\n",
    "import collections\n",
    "import keras\n",
    "import librosa\n",
    "import csv\n",
    "import os\n",
    "import numpy as np\n",
    "import pandas as pd\n",
    "import matplotlib.pyplot as plt\n",
    "\n",
    "from sklearn.preprocessing import StandardScaler\n",
    "from sklearn.model_selection import train_test_split\n",
    "from keras import models, layers\n",
    "from keras import backend as K\n",
    "from keras.callbacks import EarlyStopping\n",
    "from keras.models import Sequential\n",
    "from keras.layers.core import Dense, Dropout, Activation, Flatten\n",
    "from keras.layers.convolutional import Convolution2D, MaxPooling2D\n",
    "from keras.preprocessing.image import ImageDataGenerator\n",
    "from matplotlib import pyplot, cm\n",
    "from tqdm import tqdm\n",
    "from sklearn import preprocessing\n",
    "from sklearn.metrics import classification_report, confusion_matrix"
   ]
  },
  {
   "cell_type": "code",
   "execution_count": 181,
   "metadata": {},
   "outputs": [],
   "source": [
    "# y,sr = librosa.load('audios/Speaker26_000.wav')\n",
    "# dur_time = librosa.get_duration(y=y,sr=sr)\n",
    "#print(dur_time)\n",
    "#time_sec = round(dur_time)\n",
    "#S = librosa.feature.melspectrogram(y=y, sr=sr, n_mels=20, fmax=8000)\n",
    "#fig, ax = plt.subplots()\n",
    "#S_dB = librosa.power_to_db(S, ref=np.max)\n",
    "#img = librosa.display.specshow(S_dB, x_axis='time',y_axis='mel', sr=sr,fmax=8000, ax=ax)\n",
    "#fig.colorbar(img, ax=ax, format='%+2.0f dB')\n",
    "#ax.set(title='Mel-frequency spectrogram')\n",
    "#plt.xlim()\"\"\""
   ]
  },
  {
   "cell_type": "code",
   "execution_count": 182,
   "metadata": {},
   "outputs": [],
   "source": [
    "#time_series_sec=np.linspace(0, time_sec, len(S_dB[0]))"
   ]
  },
  {
   "cell_type": "markdown",
   "metadata": {},
   "source": [
    "The output of this section is the CSV files with the data to be handle by the model\n",
    "\n",
    "```\n",
    "trainData     : audio/train \n",
    "testData      : audio/test\n",
    "```\n"
   ]
  },
  {
   "cell_type": "code",
   "execution_count": 183,
   "metadata": {},
   "outputs": [],
   "source": [
    "# Defines the names of the CSV files\n",
    "TRAIN_CSV_FILE = \"train.csv\"\n",
    "TEST_CSV_FILE = \"test.csv\"\n",
    "final_test=\"final_test.csv\""
   ]
  },
  {
   "cell_type": "code",
   "execution_count": 184,
   "metadata": {},
   "outputs": [],
   "source": [
    "import matplotlib.pyplot as plt\n",
    "import numpy as np\n",
    "from matplotlib import cm\n",
    "import librosa\n",
    "import csv\n",
    "import os\n",
    "from tqdm import tqdm\n",
    "import warnings\n",
    "warnings.simplefilter('ignore')\n",
    "\n",
    "def extractWavFeatures(soundFilesFolder, csvFileName):\n",
    "    print(\"The features of the files in the folder \"+soundFilesFolder+\" will be saved to \"+csvFileName)\n",
    "    header = 'filename chroma_stft rmse spectral_centroid spectral_bandwidth rolloff zero_crossing_rate'\n",
    "    for i in range(1, 21):\n",
    "        header += f' mfcc{i}'\n",
    "    header += ' label'\n",
    "    header = header.split()\n",
    "    print('CSV Header: ', header)\n",
    "    file = open(csvFileName, 'w', newline='')\n",
    "    #with file:\n",
    "    writer = csv.writer(file)\n",
    "    writer.writerow(header)\n",
    "    count=0\n",
    "    for filename in tqdm(os.listdir(soundFilesFolder)):\n",
    "        number = f'{soundFilesFolder}/{filename}'\n",
    "        y, sr = librosa.load(number, mono=True)\n",
    "        # remove leading and trailing silence\n",
    "        y, index = librosa.effects.trim(y)\n",
    "        chroma_stft = librosa.feature.chroma_stft(y=y, sr=sr)\n",
    "        rmse = librosa.feature.rms(y=y)\n",
    "        spec_cent = librosa.feature.spectral_centroid(y=y, sr=sr)\n",
    "        spec_bw = librosa.feature.spectral_bandwidth(y=y, sr=sr)\n",
    "        rolloff = librosa.feature.spectral_rolloff(y=y, sr=sr)\n",
    "        zcr = librosa.feature.zero_crossing_rate(y)\n",
    "        mfcc = librosa.feature.mfcc(y=y, sr=sr)\n",
    "        to_append = f'{filename} {np.mean(chroma_stft)} {np.mean(rmse)} {np.mean(spec_cent)} {np.mean(spec_bw)} {np.mean(rolloff)} {np.mean(zcr)}'\n",
    "        for e in mfcc:\n",
    "            to_append += f' {np.mean(e)}'\n",
    "        writer.writerow(to_append.split())\n",
    "    file.close()\n",
    "    print(\"End of extractWavFeatures\")\n",
    "    "
   ]
  },
  {
   "cell_type": "markdown",
   "metadata": {},
   "source": [
    "### Train"
   ]
  },
  {
   "cell_type": "markdown",
   "metadata": {},
   "source": [
    "from pathlib import Path\n",
    "import os\n",
    "\n",
    "for folder in tqdm(os.listdir(\"audios/audios/56_speakers_audio_data\")):\n",
    "    if \".sh\" not in folder:\n",
    "        os.makedirs(\"audios/audios/data/\"+folder)\n",
    "        for file in tqdm(os.listdir(\"audios/audios/56_speakers_audio_data/\"+folder)):\n",
    "            audio, sr = librosa.load('audios/audios/56_speakers_audio_data/'+folder+\"/\"+file)\n",
    "            audio, index = librosa.effects.trim(audio)\n",
    "            buffer = sr * 10 #10s\n",
    "\n",
    "            samples_total=len(audio)\n",
    "            samples_wrote=0\n",
    "            counter =1\n",
    "            while samples_wrote<samples_total:\n",
    "                if buffer > (samples_total - samples_wrote):\n",
    "                    buffer = samples_total - samples_wrote\n",
    "                block = audio[samples_wrote : (samples_wrote + buffer)]\n",
    "                out_filename=\"audios/audios/data/\"+folder+\"/\"+str(counter)+\"_\"+file\n",
    "                sf.write(out_filename, block, sr)\n",
    "                counter+=1\n",
    "                samples_wrote += buffer"
   ]
  },
  {
   "cell_type": "markdown",
   "metadata": {},
   "source": [
    "import soundfile as sf\n",
    "audio, sr = librosa.load('audios/audios/56_speakers_audio_data/Speaker0000/Speaker0000_000.wav')\n",
    "audio, index = librosa.effects.trim(audio)\n",
    "buffer = sr * 10 #10s\n",
    "\n",
    "samples_total=len(audio)\n",
    "samples_wrote=0\n",
    "counter =1\n",
    "while samples_wrote<samples_total:\n",
    "    if buffer > (samples_total - samples_wrote):\n",
    "        buffer = samples_total - samples_wrote\n",
    "    block = audio[samples_wrote : (samples_wrote + buffer)]\n",
    "    out_filename=\"/audios/audios/data/\"+str(counter)+\".wav\"\n",
    "    sf.write(out_filename, block, sr)\n",
    "    counter+=1\n",
    "    samples_wrote += buffer\n"
   ]
  },
  {
   "cell_type": "code",
   "execution_count": 185,
   "metadata": {
    "scrolled": true
   },
   "outputs": [
    {
     "name": "stdout",
     "output_type": "stream",
     "text": [
      "The features of the files in the folder audios/audios/train will be saved to train.csv\n",
      "CSV Header:  ['filename', 'chroma_stft', 'rmse', 'spectral_centroid', 'spectral_bandwidth', 'rolloff', 'zero_crossing_rate', 'mfcc1', 'mfcc2', 'mfcc3', 'mfcc4', 'mfcc5', 'mfcc6', 'mfcc7', 'mfcc8', 'mfcc9', 'mfcc10', 'mfcc11', 'mfcc12', 'mfcc13', 'mfcc14', 'mfcc15', 'mfcc16', 'mfcc17', 'mfcc18', 'mfcc19', 'mfcc20', 'label']\n"
     ]
    },
    {
     "name": "stderr",
     "output_type": "stream",
     "text": [
      "100%|██████████████████████████████████████████████████████████████████████████████████████████████████████████████████████████████████████████████████████████████████████████| 14148/14148 [25:02<00:00,  9.42it/s]"
     ]
    },
    {
     "name": "stdout",
     "output_type": "stream",
     "text": [
      "End of extractWavFeatures\n",
      "CSV files are created\n"
     ]
    },
    {
     "name": "stderr",
     "output_type": "stream",
     "text": [
      "\n"
     ]
    }
   ],
   "source": [
    "#extractWavFeatures(\"new_audios/train\", TRAIN_CSV_FILE)\n",
    "#extractWavFeatures(\"new_audios/test\", TEST_CSV_FILE)\n",
    "extractWavFeatures(\"audios/audios/train\", TRAIN_CSV_FILE)\n",
    "print(\"CSV files are created\")"
   ]
  },
  {
   "cell_type": "code",
   "execution_count": 186,
   "metadata": {},
   "outputs": [
    {
     "name": "stdout",
     "output_type": "stream",
     "text": [
      "The features of the files in the folder audios/audios/test will be saved to test.csv\n",
      "CSV Header:  ['filename', 'chroma_stft', 'rmse', 'spectral_centroid', 'spectral_bandwidth', 'rolloff', 'zero_crossing_rate', 'mfcc1', 'mfcc2', 'mfcc3', 'mfcc4', 'mfcc5', 'mfcc6', 'mfcc7', 'mfcc8', 'mfcc9', 'mfcc10', 'mfcc11', 'mfcc12', 'mfcc13', 'mfcc14', 'mfcc15', 'mfcc16', 'mfcc17', 'mfcc18', 'mfcc19', 'mfcc20', 'label']\n"
     ]
    },
    {
     "name": "stderr",
     "output_type": "stream",
     "text": [
      "100%|████████████████████████████████████████████████████████████████████████████████████████████████████████████████████████████████████████████████████████████████████████████| 3586/3586 [04:21<00:00, 13.71it/s]"
     ]
    },
    {
     "name": "stdout",
     "output_type": "stream",
     "text": [
      "End of extractWavFeatures\n"
     ]
    },
    {
     "name": "stderr",
     "output_type": "stream",
     "text": [
      "\n"
     ]
    }
   ],
   "source": [
    "extractWavFeatures(\"audios/audios/test\", TEST_CSV_FILE)"
   ]
  },
  {
   "cell_type": "code",
   "execution_count": 187,
   "metadata": {},
   "outputs": [],
   "source": [
    "import pandas as pd\n",
    "import csv\n",
    "from sklearn import preprocessing\n",
    "\n",
    "def preProcessData(csvFileName):\n",
    "    print(csvFileName+ \" will be preprocessed\")\n",
    "    data = pd.read_csv(csvFileName)\n",
    "    filenameArray = data['filename'] \n",
    "    speakerArray = []\n",
    "    #print(filenameArray)\n",
    "    for i in range(len(filenameArray)):\n",
    "        speaker = int(filenameArray[i].split(\"_\")[0].split(\"r\")[1])\n",
    "        if(speaker<61 or speaker==62):\n",
    "           speaker=0\n",
    "        else:\n",
    "           speaker=speaker-60\n",
    "           print(speaker)\n",
    "           print(filenameArray[i])\n",
    "        speakerArray.append(speaker)\n",
    "    data['number'] = speakerArray\n",
    "    #Dropping unnecessary columns\n",
    "    data = data.drop(['filename'],axis=1)\n",
    "    data = data.drop(['label'],axis=1)\n",
    "    data = data.drop(['chroma_stft'],axis=1)\n",
    "    data.shape\n",
    "\n",
    "    print(\"Preprocessing is finished\")\n",
    "    print(data.head())\n",
    "    return data\n",
    "\n"
   ]
  },
  {
   "cell_type": "code",
   "execution_count": 188,
   "metadata": {},
   "outputs": [
    {
     "name": "stdout",
     "output_type": "stream",
     "text": [
      "train.csv will be preprocessed\n",
      "1\n",
      "Speaker0061_002.wav\n",
      "1\n",
      "Speaker0061_012.wav\n",
      "1\n",
      "Speaker0061_008.wav\n",
      "1\n",
      "Speaker0061_005.wav\n",
      "1\n",
      "Speaker0061_000.wav\n",
      "1\n",
      "Speaker0061_010.wav\n",
      "1\n",
      "Speaker0061_011.wav\n",
      "1\n",
      "Speaker0061_014.wav\n",
      "1\n",
      "Speaker0061_007.wav\n",
      "1\n",
      "Speaker0061_013.wav\n",
      "1\n",
      "Speaker0061_003.wav\n",
      "1\n",
      "Speaker0061_004.wav\n",
      "1\n",
      "Speaker0061_015.wav\n",
      "1\n",
      "Speaker0061_009.wav\n",
      "1\n",
      "Speaker0061_001.wav\n",
      "1\n",
      "Speaker0061_006.wav\n",
      "Preprocessing is finished\n",
      "       rmse  spectral_centroid  spectral_bandwidth      rolloff  \\\n",
      "0  0.042311        2853.672685         2439.693251  5226.797861   \n",
      "1  0.066338        2483.207666         2219.299281  4473.985089   \n",
      "2  0.066239        1958.893779         1379.487170  3135.079496   \n",
      "3  0.028860        2084.254664         1733.049552  3707.682839   \n",
      "4  0.022163        2422.857641         2228.497802  4738.079083   \n",
      "\n",
      "   zero_crossing_rate       mfcc1       mfcc2      mfcc3      mfcc4  \\\n",
      "0            0.167396 -292.636353   77.443962 -14.946343   3.072196   \n",
      "1            0.149599 -293.354309   83.380547  17.072710  25.100824   \n",
      "2            0.133739 -279.818726  103.177750 -54.751225  26.485205   \n",
      "3            0.129757 -382.310455   98.181763  -7.513667  46.457611   \n",
      "4            0.111310 -434.465729   85.301010   6.917579  20.973516   \n",
      "\n",
      "       mfcc5  ...     mfcc12    mfcc13     mfcc14     mfcc15    mfcc16  \\\n",
      "0  -3.071160  ...  -3.540055 -8.385584  -2.319455 -12.365765 -4.030281   \n",
      "1   6.592123  ...  -2.588181 -6.496118   3.937195   0.163388 -7.575027   \n",
      "2 -37.830944  ...  -8.553962  2.186339  -9.772887   2.542377 -7.588593   \n",
      "3 -17.648285  ... -10.963368 -1.755158  -6.028708   9.532285 -8.492807   \n",
      "4 -10.743447  ...   4.555594  2.866588  13.123366  -4.678288  4.763774   \n",
      "\n",
      "      mfcc17    mfcc18    mfcc19    mfcc20  number  \n",
      "0 -11.485299 -4.964794 -9.287416 -7.967569       0  \n",
      "1   3.461552 -4.860189 -2.904794 -1.460528       0  \n",
      "2  -5.285561  0.092695  1.653523  1.318971       0  \n",
      "3  -2.989509  1.256674 -4.570978 -4.476323       0  \n",
      "4  -0.593649  4.143730 -2.482920  0.808900       0  \n",
      "\n",
      "[5 rows x 26 columns]\n",
      "test.csv will be preprocessed\n",
      "1\n",
      "Speaker0061_020.wav\n",
      "1\n",
      "Speaker0061_002.wav\n",
      "1\n",
      "Speaker0061_012.wav\n",
      "1\n",
      "Speaker0061_017.wav\n",
      "1\n",
      "Speaker0061_008.wav\n",
      "1\n",
      "Speaker0061_005.wav\n",
      "1\n",
      "Speaker0061_000.wav\n",
      "1\n",
      "Speaker0061_023.wav\n",
      "1\n",
      "Speaker0061_010.wav\n",
      "1\n",
      "Speaker0061_011.wav\n",
      "1\n",
      "Speaker0061_019.wav\n",
      "1\n",
      "Speaker0061_018.wav\n",
      "1\n",
      "Speaker0061_014.wav\n",
      "1\n",
      "Speaker0061_007.wav\n",
      "1\n",
      "Speaker0061_016.wav\n",
      "1\n",
      "Speaker0061_013.wav\n",
      "1\n",
      "Speaker0061_003.wav\n",
      "1\n",
      "Speaker0061_021.wav\n",
      "1\n",
      "Speaker0061_004.wav\n",
      "1\n",
      "Speaker0061_015.wav\n",
      "1\n",
      "Speaker0061_009.wav\n",
      "1\n",
      "Speaker0061_001.wav\n",
      "1\n",
      "Speaker0061_006.wav\n",
      "1\n",
      "Speaker0061_022.wav\n",
      "Preprocessing is finished\n",
      "       rmse  spectral_centroid  spectral_bandwidth      rolloff  \\\n",
      "0  0.062827        1439.703341         1214.381890  2639.298104   \n",
      "1  0.002583        3101.659607         3001.014250  6890.625000   \n",
      "2  0.027512        2776.314634         2410.166318  4949.863882   \n",
      "3  0.043108        2590.467849         1644.633082  4275.717944   \n",
      "4  0.050082        2295.733891         2206.135832  4407.636843   \n",
      "\n",
      "   zero_crossing_rate       mfcc1       mfcc2      mfcc3      mfcc4  \\\n",
      "0            0.078812 -318.895752  126.351379 -40.058258  38.671257   \n",
      "1            0.000000 -329.780945   82.097717  -8.962372  -2.279690   \n",
      "2            0.153912 -383.571259   76.857826   8.652615  27.628531   \n",
      "3            0.179322 -327.708710   86.886497 -55.782768  58.850853   \n",
      "4            0.113468 -324.181793   84.394577   4.927899  28.485275   \n",
      "\n",
      "       mfcc5  ...    mfcc12    mfcc13    mfcc14    mfcc15     mfcc16  \\\n",
      "0  -3.313738  ...  1.415402 -0.147205 -9.156339  6.357989  -2.505748   \n",
      "1  -4.091257  ... -0.116679  4.879228 -6.856781  6.554109  -5.191103   \n",
      "2  30.849646  ... -1.381173  0.096775  4.544846 -8.058209  12.572011   \n",
      "3 -19.301439  ... -9.678400  7.193476 -1.746455  5.566185 -19.890446   \n",
      "4   5.117252  ...  0.052406  7.227403  0.621997  0.836419   2.999624   \n",
      "\n",
      "      mfcc17     mfcc18    mfcc19    mfcc20  number  \n",
      "0  -3.565483   1.857242  1.661271 -2.067927       0  \n",
      "1   2.929139   0.088688 -3.295555  5.539860       0  \n",
      "2  -9.302295  10.571730 -2.299384  5.761469       0  \n",
      "3  15.223437  -6.382392 -5.325187  2.021258       0  \n",
      "4  -2.750336  -3.254150 -5.791872 -1.653584       0  \n",
      "\n",
      "[5 rows x 26 columns]\n",
      "           rmse  spectral_centroid  spectral_bandwidth      rolloff  \\\n",
      "0      0.042311        2853.672685         2439.693251  5226.797861   \n",
      "1      0.066338        2483.207666         2219.299281  4473.985089   \n",
      "2      0.066239        1958.893779         1379.487170  3135.079496   \n",
      "3      0.028860        2084.254664         1733.049552  3707.682839   \n",
      "4      0.022163        2422.857641         2228.497802  4738.079083   \n",
      "...         ...                ...                 ...          ...   \n",
      "14143  0.005392         779.615095          878.169638  1224.079778   \n",
      "14144  0.018871        1691.782026         2027.592719  3476.837909   \n",
      "14145  0.054073        1817.660463         1491.925403  3309.968075   \n",
      "14146  0.027263        2166.674470         2484.360333  4684.520861   \n",
      "14147  0.062758        1895.866736         1514.010588  3268.250616   \n",
      "\n",
      "       zero_crossing_rate       mfcc1       mfcc2      mfcc3      mfcc4  \\\n",
      "0                0.167396 -292.636353   77.443962 -14.946343   3.072196   \n",
      "1                0.149599 -293.354309   83.380547  17.072710  25.100824   \n",
      "2                0.133739 -279.818726  103.177750 -54.751225  26.485205   \n",
      "3                0.129757 -382.310455   98.181763  -7.513667  46.457611   \n",
      "4                0.111310 -434.465729   85.301010   6.917579  20.973516   \n",
      "...                   ...         ...         ...        ...        ...   \n",
      "14143            0.041541 -576.872498  227.872528 -26.166767   6.060908   \n",
      "14144            0.058969 -460.158783  108.104347   0.535474  14.185524   \n",
      "14145            0.117352 -302.880859   97.984131 -35.721714  44.873985   \n",
      "14146            0.089275 -415.691986  102.601639  21.565409  25.313324   \n",
      "14147            0.120337 -297.759094   96.225800 -51.321182  29.129894   \n",
      "\n",
      "           mfcc5  ...     mfcc12    mfcc13     mfcc14     mfcc15     mfcc16  \\\n",
      "0      -3.071160  ...  -3.540055 -8.385584  -2.319455 -12.365765  -4.030281   \n",
      "1       6.592123  ...  -2.588181 -6.496118   3.937195   0.163388  -7.575027   \n",
      "2     -37.830944  ...  -8.553962  2.186339  -9.772887   2.542377  -7.588593   \n",
      "3     -17.648285  ... -10.963368 -1.755158  -6.028708   9.532285  -8.492807   \n",
      "4     -10.743447  ...   4.555594  2.866588  13.123366  -4.678288   4.763774   \n",
      "...          ...  ...        ...       ...        ...        ...        ...   \n",
      "14143   4.554101  ... -20.250488  3.450274  -5.087423 -11.119873  10.245070   \n",
      "14144   0.065138  ...   4.104683  4.194519   5.587973  -0.820831   1.783475   \n",
      "14145  -3.822718  ... -12.290429 -1.314155 -12.242158   5.327736  -8.628503   \n",
      "14146  15.465093  ...  -5.792818 -2.786327  12.130173  -5.946178   8.095125   \n",
      "14147 -23.738693  ...  -8.653434  5.697582 -14.185470   0.323917  -0.744718   \n",
      "\n",
      "          mfcc17     mfcc18    mfcc19     mfcc20  number  \n",
      "0     -11.485299  -4.964794 -9.287416  -7.967569       0  \n",
      "1       3.461552  -4.860189 -2.904794  -1.460528       0  \n",
      "2      -5.285561   0.092695  1.653523   1.318971       0  \n",
      "3      -2.989509   1.256674 -4.570978  -4.476323       0  \n",
      "4      -0.593649   4.143730 -2.482920   0.808900       0  \n",
      "...          ...        ...       ...        ...     ...  \n",
      "14143  -2.047974 -12.681615 -0.286044 -12.103877       0  \n",
      "14144   4.656969   1.200366  0.396404   2.889664       0  \n",
      "14145  -7.799294   3.858961 -5.600139  -4.835082       0  \n",
      "14146  -3.184679  -0.492859 -3.623877  -0.291753       0  \n",
      "14147  -7.932398  -6.342644 -2.181794  -0.189857       0  \n",
      "\n",
      "[14148 rows x 26 columns]\n"
     ]
    }
   ],
   "source": [
    "trainData = preProcessData(TRAIN_CSV_FILE)\n",
    "\n",
    "testData = preProcessData(TEST_CSV_FILE)\n",
    "pd.DataFrame(trainData).to_parquet(\"train.parquet\")\n",
    "pd.DataFrame(testData).to_parquet(\"test.parquet\")\n",
    "print(trainData)\n",
    "#print(testData.shape)"
   ]
  },
  {
   "cell_type": "code",
   "execution_count": 189,
   "metadata": {},
   "outputs": [
    {
     "data": {
      "text/plain": [
       "array([[<AxesSubplot: title={'center': 'rmse'}>,\n",
       "        <AxesSubplot: title={'center': 'spectral_centroid'}>,\n",
       "        <AxesSubplot: title={'center': 'spectral_bandwidth'}>,\n",
       "        <AxesSubplot: title={'center': 'rolloff'}>,\n",
       "        <AxesSubplot: title={'center': 'zero_crossing_rate'}>],\n",
       "       [<AxesSubplot: title={'center': 'mfcc1'}>,\n",
       "        <AxesSubplot: title={'center': 'mfcc2'}>,\n",
       "        <AxesSubplot: title={'center': 'mfcc3'}>,\n",
       "        <AxesSubplot: title={'center': 'mfcc4'}>,\n",
       "        <AxesSubplot: title={'center': 'mfcc5'}>],\n",
       "       [<AxesSubplot: title={'center': 'mfcc6'}>,\n",
       "        <AxesSubplot: title={'center': 'mfcc7'}>,\n",
       "        <AxesSubplot: title={'center': 'mfcc8'}>,\n",
       "        <AxesSubplot: title={'center': 'mfcc9'}>,\n",
       "        <AxesSubplot: title={'center': 'mfcc10'}>],\n",
       "       [<AxesSubplot: title={'center': 'mfcc11'}>,\n",
       "        <AxesSubplot: title={'center': 'mfcc12'}>,\n",
       "        <AxesSubplot: title={'center': 'mfcc13'}>,\n",
       "        <AxesSubplot: title={'center': 'mfcc14'}>,\n",
       "        <AxesSubplot: title={'center': 'mfcc15'}>],\n",
       "       [<AxesSubplot: title={'center': 'mfcc16'}>,\n",
       "        <AxesSubplot: title={'center': 'mfcc17'}>,\n",
       "        <AxesSubplot: title={'center': 'mfcc18'}>,\n",
       "        <AxesSubplot: title={'center': 'mfcc19'}>,\n",
       "        <AxesSubplot: title={'center': 'mfcc20'}>],\n",
       "       [<AxesSubplot: title={'center': 'number'}>, <AxesSubplot: >,\n",
       "        <AxesSubplot: >, <AxesSubplot: >, <AxesSubplot: >]], dtype=object)"
      ]
     },
     "execution_count": 189,
     "metadata": {},
     "output_type": "execute_result"
    },
    {
     "data": {
      "image/png": "[encoded data removed]",
      "text/plain": [
       "<Figure size 640x480 with 30 Axes>"
      ]
     },
     "metadata": {},
     "output_type": "display_data"
    }
   ],
   "source": [
    "trainData.hist()\n"
   ]
  },
  {
   "cell_type": "code",
   "execution_count": 190,
   "metadata": {},
   "outputs": [
    {
     "ename": "NameError",
     "evalue": "name 'groupby_gender' is not defined",
     "output_type": "error",
     "traceback": [
      "\u001b[0;31m---------------------------------------------------------------------------\u001b[0m",
      "\u001b[0;31mNameError\u001b[0m                                 Traceback (most recent call last)",
      "\u001b[0;32m/tmp/ipykernel_509241/1853542636.py\u001b[0m in \u001b[0;36m<cell line: 1>\u001b[0;34m()\u001b[0m\n\u001b[0;32m----> 1\u001b[0;31m \u001b[0mgroupby_gender\u001b[0m\u001b[0;34m.\u001b[0m\u001b[0mboxplot\u001b[0m\u001b[0;34m(\u001b[0m\u001b[0mcolumn\u001b[0m\u001b[0;34m=\u001b[0m\u001b[0;34m[\u001b[0m\u001b[0;34m'G3'\u001b[0m\u001b[0;34m]\u001b[0m\u001b[0;34m,\u001b[0m\u001b[0mmeanline\u001b[0m\u001b[0;34m=\u001b[0m\u001b[0;32mFalse\u001b[0m\u001b[0;34m,\u001b[0m\u001b[0mshowmeans\u001b[0m\u001b[0;34m=\u001b[0m\u001b[0;32mTrue\u001b[0m\u001b[0;34m,\u001b[0m\u001b[0mreturn_type\u001b[0m\u001b[0;34m=\u001b[0m\u001b[0;34m'dict'\u001b[0m\u001b[0;34m)\u001b[0m\u001b[0;34m\u001b[0m\u001b[0;34m\u001b[0m\u001b[0m\n\u001b[0m",
      "\u001b[0;31mNameError\u001b[0m: name 'groupby_gender' is not defined"
     ]
    }
   ],
   "source": [
    "groupby_gender.boxplot(column=['G3'],meanline=False,showmeans=True,return_type='dict')"
   ]
  },
  {
   "cell_type": "code",
   "execution_count": 191,
   "metadata": {},
   "outputs": [
    {
     "name": "stdout",
     "output_type": "stream",
     "text": [
      "{0, 1}\n",
      "Y from training data: (9903,)\n",
      "Y from validation data: (4245,)\n",
      "Y from test data: (3586,)\n"
     ]
    }
   ],
   "source": [
    "# Splitting the dataset into training, validation and testing dataset\n",
    "from sklearn.model_selection import train_test_split\n",
    "X = np.array(trainData.iloc[:, :-1], dtype = float)\n",
    "y = trainData.iloc[:, -1]\n",
    "X_train, X_val, y_train, y_val = train_test_split(X, y, test_size=0.3, random_state=50)\n",
    "\n",
    "\n",
    "X_test = np.array(testData.iloc[:, :-1], dtype = float)\n",
    "y_test = testData.iloc[:, -1]\n",
    "print(set(y_train))\n",
    "\n",
    "print(\"Y from training data:\", y_train.shape)\n",
    "print(\"Y from validation data:\", y_val.shape)\n",
    "print(\"Y from test data:\", y_test.shape)\n"
   ]
  },
  {
   "cell_type": "code",
   "execution_count": null,
   "metadata": {},
   "outputs": [],
   "source": []
  },
  {
   "cell_type": "code",
   "execution_count": 192,
   "metadata": {},
   "outputs": [
    {
     "name": "stdout",
     "output_type": "stream",
     "text": [
      "X from training data (9903, 25)\n",
      "X from validation data (4245, 25)\n",
      "X from test data (3586, 25)\n"
     ]
    }
   ],
   "source": [
    "#Normalizing the dataset\n",
    "from sklearn.preprocessing import StandardScaler\n",
    "import numpy as np\n",
    "scaler = StandardScaler()\n",
    "X_train = scaler.fit_transform( X_train )\n",
    "X_val = scaler.transform( X_val )\n",
    "X_test = scaler.transform( X_test )\n",
    "\n",
    "print(\"X from training data\", X_train.shape)\n",
    "print(\"X from validation data\", X_val.shape)\n",
    "print(\"X from test data\", X_test.shape)\n"
   ]
  },
  {
   "cell_type": "code",
   "execution_count": 193,
   "metadata": {},
   "outputs": [
    {
     "name": "stdout",
     "output_type": "stream",
     "text": [
      "[8813     0\n",
      "6886     0\n",
      "13549    0\n",
      "9965     0\n",
      "12232    0\n",
      "        ..\n",
      "10206    0\n",
      "6253     0\n",
      "10123    0\n",
      "5600     0\n",
      "14000    0\n",
      "Name: number, Length: 9903, dtype: int64]\n"
     ]
    }
   ],
   "source": [
    "print([y_train])"
   ]
  },
  {
   "cell_type": "code",
   "execution_count": 194,
   "metadata": {},
   "outputs": [
    {
     "name": "stdout",
     "output_type": "stream",
     "text": [
      "(9903, 25)\n",
      "(9903,)\n",
      "(9903, 26)\n"
     ]
    }
   ],
   "source": [
    "print(X_train.shape)\n",
    "print(y_train.shape)\n",
    "test=np.concatenate([X_train, np.array(y_train).reshape((len(y_train), 1))], axis = 1)\n",
    "print(test.shape)"
   ]
  },
  {
   "cell_type": "code",
   "execution_count": 195,
   "metadata": {},
   "outputs": [
    {
     "data": {
      "text/plain": [
       "0.0         AxesSubplot(0.1,0.15;0.363636x0.75)\n",
       "1.0    AxesSubplot(0.536364,0.15;0.363636x0.75)\n",
       "dtype: object"
      ]
     },
     "execution_count": 195,
     "metadata": {},
     "output_type": "execute_result"
    },
    {
     "data": {
      "image/png": "[encoded data removed]",
      "text/plain": [
       "<Figure size 1600x900 with 2 Axes>"
      ]
     },
     "metadata": {},
     "output_type": "display_data"
    }
   ],
   "source": [
    "groupby_user = pd.DataFrame(data=test, columns=trainData.columns).groupby('number')\n",
    "groupby_user.boxplot(rot=45, fontsize=12, figsize=(16,9))"
   ]
  },
  {
   "cell_type": "code",
   "execution_count": 196,
   "metadata": {},
   "outputs": [
    {
     "name": "stdout",
     "output_type": "stream",
     "text": [
      "Sum of values: 3265\n",
      "{0: 3235, 1: 15, 2: 15}\n",
      "{0: 0.009188361408882129, 1: 0.9954058192955589, 2: 0.9954058192955589}\n"
     ]
    }
   ],
   "source": [
    "import os\n",
    "import fnmatch\n",
    "import collections\n",
    "weight={}\n",
    "total=0\n",
    "path='audios/audios/56_speakers_audio_data'\n",
    "for speaker in os.listdir(path):\n",
    "    if speaker.find(\".sh\")==-1:\n",
    "        dir_path=path+'/'+speaker\n",
    "        speaker = int(speaker.split(\"_\")[0].split(\"r\")[1])\n",
    "        if(speaker<60):\n",
    "            speaker = 0\n",
    "            total = total+int(len(fnmatch.filter(os.listdir(dir_path), '*.*'))*0.8)-1\n",
    "\n",
    "        else:\n",
    "            speaker= speaker-60\n",
    "        count = int(len(fnmatch.filter(os.listdir(dir_path), '*.*'))*0.8)-1\n",
    "        weight.update({speaker: count})\n",
    "weight.update({0:total})\n",
    "max_value=sum(weight.values())\n",
    "print(\"Sum of values: \"+str(max_value))\n",
    "weight = {key: value for key, value in sorted(weight.items())}\n",
    "print(weight)\n",
    "class_weight = {k: 1-(v/max_value) for k, v in weight.items()}\n",
    "print(class_weight)\n",
    "#print(set(range(57)) - set(y_train))"
   ]
  },
  {
   "cell_type": "code",
   "execution_count": 197,
   "metadata": {},
   "outputs": [
    {
     "data": {
      "text/plain": [
       "9903"
      ]
     },
     "execution_count": 197,
     "metadata": {},
     "output_type": "execute_result"
    }
   ],
   "source": [
    "len(y_train)"
   ]
  },
  {
   "cell_type": "markdown",
   "metadata": {},
   "source": [
    "dump (parquet--> data train and test)\n",
    "scaler"
   ]
  },
  {
   "cell_type": "markdown",
   "metadata": {},
   "source": [
    "weight={0:15, 1:42}\n",
    "\n",
    "max_value=sum(weight.values())\n",
    "print(\"Sum of values: \"+str(max_value))\n",
    "weight = {key: value for key, value in sorted(weight.items())}\n",
    "print(weight)\n",
    "class_weight = {k: (1-(v/max_value))*100 for k, v in weight.items()}\n",
    "print(class_weight)"
   ]
  },
  {
   "cell_type": "code",
   "execution_count": 224,
   "metadata": {},
   "outputs": [
    {
     "data": {
      "text/plain": [
       "4245"
      ]
     },
     "execution_count": 224,
     "metadata": {},
     "output_type": "execute_result"
    }
   ],
   "source": [
    "len(y_val)"
   ]
  },
  {
   "cell_type": "code",
   "execution_count": 234,
   "metadata": {},
   "outputs": [
    {
     "name": "stdout",
     "output_type": "stream",
     "text": [
      "(9903, 25)\n",
      "Epoch 1/100\n",
      "78/78 [==============================] - 1s 3ms/step - loss: 0.5074 - accuracy: 0.9697 - val_loss: 0.0313 - val_accuracy: 1.0000\n",
      "Epoch 2/100\n",
      "78/78 [==============================] - 0s 2ms/step - loss: 0.1400 - accuracy: 0.9981 - val_loss: 0.0144 - val_accuracy: 1.0000\n",
      "Epoch 3/100\n",
      "78/78 [==============================] - 0s 2ms/step - loss: 0.0447 - accuracy: 0.9987 - val_loss: 0.0069 - val_accuracy: 1.0000\n",
      "Epoch 4/100\n",
      "78/78 [==============================] - 0s 2ms/step - loss: 0.0400 - accuracy: 0.9990 - val_loss: 0.0048 - val_accuracy: 1.0000\n",
      "Epoch 5/100\n",
      "78/78 [==============================] - 0s 2ms/step - loss: 0.0200 - accuracy: 0.9994 - val_loss: 0.0023 - val_accuracy: 1.0000\n",
      "Epoch 6/100\n",
      "78/78 [==============================] - 0s 2ms/step - loss: 0.0141 - accuracy: 1.0000 - val_loss: 0.0014 - val_accuracy: 1.0000\n",
      "Epoch 7/100\n",
      "78/78 [==============================] - 0s 2ms/step - loss: 0.0092 - accuracy: 1.0000 - val_loss: 0.0011 - val_accuracy: 1.0000\n",
      "Epoch 8/100\n",
      "78/78 [==============================] - 0s 2ms/step - loss: 0.0030 - accuracy: 0.9998 - val_loss: 7.0921e-04 - val_accuracy: 1.0000\n",
      "Epoch 9/100\n",
      "78/78 [==============================] - 0s 2ms/step - loss: 0.0049 - accuracy: 0.9999 - val_loss: 5.2997e-04 - val_accuracy: 1.0000\n",
      "Epoch 10/100\n",
      "78/78 [==============================] - 0s 1ms/step - loss: 0.0069 - accuracy: 1.0000 - val_loss: 4.6375e-04 - val_accuracy: 1.0000\n",
      "Epoch 11/100\n",
      "78/78 [==============================] - 0s 2ms/step - loss: 0.0067 - accuracy: 1.0000 - val_loss: 3.4769e-04 - val_accuracy: 1.0000\n",
      "Epoch 12/100\n",
      "78/78 [==============================] - 0s 2ms/step - loss: 0.0033 - accuracy: 0.9998 - val_loss: 2.9370e-04 - val_accuracy: 1.0000\n",
      "Epoch 13/100\n",
      "78/78 [==============================] - 0s 2ms/step - loss: 0.0040 - accuracy: 0.9999 - val_loss: 2.7093e-04 - val_accuracy: 1.0000\n",
      "Epoch 14/100\n",
      "78/78 [==============================] - 0s 2ms/step - loss: 0.0016 - accuracy: 1.0000 - val_loss: 2.0467e-04 - val_accuracy: 1.0000\n",
      "Epoch 15/100\n",
      "78/78 [==============================] - 0s 2ms/step - loss: 0.0021 - accuracy: 1.0000 - val_loss: 1.6103e-04 - val_accuracy: 1.0000\n",
      "Epoch 16/100\n",
      "78/78 [==============================] - 0s 2ms/step - loss: 0.0025 - accuracy: 0.9999 - val_loss: 1.4722e-04 - val_accuracy: 1.0000\n",
      "Epoch 17/100\n",
      "78/78 [==============================] - 0s 2ms/step - loss: 0.0017 - accuracy: 1.0000 - val_loss: 1.3792e-04 - val_accuracy: 1.0000\n",
      "Epoch 18/100\n",
      "78/78 [==============================] - 0s 1ms/step - loss: 6.1764e-04 - accuracy: 1.0000 - val_loss: 1.0566e-04 - val_accuracy: 1.0000\n",
      "Epoch 19/100\n",
      "78/78 [==============================] - 0s 2ms/step - loss: 0.0087 - accuracy: 0.9999 - val_loss: 1.3476e-04 - val_accuracy: 1.0000\n",
      "Epoch 20/100\n",
      "78/78 [==============================] - 0s 2ms/step - loss: 9.9785e-04 - accuracy: 1.0000 - val_loss: 1.0338e-04 - val_accuracy: 1.0000\n",
      "Epoch 21/100\n",
      "78/78 [==============================] - 0s 2ms/step - loss: 0.0015 - accuracy: 1.0000 - val_loss: 9.2567e-05 - val_accuracy: 1.0000\n",
      "Epoch 21: early stopping\n",
      "{0, 1}\n"
     ]
    }
   ],
   "source": [
    "#Creating a Model\n",
    "from keras import models\n",
    "from keras import layers\n",
    "import keras\n",
    "\n",
    "class_weight={0: 0.5005054078641463, 1: 495.15000000000003}\n",
    "\n",
    "# model 1\n",
    "model = models.Sequential()\n",
    "model.add(layers.Dense(64, activation='relu', input_shape=(X_train.shape[1],)))\n",
    "model.add(layers.Dense(64, activation='relu'))\n",
    "model.add(layers.Dropout(0.5))\n",
    "model.add(layers.Dense(1, activation='sigmoid'))\n",
    "\n",
    "# Learning Process of a model\n",
    "model.compile(optimizer='adam',\n",
    "              loss='binary_crossentropy',\n",
    "              metrics=['accuracy'])\n",
    "\n",
    "# simple early stopping\n",
    "from keras.callbacks import EarlyStopping\n",
    "es = EarlyStopping(monitor='val_accuracy', patience=20, verbose=1)\n",
    "#es = EarlyStopping(monitor='val_loss', patience=3, verbose=1)\n",
    "print(X_train.shape)\n",
    "#Train with early stopping to avoid overfitting\n",
    "y_train=np.array(y_train, dtype=int)\n",
    "y_val=np.array(y_val, dtype=int)\n",
    "history = model.fit(X_train,y_train,validation_data=(X_val, y_val),epochs=100,batch_size=128, class_weight=class_weight, callbacks=[es])\n",
    "print(set(y_test))"
   ]
  },
  {
   "cell_type": "code",
   "execution_count": 235,
   "metadata": {},
   "outputs": [
    {
     "name": "stdout",
     "output_type": "stream",
     "text": [
      "Model: \"sequential_7\"\n",
      "_________________________________________________________________\n",
      " Layer (type)                Output Shape              Param #   \n",
      "=================================================================\n",
      " dense_21 (Dense)            (None, 64)                1664      \n",
      "                                                                 \n",
      " dense_22 (Dense)            (None, 64)                4160      \n",
      "                                                                 \n",
      " dropout_7 (Dropout)         (None, 64)                0         \n",
      "                                                                 \n",
      " dense_23 (Dense)            (None, 1)                 65        \n",
      "                                                                 \n",
      "=================================================================\n",
      "Total params: 5,889\n",
      "Trainable params: 5,889\n",
      "Non-trainable params: 0\n",
      "_________________________________________________________________\n"
     ]
    }
   ],
   "source": [
    "model.summary()"
   ]
  },
  {
   "cell_type": "code",
   "execution_count": 236,
   "metadata": {
    "scrolled": true
   },
   "outputs": [
    {
     "data": {
      "image/png": "[encoded data removed]",
      "text/plain": [
       "<Figure size 640x480 with 1 Axes>"
      ]
     },
     "metadata": {},
     "output_type": "display_data"
    }
   ],
   "source": [
    "# plot training history\n",
    "from matplotlib import pyplot\n",
    "pyplot.plot(history.history['loss'], label='train')\n",
    "pyplot.plot(history.history['val_loss'], label='test')\n",
    "pyplot.legend()\n",
    "pyplot.show()"
   ]
  },
  {
   "cell_type": "code",
   "execution_count": 237,
   "metadata": {},
   "outputs": [],
   "source": [
    "def getSpeaker(speaker):\n",
    "    speaker = \"Speaker\"+str(speaker).zfill(3)\n",
    "    return speaker\n",
    "    \n",
    "        \n",
    "def printPrediction(X_data, y_data, printDigit, model):\n",
    "    print('\\n# Generate predictions')\n",
    "    for i in range(len(y_data)):\n",
    "        predict_x=model.predict(X_data[i:i+1])[0]\n",
    "        predict_classes = np.argmax(predict_x)\n",
    "        print(predict_classes)\n",
    "        print(max(predict_x))\n",
    "        prediction = getSpeaker(predict_classes)\n",
    "    \n",
    "        speaker = getSpeaker(y_data[i])\n",
    "        if printDigit == True:\n",
    "           print(\"Number={0:d}, y={1:10s}- prediction={2:10s}- match={3}\".format(i, speaker, prediction, speaker==prediction))\n",
    "        else:\n",
    "           print(\"y={0:10s}- prediction={1:10s}- match={2}\".format(speaker, prediction, speaker==prediction))"
   ]
  },
  {
   "cell_type": "code",
   "execution_count": 238,
   "metadata": {},
   "outputs": [],
   "source": [
    "import numpy as np\n",
    "from keras import backend as K\n",
    "from keras.models import Sequential\n",
    "from keras.layers.core import Dense, Dropout, Activation, Flatten\n",
    "from keras.layers.convolutional import Convolution2D, MaxPooling2D\n",
    "from keras.preprocessing.image import ImageDataGenerator\n",
    "from sklearn.metrics import classification_report, confusion_matrix\n",
    "\n",
    "def report(X_data, y_data):\n",
    "    #Confution Matrix and Classification Report\n",
    "    predict_y = model.predict(X_data)\n",
    "    Y_pred = np.argmax(predict_y, axis=1)\n",
    "    y_test_num = y_data.astype(np.int64)\n",
    "    conf_mt = confusion_matrix(y_test_num, Y_pred)\n",
    "    print(conf_mt[len(set(y_test_num))-1])\n",
    "    key=0\n",
    "    for val in conf_mt[len(set(y_test_num))-1]:\n",
    "        if val!=0:\n",
    "            print(key)\n",
    "        key=key+1\n",
    "    conf_mt=conf_mt / conf_mt.astype(np.float).sum(axis=1)\n",
    "    #print(conf_mt)\n",
    "    plt.matshow(conf_mt)\n",
    "    plt.show()\n",
    "    print('\\nClassification Report')\n",
    "    print(classification_report(y_test_num, Y_pred))\n"
   ]
  },
  {
   "cell_type": "code",
   "execution_count": 239,
   "metadata": {},
   "outputs": [
    {
     "name": "stdout",
     "output_type": "stream",
     "text": [
      "[0 0 0 ... 0 0 0]\n"
     ]
    }
   ],
   "source": [
    "print(y_test)"
   ]
  },
  {
   "cell_type": "code",
   "execution_count": 240,
   "metadata": {},
   "outputs": [
    {
     "data": {
      "text/plain": [
       "array([0, 0, 0, ..., 0, 0, 0])"
      ]
     },
     "execution_count": 240,
     "metadata": {},
     "output_type": "execute_result"
    }
   ],
   "source": [
    "y_test"
   ]
  },
  {
   "cell_type": "code",
   "execution_count": 241,
   "metadata": {},
   "outputs": [
    {
     "name": "stdout",
     "output_type": "stream",
     "text": [
      "\n",
      "# TEST DATA #\n",
      "\n",
      "113/113 [==============================] - 0s 679us/step - loss: 0.0682 - accuracy: 0.9936\n",
      "accuracy: 99.36%\n"
     ]
    }
   ],
   "source": [
    "print('\\n# TEST DATA #\\n')\n",
    "y_test=np.array(y_test, dtype=int)\n",
    "score = model.evaluate(X_test, y_test)\n",
    "print(\"%s: %.2f%%\" % (model.metrics_names[1], score[1]*100))\n",
    "# Prediction\n",
    "#printPrediction(X_test, y_test, False, model)"
   ]
  },
  {
   "cell_type": "code",
   "execution_count": 242,
   "metadata": {},
   "outputs": [
    {
     "name": "stdout",
     "output_type": "stream",
     "text": [
      "Classification Report for Test Data\n",
      "\n",
      "(3586,)\n",
      "(3586, 25)\n",
      "113/113 [==============================] - 0s 586us/step\n",
      "[24  0]\n",
      "0\n"
     ]
    },
    {
     "data": {
      "image/png": "[encoded data removed]",
      "text/plain": [
       "<Figure size 480x480 with 1 Axes>"
      ]
     },
     "metadata": {},
     "output_type": "display_data"
    },
    {
     "name": "stdout",
     "output_type": "stream",
     "text": [
      "\n",
      "Classification Report\n",
      "              precision    recall  f1-score   support\n",
      "\n",
      "           0       0.99      1.00      1.00      3562\n",
      "           1       0.00      0.00      0.00        24\n",
      "\n",
      "    accuracy                           0.99      3586\n",
      "   macro avg       0.50      0.50      0.50      3586\n",
      "weighted avg       0.99      0.99      0.99      3586\n",
      "\n"
     ]
    }
   ],
   "source": [
    "print(\"Classification Report for Test Data\\n\")\n",
    "print(y_test.shape)\n",
    "print(X_test.shape)\n",
    "report(X_test, y_test)"
   ]
  },
  {
   "cell_type": "markdown",
   "metadata": {},
   "source": [
    "### Save model"
   ]
  },
  {
   "cell_type": "code",
   "execution_count": 198,
   "metadata": {},
   "outputs": [
    {
     "data": {
      "text/plain": [
       "['scaler.save']"
      ]
     },
     "execution_count": 198,
     "metadata": {},
     "output_type": "execute_result"
    }
   ],
   "source": [
    "import joblib\n",
    "model.save('speaker-recognition.h5')\n",
    "joblib.dump(scaler, 'scaler.save') "
   ]
  },
  {
   "cell_type": "markdown",
   "metadata": {},
   "source": [
    "\n",
    "Transfer learning\n",
    "\n",
    "https://keras.io/guides/transfer_learning/\n"
   ]
  },
  {
   "cell_type": "markdown",
   "metadata": {},
   "source": [
    "### Load model"
   ]
  },
  {
   "cell_type": "markdown",
   "metadata": {},
   "source": [
    "\n",
    "\n",
    "def preProcessData(csvFileName):\n",
    "    data = pd.read_csv(csvFileName)\n",
    "    filenameArray = data['filename'] \n",
    "    speakerArray = []\n",
    "    #print(filenameArray)\n",
    "    for i in range(len(filenameArray)):\n",
    "        speaker = int(filenameArray[i].split(\"_\")[0].split(\"r\")[1])\n",
    "        speakerArray.append(speaker)\n",
    "    data['number'] = speakerArray\n",
    "    #Dropping unnecessary columns\n",
    "    data = data.drop(['filename'],axis=1)\n",
    "    data = data.drop(['label'],axis=1)\n",
    "    data = data.drop(['chroma_stft'],axis=1)\n",
    "    data.shape\n",
    "    return data\n"
   ]
  },
  {
   "cell_type": "markdown",
   "metadata": {},
   "source": [
    "def getSpeaker(speaker):\n",
    "    speaker = \"Speaker\"+str(speaker).zfill(3)\n",
    "    return speaker\n",
    "    \n",
    "        \n",
    "def printPrediction(X_data, y_data, printDigit, model):\n",
    "    print('\\n# Generate predictions')\n",
    "    for i in range(len(y_data)):\n",
    "        predict_x=model.predict(X_data[i:i+1])[0]\n",
    "        predict_classes = np.argmax(predict_x)\n",
    "        prediction = getSpeaker(predict_classes)\n",
    "    \n",
    "        speaker = getSpeaker(y_data[i])\n",
    "        if printDigit == True:\n",
    "           print(\"Number={0:d}, y={1:10s}- prediction={2:10s}- match={3}\".format(i, speaker, prediction, speaker==prediction))\n",
    "        else:\n",
    "           print(\"y={0:10s}- prediction={1:10s}- match={2}\".format(speaker, prediction, speaker==prediction))"
   ]
  },
  {
   "cell_type": "code",
   "execution_count": 2,
   "metadata": {},
   "outputs": [],
   "source": [
    "def extractWavFeatures(filename, csvFileName):\n",
    "    header = 'filename chroma_stft rmse spectral_centroid spectral_bandwidth rolloff zero_crossing_rate'\n",
    "    for i in range(1, 21):\n",
    "        header += f' mfcc{i}'\n",
    "    header += ' label'\n",
    "    header = header.split()\n",
    "    file = open(csvFileName, 'w', newline='')\n",
    "    #with file:\n",
    "    writer = csv.writer(file)\n",
    "    writer.writerow(header)\n",
    "    number = f'new_audios/test_file/{filename}'\n",
    "    y, sr = librosa.load(number, mono=True, duration=30)\n",
    "    # remove leading and trailing silence\n",
    "    y, index = librosa.effects.trim(y)\n",
    "    chroma_stft = librosa.feature.chroma_stft(y=y, sr=sr)\n",
    "    rmse = librosa.feature.rms(y=y)\n",
    "    spec_cent = librosa.feature.spectral_centroid(y=y, sr=sr)\n",
    "    spec_bw = librosa.feature.spectral_bandwidth(y=y, sr=sr)\n",
    "    rolloff = librosa.feature.spectral_rolloff(y=y, sr=sr)\n",
    "    zcr = librosa.feature.zero_crossing_rate(y)\n",
    "    mfcc = librosa.feature.mfcc(y=y, sr=sr)\n",
    "    to_append = f'{filename} {np.mean(chroma_stft)} {np.mean(rmse)} {np.mean(spec_cent)} {np.mean(spec_bw)} {np.mean(rolloff)} {np.mean(zcr)}'\n",
    "    for e in mfcc:\n",
    "        to_append += f' {np.mean(e)}'\n",
    "    writer.writerow(to_append.split())\n",
    "    file.close()\n",
    "    "
   ]
  },
  {
   "cell_type": "code",
   "execution_count": 13,
   "metadata": {},
   "outputs": [],
   "source": [
    "def predict_audio(filename):\n",
    "    extractWavFeatures(filename, final_test)\n",
    "    final_testData = preProcessData(final_test)\n",
    "    \n",
    "    X_test = np.array(final_testData.iloc[:, :-1], dtype = float)\n",
    "    y_test = final_testData.iloc[:, -1]\n",
    "    \n",
    "    X_test = scaler.transform( X_test )\n",
    "    #y_test=np.array(y_test, dtype=int)\n",
    "    \n",
    "    score = new_model.evaluate(X_test, y_test)\n",
    "    # Prediction\n",
    "    printPrediction(X_test, y_test, False, new_model)\n",
    "    print(y_test)"
   ]
  },
  {
   "cell_type": "code",
   "execution_count": 15,
   "metadata": {},
   "outputs": [
    {
     "name": "stdout",
     "output_type": "stream",
     "text": [
      "final_test.csv will be preprocessed\n",
      "Preprocessing is finished\n",
      "       rmse  spectral_centroid  spectral_bandwidth      rolloff  \\\n",
      "0  0.007787        1842.464876         1743.385975  3579.227668   \n",
      "\n",
      "   zero_crossing_rate       mfcc1       mfcc2      mfcc3      mfcc4  \\\n",
      "0            0.107789 -444.994324  125.452003 -33.564625  43.520443   \n",
      "\n",
      "       mfcc5  ...     mfcc12    mfcc13   mfcc14    mfcc15    mfcc16    mfcc17  \\\n",
      "0 -27.101084  ... -11.397572  3.390763 -7.57964  9.951971 -2.636461  6.408022   \n",
      "\n",
      "     mfcc18    mfcc19    mfcc20  number  \n",
      "0 -6.711493  1.017713  2.169574      61  \n",
      "\n",
      "[1 rows x 26 columns]\n",
      "1/1 [==============================] - 0s 105ms/step - loss: 0.0753 - accuracy: 1.0000\n",
      "\n",
      "# Generate predictions\n",
      "1/1 [==============================] - 0s 45ms/step\n",
      "61\n",
      "0.9274281\n",
      "y=Speaker061- prediction=Speaker061- match=True\n",
      "0    61\n",
      "Name: number, dtype: int64\n"
     ]
    }
   ],
   "source": [
    "from keras import models\n",
    "from keras import layers\n",
    "import keras\n",
    "from sklearn.preprocessing import StandardScaler\n",
    "from sklearn.model_selection import train_test_split\n",
    "import numpy as np\n",
    "from tqdm import tqdm\n",
    "import os\n",
    "import librosa\n",
    "import warnings\n",
    "warnings.simplefilter('ignore')\n",
    "import pandas as pd\n",
    "import joblib\n",
    "import csv\n",
    "\n",
    "\n",
    "final_test=\"final_test.csv\"\n",
    "new_model = keras.models.load_model('speaker-recognition.h5')\n",
    "scaler = joblib.load('scaler.save') \n",
    "\n",
    "predict_audio(\"Speaker0061_000.wav\")\n"
   ]
  },
  {
   "cell_type": "markdown",
   "metadata": {},
   "source": [
    "### Register\n"
   ]
  },
  {
   "cell_type": "code",
   "execution_count": null,
   "metadata": {},
   "outputs": [],
   "source": [
    "TRAIN_CSV_FILE = \"train.csv\"\n",
    "NEW_USER = \"new_user.csv\"\n",
    "extractWavFeatures(\"new_audios/train\", NEW_USER)\n"
   ]
  },
  {
   "cell_type": "code",
   "execution_count": null,
   "metadata": {},
   "outputs": [],
   "source": [
    "dataFrame = pd.read_csv(NEW_USER)\n",
    "dataFrame.to_csv(TRAIN_CSV_FILE, mode='a', index=False, header=False)"
   ]
  },
  {
   "cell_type": "code",
   "execution_count": null,
   "metadata": {},
   "outputs": [],
   "source": [
    "trainData = preProcessData(TRAIN_CSV_FILE)\n",
    "# Splitting the dataset into training, validation and testing dataset\n",
    "from sklearn.model_selection import train_test_split\n",
    "X = np.array(trainData.iloc[:, :-1], dtype = float)\n",
    "y = trainData.iloc[:, -1]\n",
    "X_train, X_val, y_train, y_val = train_test_split(X, y, test_size=0.3, random_state=50)\n",
    "\n",
    "print(\"Y from training data:\", y_train.shape)\n",
    "print(\"Y from validation data:\", y_val.shape)\n"
   ]
  },
  {
   "cell_type": "code",
   "execution_count": null,
   "metadata": {},
   "outputs": [],
   "source": []
  },
  {
   "cell_type": "code",
   "execution_count": null,
   "metadata": {},
   "outputs": [],
   "source": [
    "#Normalizing the dataset\n",
    "from sklearn.preprocessing import StandardScaler\n",
    "import numpy as np\n",
    "scaler = StandardScaler()\n",
    "X_train = scaler.fit_transform( X_train )\n",
    "X_val = scaler.transform( X_val )\n",
    "\n",
    "print(\"X from training data\", X_train.shape)\n",
    "print(\"X from validation data\", X_val.shape)\n"
   ]
  },
  {
   "cell_type": "code",
   "execution_count": null,
   "metadata": {},
   "outputs": [],
   "source": [
    "#Creating a Model\n",
    "from keras import models\n",
    "from keras import layers\n",
    "import keras\n",
    "\n",
    "# model 1\n",
    "model = models.Sequential()\n",
    "model.add(layers.Dense(256, activation='relu', input_shape=(X_train.shape[1],)))\n",
    "model.add(layers.Dropout(0.5))\n",
    "model.add(layers.Dense(128, activation='relu'))\n",
    "model.add(layers.Dropout(0.5))\n",
    "model.add(layers.Dense(64, activation='relu'))\n",
    "model.add(layers.Dropout(0.5))\n",
    "model.add(layers.Dense(len(y_train), activation='softmax'))\n",
    "\n",
    "# Learning Process of a model\n",
    "model.compile(optimizer='adam',\n",
    "              loss='sparse_categorical_crossentropy',\n",
    "              metrics=['accuracy'])\n",
    "\n",
    "# simple early stopping\n",
    "from keras.callbacks import EarlyStopping\n",
    "#es = EarlyStopping(monitor='val_accuracy', patience=10, verbose=1)\n",
    "es = EarlyStopping(monitor='val_loss', patience=3, verbose=1)\n",
    "print(X_train.shape)\n",
    "#Train with early stopping to avoid overfitting\n",
    "y_train=np.array(y_train, dtype=int)\n",
    "y_val=np.array(y_val, dtype=int)\n",
    "history = model.fit(X_train,y_train,validation_data=(X_val, y_val),epochs=100,batch_size=1, callbacks=[es])\n",
    "print(set(y_train))"
   ]
  },
  {
   "cell_type": "code",
   "execution_count": null,
   "metadata": {},
   "outputs": [],
   "source": [
    "testData = preProcessData(TEST_CSV_FILE)\n",
    "\n",
    "X_test = np.array(testData.iloc[:, :-1], dtype = float)\n",
    "y_test = testData.iloc[:, -1]\n",
    "print(set(y_test))\n",
    "\n",
    "X_test = scaler.transform( X_test )\n",
    "print(\"X from test data\", X_test.shape)\n",
    "\n",
    "print(set(y_test))\n",
    "print(\"Y from test data:\", y_test.shape)\n"
   ]
  },
  {
   "cell_type": "code",
   "execution_count": null,
   "metadata": {},
   "outputs": [],
   "source": [
    "print('\\n# TEST DATA #\\n')\n",
    "y_test=np.array(y_test, dtype=int)\n",
    "score = model.evaluate(X_test, y_test)\n",
    "print(\"%s: %.2f%%\" % (model.metrics_names[1], score[1]*100))\n",
    "# Prediction\n",
    "printPrediction(X_test, y_test, False, model)"
   ]
  },
  {
   "cell_type": "code",
   "execution_count": null,
   "metadata": {},
   "outputs": [],
   "source": [
    "print(\"Classification Report for Test Data\\n\")\n",
    "print(y_test.shape)\n",
    "print(X_test.shape)\n",
    "report(X_test, y_test)"
   ]
  },
  {
   "cell_type": "code",
   "execution_count": null,
   "metadata": {},
   "outputs": [],
   "source": []
  }
 ],
 "metadata": {
  "kernelspec": {
   "display_name": "Python 3 (ipykernel)",
   "language": "python",
   "name": "python3"
  },
  "language_info": {
   "codemirror_mode": {
    "name": "ipython",
    "version": 3
   },
   "file_extension": ".py",
   "mimetype": "text/x-python",
   "name": "python",
   "nbconvert_exporter": "python",
   "pygments_lexer": "ipython3",
   "version": "3.9.12"
  },
  "vscode": {
   "interpreter": {
    "hash": "916dbcbb3f70747c44a77c7bcd40155683ae19c65e1c03b4aa3499c5328201f1"
   }
  }
 },
 "nbformat": 4,
 "nbformat_minor": 2
}
